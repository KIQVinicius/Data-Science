{
  "nbformat": 4,
  "nbformat_minor": 0,
  "metadata": {
    "colab": {
      "name": "Classificação.ipynb",
      "provenance": [],
      "authorship_tag": "ABX9TyNqN2cbNWxVK8u64D6mvWel",
      "include_colab_link": true
    },
    "kernelspec": {
      "name": "python3",
      "display_name": "Python 3"
    }
  },
  "cells": [
    {
      "cell_type": "markdown",
      "metadata": {
        "id": "view-in-github",
        "colab_type": "text"
      },
      "source": [
        "<a href=\"https://colab.research.google.com/github/KIQVinicius/Data-Science/blob/master/Classifica%C3%A7%C3%A3o.ipynb\" target=\"_parent\"><img src=\"https://colab.research.google.com/assets/colab-badge.svg\" alt=\"Open In Colab\"/></a>"
      ]
    },
    {
      "cell_type": "markdown",
      "metadata": {
        "id": "cojOTzIVUua7",
        "colab_type": "text"
      },
      "source": [
        "\n",
        "# Cachorro ou porco?"
      ]
    },
    {
      "cell_type": "code",
      "metadata": {
        "id": "cErJYQrNIQnV",
        "colab_type": "code",
        "colab": {}
      },
      "source": [
        "from sklearn.svm import LinearSVC"
      ],
      "execution_count": 1,
      "outputs": []
    },
    {
      "cell_type": "code",
      "metadata": {
        "id": "rvPelnopG0dl",
        "colab_type": "code",
        "colab": {}
      },
      "source": [
        "#Feature (1 sim, 0 Não)\n",
        "#pelo longo?\n",
        "#perna curta?\n",
        "#late?\n",
        "porco1 = [0,1,0]\n",
        "porco2 = [0,1,1]\n",
        "porco3 = [1,1,0]\n",
        "\n",
        "cachorro1 = [0,1,1]\n",
        "cachorro2 = [1,0,1]\n",
        "cachorro3 = [1,1,1]"
      ],
      "execution_count": 2,
      "outputs": []
    },
    {
      "cell_type": "code",
      "metadata": {
        "id": "Aj4Tv0UgHgZ3",
        "colab_type": "code",
        "colab": {}
      },
      "source": [
        "#Cachorro = 0\n",
        "#Porco = 1\n",
        "\n",
        "treino_x =[porco1, porco2,porco3,cachorro1, cachorro2, cachorro3]\n",
        "treino_y = [1,1,1,0,0,0]"
      ],
      "execution_count": 3,
      "outputs": []
    },
    {
      "cell_type": "code",
      "metadata": {
        "id": "B0G4sc-YHyJ2",
        "colab_type": "code",
        "colab": {}
      },
      "source": [
        "model = LinearSVC()"
      ],
      "execution_count": 4,
      "outputs": []
    },
    {
      "cell_type": "code",
      "metadata": {
        "id": "ZiHl4zyUIdG-",
        "colab_type": "code",
        "colab": {
          "base_uri": "https://localhost:8080/",
          "height": 82
        },
        "outputId": "811ddea0-8ed9-417b-8e49-08ee53e2209d"
      },
      "source": [
        "model.fit(treino_x, treino_y)"
      ],
      "execution_count": 5,
      "outputs": [
        {
          "output_type": "execute_result",
          "data": {
            "text/plain": [
              "LinearSVC(C=1.0, class_weight=None, dual=True, fit_intercept=True,\n",
              "          intercept_scaling=1, loss='squared_hinge', max_iter=1000,\n",
              "          multi_class='ovr', penalty='l2', random_state=None, tol=0.0001,\n",
              "          verbose=0)"
            ]
          },
          "metadata": {
            "tags": []
          },
          "execution_count": 5
        }
      ]
    },
    {
      "cell_type": "code",
      "metadata": {
        "id": "sBGLNZ99Iq-r",
        "colab_type": "code",
        "colab": {}
      },
      "source": [
        "animal_misterioso = [1,1,1]"
      ],
      "execution_count": 6,
      "outputs": []
    },
    {
      "cell_type": "code",
      "metadata": {
        "id": "3QNnOcAbIwMH",
        "colab_type": "code",
        "colab": {
          "base_uri": "https://localhost:8080/",
          "height": 33
        },
        "outputId": "7e032fe8-ad36-4212-d2dc-ee29bd58362a"
      },
      "source": [
        "model.predict([animal_misterioso])"
      ],
      "execution_count": 7,
      "outputs": [
        {
          "output_type": "execute_result",
          "data": {
            "text/plain": [
              "array([0])"
            ]
          },
          "metadata": {
            "tags": []
          },
          "execution_count": 7
        }
      ]
    },
    {
      "cell_type": "code",
      "metadata": {
        "id": "u0QElA9KIyuc",
        "colab_type": "code",
        "colab": {}
      },
      "source": [
        "misterio1 = [1,1,1]\n",
        "misterio2 = [1,1,0]\n",
        "misterio3 = [0,1,1]"
      ],
      "execution_count": 8,
      "outputs": []
    },
    {
      "cell_type": "code",
      "metadata": {
        "id": "Zrtt08rvLVD6",
        "colab_type": "code",
        "colab": {}
      },
      "source": [
        "teste_x = [misterio1, misterio2, misterio3]\n",
        "teste_y = [0,1,1]"
      ],
      "execution_count": 9,
      "outputs": []
    },
    {
      "cell_type": "code",
      "metadata": {
        "id": "dy46pqgULa-9",
        "colab_type": "code",
        "colab": {}
      },
      "source": [
        "previsoes = model.predict(teste_x)"
      ],
      "execution_count": 10,
      "outputs": []
    },
    {
      "cell_type": "code",
      "metadata": {
        "id": "7fdx5a5_LdBm",
        "colab_type": "code",
        "colab": {
          "base_uri": "https://localhost:8080/",
          "height": 33
        },
        "outputId": "a2d5a861-4523-44c1-8fc5-2e46f266b84c"
      },
      "source": [
        "previsoes == teste_y"
      ],
      "execution_count": 11,
      "outputs": [
        {
          "output_type": "execute_result",
          "data": {
            "text/plain": [
              "array([ True,  True, False])"
            ]
          },
          "metadata": {
            "tags": []
          },
          "execution_count": 11
        }
      ]
    },
    {
      "cell_type": "code",
      "metadata": {
        "id": "pCryQpUDMGQO",
        "colab_type": "code",
        "colab": {}
      },
      "source": [
        "corretos = (previsoes == teste_y).sum()\n",
        "#Número de verdadeiros\n",
        "total = len(teste_y)"
      ],
      "execution_count": 14,
      "outputs": []
    },
    {
      "cell_type": "code",
      "metadata": {
        "id": "svX46p2uMcAj",
        "colab_type": "code",
        "colab": {}
      },
      "source": [
        "taxa_de_acerto = corretos/total"
      ],
      "execution_count": 15,
      "outputs": []
    },
    {
      "cell_type": "code",
      "metadata": {
        "id": "bKSnOQKrNCPt",
        "colab_type": "code",
        "colab": {
          "base_uri": "https://localhost:8080/",
          "height": 33
        },
        "outputId": "b0ccb3e9-b375-4d68-b4da-0e30d8599bf2"
      },
      "source": [
        "print(\"Taxa de acerto: \" + str(taxa_de_acerto*100))"
      ],
      "execution_count": 16,
      "outputs": [
        {
          "output_type": "stream",
          "text": [
            "Taxa de acerto: 66.66666666666666\n"
          ],
          "name": "stdout"
        }
      ]
    },
    {
      "cell_type": "code",
      "metadata": {
        "id": "JO8hZaIVNJ6C",
        "colab_type": "code",
        "colab": {}
      },
      "source": [
        "from sklearn.metrics import accuracy_score "
      ],
      "execution_count": 17,
      "outputs": []
    },
    {
      "cell_type": "code",
      "metadata": {
        "id": "wcUlSF8MNz8c",
        "colab_type": "code",
        "colab": {
          "base_uri": "https://localhost:8080/",
          "height": 33
        },
        "outputId": "b1b0886f-0a18-461c-c37e-5957e93768f7"
      },
      "source": [
        "taxa_de_acerto = accuracy_score(teste_y, previsoes)\n",
        "print(\"Taxa de acerto: \" + str(taxa_de_acerto*100))\n"
      ],
      "execution_count": 18,
      "outputs": [
        {
          "output_type": "stream",
          "text": [
            "Taxa de acerto: 66.66666666666666\n"
          ],
          "name": "stdout"
        }
      ]
    },
    {
      "cell_type": "markdown",
      "metadata": {
        "id": "Bz3NYsbWUyrD",
        "colab_type": "text"
      },
      "source": [
        "\n",
        "# Comprou ou não?"
      ]
    },
    {
      "cell_type": "code",
      "metadata": {
        "id": "Co6DMvEFU4Ee",
        "colab_type": "code",
        "colab": {}
      },
      "source": [
        "import pandas as pd"
      ],
      "execution_count": 19,
      "outputs": []
    },
    {
      "cell_type": "code",
      "metadata": {
        "id": "GjuhAev0U_eY",
        "colab_type": "code",
        "colab": {}
      },
      "source": [
        "url = \"https://gist.githubusercontent.com/guilhermesilveira/2d2efa37d66b6c84a722ea627a897ced/raw/10968b997d885cbded1c92938c7a9912ba41c615/tracking.csv\""
      ],
      "execution_count": 23,
      "outputs": []
    },
    {
      "cell_type": "code",
      "metadata": {
        "id": "ZQo5dDkGVDCO",
        "colab_type": "code",
        "colab": {}
      },
      "source": [
        "dados = pd.read_csv(url)"
      ],
      "execution_count": 24,
      "outputs": []
    },
    {
      "cell_type": "code",
      "metadata": {
        "id": "qEVdtpLcVN65",
        "colab_type": "code",
        "colab": {}
      },
      "source": [
        "x = dados[['home','how_it_works', 'contact']]\n",
        "y = dados['bought']"
      ],
      "execution_count": 27,
      "outputs": []
    },
    {
      "cell_type": "code",
      "metadata": {
        "id": "JfI3NAw5VoQs",
        "colab_type": "code",
        "colab": {
          "base_uri": "https://localhost:8080/",
          "height": 33
        },
        "outputId": "610759a9-9ed9-4cd1-b292-4cedd33ee4d5"
      },
      "source": [
        "dados.shape"
      ],
      "execution_count": 28,
      "outputs": [
        {
          "output_type": "execute_result",
          "data": {
            "text/plain": [
              "(99, 4)"
            ]
          },
          "metadata": {
            "tags": []
          },
          "execution_count": 28
        }
      ]
    },
    {
      "cell_type": "code",
      "metadata": {
        "id": "lFwcdjanWdFN",
        "colab_type": "code",
        "colab": {}
      },
      "source": [
        "treino_x = x[:75]\n",
        "treino_y = y[:75]"
      ],
      "execution_count": 30,
      "outputs": []
    },
    {
      "cell_type": "code",
      "metadata": {
        "id": "Kj5-Fuw4WlIe",
        "colab_type": "code",
        "colab": {}
      },
      "source": [
        "teste_x = x[75:]\n",
        "teste_y = y[75:]"
      ],
      "execution_count": 31,
      "outputs": []
    },
    {
      "cell_type": "code",
      "metadata": {
        "id": "RA3xOkx-W3yb",
        "colab_type": "code",
        "colab": {
          "base_uri": "https://localhost:8080/",
          "height": 82
        },
        "outputId": "d6a3cbb9-a88d-4732-c4cd-a5507795a6b4"
      },
      "source": [
        "modelo = LinearSVC()\n",
        "modelo.fit(treino_x,treino_y)"
      ],
      "execution_count": 33,
      "outputs": [
        {
          "output_type": "execute_result",
          "data": {
            "text/plain": [
              "LinearSVC(C=1.0, class_weight=None, dual=True, fit_intercept=True,\n",
              "          intercept_scaling=1, loss='squared_hinge', max_iter=1000,\n",
              "          multi_class='ovr', penalty='l2', random_state=None, tol=0.0001,\n",
              "          verbose=0)"
            ]
          },
          "metadata": {
            "tags": []
          },
          "execution_count": 33
        }
      ]
    },
    {
      "cell_type": "code",
      "metadata": {
        "id": "jiq5hzNnXJ6S",
        "colab_type": "code",
        "colab": {}
      },
      "source": [
        "predicao =  modelo.predict(teste_x)"
      ],
      "execution_count": 37,
      "outputs": []
    },
    {
      "cell_type": "code",
      "metadata": {
        "id": "NssEz8TBXSRR",
        "colab_type": "code",
        "colab": {
          "base_uri": "https://localhost:8080/",
          "height": 33
        },
        "outputId": "e6e40db6-2390-4c1b-f55f-8d737c92f42a"
      },
      "source": [
        "accuracy_score(teste_y,predicao )"
      ],
      "execution_count": 38,
      "outputs": [
        {
          "output_type": "execute_result",
          "data": {
            "text/plain": [
              "0.9583333333333334"
            ]
          },
          "metadata": {
            "tags": []
          },
          "execution_count": 38
        }
      ]
    },
    {
      "cell_type": "code",
      "metadata": {
        "id": "mC4jUfA9XfV3",
        "colab_type": "code",
        "colab": {}
      },
      "source": [
        ""
      ],
      "execution_count": null,
      "outputs": []
    }
  ]
}