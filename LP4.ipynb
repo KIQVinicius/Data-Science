{
  "nbformat": 4,
  "nbformat_minor": 0,
  "metadata": {
    "colab": {
      "name": "LP4.ipynb",
      "provenance": [],
      "collapsed_sections": [],
      "mount_file_id": "1YgXNiW_X8c9OVFLTP4o3-GM2ah0JtjFo",
      "authorship_tag": "ABX9TyPsYR5Z1b0bkqL20vvmXwil",
      "include_colab_link": true
    },
    "kernelspec": {
      "name": "python3",
      "display_name": "Python 3"
    }
  },
  "cells": [
    {
      "cell_type": "markdown",
      "metadata": {
        "id": "view-in-github",
        "colab_type": "text"
      },
      "source": [
        "<a href=\"https://colab.research.google.com/github/KIQVinicius/Data-Science/blob/master/LP4.ipynb\" target=\"_parent\"><img src=\"https://colab.research.google.com/assets/colab-badge.svg\" alt=\"Open In Colab\"/></a>"
      ]
    },
    {
      "cell_type": "code",
      "metadata": {
        "id": "gqwibt5gowTr",
        "colab_type": "code",
        "colab": {
          "base_uri": "https://localhost:8080/",
          "height": 717
        },
        "outputId": "e57bb96e-b623-46a3-8441-14ad2b002518"
      },
      "source": [
        "!pip install country-converter\n",
        "!pip install pycountry-convert\n",
        "!pip install tpot"
      ],
      "execution_count": 35,
      "outputs": [
        {
          "output_type": "stream",
          "text": [
            "Requirement already satisfied: country-converter in /usr/local/lib/python3.6/dist-packages (0.6.7)\n",
            "Requirement already satisfied: pandas>=0.17.0 in /usr/local/lib/python3.6/dist-packages (from country-converter) (1.0.5)\n",
            "Requirement already satisfied: python-dateutil>=2.6.1 in /usr/local/lib/python3.6/dist-packages (from pandas>=0.17.0->country-converter) (2.8.1)\n",
            "Requirement already satisfied: numpy>=1.13.3 in /usr/local/lib/python3.6/dist-packages (from pandas>=0.17.0->country-converter) (1.18.5)\n",
            "Requirement already satisfied: pytz>=2017.2 in /usr/local/lib/python3.6/dist-packages (from pandas>=0.17.0->country-converter) (2018.9)\n",
            "Requirement already satisfied: six>=1.5 in /usr/local/lib/python3.6/dist-packages (from python-dateutil>=2.6.1->pandas>=0.17.0->country-converter) (1.15.0)\n",
            "Requirement already satisfied: pycountry-convert in /usr/local/lib/python3.6/dist-packages (0.7.2)\n",
            "Requirement already satisfied: pytest>=3.4.0 in /usr/local/lib/python3.6/dist-packages (from pycountry-convert) (3.6.4)\n",
            "Requirement already satisfied: pprintpp>=0.3.0 in /usr/local/lib/python3.6/dist-packages (from pycountry-convert) (0.4.0)\n",
            "Requirement already satisfied: pycountry>=16.11.27.1 in /usr/local/lib/python3.6/dist-packages (from pycountry-convert) (20.7.3)\n",
            "Requirement already satisfied: wheel>=0.30.0 in /usr/local/lib/python3.6/dist-packages (from pycountry-convert) (0.35.1)\n",
            "Requirement already satisfied: repoze.lru>=0.7 in /usr/local/lib/python3.6/dist-packages (from pycountry-convert) (0.7)\n",
            "Requirement already satisfied: pytest-mock>=1.6.3 in /usr/local/lib/python3.6/dist-packages (from pycountry-convert) (3.3.1)\n",
            "Requirement already satisfied: pytest-cov>=2.5.1 in /usr/local/lib/python3.6/dist-packages (from pycountry-convert) (2.10.1)\n",
            "Requirement already satisfied: pluggy<0.8,>=0.5 in /usr/local/lib/python3.6/dist-packages (from pytest>=3.4.0->pycountry-convert) (0.7.1)\n",
            "Requirement already satisfied: more-itertools>=4.0.0 in /usr/local/lib/python3.6/dist-packages (from pytest>=3.4.0->pycountry-convert) (8.5.0)\n",
            "Requirement already satisfied: attrs>=17.4.0 in /usr/local/lib/python3.6/dist-packages (from pytest>=3.4.0->pycountry-convert) (20.2.0)\n",
            "Requirement already satisfied: atomicwrites>=1.0 in /usr/local/lib/python3.6/dist-packages (from pytest>=3.4.0->pycountry-convert) (1.4.0)\n",
            "Requirement already satisfied: py>=1.5.0 in /usr/local/lib/python3.6/dist-packages (from pytest>=3.4.0->pycountry-convert) (1.9.0)\n",
            "Requirement already satisfied: six>=1.10.0 in /usr/local/lib/python3.6/dist-packages (from pytest>=3.4.0->pycountry-convert) (1.15.0)\n",
            "Requirement already satisfied: setuptools in /usr/local/lib/python3.6/dist-packages (from pytest>=3.4.0->pycountry-convert) (50.3.0)\n",
            "Requirement already satisfied: coverage>=4.4 in /usr/local/lib/python3.6/dist-packages (from pytest-cov>=2.5.1->pycountry-convert) (5.3)\n",
            "Requirement already satisfied: tpot in /usr/local/lib/python3.6/dist-packages (0.11.5)\n",
            "Requirement already satisfied: scipy>=1.3.1 in /usr/local/lib/python3.6/dist-packages (from tpot) (1.4.1)\n",
            "Requirement already satisfied: deap>=1.2 in /usr/local/lib/python3.6/dist-packages (from tpot) (1.3.1)\n",
            "Requirement already satisfied: scikit-learn>=0.22.0 in /usr/local/lib/python3.6/dist-packages (from tpot) (0.22.2.post1)\n",
            "Requirement already satisfied: stopit>=1.1.1 in /usr/local/lib/python3.6/dist-packages (from tpot) (1.1.2)\n",
            "Requirement already satisfied: pandas>=0.24.2 in /usr/local/lib/python3.6/dist-packages (from tpot) (1.0.5)\n",
            "Requirement already satisfied: joblib>=0.13.2 in /usr/local/lib/python3.6/dist-packages (from tpot) (0.16.0)\n",
            "Requirement already satisfied: update-checker>=0.16 in /usr/local/lib/python3.6/dist-packages (from tpot) (0.18.0)\n",
            "Requirement already satisfied: tqdm>=4.36.1 in /usr/local/lib/python3.6/dist-packages (from tpot) (4.41.1)\n",
            "Requirement already satisfied: numpy>=1.16.3 in /usr/local/lib/python3.6/dist-packages (from tpot) (1.18.5)\n",
            "Requirement already satisfied: pytz>=2017.2 in /usr/local/lib/python3.6/dist-packages (from pandas>=0.24.2->tpot) (2018.9)\n",
            "Requirement already satisfied: python-dateutil>=2.6.1 in /usr/local/lib/python3.6/dist-packages (from pandas>=0.24.2->tpot) (2.8.1)\n",
            "Requirement already satisfied: requests>=2.3.0 in /usr/local/lib/python3.6/dist-packages (from update-checker>=0.16->tpot) (2.23.0)\n",
            "Requirement already satisfied: six>=1.5 in /usr/local/lib/python3.6/dist-packages (from python-dateutil>=2.6.1->pandas>=0.24.2->tpot) (1.15.0)\n",
            "Requirement already satisfied: chardet<4,>=3.0.2 in /usr/local/lib/python3.6/dist-packages (from requests>=2.3.0->update-checker>=0.16->tpot) (3.0.4)\n",
            "Requirement already satisfied: idna<3,>=2.5 in /usr/local/lib/python3.6/dist-packages (from requests>=2.3.0->update-checker>=0.16->tpot) (2.10)\n",
            "Requirement already satisfied: certifi>=2017.4.17 in /usr/local/lib/python3.6/dist-packages (from requests>=2.3.0->update-checker>=0.16->tpot) (2020.6.20)\n",
            "Requirement already satisfied: urllib3!=1.25.0,!=1.25.1,<1.26,>=1.21.1 in /usr/local/lib/python3.6/dist-packages (from requests>=2.3.0->update-checker>=0.16->tpot) (1.24.3)\n"
          ],
          "name": "stdout"
        }
      ]
    },
    {
      "cell_type": "code",
      "metadata": {
        "id": "J3Zep9ocxwcr",
        "colab_type": "code",
        "colab": {}
      },
      "source": [
        "import pandas as pd\n",
        "import seaborn as sns\n",
        "import matplotlib.pyplot as plt\n",
        "import numpy as np\n",
        "from sklearn.model_selection import train_test_split\n",
        "from sklearn.svm import LinearSVC\n",
        "from sklearn.svm import SVC\n",
        "from sklearn.metrics import accuracy_score\n",
        "from sklearn.naive_bayes import GaussianNB\n",
        "from sklearn.preprocessing import StandardScaler\n",
        "from sklearn.preprocessing import StandardScaler\n",
        "from sklearn.model_selection import train_test_split\n",
        "from sklearn.tree import DecisionTreeClassifier\n",
        "from tpot import TPOTClassifier\n",
        "from sklearn.metrics import accuracy_score\n",
        "from sklearn.tree import export_graphviz\n",
        "import graphviz\n",
        "import numpy as np\n",
        "import seaborn as sns\n",
        "import country_converter as coco\n",
        "import pycountry_convert as pycoco\n"
      ],
      "execution_count": 36,
      "outputs": []
    },
    {
      "cell_type": "code",
      "metadata": {
        "id": "mLJdyq16XzIo",
        "colab_type": "code",
        "colab": {}
      },
      "source": [
        "def KMeansOtimization(num_clusters, classe):\n",
        "  model = KMeans(n_clusters = num_clusters)\n",
        "  model.fit(classe)\n",
        "  return [num_clusters, model.inertia_]"
      ],
      "execution_count": 113,
      "outputs": []
    },
    {
      "cell_type": "code",
      "metadata": {
        "id": "PKw8kul9x1Fo",
        "colab_type": "code",
        "colab": {
          "base_uri": "https://localhost:8080/",
          "height": 423
        },
        "outputId": "9736b8b1-ad4a-4f06-c0e7-f85b1cdd5f13"
      },
      "source": [
        "data = pd.read_csv('/content/drive/My Drive/LP4/data-final.csv', sep = \"\\t\", nrows = 100000)\n",
        "#data_final = data_final.head(10000)\n",
        "data.head()\n"
      ],
      "execution_count": 114,
      "outputs": [
        {
          "output_type": "execute_result",
          "data": {
            "text/html": [
              "<div>\n",
              "<style scoped>\n",
              "    .dataframe tbody tr th:only-of-type {\n",
              "        vertical-align: middle;\n",
              "    }\n",
              "\n",
              "    .dataframe tbody tr th {\n",
              "        vertical-align: top;\n",
              "    }\n",
              "\n",
              "    .dataframe thead th {\n",
              "        text-align: right;\n",
              "    }\n",
              "</style>\n",
              "<table border=\"1\" class=\"dataframe\">\n",
              "  <thead>\n",
              "    <tr style=\"text-align: right;\">\n",
              "      <th></th>\n",
              "      <th>EXT1</th>\n",
              "      <th>EXT2</th>\n",
              "      <th>EXT3</th>\n",
              "      <th>EXT4</th>\n",
              "      <th>EXT5</th>\n",
              "      <th>EXT6</th>\n",
              "      <th>EXT7</th>\n",
              "      <th>EXT8</th>\n",
              "      <th>EXT9</th>\n",
              "      <th>EXT10</th>\n",
              "      <th>EST1</th>\n",
              "      <th>EST2</th>\n",
              "      <th>EST3</th>\n",
              "      <th>EST4</th>\n",
              "      <th>EST5</th>\n",
              "      <th>EST6</th>\n",
              "      <th>EST7</th>\n",
              "      <th>EST8</th>\n",
              "      <th>EST9</th>\n",
              "      <th>EST10</th>\n",
              "      <th>AGR1</th>\n",
              "      <th>AGR2</th>\n",
              "      <th>AGR3</th>\n",
              "      <th>AGR4</th>\n",
              "      <th>AGR5</th>\n",
              "      <th>AGR6</th>\n",
              "      <th>AGR7</th>\n",
              "      <th>AGR8</th>\n",
              "      <th>AGR9</th>\n",
              "      <th>AGR10</th>\n",
              "      <th>CSN1</th>\n",
              "      <th>CSN2</th>\n",
              "      <th>CSN3</th>\n",
              "      <th>CSN4</th>\n",
              "      <th>CSN5</th>\n",
              "      <th>CSN6</th>\n",
              "      <th>CSN7</th>\n",
              "      <th>CSN8</th>\n",
              "      <th>CSN9</th>\n",
              "      <th>CSN10</th>\n",
              "      <th>...</th>\n",
              "      <th>AGR1_E</th>\n",
              "      <th>AGR2_E</th>\n",
              "      <th>AGR3_E</th>\n",
              "      <th>AGR4_E</th>\n",
              "      <th>AGR5_E</th>\n",
              "      <th>AGR6_E</th>\n",
              "      <th>AGR7_E</th>\n",
              "      <th>AGR8_E</th>\n",
              "      <th>AGR9_E</th>\n",
              "      <th>AGR10_E</th>\n",
              "      <th>CSN1_E</th>\n",
              "      <th>CSN2_E</th>\n",
              "      <th>CSN3_E</th>\n",
              "      <th>CSN4_E</th>\n",
              "      <th>CSN5_E</th>\n",
              "      <th>CSN6_E</th>\n",
              "      <th>CSN7_E</th>\n",
              "      <th>CSN8_E</th>\n",
              "      <th>CSN9_E</th>\n",
              "      <th>CSN10_E</th>\n",
              "      <th>OPN1_E</th>\n",
              "      <th>OPN2_E</th>\n",
              "      <th>OPN3_E</th>\n",
              "      <th>OPN4_E</th>\n",
              "      <th>OPN5_E</th>\n",
              "      <th>OPN6_E</th>\n",
              "      <th>OPN7_E</th>\n",
              "      <th>OPN8_E</th>\n",
              "      <th>OPN9_E</th>\n",
              "      <th>OPN10_E</th>\n",
              "      <th>dateload</th>\n",
              "      <th>screenw</th>\n",
              "      <th>screenh</th>\n",
              "      <th>introelapse</th>\n",
              "      <th>testelapse</th>\n",
              "      <th>endelapse</th>\n",
              "      <th>IPC</th>\n",
              "      <th>country</th>\n",
              "      <th>lat_appx_lots_of_err</th>\n",
              "      <th>long_appx_lots_of_err</th>\n",
              "    </tr>\n",
              "  </thead>\n",
              "  <tbody>\n",
              "    <tr>\n",
              "      <th>0</th>\n",
              "      <td>4.0</td>\n",
              "      <td>1.0</td>\n",
              "      <td>5.0</td>\n",
              "      <td>2.0</td>\n",
              "      <td>5.0</td>\n",
              "      <td>1.0</td>\n",
              "      <td>5.0</td>\n",
              "      <td>2.0</td>\n",
              "      <td>4.0</td>\n",
              "      <td>1.0</td>\n",
              "      <td>1.0</td>\n",
              "      <td>4.0</td>\n",
              "      <td>4.0</td>\n",
              "      <td>2.0</td>\n",
              "      <td>2.0</td>\n",
              "      <td>2.0</td>\n",
              "      <td>2.0</td>\n",
              "      <td>2.0</td>\n",
              "      <td>3.0</td>\n",
              "      <td>2.0</td>\n",
              "      <td>2.0</td>\n",
              "      <td>5.0</td>\n",
              "      <td>2.0</td>\n",
              "      <td>4.0</td>\n",
              "      <td>2.0</td>\n",
              "      <td>3.0</td>\n",
              "      <td>2.0</td>\n",
              "      <td>4.0</td>\n",
              "      <td>3.0</td>\n",
              "      <td>4.0</td>\n",
              "      <td>3.0</td>\n",
              "      <td>4.0</td>\n",
              "      <td>3.0</td>\n",
              "      <td>2.0</td>\n",
              "      <td>2.0</td>\n",
              "      <td>4.0</td>\n",
              "      <td>4.0</td>\n",
              "      <td>2.0</td>\n",
              "      <td>4.0</td>\n",
              "      <td>4.0</td>\n",
              "      <td>...</td>\n",
              "      <td>4750.0</td>\n",
              "      <td>5475.0</td>\n",
              "      <td>11641.0</td>\n",
              "      <td>3115.0</td>\n",
              "      <td>3207.0</td>\n",
              "      <td>3260.0</td>\n",
              "      <td>10235.0</td>\n",
              "      <td>5897.0</td>\n",
              "      <td>1758.0</td>\n",
              "      <td>3081.0</td>\n",
              "      <td>6602.0</td>\n",
              "      <td>5457.0</td>\n",
              "      <td>1569.0</td>\n",
              "      <td>2129.0</td>\n",
              "      <td>3762.0</td>\n",
              "      <td>4420.0</td>\n",
              "      <td>9382.0</td>\n",
              "      <td>5286.0</td>\n",
              "      <td>4983.0</td>\n",
              "      <td>6339.0</td>\n",
              "      <td>3146.0</td>\n",
              "      <td>4067.0</td>\n",
              "      <td>2959.0</td>\n",
              "      <td>3411.0</td>\n",
              "      <td>2170.0</td>\n",
              "      <td>4920.0</td>\n",
              "      <td>4436.0</td>\n",
              "      <td>3116.0</td>\n",
              "      <td>2992.0</td>\n",
              "      <td>4354.0</td>\n",
              "      <td>2016-03-03 02:01:01</td>\n",
              "      <td>768</td>\n",
              "      <td>1024</td>\n",
              "      <td>9</td>\n",
              "      <td>234.0</td>\n",
              "      <td>6</td>\n",
              "      <td>1</td>\n",
              "      <td>GB</td>\n",
              "      <td>51.5448</td>\n",
              "      <td>0.1991</td>\n",
              "    </tr>\n",
              "    <tr>\n",
              "      <th>1</th>\n",
              "      <td>3.0</td>\n",
              "      <td>5.0</td>\n",
              "      <td>3.0</td>\n",
              "      <td>4.0</td>\n",
              "      <td>3.0</td>\n",
              "      <td>3.0</td>\n",
              "      <td>2.0</td>\n",
              "      <td>5.0</td>\n",
              "      <td>1.0</td>\n",
              "      <td>5.0</td>\n",
              "      <td>2.0</td>\n",
              "      <td>3.0</td>\n",
              "      <td>4.0</td>\n",
              "      <td>1.0</td>\n",
              "      <td>3.0</td>\n",
              "      <td>1.0</td>\n",
              "      <td>2.0</td>\n",
              "      <td>1.0</td>\n",
              "      <td>3.0</td>\n",
              "      <td>1.0</td>\n",
              "      <td>1.0</td>\n",
              "      <td>4.0</td>\n",
              "      <td>1.0</td>\n",
              "      <td>5.0</td>\n",
              "      <td>1.0</td>\n",
              "      <td>5.0</td>\n",
              "      <td>3.0</td>\n",
              "      <td>4.0</td>\n",
              "      <td>5.0</td>\n",
              "      <td>3.0</td>\n",
              "      <td>3.0</td>\n",
              "      <td>2.0</td>\n",
              "      <td>5.0</td>\n",
              "      <td>3.0</td>\n",
              "      <td>3.0</td>\n",
              "      <td>1.0</td>\n",
              "      <td>3.0</td>\n",
              "      <td>3.0</td>\n",
              "      <td>5.0</td>\n",
              "      <td>3.0</td>\n",
              "      <td>...</td>\n",
              "      <td>2158.0</td>\n",
              "      <td>2090.0</td>\n",
              "      <td>2143.0</td>\n",
              "      <td>2807.0</td>\n",
              "      <td>3422.0</td>\n",
              "      <td>5324.0</td>\n",
              "      <td>4494.0</td>\n",
              "      <td>3627.0</td>\n",
              "      <td>1850.0</td>\n",
              "      <td>1747.0</td>\n",
              "      <td>5163.0</td>\n",
              "      <td>5240.0</td>\n",
              "      <td>7208.0</td>\n",
              "      <td>2783.0</td>\n",
              "      <td>4103.0</td>\n",
              "      <td>3431.0</td>\n",
              "      <td>3347.0</td>\n",
              "      <td>2399.0</td>\n",
              "      <td>3360.0</td>\n",
              "      <td>5595.0</td>\n",
              "      <td>2624.0</td>\n",
              "      <td>4985.0</td>\n",
              "      <td>1684.0</td>\n",
              "      <td>3026.0</td>\n",
              "      <td>4742.0</td>\n",
              "      <td>3336.0</td>\n",
              "      <td>2718.0</td>\n",
              "      <td>3374.0</td>\n",
              "      <td>3096.0</td>\n",
              "      <td>3019.0</td>\n",
              "      <td>2016-03-03 02:01:20</td>\n",
              "      <td>1360</td>\n",
              "      <td>768</td>\n",
              "      <td>12</td>\n",
              "      <td>179.0</td>\n",
              "      <td>11</td>\n",
              "      <td>1</td>\n",
              "      <td>MY</td>\n",
              "      <td>3.1698</td>\n",
              "      <td>101.706</td>\n",
              "    </tr>\n",
              "    <tr>\n",
              "      <th>2</th>\n",
              "      <td>2.0</td>\n",
              "      <td>3.0</td>\n",
              "      <td>4.0</td>\n",
              "      <td>4.0</td>\n",
              "      <td>3.0</td>\n",
              "      <td>2.0</td>\n",
              "      <td>1.0</td>\n",
              "      <td>3.0</td>\n",
              "      <td>2.0</td>\n",
              "      <td>5.0</td>\n",
              "      <td>4.0</td>\n",
              "      <td>4.0</td>\n",
              "      <td>4.0</td>\n",
              "      <td>2.0</td>\n",
              "      <td>2.0</td>\n",
              "      <td>2.0</td>\n",
              "      <td>2.0</td>\n",
              "      <td>2.0</td>\n",
              "      <td>1.0</td>\n",
              "      <td>3.0</td>\n",
              "      <td>1.0</td>\n",
              "      <td>4.0</td>\n",
              "      <td>1.0</td>\n",
              "      <td>4.0</td>\n",
              "      <td>2.0</td>\n",
              "      <td>4.0</td>\n",
              "      <td>1.0</td>\n",
              "      <td>4.0</td>\n",
              "      <td>4.0</td>\n",
              "      <td>3.0</td>\n",
              "      <td>4.0</td>\n",
              "      <td>2.0</td>\n",
              "      <td>2.0</td>\n",
              "      <td>2.0</td>\n",
              "      <td>3.0</td>\n",
              "      <td>3.0</td>\n",
              "      <td>4.0</td>\n",
              "      <td>2.0</td>\n",
              "      <td>4.0</td>\n",
              "      <td>2.0</td>\n",
              "      <td>...</td>\n",
              "      <td>1089.0</td>\n",
              "      <td>2203.0</td>\n",
              "      <td>3386.0</td>\n",
              "      <td>1464.0</td>\n",
              "      <td>2562.0</td>\n",
              "      <td>1493.0</td>\n",
              "      <td>3067.0</td>\n",
              "      <td>13719.0</td>\n",
              "      <td>3892.0</td>\n",
              "      <td>4100.0</td>\n",
              "      <td>4286.0</td>\n",
              "      <td>4775.0</td>\n",
              "      <td>2713.0</td>\n",
              "      <td>2813.0</td>\n",
              "      <td>4237.0</td>\n",
              "      <td>6308.0</td>\n",
              "      <td>2690.0</td>\n",
              "      <td>1516.0</td>\n",
              "      <td>2379.0</td>\n",
              "      <td>2983.0</td>\n",
              "      <td>1930.0</td>\n",
              "      <td>1470.0</td>\n",
              "      <td>1644.0</td>\n",
              "      <td>1683.0</td>\n",
              "      <td>2229.0</td>\n",
              "      <td>8114.0</td>\n",
              "      <td>2043.0</td>\n",
              "      <td>6295.0</td>\n",
              "      <td>1585.0</td>\n",
              "      <td>2529.0</td>\n",
              "      <td>2016-03-03 02:01:56</td>\n",
              "      <td>1366</td>\n",
              "      <td>768</td>\n",
              "      <td>3</td>\n",
              "      <td>186.0</td>\n",
              "      <td>7</td>\n",
              "      <td>1</td>\n",
              "      <td>GB</td>\n",
              "      <td>54.9119</td>\n",
              "      <td>-1.3833</td>\n",
              "    </tr>\n",
              "    <tr>\n",
              "      <th>3</th>\n",
              "      <td>2.0</td>\n",
              "      <td>2.0</td>\n",
              "      <td>2.0</td>\n",
              "      <td>3.0</td>\n",
              "      <td>4.0</td>\n",
              "      <td>2.0</td>\n",
              "      <td>2.0</td>\n",
              "      <td>4.0</td>\n",
              "      <td>1.0</td>\n",
              "      <td>4.0</td>\n",
              "      <td>3.0</td>\n",
              "      <td>3.0</td>\n",
              "      <td>3.0</td>\n",
              "      <td>2.0</td>\n",
              "      <td>3.0</td>\n",
              "      <td>2.0</td>\n",
              "      <td>2.0</td>\n",
              "      <td>2.0</td>\n",
              "      <td>4.0</td>\n",
              "      <td>3.0</td>\n",
              "      <td>2.0</td>\n",
              "      <td>4.0</td>\n",
              "      <td>3.0</td>\n",
              "      <td>4.0</td>\n",
              "      <td>2.0</td>\n",
              "      <td>4.0</td>\n",
              "      <td>2.0</td>\n",
              "      <td>4.0</td>\n",
              "      <td>3.0</td>\n",
              "      <td>4.0</td>\n",
              "      <td>2.0</td>\n",
              "      <td>4.0</td>\n",
              "      <td>4.0</td>\n",
              "      <td>4.0</td>\n",
              "      <td>1.0</td>\n",
              "      <td>2.0</td>\n",
              "      <td>2.0</td>\n",
              "      <td>3.0</td>\n",
              "      <td>1.0</td>\n",
              "      <td>4.0</td>\n",
              "      <td>...</td>\n",
              "      <td>6062.0</td>\n",
              "      <td>11952.0</td>\n",
              "      <td>1040.0</td>\n",
              "      <td>2264.0</td>\n",
              "      <td>3664.0</td>\n",
              "      <td>3049.0</td>\n",
              "      <td>4912.0</td>\n",
              "      <td>7545.0</td>\n",
              "      <td>4632.0</td>\n",
              "      <td>6896.0</td>\n",
              "      <td>2824.0</td>\n",
              "      <td>520.0</td>\n",
              "      <td>2368.0</td>\n",
              "      <td>3225.0</td>\n",
              "      <td>2848.0</td>\n",
              "      <td>6264.0</td>\n",
              "      <td>3760.0</td>\n",
              "      <td>10472.0</td>\n",
              "      <td>3192.0</td>\n",
              "      <td>7704.0</td>\n",
              "      <td>3456.0</td>\n",
              "      <td>6665.0</td>\n",
              "      <td>1977.0</td>\n",
              "      <td>3728.0</td>\n",
              "      <td>4128.0</td>\n",
              "      <td>3776.0</td>\n",
              "      <td>2984.0</td>\n",
              "      <td>4192.0</td>\n",
              "      <td>3480.0</td>\n",
              "      <td>3257.0</td>\n",
              "      <td>2016-03-03 02:02:02</td>\n",
              "      <td>1920</td>\n",
              "      <td>1200</td>\n",
              "      <td>186</td>\n",
              "      <td>219.0</td>\n",
              "      <td>7</td>\n",
              "      <td>1</td>\n",
              "      <td>GB</td>\n",
              "      <td>51.75</td>\n",
              "      <td>-1.25</td>\n",
              "    </tr>\n",
              "    <tr>\n",
              "      <th>4</th>\n",
              "      <td>3.0</td>\n",
              "      <td>3.0</td>\n",
              "      <td>3.0</td>\n",
              "      <td>3.0</td>\n",
              "      <td>5.0</td>\n",
              "      <td>3.0</td>\n",
              "      <td>3.0</td>\n",
              "      <td>5.0</td>\n",
              "      <td>3.0</td>\n",
              "      <td>4.0</td>\n",
              "      <td>1.0</td>\n",
              "      <td>5.0</td>\n",
              "      <td>5.0</td>\n",
              "      <td>3.0</td>\n",
              "      <td>1.0</td>\n",
              "      <td>1.0</td>\n",
              "      <td>1.0</td>\n",
              "      <td>1.0</td>\n",
              "      <td>3.0</td>\n",
              "      <td>2.0</td>\n",
              "      <td>1.0</td>\n",
              "      <td>5.0</td>\n",
              "      <td>1.0</td>\n",
              "      <td>5.0</td>\n",
              "      <td>1.0</td>\n",
              "      <td>3.0</td>\n",
              "      <td>1.0</td>\n",
              "      <td>5.0</td>\n",
              "      <td>5.0</td>\n",
              "      <td>3.0</td>\n",
              "      <td>5.0</td>\n",
              "      <td>1.0</td>\n",
              "      <td>5.0</td>\n",
              "      <td>1.0</td>\n",
              "      <td>3.0</td>\n",
              "      <td>1.0</td>\n",
              "      <td>5.0</td>\n",
              "      <td>1.0</td>\n",
              "      <td>5.0</td>\n",
              "      <td>5.0</td>\n",
              "      <td>...</td>\n",
              "      <td>6771.0</td>\n",
              "      <td>2819.0</td>\n",
              "      <td>3682.0</td>\n",
              "      <td>2511.0</td>\n",
              "      <td>16204.0</td>\n",
              "      <td>1736.0</td>\n",
              "      <td>28983.0</td>\n",
              "      <td>1612.0</td>\n",
              "      <td>2437.0</td>\n",
              "      <td>4532.0</td>\n",
              "      <td>3843.0</td>\n",
              "      <td>7019.0</td>\n",
              "      <td>3102.0</td>\n",
              "      <td>3153.0</td>\n",
              "      <td>2869.0</td>\n",
              "      <td>6550.0</td>\n",
              "      <td>1811.0</td>\n",
              "      <td>3682.0</td>\n",
              "      <td>21500.0</td>\n",
              "      <td>20587.0</td>\n",
              "      <td>8458.0</td>\n",
              "      <td>3510.0</td>\n",
              "      <td>17042.0</td>\n",
              "      <td>7029.0</td>\n",
              "      <td>2327.0</td>\n",
              "      <td>5835.0</td>\n",
              "      <td>6846.0</td>\n",
              "      <td>5320.0</td>\n",
              "      <td>11401.0</td>\n",
              "      <td>8642.0</td>\n",
              "      <td>2016-03-03 02:02:57</td>\n",
              "      <td>1366</td>\n",
              "      <td>768</td>\n",
              "      <td>8</td>\n",
              "      <td>315.0</td>\n",
              "      <td>17</td>\n",
              "      <td>2</td>\n",
              "      <td>KE</td>\n",
              "      <td>1.0</td>\n",
              "      <td>38.0</td>\n",
              "    </tr>\n",
              "  </tbody>\n",
              "</table>\n",
              "<p>5 rows × 110 columns</p>\n",
              "</div>"
            ],
            "text/plain": [
              "   EXT1  EXT2  EXT3  ...  country  lat_appx_lots_of_err  long_appx_lots_of_err\n",
              "0   4.0   1.0   5.0  ...       GB               51.5448                 0.1991\n",
              "1   3.0   5.0   3.0  ...       MY                3.1698                101.706\n",
              "2   2.0   3.0   4.0  ...       GB               54.9119                -1.3833\n",
              "3   2.0   2.0   2.0  ...       GB                 51.75                  -1.25\n",
              "4   3.0   3.0   3.0  ...       KE                   1.0                   38.0\n",
              "\n",
              "[5 rows x 110 columns]"
            ]
          },
          "metadata": {
            "tags": []
          },
          "execution_count": 114
        }
      ]
    },
    {
      "cell_type": "code",
      "metadata": {
        "id": "tX6LQZtOUUBd",
        "colab_type": "code",
        "colab": {}
      },
      "source": [
        "data.dropna(inplace=True)"
      ],
      "execution_count": 115,
      "outputs": []
    },
    {
      "cell_type": "code",
      "metadata": {
        "id": "uZUXMs1HPLIq",
        "colab_type": "code",
        "colab": {
          "base_uri": "https://localhost:8080/",
          "height": 51
        },
        "outputId": "16907733-0f8f-41e1-ba07-b9d5e6dc9ac0"
      },
      "source": [
        "iso2 = list(data[\"country\"].unique())\n",
        "\n",
        "unknown_iso2 = [\"NONE\", \"SX\", \"TL\", \"AQ\"]\n",
        "\n",
        "iso3 = coco.convert(names = iso2, to = \"ISO3\")\n",
        "continent = pd.Series(iso2)[~pd.Series(iso2).isin(unknown_iso2)]\n",
        "list_continent=[]\n",
        "for i in continent:\n",
        "  list_continent.append(pycoco.country_alpha2_to_continent_code(i))\n",
        "continent = pd.Series(list_continent)\n",
        "short_name = coco.convert(names = iso2, to = \"name_short\")\n",
        "continent = pd.Series(list_continent)\n",
        "dict_continent_name = {\n",
        "    'NA': 1, #'North America'\n",
        "    'SA': 2,#'South America', \n",
        "    'AS': 3,#'Asia',\n",
        "    'OC': 4,#'Oceania',\n",
        "    'EU': 5,#'Europe',\n",
        "    'AF': 6 #'Africa'\n",
        "}\n",
        "\n",
        "continent = continent.replace(dict_continent_name)\n",
        "dict_country = dict(zip(iso2, iso3))\n",
        "dict_short_name = dict(zip(iso3, short_name))\n",
        "dict_continent = dict(zip(iso2, continent))\n",
        "\n",
        "data[\"country_iso2\"] = data[\"country\"].replace(dict_country)\n",
        "data[\"country_iso3\"] = data[\"country\"].replace(dict_country)\n",
        "data[\"country_name\"] = data[\"country_iso3\"].replace(dict_short_name)\n",
        "data[\"continent\"] = data[\"country\"].replace(dict_continent)\n"
      ],
      "execution_count": 116,
      "outputs": [
        {
          "output_type": "stream",
          "text": [
            "WARNING:root:NONE not found in regex\n",
            "WARNING:root:NONE not found in regex\n"
          ],
          "name": "stderr"
        }
      ]
    },
    {
      "cell_type": "code",
      "metadata": {
        "id": "tsR1GbSvA8it",
        "colab_type": "code",
        "colab": {}
      },
      "source": [
        "frequency = pd.DataFrame(data['country_name'].value_counts())\n",
        "frequency.reset_index(inplace=True)\n",
        "frequency.columns = ['country_name', 'Frequencia']\n",
        "frequency = frequency.query(\"Frequencia > 1000\")\n",
        "data = data[data['country_name'].isin(frequency['country_name'])]\n",
        "data = data.query(\"country_name != 'not found'\")\n",
        "#x = data[['EXT1',\t'EXT2',\t'EXT3',\t'EXT4',\t'EXT5',\t'EXT6',\t'EXT7',\t'EXT8',\t'EXT9',\t'EXT10',\t'EST1',\t'EST2',\t'EST3',\t'EST4',\t'EST5',\t'EST6',\t'EST7',\t'EST8',\t'EST9',\t'EST10',\t'AGR1',\t'AGR2',\t'AGR3',\t'AGR4',\t'AGR5',\t'AGR6',\t'AGR7',\t'AGR8',\t'AGR9',\t'AGR10',\t'CSN1',\t'CSN2',\t'CSN3',\t'CSN4',\t'CSN5',\t'CSN6',\t'CSN7',\t'CSN8',\t'CSN9',\t'CSN10','OPN1','OPN2','OPN3','OPN4','OPN5','OPN6','OPN7','OPN8','OPN9','OPN10']]\n"
      ],
      "execution_count": 117,
      "outputs": []
    },
    {
      "cell_type": "code",
      "metadata": {
        "id": "WWcIoC4dDN8r",
        "colab_type": "code",
        "colab": {
          "base_uri": "https://localhost:8080/",
          "height": 221
        },
        "outputId": "afbb6a0f-2533-4a99-fbff-3f554a25b44e"
      },
      "source": [
        "x = data[['EXT1',\t'EST1',\t'AGR1',\t'CSN1',\t'OPN1',\t'EXT2',\t'EST2',\t'AGR2',\t'CSN2',\t'OPN2']]\n",
        "y = data['country_name']\n",
        "list_classes = y.unique()\n",
        "data['country_name'].value_counts()"
      ],
      "execution_count": 118,
      "outputs": [
        {
          "output_type": "execute_result",
          "data": {
            "text/plain": [
              "United States     53676\n",
              "United Kingdom     7165\n",
              "Canada             5799\n",
              "Australia          5430\n",
              "India              2519\n",
              "Philippines        1902\n",
              "New Zealand        1429\n",
              "Germany            1352\n",
              "Netherlands        1322\n",
              "Sweden             1253\n",
              "Malaysia           1162\n",
              "Name: country_name, dtype: int64"
            ]
          },
          "metadata": {
            "tags": []
          },
          "execution_count": 118
        }
      ]
    },
    {
      "cell_type": "code",
      "metadata": {
        "id": "s1E6bg4i_GWl",
        "colab_type": "code",
        "colab": {}
      },
      "source": [
        "import pandas as pd\n",
        "import numpy as np\n",
        "from sklearn.cluster import KMeans\n",
        "from sklearn.preprocessing import LabelEncoder\n",
        "from sklearn.preprocessing import MinMaxScaler\n",
        "import seaborn as sns\n",
        "import matplotlib.pyplot as plt\n",
        "from sklearn.cluster import AgglomerativeClustering"
      ],
      "execution_count": 119,
      "outputs": []
    },
    {
      "cell_type": "code",
      "metadata": {
        "id": "3mFMsweQHT9x",
        "colab_type": "code",
        "colab": {}
      },
      "source": [
        "#scaler = StandardScaler()\n",
        "#scaled_x = scaler.fit_transform(x)\n",
        "#scaled_x = pd.DataFrame(scaled_x, columns=x.columns)\n",
        "scaled_x = x"
      ],
      "execution_count": 120,
      "outputs": []
    },
    {
      "cell_type": "code",
      "metadata": {
        "id": "eQ52z7u0b3uY",
        "colab_type": "code",
        "colab": {}
      },
      "source": [
        "#result = [KMeansOtimization(clusters,scaled_x) for clusters in range(1, 20)]"
      ],
      "execution_count": 121,
      "outputs": []
    },
    {
      "cell_type": "code",
      "metadata": {
        "id": "BkgixuUkYSzA",
        "colab_type": "code",
        "colab": {}
      },
      "source": [
        "#result = pd.DataFrame(result,columns=['Cluster', 'Erro'])"
      ],
      "execution_count": 122,
      "outputs": []
    },
    {
      "cell_type": "code",
      "metadata": {
        "id": "ATOHLcb3i1wu",
        "colab_type": "code",
        "colab": {}
      },
      "source": [
        "#result['Erro'].plot(xticks =result['Cluster'])"
      ],
      "execution_count": 123,
      "outputs": []
    },
    {
      "cell_type": "code",
      "metadata": {
        "id": "Wz2At-jG_xMN",
        "colab_type": "code",
        "colab": {
          "base_uri": "https://localhost:8080/",
          "height": 943
        },
        "outputId": "fc22a307-4319-4498-93fc-71341f2460fd"
      },
      "source": [
        "kmeans = KMeans(n_clusters=5)\n",
        "kmeans.fit(scaled_x)\n",
        "groups = pd.DataFrame(kmeans.cluster_centers_, columns = scaled_x.columns)\n",
        "groups = groups.transpose()\n",
        "groups.plot.bar(subplots = True, figsize = (30, 20), sharex =False ,rot = 0 )\n",
        "\n",
        "\n"
      ],
      "execution_count": 124,
      "outputs": [
        {
          "output_type": "execute_result",
          "data": {
            "text/plain": [
              "array([<matplotlib.axes._subplots.AxesSubplot object at 0x7f44ad72c0f0>,\n",
              "       <matplotlib.axes._subplots.AxesSubplot object at 0x7f44ab49bba8>,\n",
              "       <matplotlib.axes._subplots.AxesSubplot object at 0x7f44ace007f0>,\n",
              "       <matplotlib.axes._subplots.AxesSubplot object at 0x7f44ab48de80>,\n",
              "       <matplotlib.axes._subplots.AxesSubplot object at 0x7f44aac43128>],\n",
              "      dtype=object)"
            ]
          },
          "metadata": {
            "tags": []
          },
          "execution_count": 124
        },
        {
          "output_type": "display_data",
          "data": {
            "image/png": "[encoded data removed]",
            "text/plain": [
              "<Figure size 2160x1440 with 5 Axes>"
            ]
          },
          "metadata": {
            "tags": [],
            "needs_background": "light"
          }
        }
      ]
    },
    {
      "cell_type": "code",
      "metadata": {
        "id": "9-9HmpwbWUAB",
        "colab_type": "code",
        "colab": {
          "base_uri": "https://localhost:8080/",
          "height": 221
        },
        "outputId": "5e347e17-2bec-40b8-f6b9-d250ed70f4f0"
      },
      "source": [
        "scaled_x['continent'] = data['continent']\n",
        "scaled_x['Cluster'] =kmeans.labels_\n"
      ],
      "execution_count": 125,
      "outputs": [
        {
          "output_type": "stream",
          "text": [
            "/usr/local/lib/python3.6/dist-packages/ipykernel_launcher.py:1: SettingWithCopyWarning: \n",
            "A value is trying to be set on a copy of a slice from a DataFrame.\n",
            "Try using .loc[row_indexer,col_indexer] = value instead\n",
            "\n",
            "See the caveats in the documentation: https://pandas.pydata.org/pandas-docs/stable/user_guide/indexing.html#returning-a-view-versus-a-copy\n",
            "  \"\"\"Entry point for launching an IPython kernel.\n",
            "/usr/local/lib/python3.6/dist-packages/ipykernel_launcher.py:2: SettingWithCopyWarning: \n",
            "A value is trying to be set on a copy of a slice from a DataFrame.\n",
            "Try using .loc[row_indexer,col_indexer] = value instead\n",
            "\n",
            "See the caveats in the documentation: https://pandas.pydata.org/pandas-docs/stable/user_guide/indexing.html#returning-a-view-versus-a-copy\n",
            "  \n"
          ],
          "name": "stderr"
        }
      ]
    },
    {
      "cell_type": "code",
      "metadata": {
        "id": "ACPI3OaAbRz1",
        "colab_type": "code",
        "colab": {
          "base_uri": "https://localhost:8080/",
          "height": 136
        },
        "outputId": "34baf2ff-a302-410c-ef61-7e84a48a7c16"
      },
      "source": [
        "scaled_x.dropna(inplace=True)\n",
        "y = y.loc[scaled_x.index]\n",
        "print(y.shape)\n",
        "print(scaled_x.shape)"
      ],
      "execution_count": 126,
      "outputs": [
        {
          "output_type": "stream",
          "text": [
            "(83009,)\n",
            "(83009, 12)\n"
          ],
          "name": "stdout"
        },
        {
          "output_type": "stream",
          "text": [
            "/usr/local/lib/python3.6/dist-packages/ipykernel_launcher.py:1: SettingWithCopyWarning: \n",
            "A value is trying to be set on a copy of a slice from a DataFrame\n",
            "\n",
            "See the caveats in the documentation: https://pandas.pydata.org/pandas-docs/stable/user_guide/indexing.html#returning-a-view-versus-a-copy\n",
            "  \"\"\"Entry point for launching an IPython kernel.\n"
          ],
          "name": "stderr"
        }
      ]
    },
    {
      "cell_type": "code",
      "metadata": {
        "id": "5ZCGsYLV_TFk",
        "colab_type": "code",
        "colab": {}
      },
      "source": [
        "from scipy.cluster.hierarchy import dendrogram, linkage"
      ],
      "execution_count": 127,
      "outputs": []
    },
    {
      "cell_type": "code",
      "metadata": {
        "id": "8QH-lcAo_XUp",
        "colab_type": "code",
        "colab": {
          "base_uri": "https://localhost:8080/",
          "height": 676
        },
        "outputId": "7950a9dc-523c-4739-8140-5c7e7e0a187b"
      },
      "source": [
        "matriz_de_distancia = linkage(groups)\n",
        "dendrogram(matriz_de_distancia)"
      ],
      "execution_count": 128,
      "outputs": [
        {
          "output_type": "execute_result",
          "data": {
            "text/plain": [
              "{'color_list': ['g', 'g', 'g', 'b', 'b', 'b', 'b', 'b', 'b'],\n",
              " 'dcoord': [[0.0, 0.8200222915426983, 0.8200222915426983, 0.0],\n",
              "  [0.0, 1.2678369982337148, 1.2678369982337148, 0.8200222915426983],\n",
              "  [0.0, 1.3986368453563391, 1.3986368453563391, 1.2678369982337148],\n",
              "  [0.0, 2.0797828756871506, 2.0797828756871506, 1.3986368453563391],\n",
              "  [0.0, 2.1446445118134667, 2.1446445118134667, 2.0797828756871506],\n",
              "  [0.0, 2.0229435354467458, 2.0229435354467458, 0.0],\n",
              "  [0.0, 2.176671340861585, 2.176671340861585, 2.0229435354467458],\n",
              "  [2.1446445118134667,\n",
              "   2.212138647233701,\n",
              "   2.212138647233701,\n",
              "   2.176671340861585],\n",
              "  [0.0, 2.2393008425008825, 2.2393008425008825, 2.212138647233701]],\n",
              " 'icoord': [[55.0, 55.0, 65.0, 65.0],\n",
              "  [45.0, 45.0, 60.0, 60.0],\n",
              "  [35.0, 35.0, 52.5, 52.5],\n",
              "  [25.0, 25.0, 43.75, 43.75],\n",
              "  [15.0, 15.0, 34.375, 34.375],\n",
              "  [85.0, 85.0, 95.0, 95.0],\n",
              "  [75.0, 75.0, 90.0, 90.0],\n",
              "  [24.6875, 24.6875, 82.5, 82.5],\n",
              "  [5.0, 5.0, 53.59375, 53.59375]],\n",
              " 'ivl': ['8', '1', '0', '6', '3', '4', '7', '5', '2', '9'],\n",
              " 'leaves': [8, 1, 0, 6, 3, 4, 7, 5, 2, 9]}"
            ]
          },
          "metadata": {
            "tags": []
          },
          "execution_count": 128
        },
        {
          "output_type": "display_data",
          "data": {
            "image/png": "[encoded data removed]",
            "text/plain": [
              "<Figure size 432x288 with 1 Axes>"
            ]
          },
          "metadata": {
            "tags": [],
            "needs_background": "light"
          }
        }
      ]
    },
    {
      "cell_type": "code",
      "metadata": {
        "id": "w4ke5w6SLlrh",
        "colab_type": "code",
        "colab": {}
      },
      "source": [
        "from sklearn.manifold import TSNE\n",
        "tsne = TSNE()"
      ],
      "execution_count": 129,
      "outputs": []
    },
    {
      "cell_type": "code",
      "metadata": {
        "id": "FvwLegNGJdFc",
        "colab_type": "code",
        "colab": {}
      },
      "source": [
        "#visualizacao = tsne.fit_transform(scaled_x)\n",
        "#visualizacao"
      ],
      "execution_count": 130,
      "outputs": []
    },
    {
      "cell_type": "code",
      "metadata": {
        "id": "9od5saT8G45m",
        "colab_type": "code",
        "colab": {}
      },
      "source": [
        "#sns.set(rc={'figure.figsize': (13, 13)})\n",
        "#sns.scatterplot(x = visualizacao[:,0], y = visualizacao[:,1], hue =kmeans.labels_, palette=sns.color_palette('Set1', 4) )"
      ],
      "execution_count": 131,
      "outputs": []
    },
    {
      "cell_type": "code",
      "metadata": {
        "id": "b7dTzUCuCfJy",
        "colab_type": "code",
        "colab": {
          "base_uri": "https://localhost:8080/",
          "height": 340
        },
        "outputId": "703f8554-59a0-4312-f9d5-d2091e89612e"
      },
      "source": [
        "#x['continent'] = pd.to_numeric(x['continent'])\n",
        "scaled_x.info()"
      ],
      "execution_count": 132,
      "outputs": [
        {
          "output_type": "stream",
          "text": [
            "<class 'pandas.core.frame.DataFrame'>\n",
            "Int64Index: 83009 entries, 0 to 99999\n",
            "Data columns (total 12 columns):\n",
            " #   Column     Non-Null Count  Dtype  \n",
            "---  ------     --------------  -----  \n",
            " 0   EXT1       83009 non-null  float64\n",
            " 1   EST1       83009 non-null  float64\n",
            " 2   AGR1       83009 non-null  float64\n",
            " 3   CSN1       83009 non-null  float64\n",
            " 4   OPN1       83009 non-null  float64\n",
            " 5   EXT2       83009 non-null  float64\n",
            " 6   EST2       83009 non-null  float64\n",
            " 7   AGR2       83009 non-null  float64\n",
            " 8   CSN2       83009 non-null  float64\n",
            " 9   OPN2       83009 non-null  float64\n",
            " 10  continent  83009 non-null  object \n",
            " 11  Cluster    83009 non-null  int32  \n",
            "dtypes: float64(10), int32(1), object(1)\n",
            "memory usage: 7.9+ MB\n"
          ],
          "name": "stdout"
        }
      ]
    },
    {
      "cell_type": "code",
      "metadata": {
        "id": "xf4z_dZP_MtA",
        "colab_type": "code",
        "colab": {
          "base_uri": "https://localhost:8080/",
          "height": 390
        },
        "outputId": "493544a9-4076-42b8-a5d0-880769620efd"
      },
      "source": [
        "corr = scaled_x.corr()\n",
        "corr"
      ],
      "execution_count": 133,
      "outputs": [
        {
          "output_type": "execute_result",
          "data": {
            "text/html": [
              "<div>\n",
              "<style scoped>\n",
              "    .dataframe tbody tr th:only-of-type {\n",
              "        vertical-align: middle;\n",
              "    }\n",
              "\n",
              "    .dataframe tbody tr th {\n",
              "        vertical-align: top;\n",
              "    }\n",
              "\n",
              "    .dataframe thead th {\n",
              "        text-align: right;\n",
              "    }\n",
              "</style>\n",
              "<table border=\"1\" class=\"dataframe\">\n",
              "  <thead>\n",
              "    <tr style=\"text-align: right;\">\n",
              "      <th></th>\n",
              "      <th>EXT1</th>\n",
              "      <th>EST1</th>\n",
              "      <th>AGR1</th>\n",
              "      <th>CSN1</th>\n",
              "      <th>OPN1</th>\n",
              "      <th>EXT2</th>\n",
              "      <th>EST2</th>\n",
              "      <th>AGR2</th>\n",
              "      <th>CSN2</th>\n",
              "      <th>OPN2</th>\n",
              "      <th>Cluster</th>\n",
              "    </tr>\n",
              "  </thead>\n",
              "  <tbody>\n",
              "    <tr>\n",
              "      <th>EXT1</th>\n",
              "      <td>1.000000</td>\n",
              "      <td>-0.081568</td>\n",
              "      <td>-0.012099</td>\n",
              "      <td>0.030095</td>\n",
              "      <td>0.039724</td>\n",
              "      <td>-0.446363</td>\n",
              "      <td>0.133608</td>\n",
              "      <td>0.264783</td>\n",
              "      <td>0.058126</td>\n",
              "      <td>-0.011894</td>\n",
              "      <td>0.417181</td>\n",
              "    </tr>\n",
              "    <tr>\n",
              "      <th>EST1</th>\n",
              "      <td>-0.081568</td>\n",
              "      <td>1.000000</td>\n",
              "      <td>-0.031320</td>\n",
              "      <td>-0.031512</td>\n",
              "      <td>-0.009930</td>\n",
              "      <td>0.059017</td>\n",
              "      <td>-0.448098</td>\n",
              "      <td>-0.006324</td>\n",
              "      <td>0.091423</td>\n",
              "      <td>0.165723</td>\n",
              "      <td>-0.389202</td>\n",
              "    </tr>\n",
              "    <tr>\n",
              "      <th>AGR1</th>\n",
              "      <td>-0.012099</td>\n",
              "      <td>-0.031320</td>\n",
              "      <td>1.000000</td>\n",
              "      <td>-0.013905</td>\n",
              "      <td>-0.069777</td>\n",
              "      <td>0.118431</td>\n",
              "      <td>0.049325</td>\n",
              "      <td>-0.232385</td>\n",
              "      <td>-0.003007</td>\n",
              "      <td>0.104772</td>\n",
              "      <td>0.410675</td>\n",
              "    </tr>\n",
              "    <tr>\n",
              "      <th>CSN1</th>\n",
              "      <td>0.030095</td>\n",
              "      <td>-0.031512</td>\n",
              "      <td>-0.013905</td>\n",
              "      <td>1.000000</td>\n",
              "      <td>0.111784</td>\n",
              "      <td>0.020712</td>\n",
              "      <td>0.050168</td>\n",
              "      <td>0.071252</td>\n",
              "      <td>-0.272890</td>\n",
              "      <td>-0.035488</td>\n",
              "      <td>-0.002282</td>\n",
              "    </tr>\n",
              "    <tr>\n",
              "      <th>OPN1</th>\n",
              "      <td>0.039724</td>\n",
              "      <td>-0.009930</td>\n",
              "      <td>-0.069777</td>\n",
              "      <td>0.111784</td>\n",
              "      <td>1.000000</td>\n",
              "      <td>-0.016138</td>\n",
              "      <td>0.033697</td>\n",
              "      <td>0.097558</td>\n",
              "      <td>0.078121</td>\n",
              "      <td>-0.273150</td>\n",
              "      <td>0.007842</td>\n",
              "    </tr>\n",
              "    <tr>\n",
              "      <th>EXT2</th>\n",
              "      <td>-0.446363</td>\n",
              "      <td>0.059017</td>\n",
              "      <td>0.118431</td>\n",
              "      <td>0.020712</td>\n",
              "      <td>-0.016138</td>\n",
              "      <td>1.000000</td>\n",
              "      <td>0.003606</td>\n",
              "      <td>-0.248420</td>\n",
              "      <td>-0.043870</td>\n",
              "      <td>0.062043</td>\n",
              "      <td>-0.326007</td>\n",
              "    </tr>\n",
              "    <tr>\n",
              "      <th>EST2</th>\n",
              "      <td>0.133608</td>\n",
              "      <td>-0.448098</td>\n",
              "      <td>0.049325</td>\n",
              "      <td>0.050168</td>\n",
              "      <td>0.033697</td>\n",
              "      <td>0.003606</td>\n",
              "      <td>1.000000</td>\n",
              "      <td>0.108447</td>\n",
              "      <td>0.046294</td>\n",
              "      <td>-0.056884</td>\n",
              "      <td>0.366666</td>\n",
              "    </tr>\n",
              "    <tr>\n",
              "      <th>AGR2</th>\n",
              "      <td>0.264783</td>\n",
              "      <td>-0.006324</td>\n",
              "      <td>-0.232385</td>\n",
              "      <td>0.071252</td>\n",
              "      <td>0.097558</td>\n",
              "      <td>-0.248420</td>\n",
              "      <td>0.108447</td>\n",
              "      <td>1.000000</td>\n",
              "      <td>0.091414</td>\n",
              "      <td>-0.047924</td>\n",
              "      <td>0.148726</td>\n",
              "    </tr>\n",
              "    <tr>\n",
              "      <th>CSN2</th>\n",
              "      <td>0.058126</td>\n",
              "      <td>0.091423</td>\n",
              "      <td>-0.003007</td>\n",
              "      <td>-0.272890</td>\n",
              "      <td>0.078121</td>\n",
              "      <td>-0.043870</td>\n",
              "      <td>0.046294</td>\n",
              "      <td>0.091414</td>\n",
              "      <td>1.000000</td>\n",
              "      <td>0.020388</td>\n",
              "      <td>0.146622</td>\n",
              "    </tr>\n",
              "    <tr>\n",
              "      <th>OPN2</th>\n",
              "      <td>-0.011894</td>\n",
              "      <td>0.165723</td>\n",
              "      <td>0.104772</td>\n",
              "      <td>-0.035488</td>\n",
              "      <td>-0.273150</td>\n",
              "      <td>0.062043</td>\n",
              "      <td>-0.056884</td>\n",
              "      <td>-0.047924</td>\n",
              "      <td>0.020388</td>\n",
              "      <td>1.000000</td>\n",
              "      <td>-0.024158</td>\n",
              "    </tr>\n",
              "    <tr>\n",
              "      <th>Cluster</th>\n",
              "      <td>0.417181</td>\n",
              "      <td>-0.389202</td>\n",
              "      <td>0.410675</td>\n",
              "      <td>-0.002282</td>\n",
              "      <td>0.007842</td>\n",
              "      <td>-0.326007</td>\n",
              "      <td>0.366666</td>\n",
              "      <td>0.148726</td>\n",
              "      <td>0.146622</td>\n",
              "      <td>-0.024158</td>\n",
              "      <td>1.000000</td>\n",
              "    </tr>\n",
              "  </tbody>\n",
              "</table>\n",
              "</div>"
            ],
            "text/plain": [
              "             EXT1      EST1      AGR1  ...      CSN2      OPN2   Cluster\n",
              "EXT1     1.000000 -0.081568 -0.012099  ...  0.058126 -0.011894  0.417181\n",
              "EST1    -0.081568  1.000000 -0.031320  ...  0.091423  0.165723 -0.389202\n",
              "AGR1    -0.012099 -0.031320  1.000000  ... -0.003007  0.104772  0.410675\n",
              "CSN1     0.030095 -0.031512 -0.013905  ... -0.272890 -0.035488 -0.002282\n",
              "OPN1     0.039724 -0.009930 -0.069777  ...  0.078121 -0.273150  0.007842\n",
              "EXT2    -0.446363  0.059017  0.118431  ... -0.043870  0.062043 -0.326007\n",
              "EST2     0.133608 -0.448098  0.049325  ...  0.046294 -0.056884  0.366666\n",
              "AGR2     0.264783 -0.006324 -0.232385  ...  0.091414 -0.047924  0.148726\n",
              "CSN2     0.058126  0.091423 -0.003007  ...  1.000000  0.020388  0.146622\n",
              "OPN2    -0.011894  0.165723  0.104772  ...  0.020388  1.000000 -0.024158\n",
              "Cluster  0.417181 -0.389202  0.410675  ...  0.146622 -0.024158  1.000000\n",
              "\n",
              "[11 rows x 11 columns]"
            ]
          },
          "metadata": {
            "tags": []
          },
          "execution_count": 133
        }
      ]
    },
    {
      "cell_type": "code",
      "metadata": {
        "id": "w2U9qekv_lCf",
        "colab_type": "code",
        "colab": {
          "base_uri": "https://localhost:8080/",
          "height": 735
        },
        "outputId": "b10ebd03-e160-4b32-a258-48063ccce8cb"
      },
      "source": [
        "  mask = np.triu(np.ones_like(corr, dtype=np.bool))\n",
        "  f, ax = plt.subplots(figsize=(15, 13))\n",
        "  cmap = sns.diverging_palette(240, 10, as_cmap=True)\n",
        "  sns.heatmap(corr, mask=mask, cmap=cmap, center=0,\n",
        "                square=True, linewidths=.5, cbar_kws={\"shrink\": .5})"
      ],
      "execution_count": 134,
      "outputs": [
        {
          "output_type": "execute_result",
          "data": {
            "text/plain": [
              "<matplotlib.axes._subplots.AxesSubplot at 0x7f44aaa22e80>"
            ]
          },
          "metadata": {
            "tags": []
          },
          "execution_count": 134
        },
        {
          "output_type": "display_data",
          "data": {
            "image/png": "[encoded data removed]",
            "text/plain": [
              "<Figure size 1080x936 with 2 Axes>"
            ]
          },
          "metadata": {
            "tags": [],
            "needs_background": "light"
          }
        }
      ]
    },
    {
      "cell_type": "code",
      "metadata": {
        "id": "yeIuvMZbVZy5",
        "colab_type": "code",
        "colab": {}
      },
      "source": [
        "#raw_treino_x, raw_teste_x, treino_y, teste_y = train_test_split(x, y,\n",
        "#                                                         test_size = 0.25,\n",
        "#                                                         stratify = y)\n",
        "#\n",
        "#print(\"Treinaremos com %d elementos e testaremos com %d elementos\" % (len(raw_treino_x), len(raw_teste_x)))\n",
        "#\n",
        "#modelo = TPOTClassifier(verbosity = 2, generations=5, n_jobs=-1, config_dict=\"TPOT light\")\n",
        "#modelo.fit(raw_treino_x, treino_y)"
      ],
      "execution_count": 135,
      "outputs": []
    },
    {
      "cell_type": "code",
      "metadata": {
        "id": "CkjU2UHZhkPh",
        "colab_type": "code",
        "colab": {
          "base_uri": "https://localhost:8080/",
          "height": 51
        },
        "outputId": "77d9962b-b7d6-48f8-b3b4-aceaf94bf0df"
      },
      "source": [
        "raw_treino_x, raw_teste_x, treino_y, teste_y = train_test_split(scaled_x, y,\n",
        "                                                         test_size = 0.25,\n",
        "                                                         stratify = y)\n",
        "\n",
        "print(\"Treinaremos com %d elementos e testaremos com %d elementos\" % (len(raw_treino_x), len(raw_teste_x)))\n",
        "\n",
        "modelo = DecisionTreeClassifier(max_depth=6)\n",
        "modelo.fit(raw_treino_x, treino_y)\n",
        "previsoes_SVC = modelo.predict(raw_teste_x)\n",
        "acuracia = accuracy_score(teste_y, previsoes_SVC) * 100\n",
        "print(\"A acurácia foi %.2f%%\" % acuracia)\n",
        "\n",
        "    \n",
        "dot_data = export_graphviz(modelo, out_file=None,  feature_names = scaled_x.columns, filled=True, rounded=True, class_names=list_classes )\n",
        "grafico = graphviz.Source(dot_data)"
      ],
      "execution_count": 136,
      "outputs": [
        {
          "output_type": "stream",
          "text": [
            "Treinaremos com 62256 elementos e testaremos com 20753 elementos\n",
            "A acurácia foi 82.98%\n"
          ],
          "name": "stdout"
        }
      ]
    },
    {
      "cell_type": "code",
      "metadata": {
        "id": "ZtGyk1TKPhF-",
        "colab_type": "code",
        "colab": {
          "base_uri": "https://localhost:8080/",
          "height": 1000
        },
        "outputId": "ca729fc2-8c15-4de3-fb9d-b8711b116e31"
      },
      "source": [
        "grafico"
      ],
      "execution_count": 137,
      "outputs": [
        {
          "output_type": "execute_result",
          "data": {
            "text/plain": [
              "<graphviz.files.Source at 0x7f44b5fa60f0>"
            ],
            "image/svg+xml": "<?xml version=\"1.0\" encoding=\"UTF-8\" standalone=\"no\"?>\n<!DOCTYPE svg PUBLIC \"-//W3C//DTD SVG 1.1//EN\"\n \"http://www.w3.org/Graphics/SVG/1.1/DTD/svg11.dtd\">\n<!-- Generated by graphviz version 2.40.1 (20161225.0304)\n -->\n<!-- Title: Tree Pages: 1 -->\n<svg width=\"16347pt\" height=\"820pt\"\n viewBox=\"0.00 0.00 16347.00 820.00\" xmlns=\"http://www.w3.org/2000/svg\" xmlns:xlink=\"http://www.w3.org/1999/xlink\">\n<g id=\"graph0\" class=\"graph\" transform=\"scale(1 1) rotate(0) translate(4 816)\">\n<title>Tree</title>\n<polygon fill=\"#ffffff\" stroke=\"transparent\" points=\"-4,4 -4,-816 16343,-816 16343,4 -4,4\"/>\n<!-- 0 -->\n<g id=\"node1\" class=\"node\">\n<title>0</title>\n<path fill=\"#ef8694\" stroke=\"#000000\" d=\"M9058.5,-812C9058.5,-812 8678.5,-812 8678.5,-812 8672.5,-812 8666.5,-806 8666.5,-800 8666.5,-800 8666.5,-726 8666.5,-726 8666.5,-720 8672.5,-714 8678.5,-714 8678.5,-714 9058.5,-714 9058.5,-714 9064.5,-714 9070.5,-720 9070.5,-726 9070.5,-726 9070.5,-800 9070.5,-800 9070.5,-806 9064.5,-812 9058.5,-812\"/>\n<text text-anchor=\"middle\" x=\"8868.5\" y=\"-796.8\" font-family=\"Helvetica,sans-Serif\" font-size=\"14.00\" fill=\"#000000\">continent &lt;= 2.0</text>\n<text text-anchor=\"middle\" x=\"8868.5\" y=\"-781.8\" font-family=\"Helvetica,sans-Serif\" font-size=\"14.00\" fill=\"#000000\">gini = 0.563</text>\n<text text-anchor=\"middle\" x=\"8868.5\" y=\"-766.8\" font-family=\"Helvetica,sans-Serif\" font-size=\"14.00\" fill=\"#000000\">samples = 62256</text>\n<text text-anchor=\"middle\" x=\"8868.5\" y=\"-751.8\" font-family=\"Helvetica,sans-Serif\" font-size=\"14.00\" fill=\"#000000\">value = [4072, 4349, 1014, 1889, 872, 991, 1072, 1426, 940</text>\n<text text-anchor=\"middle\" x=\"8868.5\" y=\"-736.8\" font-family=\"Helvetica,sans-Serif\" font-size=\"14.00\" fill=\"#000000\">5374, 40257]</text>\n<text text-anchor=\"middle\" x=\"8868.5\" y=\"-721.8\" font-family=\"Helvetica,sans-Serif\" font-size=\"14.00\" fill=\"#000000\">class = New Zealand</text>\n</g>\n<!-- 1 -->\n<g id=\"node2\" class=\"node\">\n<title>1</title>\n<path fill=\"#e84e63\" stroke=\"#000000\" d=\"M7086,-670.5C7086,-670.5 6811,-670.5 6811,-670.5 6805,-670.5 6799,-664.5 6799,-658.5 6799,-658.5 6799,-599.5 6799,-599.5 6799,-593.5 6805,-587.5 6811,-587.5 6811,-587.5 7086,-587.5 7086,-587.5 7092,-587.5 7098,-593.5 7098,-599.5 7098,-599.5 7098,-658.5 7098,-658.5 7098,-664.5 7092,-670.5 7086,-670.5\"/>\n<text text-anchor=\"middle\" x=\"6948.5\" y=\"-655.3\" font-family=\"Helvetica,sans-Serif\" font-size=\"14.00\" fill=\"#000000\">AGR1 &lt;= 1.5</text>\n<text text-anchor=\"middle\" x=\"6948.5\" y=\"-640.3\" font-family=\"Helvetica,sans-Serif\" font-size=\"14.00\" fill=\"#000000\">gini = 0.176</text>\n<text text-anchor=\"middle\" x=\"6948.5\" y=\"-625.3\" font-family=\"Helvetica,sans-Serif\" font-size=\"14.00\" fill=\"#000000\">samples = 44606</text>\n<text text-anchor=\"middle\" x=\"6948.5\" y=\"-610.3\" font-family=\"Helvetica,sans-Serif\" font-size=\"14.00\" fill=\"#000000\">value = [0, 4349, 0, 0, 0, 0, 0, 0, 0, 0, 40257]</text>\n<text text-anchor=\"middle\" x=\"6948.5\" y=\"-595.3\" font-family=\"Helvetica,sans-Serif\" font-size=\"14.00\" fill=\"#000000\">class = New Zealand</text>\n</g>\n<!-- 0&#45;&gt;1 -->\n<g id=\"edge1\" class=\"edge\">\n<title>0&#45;&gt;1</title>\n<path fill=\"none\" stroke=\"#000000\" d=\"M8666.2031,-748.8814C8282.4689,-722.0999 7456.1798,-664.4318 7108.1783,-640.1442\"/>\n<polygon fill=\"#000000\" stroke=\"#000000\" points=\"7108.2422,-636.6403 7098.0228,-639.4354 7107.7548,-643.6233 7108.2422,-636.6403\"/>\n<text text-anchor=\"middle\" x=\"7114.4268\" y=\"-654.601\" font-family=\"Helvetica,sans-Serif\" font-size=\"14.00\" fill=\"#000000\">True</text>\n</g>\n<!-- 64 -->\n<g id=\"node65\" class=\"node\">\n<title>64</title>\n<path fill=\"#fdecf7\" stroke=\"#000000\" d=\"M10498,-678C10498,-678 10103,-678 10103,-678 10097,-678 10091,-672 10091,-666 10091,-666 10091,-592 10091,-592 10091,-586 10097,-580 10103,-580 10103,-580 10498,-580 10498,-580 10504,-580 10510,-586 10510,-592 10510,-592 10510,-666 10510,-666 10510,-672 10504,-678 10498,-678\"/>\n<text text-anchor=\"middle\" x=\"10300.5\" y=\"-662.8\" font-family=\"Helvetica,sans-Serif\" font-size=\"14.00\" fill=\"#000000\">continent &lt;= 4.5</text>\n<text text-anchor=\"middle\" x=\"10300.5\" y=\"-647.8\" font-family=\"Helvetica,sans-Serif\" font-size=\"14.00\" fill=\"#000000\">gini = 0.821</text>\n<text text-anchor=\"middle\" x=\"10300.5\" y=\"-632.8\" font-family=\"Helvetica,sans-Serif\" font-size=\"14.00\" fill=\"#000000\">samples = 17650</text>\n<text text-anchor=\"middle\" x=\"10300.5\" y=\"-617.8\" font-family=\"Helvetica,sans-Serif\" font-size=\"14.00\" fill=\"#000000\">value = [4072, 0, 1014, 1889, 872, 991, 1072, 1426, 940, 5374</text>\n<text text-anchor=\"middle\" x=\"10300.5\" y=\"-602.8\" font-family=\"Helvetica,sans-Serif\" font-size=\"14.00\" fill=\"#000000\">0]</text>\n<text text-anchor=\"middle\" x=\"10300.5\" y=\"-587.8\" font-family=\"Helvetica,sans-Serif\" font-size=\"14.00\" fill=\"#000000\">class = Germany</text>\n</g>\n<!-- 0&#45;&gt;64 -->\n<g id=\"edge64\" class=\"edge\">\n<title>0&#45;&gt;64</title>\n<path fill=\"none\" stroke=\"#000000\" d=\"M9070.6334,-744.0853C9337.4612,-719.1168 9805.5264,-675.3174 10080.843,-649.5545\"/>\n<polygon fill=\"#000000\" stroke=\"#000000\" points=\"10081.3306,-653.0243 10090.961,-648.6077 10080.6783,-646.0547 10081.3306,-653.0243\"/>\n<text text-anchor=\"middle\" x=\"10075.0072\" y=\"-664.1555\" font-family=\"Helvetica,sans-Serif\" font-size=\"14.00\" fill=\"#000000\">False</text>\n</g>\n<!-- 2 -->\n<g id=\"node3\" class=\"node\">\n<title>2</title>\n<path fill=\"#e84c61\" stroke=\"#000000\" d=\"M3542,-544C3542,-544 3267,-544 3267,-544 3261,-544 3255,-538 3255,-532 3255,-532 3255,-473 3255,-473 3255,-467 3261,-461 3267,-461 3267,-461 3542,-461 3542,-461 3548,-461 3554,-467 3554,-473 3554,-473 3554,-532 3554,-532 3554,-538 3548,-544 3542,-544\"/>\n<text text-anchor=\"middle\" x=\"3404.5\" y=\"-528.8\" font-family=\"Helvetica,sans-Serif\" font-size=\"14.00\" fill=\"#000000\">CSN2 &lt;= 3.5</text>\n<text text-anchor=\"middle\" x=\"3404.5\" y=\"-513.8\" font-family=\"Helvetica,sans-Serif\" font-size=\"14.00\" fill=\"#000000\">gini = 0.162</text>\n<text text-anchor=\"middle\" x=\"3404.5\" y=\"-498.8\" font-family=\"Helvetica,sans-Serif\" font-size=\"14.00\" fill=\"#000000\">samples = 19636</text>\n<text text-anchor=\"middle\" x=\"3404.5\" y=\"-483.8\" font-family=\"Helvetica,sans-Serif\" font-size=\"14.00\" fill=\"#000000\">value = [0, 1746, 0, 0, 0, 0, 0, 0, 0, 0, 17890]</text>\n<text text-anchor=\"middle\" x=\"3404.5\" y=\"-468.8\" font-family=\"Helvetica,sans-Serif\" font-size=\"14.00\" fill=\"#000000\">class = New Zealand</text>\n</g>\n<!-- 1&#45;&gt;2 -->\n<g id=\"edge2\" class=\"edge\">\n<title>1&#45;&gt;2</title>\n<path fill=\"none\" stroke=\"#000000\" d=\"M6798.7643,-623.6553C6223.3693,-603.1171 4157.0625,-529.3621 3564.4258,-508.2084\"/>\n<polygon fill=\"#000000\" stroke=\"#000000\" points=\"3564.2197,-504.6989 3554.1011,-507.8399 3563.9699,-511.6945 3564.2197,-504.6989\"/>\n</g>\n<!-- 33 -->\n<g id=\"node34\" class=\"node\">\n<title>33</title>\n<path fill=\"#e85064\" stroke=\"#000000\" d=\"M7086,-544C7086,-544 6811,-544 6811,-544 6805,-544 6799,-538 6799,-532 6799,-532 6799,-473 6799,-473 6799,-467 6805,-461 6811,-461 6811,-461 7086,-461 7086,-461 7092,-461 7098,-467 7098,-473 7098,-473 7098,-532 7098,-532 7098,-538 7092,-544 7086,-544\"/>\n<text text-anchor=\"middle\" x=\"6948.5\" y=\"-528.8\" font-family=\"Helvetica,sans-Serif\" font-size=\"14.00\" fill=\"#000000\">OPN1 &lt;= 1.5</text>\n<text text-anchor=\"middle\" x=\"6948.5\" y=\"-513.8\" font-family=\"Helvetica,sans-Serif\" font-size=\"14.00\" fill=\"#000000\">gini = 0.187</text>\n<text text-anchor=\"middle\" x=\"6948.5\" y=\"-498.8\" font-family=\"Helvetica,sans-Serif\" font-size=\"14.00\" fill=\"#000000\">samples = 24970</text>\n<text text-anchor=\"middle\" x=\"6948.5\" y=\"-483.8\" font-family=\"Helvetica,sans-Serif\" font-size=\"14.00\" fill=\"#000000\">value = [0, 2603, 0, 0, 0, 0, 0, 0, 0, 0, 22367]</text>\n<text text-anchor=\"middle\" x=\"6948.5\" y=\"-468.8\" font-family=\"Helvetica,sans-Serif\" font-size=\"14.00\" fill=\"#000000\">class = New Zealand</text>\n</g>\n<!-- 1&#45;&gt;33 -->\n<g id=\"edge33\" class=\"edge\">\n<title>1&#45;&gt;33</title>\n<path fill=\"none\" stroke=\"#000000\" d=\"M6948.5,-587.2286C6948.5,-576.7575 6948.5,-565.3953 6948.5,-554.494\"/>\n<polygon fill=\"#000000\" stroke=\"#000000\" points=\"6952.0001,-554.2275 6948.5,-544.2276 6945.0001,-554.2276 6952.0001,-554.2275\"/>\n</g>\n<!-- 3 -->\n<g id=\"node4\" class=\"node\">\n<title>3</title>\n<path fill=\"#e74b60\" stroke=\"#000000\" d=\"M1829.5,-425C1829.5,-425 1563.5,-425 1563.5,-425 1557.5,-425 1551.5,-419 1551.5,-413 1551.5,-413 1551.5,-354 1551.5,-354 1551.5,-348 1557.5,-342 1563.5,-342 1563.5,-342 1829.5,-342 1829.5,-342 1835.5,-342 1841.5,-348 1841.5,-354 1841.5,-354 1841.5,-413 1841.5,-413 1841.5,-419 1835.5,-425 1829.5,-425\"/>\n<text text-anchor=\"middle\" x=\"1696.5\" y=\"-409.8\" font-family=\"Helvetica,sans-Serif\" font-size=\"14.00\" fill=\"#000000\">OPN1 &lt;= 3.5</text>\n<text text-anchor=\"middle\" x=\"1696.5\" y=\"-394.8\" font-family=\"Helvetica,sans-Serif\" font-size=\"14.00\" fill=\"#000000\">gini = 0.15</text>\n<text text-anchor=\"middle\" x=\"1696.5\" y=\"-379.8\" font-family=\"Helvetica,sans-Serif\" font-size=\"14.00\" fill=\"#000000\">samples = 11520</text>\n<text text-anchor=\"middle\" x=\"1696.5\" y=\"-364.8\" font-family=\"Helvetica,sans-Serif\" font-size=\"14.00\" fill=\"#000000\">value = [0, 941, 0, 0, 0, 0, 0, 0, 0, 0, 10579]</text>\n<text text-anchor=\"middle\" x=\"1696.5\" y=\"-349.8\" font-family=\"Helvetica,sans-Serif\" font-size=\"14.00\" fill=\"#000000\">class = New Zealand</text>\n</g>\n<!-- 2&#45;&gt;3 -->\n<g id=\"edge3\" class=\"edge\">\n<title>2&#45;&gt;3</title>\n<path fill=\"none\" stroke=\"#000000\" d=\"M3254.7966,-492.0698C2933.0638,-469.654 2178.4598,-417.0792 1851.7861,-394.3191\"/>\n<polygon fill=\"#000000\" stroke=\"#000000\" points=\"1851.9908,-390.825 1841.7717,-393.6214 1851.5042,-397.8081 1851.9908,-390.825\"/>\n</g>\n<!-- 18 -->\n<g id=\"node19\" class=\"node\">\n<title>18</title>\n<path fill=\"#e84f63\" stroke=\"#000000\" d=\"M3533.5,-425C3533.5,-425 3275.5,-425 3275.5,-425 3269.5,-425 3263.5,-419 3263.5,-413 3263.5,-413 3263.5,-354 3263.5,-354 3263.5,-348 3269.5,-342 3275.5,-342 3275.5,-342 3533.5,-342 3533.5,-342 3539.5,-342 3545.5,-348 3545.5,-354 3545.5,-354 3545.5,-413 3545.5,-413 3545.5,-419 3539.5,-425 3533.5,-425\"/>\n<text text-anchor=\"middle\" x=\"3404.5\" y=\"-409.8\" font-family=\"Helvetica,sans-Serif\" font-size=\"14.00\" fill=\"#000000\">OPN1 &lt;= 3.5</text>\n<text text-anchor=\"middle\" x=\"3404.5\" y=\"-394.8\" font-family=\"Helvetica,sans-Serif\" font-size=\"14.00\" fill=\"#000000\">gini = 0.179</text>\n<text text-anchor=\"middle\" x=\"3404.5\" y=\"-379.8\" font-family=\"Helvetica,sans-Serif\" font-size=\"14.00\" fill=\"#000000\">samples = 8116</text>\n<text text-anchor=\"middle\" x=\"3404.5\" y=\"-364.8\" font-family=\"Helvetica,sans-Serif\" font-size=\"14.00\" fill=\"#000000\">value = [0, 805, 0, 0, 0, 0, 0, 0, 0, 0, 7311]</text>\n<text text-anchor=\"middle\" x=\"3404.5\" y=\"-349.8\" font-family=\"Helvetica,sans-Serif\" font-size=\"14.00\" fill=\"#000000\">class = New Zealand</text>\n</g>\n<!-- 2&#45;&gt;18 -->\n<g id=\"edge18\" class=\"edge\">\n<title>2&#45;&gt;18</title>\n<path fill=\"none\" stroke=\"#000000\" d=\"M3404.5,-460.8796C3404.5,-452.6838 3404.5,-443.9891 3404.5,-435.5013\"/>\n<polygon fill=\"#000000\" stroke=\"#000000\" points=\"3408.0001,-435.298 3404.5,-425.2981 3401.0001,-435.2981 3408.0001,-435.298\"/>\n</g>\n<!-- 4 -->\n<g id=\"node5\" class=\"node\">\n<title>4</title>\n<path fill=\"#e7495e\" stroke=\"#000000\" d=\"M946.5,-306C946.5,-306 688.5,-306 688.5,-306 682.5,-306 676.5,-300 676.5,-294 676.5,-294 676.5,-235 676.5,-235 676.5,-229 682.5,-223 688.5,-223 688.5,-223 946.5,-223 946.5,-223 952.5,-223 958.5,-229 958.5,-235 958.5,-235 958.5,-294 958.5,-294 958.5,-300 952.5,-306 946.5,-306\"/>\n<text text-anchor=\"middle\" x=\"817.5\" y=\"-290.8\" font-family=\"Helvetica,sans-Serif\" font-size=\"14.00\" fill=\"#000000\">AGR2 &lt;= 0.5</text>\n<text text-anchor=\"middle\" x=\"817.5\" y=\"-275.8\" font-family=\"Helvetica,sans-Serif\" font-size=\"14.00\" fill=\"#000000\">gini = 0.137</text>\n<text text-anchor=\"middle\" x=\"817.5\" y=\"-260.8\" font-family=\"Helvetica,sans-Serif\" font-size=\"14.00\" fill=\"#000000\">samples = 4937</text>\n<text text-anchor=\"middle\" x=\"817.5\" y=\"-245.8\" font-family=\"Helvetica,sans-Serif\" font-size=\"14.00\" fill=\"#000000\">value = [0, 365, 0, 0, 0, 0, 0, 0, 0, 0, 4572]</text>\n<text text-anchor=\"middle\" x=\"817.5\" y=\"-230.8\" font-family=\"Helvetica,sans-Serif\" font-size=\"14.00\" fill=\"#000000\">class = New Zealand</text>\n</g>\n<!-- 3&#45;&gt;4 -->\n<g id=\"edge4\" class=\"edge\">\n<title>3&#45;&gt;4</title>\n<path fill=\"none\" stroke=\"#000000\" d=\"M1551.351,-363.8496C1390.513,-342.0751 1132.3386,-307.1232 968.9935,-285.0094\"/>\n<polygon fill=\"#000000\" stroke=\"#000000\" points=\"969.2392,-281.5108 958.86,-283.6375 968.3,-288.4475 969.2392,-281.5108\"/>\n</g>\n<!-- 11 -->\n<g id=\"node12\" class=\"node\">\n<title>11</title>\n<path fill=\"#e74c61\" stroke=\"#000000\" d=\"M1825.5,-306C1825.5,-306 1567.5,-306 1567.5,-306 1561.5,-306 1555.5,-300 1555.5,-294 1555.5,-294 1555.5,-235 1555.5,-235 1555.5,-229 1561.5,-223 1567.5,-223 1567.5,-223 1825.5,-223 1825.5,-223 1831.5,-223 1837.5,-229 1837.5,-235 1837.5,-235 1837.5,-294 1837.5,-294 1837.5,-300 1831.5,-306 1825.5,-306\"/>\n<text text-anchor=\"middle\" x=\"1696.5\" y=\"-290.8\" font-family=\"Helvetica,sans-Serif\" font-size=\"14.00\" fill=\"#000000\">OPN2 &lt;= 2.5</text>\n<text text-anchor=\"middle\" x=\"1696.5\" y=\"-275.8\" font-family=\"Helvetica,sans-Serif\" font-size=\"14.00\" fill=\"#000000\">gini = 0.16</text>\n<text text-anchor=\"middle\" x=\"1696.5\" y=\"-260.8\" font-family=\"Helvetica,sans-Serif\" font-size=\"14.00\" fill=\"#000000\">samples = 6583</text>\n<text text-anchor=\"middle\" x=\"1696.5\" y=\"-245.8\" font-family=\"Helvetica,sans-Serif\" font-size=\"14.00\" fill=\"#000000\">value = [0, 576, 0, 0, 0, 0, 0, 0, 0, 0, 6007]</text>\n<text text-anchor=\"middle\" x=\"1696.5\" y=\"-230.8\" font-family=\"Helvetica,sans-Serif\" font-size=\"14.00\" fill=\"#000000\">class = New Zealand</text>\n</g>\n<!-- 3&#45;&gt;11 -->\n<g id=\"edge11\" class=\"edge\">\n<title>3&#45;&gt;11</title>\n<path fill=\"none\" stroke=\"#000000\" d=\"M1696.5,-341.8796C1696.5,-333.6838 1696.5,-324.9891 1696.5,-316.5013\"/>\n<polygon fill=\"#000000\" stroke=\"#000000\" points=\"1700.0001,-316.298 1696.5,-306.2981 1693.0001,-316.2981 1700.0001,-316.298\"/>\n</g>\n<!-- 5 -->\n<g id=\"node6\" class=\"node\">\n<title>5</title>\n<path fill=\"#e85266\" stroke=\"#000000\" d=\"M512.5,-187C512.5,-187 270.5,-187 270.5,-187 264.5,-187 258.5,-181 258.5,-175 258.5,-175 258.5,-116 258.5,-116 258.5,-110 264.5,-104 270.5,-104 270.5,-104 512.5,-104 512.5,-104 518.5,-104 524.5,-110 524.5,-116 524.5,-116 524.5,-175 524.5,-175 524.5,-181 518.5,-187 512.5,-187\"/>\n<text text-anchor=\"middle\" x=\"391.5\" y=\"-171.8\" font-family=\"Helvetica,sans-Serif\" font-size=\"14.00\" fill=\"#000000\">CSN2 &lt;= 1.5</text>\n<text text-anchor=\"middle\" x=\"391.5\" y=\"-156.8\" font-family=\"Helvetica,sans-Serif\" font-size=\"14.00\" fill=\"#000000\">gini = 0.2</text>\n<text text-anchor=\"middle\" x=\"391.5\" y=\"-141.8\" font-family=\"Helvetica,sans-Serif\" font-size=\"14.00\" fill=\"#000000\">samples = 124</text>\n<text text-anchor=\"middle\" x=\"391.5\" y=\"-126.8\" font-family=\"Helvetica,sans-Serif\" font-size=\"14.00\" fill=\"#000000\">value = [0, 14, 0, 0, 0, 0, 0, 0, 0, 0, 110]</text>\n<text text-anchor=\"middle\" x=\"391.5\" y=\"-111.8\" font-family=\"Helvetica,sans-Serif\" font-size=\"14.00\" fill=\"#000000\">class = New Zealand</text>\n</g>\n<!-- 4&#45;&gt;5 -->\n<g id=\"edge5\" class=\"edge\">\n<title>4&#45;&gt;5</title>\n<path fill=\"none\" stroke=\"#000000\" d=\"M676.2399,-225.04C630.6781,-212.3126 580.1577,-198.2002 534.4733,-185.4385\"/>\n<polygon fill=\"#000000\" stroke=\"#000000\" points=\"535.3746,-182.0564 524.8016,-182.7368 533.4913,-188.7983 535.3746,-182.0564\"/>\n</g>\n<!-- 8 -->\n<g id=\"node9\" class=\"node\">\n<title>8</title>\n<path fill=\"#e7495e\" stroke=\"#000000\" d=\"M946.5,-187C946.5,-187 688.5,-187 688.5,-187 682.5,-187 676.5,-181 676.5,-175 676.5,-175 676.5,-116 676.5,-116 676.5,-110 682.5,-104 688.5,-104 688.5,-104 946.5,-104 946.5,-104 952.5,-104 958.5,-110 958.5,-116 958.5,-116 958.5,-175 958.5,-175 958.5,-181 952.5,-187 946.5,-187\"/>\n<text text-anchor=\"middle\" x=\"817.5\" y=\"-171.8\" font-family=\"Helvetica,sans-Serif\" font-size=\"14.00\" fill=\"#000000\">AGR2 &lt;= 1.5</text>\n<text text-anchor=\"middle\" x=\"817.5\" y=\"-156.8\" font-family=\"Helvetica,sans-Serif\" font-size=\"14.00\" fill=\"#000000\">gini = 0.135</text>\n<text text-anchor=\"middle\" x=\"817.5\" y=\"-141.8\" font-family=\"Helvetica,sans-Serif\" font-size=\"14.00\" fill=\"#000000\">samples = 4813</text>\n<text text-anchor=\"middle\" x=\"817.5\" y=\"-126.8\" font-family=\"Helvetica,sans-Serif\" font-size=\"14.00\" fill=\"#000000\">value = [0, 351, 0, 0, 0, 0, 0, 0, 0, 0, 4462]</text>\n<text text-anchor=\"middle\" x=\"817.5\" y=\"-111.8\" font-family=\"Helvetica,sans-Serif\" font-size=\"14.00\" fill=\"#000000\">class = New Zealand</text>\n</g>\n<!-- 4&#45;&gt;8 -->\n<g id=\"edge8\" class=\"edge\">\n<title>4&#45;&gt;8</title>\n<path fill=\"none\" stroke=\"#000000\" d=\"M817.5,-222.8796C817.5,-214.6838 817.5,-205.9891 817.5,-197.5013\"/>\n<polygon fill=\"#000000\" stroke=\"#000000\" points=\"821.0001,-197.298 817.5,-187.2981 814.0001,-197.2981 821.0001,-197.298\"/>\n</g>\n<!-- 6 -->\n<g id=\"node7\" class=\"node\">\n<title>6</title>\n<path fill=\"#e74b60\" stroke=\"#000000\" d=\"M237,-68C237,-68 12,-68 12,-68 6,-68 0,-62 0,-56 0,-56 0,-12 0,-12 0,-6 6,0 12,0 12,0 237,0 237,0 243,0 249,-6 249,-12 249,-12 249,-56 249,-56 249,-62 243,-68 237,-68\"/>\n<text text-anchor=\"middle\" x=\"124.5\" y=\"-52.8\" font-family=\"Helvetica,sans-Serif\" font-size=\"14.00\" fill=\"#000000\">gini = 0.153</text>\n<text text-anchor=\"middle\" x=\"124.5\" y=\"-37.8\" font-family=\"Helvetica,sans-Serif\" font-size=\"14.00\" fill=\"#000000\">samples = 108</text>\n<text text-anchor=\"middle\" x=\"124.5\" y=\"-22.8\" font-family=\"Helvetica,sans-Serif\" font-size=\"14.00\" fill=\"#000000\">value = [0, 9, 0, 0, 0, 0, 0, 0, 0, 0, 99]</text>\n<text text-anchor=\"middle\" x=\"124.5\" y=\"-7.8\" font-family=\"Helvetica,sans-Serif\" font-size=\"14.00\" fill=\"#000000\">class = New Zealand</text>\n</g>\n<!-- 5&#45;&gt;6 -->\n<g id=\"edge6\" class=\"edge\">\n<title>5&#45;&gt;6</title>\n<path fill=\"none\" stroke=\"#000000\" d=\"M292.0791,-103.9815C266.9683,-93.4952 240.1337,-82.289 215.4632,-71.9865\"/>\n<polygon fill=\"#000000\" stroke=\"#000000\" points=\"216.6985,-68.7095 206.1221,-68.0856 214.001,-75.1689 216.6985,-68.7095\"/>\n</g>\n<!-- 7 -->\n<g id=\"node8\" class=\"node\">\n<title>7</title>\n<path fill=\"#f193a0\" stroke=\"#000000\" d=\"M504,-68C504,-68 279,-68 279,-68 273,-68 267,-62 267,-56 267,-56 267,-12 267,-12 267,-6 273,0 279,0 279,0 504,0 504,0 510,0 516,-6 516,-12 516,-12 516,-56 516,-56 516,-62 510,-68 504,-68\"/>\n<text text-anchor=\"middle\" x=\"391.5\" y=\"-52.8\" font-family=\"Helvetica,sans-Serif\" font-size=\"14.00\" fill=\"#000000\">gini = 0.43</text>\n<text text-anchor=\"middle\" x=\"391.5\" y=\"-37.8\" font-family=\"Helvetica,sans-Serif\" font-size=\"14.00\" fill=\"#000000\">samples = 16</text>\n<text text-anchor=\"middle\" x=\"391.5\" y=\"-22.8\" font-family=\"Helvetica,sans-Serif\" font-size=\"14.00\" fill=\"#000000\">value = [0, 5, 0, 0, 0, 0, 0, 0, 0, 0, 11]</text>\n<text text-anchor=\"middle\" x=\"391.5\" y=\"-7.8\" font-family=\"Helvetica,sans-Serif\" font-size=\"14.00\" fill=\"#000000\">class = New Zealand</text>\n</g>\n<!-- 5&#45;&gt;7 -->\n<g id=\"edge7\" class=\"edge\">\n<title>5&#45;&gt;7</title>\n<path fill=\"none\" stroke=\"#000000\" d=\"M391.5,-103.9815C391.5,-95.618 391.5,-86.7965 391.5,-78.3409\"/>\n<polygon fill=\"#000000\" stroke=\"#000000\" points=\"395.0001,-78.2636 391.5,-68.2637 388.0001,-78.2637 395.0001,-78.2636\"/>\n</g>\n<!-- 9 -->\n<g id=\"node10\" class=\"node\">\n<title>9</title>\n<path fill=\"#e53b52\" stroke=\"#000000\" d=\"M779,-68C779,-68 546,-68 546,-68 540,-68 534,-62 534,-56 534,-56 534,-12 534,-12 534,-6 540,0 546,0 546,0 779,0 779,0 785,0 791,-6 791,-12 791,-12 791,-56 791,-56 791,-62 785,-68 779,-68\"/>\n<text text-anchor=\"middle\" x=\"662.5\" y=\"-52.8\" font-family=\"Helvetica,sans-Serif\" font-size=\"14.00\" fill=\"#000000\">gini = 0.019</text>\n<text text-anchor=\"middle\" x=\"662.5\" y=\"-37.8\" font-family=\"Helvetica,sans-Serif\" font-size=\"14.00\" fill=\"#000000\">samples = 102</text>\n<text text-anchor=\"middle\" x=\"662.5\" y=\"-22.8\" font-family=\"Helvetica,sans-Serif\" font-size=\"14.00\" fill=\"#000000\">value = [0, 1, 0, 0, 0, 0, 0, 0, 0, 0, 101]</text>\n<text text-anchor=\"middle\" x=\"662.5\" y=\"-7.8\" font-family=\"Helvetica,sans-Serif\" font-size=\"14.00\" fill=\"#000000\">class = New Zealand</text>\n</g>\n<!-- 8&#45;&gt;9 -->\n<g id=\"edge9\" class=\"edge\">\n<title>8&#45;&gt;9</title>\n<path fill=\"none\" stroke=\"#000000\" d=\"M759.7837,-103.9815C746.2409,-94.2394 731.8343,-83.8759 718.3737,-74.193\"/>\n<polygon fill=\"#000000\" stroke=\"#000000\" points=\"720.2928,-71.2621 710.1311,-68.2637 716.2051,-76.9446 720.2928,-71.2621\"/>\n</g>\n<!-- 10 -->\n<g id=\"node11\" class=\"node\">\n<title>10</title>\n<path fill=\"#e7495e\" stroke=\"#000000\" d=\"M1079.5,-68C1079.5,-68 821.5,-68 821.5,-68 815.5,-68 809.5,-62 809.5,-56 809.5,-56 809.5,-12 809.5,-12 809.5,-6 815.5,0 821.5,0 821.5,0 1079.5,0 1079.5,0 1085.5,0 1091.5,-6 1091.5,-12 1091.5,-12 1091.5,-56 1091.5,-56 1091.5,-62 1085.5,-68 1079.5,-68\"/>\n<text text-anchor=\"middle\" x=\"950.5\" y=\"-52.8\" font-family=\"Helvetica,sans-Serif\" font-size=\"14.00\" fill=\"#000000\">gini = 0.138</text>\n<text text-anchor=\"middle\" x=\"950.5\" y=\"-37.8\" font-family=\"Helvetica,sans-Serif\" font-size=\"14.00\" fill=\"#000000\">samples = 4711</text>\n<text text-anchor=\"middle\" x=\"950.5\" y=\"-22.8\" font-family=\"Helvetica,sans-Serif\" font-size=\"14.00\" fill=\"#000000\">value = [0, 350, 0, 0, 0, 0, 0, 0, 0, 0, 4361]</text>\n<text text-anchor=\"middle\" x=\"950.5\" y=\"-7.8\" font-family=\"Helvetica,sans-Serif\" font-size=\"14.00\" fill=\"#000000\">class = New Zealand</text>\n</g>\n<!-- 8&#45;&gt;10 -->\n<g id=\"edge10\" class=\"edge\">\n<title>8&#45;&gt;10</title>\n<path fill=\"none\" stroke=\"#000000\" d=\"M867.0243,-103.9815C878.4257,-94.4232 890.5405,-84.2668 901.9021,-74.7419\"/>\n<polygon fill=\"#000000\" stroke=\"#000000\" points=\"904.2147,-77.3704 909.6294,-68.2637 899.7175,-72.006 904.2147,-77.3704\"/>\n</g>\n<!-- 12 -->\n<g id=\"node13\" class=\"node\">\n<title>12</title>\n<path fill=\"#e74b60\" stroke=\"#000000\" d=\"M1675.5,-187C1675.5,-187 1417.5,-187 1417.5,-187 1411.5,-187 1405.5,-181 1405.5,-175 1405.5,-175 1405.5,-116 1405.5,-116 1405.5,-110 1411.5,-104 1417.5,-104 1417.5,-104 1675.5,-104 1675.5,-104 1681.5,-104 1687.5,-110 1687.5,-116 1687.5,-116 1687.5,-175 1687.5,-175 1687.5,-181 1681.5,-187 1675.5,-187\"/>\n<text text-anchor=\"middle\" x=\"1546.5\" y=\"-171.8\" font-family=\"Helvetica,sans-Serif\" font-size=\"14.00\" fill=\"#000000\">CSN1 &lt;= 3.5</text>\n<text text-anchor=\"middle\" x=\"1546.5\" y=\"-156.8\" font-family=\"Helvetica,sans-Serif\" font-size=\"14.00\" fill=\"#000000\">gini = 0.154</text>\n<text text-anchor=\"middle\" x=\"1546.5\" y=\"-141.8\" font-family=\"Helvetica,sans-Serif\" font-size=\"14.00\" fill=\"#000000\">samples = 5277</text>\n<text text-anchor=\"middle\" x=\"1546.5\" y=\"-126.8\" font-family=\"Helvetica,sans-Serif\" font-size=\"14.00\" fill=\"#000000\">value = [0, 445, 0, 0, 0, 0, 0, 0, 0, 0, 4832]</text>\n<text text-anchor=\"middle\" x=\"1546.5\" y=\"-111.8\" font-family=\"Helvetica,sans-Serif\" font-size=\"14.00\" fill=\"#000000\">class = New Zealand</text>\n</g>\n<!-- 11&#45;&gt;12 -->\n<g id=\"edge12\" class=\"edge\">\n<title>11&#45;&gt;12</title>\n<path fill=\"none\" stroke=\"#000000\" d=\"M1644.0373,-222.8796C1632.0479,-213.368 1619.2113,-203.1843 1606.9184,-193.432\"/>\n<polygon fill=\"#000000\" stroke=\"#000000\" points=\"1608.9425,-190.5701 1598.9331,-187.0969 1604.5919,-196.054 1608.9425,-190.5701\"/>\n</g>\n<!-- 15 -->\n<g id=\"node16\" class=\"node\">\n<title>15</title>\n<path fill=\"#e84f64\" stroke=\"#000000\" d=\"M1975.5,-187C1975.5,-187 1717.5,-187 1717.5,-187 1711.5,-187 1705.5,-181 1705.5,-175 1705.5,-175 1705.5,-116 1705.5,-116 1705.5,-110 1711.5,-104 1717.5,-104 1717.5,-104 1975.5,-104 1975.5,-104 1981.5,-104 1987.5,-110 1987.5,-116 1987.5,-116 1987.5,-175 1987.5,-175 1987.5,-181 1981.5,-187 1975.5,-187\"/>\n<text text-anchor=\"middle\" x=\"1846.5\" y=\"-171.8\" font-family=\"Helvetica,sans-Serif\" font-size=\"14.00\" fill=\"#000000\">CSN2 &lt;= 1.5</text>\n<text text-anchor=\"middle\" x=\"1846.5\" y=\"-156.8\" font-family=\"Helvetica,sans-Serif\" font-size=\"14.00\" fill=\"#000000\">gini = 0.18</text>\n<text text-anchor=\"middle\" x=\"1846.5\" y=\"-141.8\" font-family=\"Helvetica,sans-Serif\" font-size=\"14.00\" fill=\"#000000\">samples = 1306</text>\n<text text-anchor=\"middle\" x=\"1846.5\" y=\"-126.8\" font-family=\"Helvetica,sans-Serif\" font-size=\"14.00\" fill=\"#000000\">value = [0, 131, 0, 0, 0, 0, 0, 0, 0, 0, 1175]</text>\n<text text-anchor=\"middle\" x=\"1846.5\" y=\"-111.8\" font-family=\"Helvetica,sans-Serif\" font-size=\"14.00\" fill=\"#000000\">class = New Zealand</text>\n</g>\n<!-- 11&#45;&gt;15 -->\n<g id=\"edge15\" class=\"edge\">\n<title>11&#45;&gt;15</title>\n<path fill=\"none\" stroke=\"#000000\" d=\"M1748.9627,-222.8796C1760.9521,-213.368 1773.7887,-203.1843 1786.0816,-193.432\"/>\n<polygon fill=\"#000000\" stroke=\"#000000\" points=\"1788.4081,-196.054 1794.0669,-187.0969 1784.0575,-190.5701 1788.4081,-196.054\"/>\n</g>\n<!-- 13 -->\n<g id=\"node14\" class=\"node\">\n<title>13</title>\n<path fill=\"#e7495e\" stroke=\"#000000\" d=\"M1379.5,-68C1379.5,-68 1121.5,-68 1121.5,-68 1115.5,-68 1109.5,-62 1109.5,-56 1109.5,-56 1109.5,-12 1109.5,-12 1109.5,-6 1115.5,0 1121.5,0 1121.5,0 1379.5,0 1379.5,0 1385.5,0 1391.5,-6 1391.5,-12 1391.5,-12 1391.5,-56 1391.5,-56 1391.5,-62 1385.5,-68 1379.5,-68\"/>\n<text text-anchor=\"middle\" x=\"1250.5\" y=\"-52.8\" font-family=\"Helvetica,sans-Serif\" font-size=\"14.00\" fill=\"#000000\">gini = 0.14</text>\n<text text-anchor=\"middle\" x=\"1250.5\" y=\"-37.8\" font-family=\"Helvetica,sans-Serif\" font-size=\"14.00\" fill=\"#000000\">samples = 1733</text>\n<text text-anchor=\"middle\" x=\"1250.5\" y=\"-22.8\" font-family=\"Helvetica,sans-Serif\" font-size=\"14.00\" fill=\"#000000\">value = [0, 131, 0, 0, 0, 0, 0, 0, 0, 0, 1602]</text>\n<text text-anchor=\"middle\" x=\"1250.5\" y=\"-7.8\" font-family=\"Helvetica,sans-Serif\" font-size=\"14.00\" fill=\"#000000\">class = New Zealand</text>\n</g>\n<!-- 12&#45;&gt;13 -->\n<g id=\"edge13\" class=\"edge\">\n<title>12&#45;&gt;13</title>\n<path fill=\"none\" stroke=\"#000000\" d=\"M1436.2805,-103.9815C1408.1972,-93.4028 1378.1688,-82.0914 1350.6208,-71.7144\"/>\n<polygon fill=\"#000000\" stroke=\"#000000\" points=\"1351.5793,-68.3354 1340.9874,-68.0856 1349.1117,-74.8861 1351.5793,-68.3354\"/>\n</g>\n<!-- 14 -->\n<g id=\"node15\" class=\"node\">\n<title>14</title>\n<path fill=\"#e84c61\" stroke=\"#000000\" d=\"M1679.5,-68C1679.5,-68 1421.5,-68 1421.5,-68 1415.5,-68 1409.5,-62 1409.5,-56 1409.5,-56 1409.5,-12 1409.5,-12 1409.5,-6 1415.5,0 1421.5,0 1421.5,0 1679.5,0 1679.5,0 1685.5,0 1691.5,-6 1691.5,-12 1691.5,-12 1691.5,-56 1691.5,-56 1691.5,-62 1685.5,-68 1679.5,-68\"/>\n<text text-anchor=\"middle\" x=\"1550.5\" y=\"-52.8\" font-family=\"Helvetica,sans-Serif\" font-size=\"14.00\" fill=\"#000000\">gini = 0.162</text>\n<text text-anchor=\"middle\" x=\"1550.5\" y=\"-37.8\" font-family=\"Helvetica,sans-Serif\" font-size=\"14.00\" fill=\"#000000\">samples = 3544</text>\n<text text-anchor=\"middle\" x=\"1550.5\" y=\"-22.8\" font-family=\"Helvetica,sans-Serif\" font-size=\"14.00\" fill=\"#000000\">value = [0, 314, 0, 0, 0, 0, 0, 0, 0, 0, 3230]</text>\n<text text-anchor=\"middle\" x=\"1550.5\" y=\"-7.8\" font-family=\"Helvetica,sans-Serif\" font-size=\"14.00\" fill=\"#000000\">class = New Zealand</text>\n</g>\n<!-- 12&#45;&gt;14 -->\n<g id=\"edge14\" class=\"edge\">\n<title>12&#45;&gt;14</title>\n<path fill=\"none\" stroke=\"#000000\" d=\"M1547.9895,-103.9815C1548.2895,-95.618 1548.606,-86.7965 1548.9093,-78.3409\"/>\n<polygon fill=\"#000000\" stroke=\"#000000\" points=\"1552.41,-78.3828 1549.2708,-68.2637 1545.4145,-78.1317 1552.41,-78.3828\"/>\n</g>\n<!-- 16 -->\n<g id=\"node17\" class=\"node\">\n<title>16</title>\n<path fill=\"#e7485e\" stroke=\"#000000\" d=\"M1963.5,-68C1963.5,-68 1721.5,-68 1721.5,-68 1715.5,-68 1709.5,-62 1709.5,-56 1709.5,-56 1709.5,-12 1709.5,-12 1709.5,-6 1715.5,0 1721.5,0 1721.5,0 1963.5,0 1963.5,0 1969.5,0 1975.5,-6 1975.5,-12 1975.5,-12 1975.5,-56 1975.5,-56 1975.5,-62 1969.5,-68 1963.5,-68\"/>\n<text text-anchor=\"middle\" x=\"1842.5\" y=\"-52.8\" font-family=\"Helvetica,sans-Serif\" font-size=\"14.00\" fill=\"#000000\">gini = 0.133</text>\n<text text-anchor=\"middle\" x=\"1842.5\" y=\"-37.8\" font-family=\"Helvetica,sans-Serif\" font-size=\"14.00\" fill=\"#000000\">samples = 445</text>\n<text text-anchor=\"middle\" x=\"1842.5\" y=\"-22.8\" font-family=\"Helvetica,sans-Serif\" font-size=\"14.00\" fill=\"#000000\">value = [0, 32, 0, 0, 0, 0, 0, 0, 0, 0, 413]</text>\n<text text-anchor=\"middle\" x=\"1842.5\" y=\"-7.8\" font-family=\"Helvetica,sans-Serif\" font-size=\"14.00\" fill=\"#000000\">class = New Zealand</text>\n</g>\n<!-- 15&#45;&gt;16 -->\n<g id=\"edge16\" class=\"edge\">\n<title>15&#45;&gt;16</title>\n<path fill=\"none\" stroke=\"#000000\" d=\"M1845.0105,-103.9815C1844.7105,-95.618 1844.394,-86.7965 1844.0907,-78.3409\"/>\n<polygon fill=\"#000000\" stroke=\"#000000\" points=\"1847.5855,-78.1317 1843.7292,-68.2637 1840.59,-78.3828 1847.5855,-78.1317\"/>\n</g>\n<!-- 17 -->\n<g id=\"node18\" class=\"node\">\n<title>17</title>\n<path fill=\"#e85367\" stroke=\"#000000\" d=\"M2247.5,-68C2247.5,-68 2005.5,-68 2005.5,-68 1999.5,-68 1993.5,-62 1993.5,-56 1993.5,-56 1993.5,-12 1993.5,-12 1993.5,-6 1999.5,0 2005.5,0 2005.5,0 2247.5,0 2247.5,0 2253.5,0 2259.5,-6 2259.5,-12 2259.5,-12 2259.5,-56 2259.5,-56 2259.5,-62 2253.5,-68 2247.5,-68\"/>\n<text text-anchor=\"middle\" x=\"2126.5\" y=\"-52.8\" font-family=\"Helvetica,sans-Serif\" font-size=\"14.00\" fill=\"#000000\">gini = 0.204</text>\n<text text-anchor=\"middle\" x=\"2126.5\" y=\"-37.8\" font-family=\"Helvetica,sans-Serif\" font-size=\"14.00\" fill=\"#000000\">samples = 861</text>\n<text text-anchor=\"middle\" x=\"2126.5\" y=\"-22.8\" font-family=\"Helvetica,sans-Serif\" font-size=\"14.00\" fill=\"#000000\">value = [0, 99, 0, 0, 0, 0, 0, 0, 0, 0, 762]</text>\n<text text-anchor=\"middle\" x=\"2126.5\" y=\"-7.8\" font-family=\"Helvetica,sans-Serif\" font-size=\"14.00\" fill=\"#000000\">class = New Zealand</text>\n</g>\n<!-- 15&#45;&gt;17 -->\n<g id=\"edge17\" class=\"edge\">\n<title>15&#45;&gt;17</title>\n<path fill=\"none\" stroke=\"#000000\" d=\"M1950.7617,-103.9815C1977.211,-93.449 2005.4842,-82.1902 2031.4497,-71.8504\"/>\n<polygon fill=\"#000000\" stroke=\"#000000\" points=\"2032.9082,-75.037 2040.9038,-68.0856 2030.3184,-68.5336 2032.9082,-75.037\"/>\n</g>\n<!-- 19 -->\n<g id=\"node20\" class=\"node\">\n<title>19</title>\n<path fill=\"#e74c60\" stroke=\"#000000\" d=\"M3237.5,-306C3237.5,-306 2979.5,-306 2979.5,-306 2973.5,-306 2967.5,-300 2967.5,-294 2967.5,-294 2967.5,-235 2967.5,-235 2967.5,-229 2973.5,-223 2979.5,-223 2979.5,-223 3237.5,-223 3237.5,-223 3243.5,-223 3249.5,-229 3249.5,-235 3249.5,-235 3249.5,-294 3249.5,-294 3249.5,-300 3243.5,-306 3237.5,-306\"/>\n<text text-anchor=\"middle\" x=\"3108.5\" y=\"-290.8\" font-family=\"Helvetica,sans-Serif\" font-size=\"14.00\" fill=\"#000000\">EST2 &lt;= 1.5</text>\n<text text-anchor=\"middle\" x=\"3108.5\" y=\"-275.8\" font-family=\"Helvetica,sans-Serif\" font-size=\"14.00\" fill=\"#000000\">gini = 0.157</text>\n<text text-anchor=\"middle\" x=\"3108.5\" y=\"-260.8\" font-family=\"Helvetica,sans-Serif\" font-size=\"14.00\" fill=\"#000000\">samples = 2833</text>\n<text text-anchor=\"middle\" x=\"3108.5\" y=\"-245.8\" font-family=\"Helvetica,sans-Serif\" font-size=\"14.00\" fill=\"#000000\">value = [0, 244, 0, 0, 0, 0, 0, 0, 0, 0, 2589]</text>\n<text text-anchor=\"middle\" x=\"3108.5\" y=\"-230.8\" font-family=\"Helvetica,sans-Serif\" font-size=\"14.00\" fill=\"#000000\">class = New Zealand</text>\n</g>\n<!-- 18&#45;&gt;19 -->\n<g id=\"edge19\" class=\"edge\">\n<title>18&#45;&gt;19</title>\n<path fill=\"none\" stroke=\"#000000\" d=\"M3300.9736,-341.8796C3275.2865,-331.5527 3247.629,-320.4336 3221.5133,-309.9344\"/>\n<polygon fill=\"#000000\" stroke=\"#000000\" points=\"3222.5518,-306.5797 3211.968,-306.0969 3219.9407,-313.0745 3222.5518,-306.5797\"/>\n</g>\n<!-- 26 -->\n<g id=\"node27\" class=\"node\">\n<title>26</title>\n<path fill=\"#e85165\" stroke=\"#000000\" d=\"M3829.5,-306C3829.5,-306 3571.5,-306 3571.5,-306 3565.5,-306 3559.5,-300 3559.5,-294 3559.5,-294 3559.5,-235 3559.5,-235 3559.5,-229 3565.5,-223 3571.5,-223 3571.5,-223 3829.5,-223 3829.5,-223 3835.5,-223 3841.5,-229 3841.5,-235 3841.5,-235 3841.5,-294 3841.5,-294 3841.5,-300 3835.5,-306 3829.5,-306\"/>\n<text text-anchor=\"middle\" x=\"3700.5\" y=\"-290.8\" font-family=\"Helvetica,sans-Serif\" font-size=\"14.00\" fill=\"#000000\">OPN2 &lt;= 1.5</text>\n<text text-anchor=\"middle\" x=\"3700.5\" y=\"-275.8\" font-family=\"Helvetica,sans-Serif\" font-size=\"14.00\" fill=\"#000000\">gini = 0.19</text>\n<text text-anchor=\"middle\" x=\"3700.5\" y=\"-260.8\" font-family=\"Helvetica,sans-Serif\" font-size=\"14.00\" fill=\"#000000\">samples = 5283</text>\n<text text-anchor=\"middle\" x=\"3700.5\" y=\"-245.8\" font-family=\"Helvetica,sans-Serif\" font-size=\"14.00\" fill=\"#000000\">value = [0, 561, 0, 0, 0, 0, 0, 0, 0, 0, 4722]</text>\n<text text-anchor=\"middle\" x=\"3700.5\" y=\"-230.8\" font-family=\"Helvetica,sans-Serif\" font-size=\"14.00\" fill=\"#000000\">class = New Zealand</text>\n</g>\n<!-- 18&#45;&gt;26 -->\n<g id=\"edge26\" class=\"edge\">\n<title>18&#45;&gt;26</title>\n<path fill=\"none\" stroke=\"#000000\" d=\"M3508.0264,-341.8796C3533.7135,-331.5527 3561.371,-320.4336 3587.4867,-309.9344\"/>\n<polygon fill=\"#000000\" stroke=\"#000000\" points=\"3589.0593,-313.0745 3597.032,-306.0969 3586.4482,-306.5797 3589.0593,-313.0745\"/>\n</g>\n<!-- 20 -->\n<g id=\"node21\" class=\"node\">\n<title>20</title>\n<path fill=\"#e85367\" stroke=\"#000000\" d=\"M2791.5,-187C2791.5,-187 2549.5,-187 2549.5,-187 2543.5,-187 2537.5,-181 2537.5,-175 2537.5,-175 2537.5,-116 2537.5,-116 2537.5,-110 2543.5,-104 2549.5,-104 2549.5,-104 2791.5,-104 2791.5,-104 2797.5,-104 2803.5,-110 2803.5,-116 2803.5,-116 2803.5,-175 2803.5,-175 2803.5,-181 2797.5,-187 2791.5,-187\"/>\n<text text-anchor=\"middle\" x=\"2670.5\" y=\"-171.8\" font-family=\"Helvetica,sans-Serif\" font-size=\"14.00\" fill=\"#000000\">EXT1 &lt;= 0.5</text>\n<text text-anchor=\"middle\" x=\"2670.5\" y=\"-156.8\" font-family=\"Helvetica,sans-Serif\" font-size=\"14.00\" fill=\"#000000\">gini = 0.205</text>\n<text text-anchor=\"middle\" x=\"2670.5\" y=\"-141.8\" font-family=\"Helvetica,sans-Serif\" font-size=\"14.00\" fill=\"#000000\">samples = 268</text>\n<text text-anchor=\"middle\" x=\"2670.5\" y=\"-126.8\" font-family=\"Helvetica,sans-Serif\" font-size=\"14.00\" fill=\"#000000\">value = [0, 31, 0, 0, 0, 0, 0, 0, 0, 0, 237]</text>\n<text text-anchor=\"middle\" x=\"2670.5\" y=\"-111.8\" font-family=\"Helvetica,sans-Serif\" font-size=\"14.00\" fill=\"#000000\">class = New Zealand</text>\n</g>\n<!-- 19&#45;&gt;20 -->\n<g id=\"edge20\" class=\"edge\">\n<title>19&#45;&gt;20</title>\n<path fill=\"none\" stroke=\"#000000\" d=\"M2967.201,-226.1106C2917.9804,-212.7378 2862.7433,-197.7305 2813.3943,-184.3229\"/>\n<polygon fill=\"#000000\" stroke=\"#000000\" points=\"2814.1743,-180.908 2803.6065,-181.6636 2812.339,-187.6631 2814.1743,-180.908\"/>\n</g>\n<!-- 23 -->\n<g id=\"node24\" class=\"node\">\n<title>23</title>\n<path fill=\"#e74b60\" stroke=\"#000000\" d=\"M3237.5,-187C3237.5,-187 2979.5,-187 2979.5,-187 2973.5,-187 2967.5,-181 2967.5,-175 2967.5,-175 2967.5,-116 2967.5,-116 2967.5,-110 2973.5,-104 2979.5,-104 2979.5,-104 3237.5,-104 3237.5,-104 3243.5,-104 3249.5,-110 3249.5,-116 3249.5,-116 3249.5,-175 3249.5,-175 3249.5,-181 3243.5,-187 3237.5,-187\"/>\n<text text-anchor=\"middle\" x=\"3108.5\" y=\"-171.8\" font-family=\"Helvetica,sans-Serif\" font-size=\"14.00\" fill=\"#000000\">EST1 &lt;= 3.5</text>\n<text text-anchor=\"middle\" x=\"3108.5\" y=\"-156.8\" font-family=\"Helvetica,sans-Serif\" font-size=\"14.00\" fill=\"#000000\">gini = 0.152</text>\n<text text-anchor=\"middle\" x=\"3108.5\" y=\"-141.8\" font-family=\"Helvetica,sans-Serif\" font-size=\"14.00\" fill=\"#000000\">samples = 2565</text>\n<text text-anchor=\"middle\" x=\"3108.5\" y=\"-126.8\" font-family=\"Helvetica,sans-Serif\" font-size=\"14.00\" fill=\"#000000\">value = [0, 213, 0, 0, 0, 0, 0, 0, 0, 0, 2352]</text>\n<text text-anchor=\"middle\" x=\"3108.5\" y=\"-111.8\" font-family=\"Helvetica,sans-Serif\" font-size=\"14.00\" fill=\"#000000\">class = New Zealand</text>\n</g>\n<!-- 19&#45;&gt;23 -->\n<g id=\"edge23\" class=\"edge\">\n<title>19&#45;&gt;23</title>\n<path fill=\"none\" stroke=\"#000000\" d=\"M3108.5,-222.8796C3108.5,-214.6838 3108.5,-205.9891 3108.5,-197.5013\"/>\n<polygon fill=\"#000000\" stroke=\"#000000\" points=\"3112.0001,-197.298 3108.5,-187.2981 3105.0001,-197.2981 3112.0001,-197.298\"/>\n</g>\n<!-- 21 -->\n<g id=\"node22\" class=\"node\">\n<title>21</title>\n<path fill=\"#e5dc39\" stroke=\"#000000\" d=\"M2507,-68C2507,-68 2290,-68 2290,-68 2284,-68 2278,-62 2278,-56 2278,-56 2278,-12 2278,-12 2278,-6 2284,0 2290,0 2290,0 2507,0 2507,0 2513,0 2519,-6 2519,-12 2519,-12 2519,-56 2519,-56 2519,-62 2513,-68 2507,-68\"/>\n<text text-anchor=\"middle\" x=\"2398.5\" y=\"-52.8\" font-family=\"Helvetica,sans-Serif\" font-size=\"14.00\" fill=\"#000000\">gini = 0.0</text>\n<text text-anchor=\"middle\" x=\"2398.5\" y=\"-37.8\" font-family=\"Helvetica,sans-Serif\" font-size=\"14.00\" fill=\"#000000\">samples = 1</text>\n<text text-anchor=\"middle\" x=\"2398.5\" y=\"-22.8\" font-family=\"Helvetica,sans-Serif\" font-size=\"14.00\" fill=\"#000000\">value = [0, 1, 0, 0, 0, 0, 0, 0, 0, 0, 0]</text>\n<text text-anchor=\"middle\" x=\"2398.5\" y=\"-7.8\" font-family=\"Helvetica,sans-Serif\" font-size=\"14.00\" fill=\"#000000\">class = Malaysia</text>\n</g>\n<!-- 20&#45;&gt;21 -->\n<g id=\"edge21\" class=\"edge\">\n<title>20&#45;&gt;21</title>\n<path fill=\"none\" stroke=\"#000000\" d=\"M2569.2172,-103.9815C2543.6363,-93.4952 2516.2991,-82.289 2491.1666,-71.9865\"/>\n<polygon fill=\"#000000\" stroke=\"#000000\" points=\"2492.2309,-68.6402 2481.6506,-68.0856 2489.5758,-75.1171 2492.2309,-68.6402\"/>\n</g>\n<!-- 22 -->\n<g id=\"node23\" class=\"node\">\n<title>22</title>\n<path fill=\"#e85266\" stroke=\"#000000\" d=\"M2791.5,-68C2791.5,-68 2549.5,-68 2549.5,-68 2543.5,-68 2537.5,-62 2537.5,-56 2537.5,-56 2537.5,-12 2537.5,-12 2537.5,-6 2543.5,0 2549.5,0 2549.5,0 2791.5,0 2791.5,0 2797.5,0 2803.5,-6 2803.5,-12 2803.5,-12 2803.5,-56 2803.5,-56 2803.5,-62 2797.5,-68 2791.5,-68\"/>\n<text text-anchor=\"middle\" x=\"2670.5\" y=\"-52.8\" font-family=\"Helvetica,sans-Serif\" font-size=\"14.00\" fill=\"#000000\">gini = 0.199</text>\n<text text-anchor=\"middle\" x=\"2670.5\" y=\"-37.8\" font-family=\"Helvetica,sans-Serif\" font-size=\"14.00\" fill=\"#000000\">samples = 267</text>\n<text text-anchor=\"middle\" x=\"2670.5\" y=\"-22.8\" font-family=\"Helvetica,sans-Serif\" font-size=\"14.00\" fill=\"#000000\">value = [0, 30, 0, 0, 0, 0, 0, 0, 0, 0, 237]</text>\n<text text-anchor=\"middle\" x=\"2670.5\" y=\"-7.8\" font-family=\"Helvetica,sans-Serif\" font-size=\"14.00\" fill=\"#000000\">class = New Zealand</text>\n</g>\n<!-- 20&#45;&gt;22 -->\n<g id=\"edge22\" class=\"edge\">\n<title>20&#45;&gt;22</title>\n<path fill=\"none\" stroke=\"#000000\" d=\"M2670.5,-103.9815C2670.5,-95.618 2670.5,-86.7965 2670.5,-78.3409\"/>\n<polygon fill=\"#000000\" stroke=\"#000000\" points=\"2674.0001,-78.2636 2670.5,-68.2637 2667.0001,-78.2637 2674.0001,-78.2636\"/>\n</g>\n<!-- 24 -->\n<g id=\"node25\" class=\"node\">\n<title>24</title>\n<path fill=\"#e84d62\" stroke=\"#000000\" d=\"M3091.5,-68C3091.5,-68 2833.5,-68 2833.5,-68 2827.5,-68 2821.5,-62 2821.5,-56 2821.5,-56 2821.5,-12 2821.5,-12 2821.5,-6 2827.5,0 2833.5,0 2833.5,0 3091.5,0 3091.5,0 3097.5,0 3103.5,-6 3103.5,-12 3103.5,-12 3103.5,-56 3103.5,-56 3103.5,-62 3097.5,-68 3091.5,-68\"/>\n<text text-anchor=\"middle\" x=\"2962.5\" y=\"-52.8\" font-family=\"Helvetica,sans-Serif\" font-size=\"14.00\" fill=\"#000000\">gini = 0.168</text>\n<text text-anchor=\"middle\" x=\"2962.5\" y=\"-37.8\" font-family=\"Helvetica,sans-Serif\" font-size=\"14.00\" fill=\"#000000\">samples = 1146</text>\n<text text-anchor=\"middle\" x=\"2962.5\" y=\"-22.8\" font-family=\"Helvetica,sans-Serif\" font-size=\"14.00\" fill=\"#000000\">value = [0, 106, 0, 0, 0, 0, 0, 0, 0, 0, 1040]</text>\n<text text-anchor=\"middle\" x=\"2962.5\" y=\"-7.8\" font-family=\"Helvetica,sans-Serif\" font-size=\"14.00\" fill=\"#000000\">class = New Zealand</text>\n</g>\n<!-- 23&#45;&gt;24 -->\n<g id=\"edge24\" class=\"edge\">\n<title>23&#45;&gt;24</title>\n<path fill=\"none\" stroke=\"#000000\" d=\"M3054.135,-103.9815C3041.4989,-94.3313 3028.0644,-84.0714 3015.4885,-74.4673\"/>\n<polygon fill=\"#000000\" stroke=\"#000000\" points=\"3017.4372,-71.5515 3007.3654,-68.2637 3013.1886,-77.1148 3017.4372,-71.5515\"/>\n</g>\n<!-- 25 -->\n<g id=\"node26\" class=\"node\">\n<title>25</title>\n<path fill=\"#e7495e\" stroke=\"#000000\" d=\"M3391.5,-68C3391.5,-68 3133.5,-68 3133.5,-68 3127.5,-68 3121.5,-62 3121.5,-56 3121.5,-56 3121.5,-12 3121.5,-12 3121.5,-6 3127.5,0 3133.5,0 3133.5,0 3391.5,0 3391.5,0 3397.5,0 3403.5,-6 3403.5,-12 3403.5,-12 3403.5,-56 3403.5,-56 3403.5,-62 3397.5,-68 3391.5,-68\"/>\n<text text-anchor=\"middle\" x=\"3262.5\" y=\"-52.8\" font-family=\"Helvetica,sans-Serif\" font-size=\"14.00\" fill=\"#000000\">gini = 0.139</text>\n<text text-anchor=\"middle\" x=\"3262.5\" y=\"-37.8\" font-family=\"Helvetica,sans-Serif\" font-size=\"14.00\" fill=\"#000000\">samples = 1419</text>\n<text text-anchor=\"middle\" x=\"3262.5\" y=\"-22.8\" font-family=\"Helvetica,sans-Serif\" font-size=\"14.00\" fill=\"#000000\">value = [0, 107, 0, 0, 0, 0, 0, 0, 0, 0, 1312]</text>\n<text text-anchor=\"middle\" x=\"3262.5\" y=\"-7.8\" font-family=\"Helvetica,sans-Serif\" font-size=\"14.00\" fill=\"#000000\">class = New Zealand</text>\n</g>\n<!-- 23&#45;&gt;25 -->\n<g id=\"edge25\" class=\"edge\">\n<title>23&#45;&gt;25</title>\n<path fill=\"none\" stroke=\"#000000\" d=\"M3165.8439,-103.9815C3179.2994,-94.2394 3193.6131,-83.8759 3206.9867,-74.193\"/>\n<polygon fill=\"#000000\" stroke=\"#000000\" points=\"3209.1289,-76.9632 3215.1762,-68.2637 3205.0237,-71.2933 3209.1289,-76.9632\"/>\n</g>\n<!-- 27 -->\n<g id=\"node28\" class=\"node\">\n<title>27</title>\n<path fill=\"#e84d61\" stroke=\"#000000\" d=\"M3829.5,-187C3829.5,-187 3571.5,-187 3571.5,-187 3565.5,-187 3559.5,-181 3559.5,-175 3559.5,-175 3559.5,-116 3559.5,-116 3559.5,-110 3565.5,-104 3571.5,-104 3571.5,-104 3829.5,-104 3829.5,-104 3835.5,-104 3841.5,-110 3841.5,-116 3841.5,-116 3841.5,-175 3841.5,-175 3841.5,-181 3835.5,-187 3829.5,-187\"/>\n<text text-anchor=\"middle\" x=\"3700.5\" y=\"-171.8\" font-family=\"Helvetica,sans-Serif\" font-size=\"14.00\" fill=\"#000000\">CSN1 &lt;= 1.5</text>\n<text text-anchor=\"middle\" x=\"3700.5\" y=\"-156.8\" font-family=\"Helvetica,sans-Serif\" font-size=\"14.00\" fill=\"#000000\">gini = 0.164</text>\n<text text-anchor=\"middle\" x=\"3700.5\" y=\"-141.8\" font-family=\"Helvetica,sans-Serif\" font-size=\"14.00\" fill=\"#000000\">samples = 2527</text>\n<text text-anchor=\"middle\" x=\"3700.5\" y=\"-126.8\" font-family=\"Helvetica,sans-Serif\" font-size=\"14.00\" fill=\"#000000\">value = [0, 227, 0, 0, 0, 0, 0, 0, 0, 0, 2300]</text>\n<text text-anchor=\"middle\" x=\"3700.5\" y=\"-111.8\" font-family=\"Helvetica,sans-Serif\" font-size=\"14.00\" fill=\"#000000\">class = New Zealand</text>\n</g>\n<!-- 26&#45;&gt;27 -->\n<g id=\"edge27\" class=\"edge\">\n<title>26&#45;&gt;27</title>\n<path fill=\"none\" stroke=\"#000000\" d=\"M3700.5,-222.8796C3700.5,-214.6838 3700.5,-205.9891 3700.5,-197.5013\"/>\n<polygon fill=\"#000000\" stroke=\"#000000\" points=\"3704.0001,-197.298 3700.5,-187.2981 3697.0001,-197.2981 3704.0001,-197.298\"/>\n</g>\n<!-- 30 -->\n<g id=\"node31\" class=\"node\">\n<title>30</title>\n<path fill=\"#e95468\" stroke=\"#000000\" d=\"M4275.5,-187C4275.5,-187 4017.5,-187 4017.5,-187 4011.5,-187 4005.5,-181 4005.5,-175 4005.5,-175 4005.5,-116 4005.5,-116 4005.5,-110 4011.5,-104 4017.5,-104 4017.5,-104 4275.5,-104 4275.5,-104 4281.5,-104 4287.5,-110 4287.5,-116 4287.5,-116 4287.5,-175 4287.5,-175 4287.5,-181 4281.5,-187 4275.5,-187\"/>\n<text text-anchor=\"middle\" x=\"4146.5\" y=\"-171.8\" font-family=\"Helvetica,sans-Serif\" font-size=\"14.00\" fill=\"#000000\">EST1 &lt;= 4.5</text>\n<text text-anchor=\"middle\" x=\"4146.5\" y=\"-156.8\" font-family=\"Helvetica,sans-Serif\" font-size=\"14.00\" fill=\"#000000\">gini = 0.213</text>\n<text text-anchor=\"middle\" x=\"4146.5\" y=\"-141.8\" font-family=\"Helvetica,sans-Serif\" font-size=\"14.00\" fill=\"#000000\">samples = 2756</text>\n<text text-anchor=\"middle\" x=\"4146.5\" y=\"-126.8\" font-family=\"Helvetica,sans-Serif\" font-size=\"14.00\" fill=\"#000000\">value = [0, 334, 0, 0, 0, 0, 0, 0, 0, 0, 2422]</text>\n<text text-anchor=\"middle\" x=\"4146.5\" y=\"-111.8\" font-family=\"Helvetica,sans-Serif\" font-size=\"14.00\" fill=\"#000000\">class = New Zealand</text>\n</g>\n<!-- 26&#45;&gt;30 -->\n<g id=\"edge30\" class=\"edge\">\n<title>26&#45;&gt;30</title>\n<path fill=\"none\" stroke=\"#000000\" d=\"M3841.6172,-226.8477C3890.5444,-213.7931 3945.5786,-199.1091 3995.286,-185.8463\"/>\n<polygon fill=\"#000000\" stroke=\"#000000\" points=\"3996.3934,-189.1734 4005.1531,-183.2136 3994.5888,-182.41 3996.3934,-189.1734\"/>\n</g>\n<!-- 28 -->\n<g id=\"node29\" class=\"node\">\n<title>28</title>\n<path fill=\"#e6445a\" stroke=\"#000000\" d=\"M3675.5,-68C3675.5,-68 3433.5,-68 3433.5,-68 3427.5,-68 3421.5,-62 3421.5,-56 3421.5,-56 3421.5,-12 3421.5,-12 3421.5,-6 3427.5,0 3433.5,0 3433.5,0 3675.5,0 3675.5,0 3681.5,0 3687.5,-6 3687.5,-12 3687.5,-12 3687.5,-56 3687.5,-56 3687.5,-62 3681.5,-68 3675.5,-68\"/>\n<text text-anchor=\"middle\" x=\"3554.5\" y=\"-52.8\" font-family=\"Helvetica,sans-Serif\" font-size=\"14.00\" fill=\"#000000\">gini = 0.099</text>\n<text text-anchor=\"middle\" x=\"3554.5\" y=\"-37.8\" font-family=\"Helvetica,sans-Serif\" font-size=\"14.00\" fill=\"#000000\">samples = 286</text>\n<text text-anchor=\"middle\" x=\"3554.5\" y=\"-22.8\" font-family=\"Helvetica,sans-Serif\" font-size=\"14.00\" fill=\"#000000\">value = [0, 15, 0, 0, 0, 0, 0, 0, 0, 0, 271]</text>\n<text text-anchor=\"middle\" x=\"3554.5\" y=\"-7.8\" font-family=\"Helvetica,sans-Serif\" font-size=\"14.00\" fill=\"#000000\">class = New Zealand</text>\n</g>\n<!-- 27&#45;&gt;28 -->\n<g id=\"edge28\" class=\"edge\">\n<title>27&#45;&gt;28</title>\n<path fill=\"none\" stroke=\"#000000\" d=\"M3646.135,-103.9815C3633.4989,-94.3313 3620.0644,-84.0714 3607.4885,-74.4673\"/>\n<polygon fill=\"#000000\" stroke=\"#000000\" points=\"3609.4372,-71.5515 3599.3654,-68.2637 3605.1886,-77.1148 3609.4372,-71.5515\"/>\n</g>\n<!-- 29 -->\n<g id=\"node30\" class=\"node\">\n<title>29</title>\n<path fill=\"#e84e62\" stroke=\"#000000\" d=\"M3975.5,-68C3975.5,-68 3717.5,-68 3717.5,-68 3711.5,-68 3705.5,-62 3705.5,-56 3705.5,-56 3705.5,-12 3705.5,-12 3705.5,-6 3711.5,0 3717.5,0 3717.5,0 3975.5,0 3975.5,0 3981.5,0 3987.5,-6 3987.5,-12 3987.5,-12 3987.5,-56 3987.5,-56 3987.5,-62 3981.5,-68 3975.5,-68\"/>\n<text text-anchor=\"middle\" x=\"3846.5\" y=\"-52.8\" font-family=\"Helvetica,sans-Serif\" font-size=\"14.00\" fill=\"#000000\">gini = 0.171</text>\n<text text-anchor=\"middle\" x=\"3846.5\" y=\"-37.8\" font-family=\"Helvetica,sans-Serif\" font-size=\"14.00\" fill=\"#000000\">samples = 2241</text>\n<text text-anchor=\"middle\" x=\"3846.5\" y=\"-22.8\" font-family=\"Helvetica,sans-Serif\" font-size=\"14.00\" fill=\"#000000\">value = [0, 212, 0, 0, 0, 0, 0, 0, 0, 0, 2029]</text>\n<text text-anchor=\"middle\" x=\"3846.5\" y=\"-7.8\" font-family=\"Helvetica,sans-Serif\" font-size=\"14.00\" fill=\"#000000\">class = New Zealand</text>\n</g>\n<!-- 27&#45;&gt;29 -->\n<g id=\"edge29\" class=\"edge\">\n<title>27&#45;&gt;29</title>\n<path fill=\"none\" stroke=\"#000000\" d=\"M3754.865,-103.9815C3767.5011,-94.3313 3780.9356,-84.0714 3793.5115,-74.4673\"/>\n<polygon fill=\"#000000\" stroke=\"#000000\" points=\"3795.8114,-77.1148 3801.6346,-68.2637 3791.5628,-71.5515 3795.8114,-77.1148\"/>\n</g>\n<!-- 31 -->\n<g id=\"node32\" class=\"node\">\n<title>31</title>\n<path fill=\"#e85266\" stroke=\"#000000\" d=\"M4275.5,-68C4275.5,-68 4017.5,-68 4017.5,-68 4011.5,-68 4005.5,-62 4005.5,-56 4005.5,-56 4005.5,-12 4005.5,-12 4005.5,-6 4011.5,0 4017.5,0 4017.5,0 4275.5,0 4275.5,0 4281.5,0 4287.5,-6 4287.5,-12 4287.5,-12 4287.5,-56 4287.5,-56 4287.5,-62 4281.5,-68 4275.5,-68\"/>\n<text text-anchor=\"middle\" x=\"4146.5\" y=\"-52.8\" font-family=\"Helvetica,sans-Serif\" font-size=\"14.00\" fill=\"#000000\">gini = 0.2</text>\n<text text-anchor=\"middle\" x=\"4146.5\" y=\"-37.8\" font-family=\"Helvetica,sans-Serif\" font-size=\"14.00\" fill=\"#000000\">samples = 1910</text>\n<text text-anchor=\"middle\" x=\"4146.5\" y=\"-22.8\" font-family=\"Helvetica,sans-Serif\" font-size=\"14.00\" fill=\"#000000\">value = [0, 215, 0, 0, 0, 0, 0, 0, 0, 0, 1695]</text>\n<text text-anchor=\"middle\" x=\"4146.5\" y=\"-7.8\" font-family=\"Helvetica,sans-Serif\" font-size=\"14.00\" fill=\"#000000\">class = New Zealand</text>\n</g>\n<!-- 30&#45;&gt;31 -->\n<g id=\"edge31\" class=\"edge\">\n<title>30&#45;&gt;31</title>\n<path fill=\"none\" stroke=\"#000000\" d=\"M4146.5,-103.9815C4146.5,-95.618 4146.5,-86.7965 4146.5,-78.3409\"/>\n<polygon fill=\"#000000\" stroke=\"#000000\" points=\"4150.0001,-78.2636 4146.5,-68.2637 4143.0001,-78.2637 4150.0001,-78.2636\"/>\n</g>\n<!-- 32 -->\n<g id=\"node33\" class=\"node\">\n<title>32</title>\n<path fill=\"#e9596d\" stroke=\"#000000\" d=\"M4567.5,-68C4567.5,-68 4317.5,-68 4317.5,-68 4311.5,-68 4305.5,-62 4305.5,-56 4305.5,-56 4305.5,-12 4305.5,-12 4305.5,-6 4311.5,0 4317.5,0 4317.5,0 4567.5,0 4567.5,0 4573.5,0 4579.5,-6 4579.5,-12 4579.5,-12 4579.5,-56 4579.5,-56 4579.5,-62 4573.5,-68 4567.5,-68\"/>\n<text text-anchor=\"middle\" x=\"4442.5\" y=\"-52.8\" font-family=\"Helvetica,sans-Serif\" font-size=\"14.00\" fill=\"#000000\">gini = 0.242</text>\n<text text-anchor=\"middle\" x=\"4442.5\" y=\"-37.8\" font-family=\"Helvetica,sans-Serif\" font-size=\"14.00\" fill=\"#000000\">samples = 846</text>\n<text text-anchor=\"middle\" x=\"4442.5\" y=\"-22.8\" font-family=\"Helvetica,sans-Serif\" font-size=\"14.00\" fill=\"#000000\">value = [0, 119, 0, 0, 0, 0, 0, 0, 0, 0, 727]</text>\n<text text-anchor=\"middle\" x=\"4442.5\" y=\"-7.8\" font-family=\"Helvetica,sans-Serif\" font-size=\"14.00\" fill=\"#000000\">class = New Zealand</text>\n</g>\n<!-- 30&#45;&gt;32 -->\n<g id=\"edge32\" class=\"edge\">\n<title>30&#45;&gt;32</title>\n<path fill=\"none\" stroke=\"#000000\" d=\"M4256.7195,-103.9815C4284.8028,-93.4028 4314.8312,-82.0914 4342.3792,-71.7144\"/>\n<polygon fill=\"#000000\" stroke=\"#000000\" points=\"4343.8883,-74.8861 4352.0126,-68.0856 4341.4207,-68.3354 4343.8883,-74.8861\"/>\n</g>\n<!-- 34 -->\n<g id=\"node35\" class=\"node\">\n<title>34</title>\n<path fill=\"#e74a5f\" stroke=\"#000000\" d=\"M6374.5,-425C6374.5,-425 6116.5,-425 6116.5,-425 6110.5,-425 6104.5,-419 6104.5,-413 6104.5,-413 6104.5,-354 6104.5,-354 6104.5,-348 6110.5,-342 6116.5,-342 6116.5,-342 6374.5,-342 6374.5,-342 6380.5,-342 6386.5,-348 6386.5,-354 6386.5,-354 6386.5,-413 6386.5,-413 6386.5,-419 6380.5,-425 6374.5,-425\"/>\n<text text-anchor=\"middle\" x=\"6245.5\" y=\"-409.8\" font-family=\"Helvetica,sans-Serif\" font-size=\"14.00\" fill=\"#000000\">CSN2 &lt;= 4.5</text>\n<text text-anchor=\"middle\" x=\"6245.5\" y=\"-394.8\" font-family=\"Helvetica,sans-Serif\" font-size=\"14.00\" fill=\"#000000\">gini = 0.146</text>\n<text text-anchor=\"middle\" x=\"6245.5\" y=\"-379.8\" font-family=\"Helvetica,sans-Serif\" font-size=\"14.00\" fill=\"#000000\">samples = 1379</text>\n<text text-anchor=\"middle\" x=\"6245.5\" y=\"-364.8\" font-family=\"Helvetica,sans-Serif\" font-size=\"14.00\" fill=\"#000000\">value = [0, 109, 0, 0, 0, 0, 0, 0, 0, 0, 1270]</text>\n<text text-anchor=\"middle\" x=\"6245.5\" y=\"-349.8\" font-family=\"Helvetica,sans-Serif\" font-size=\"14.00\" fill=\"#000000\">class = New Zealand</text>\n</g>\n<!-- 33&#45;&gt;34 -->\n<g id=\"edge34\" class=\"edge\">\n<title>33&#45;&gt;34</title>\n<path fill=\"none\" stroke=\"#000000\" d=\"M6798.9817,-477.1904C6680.4621,-457.128 6515.5683,-429.2157 6396.6308,-409.0826\"/>\n<polygon fill=\"#000000\" stroke=\"#000000\" points=\"6397.1548,-405.6216 6386.7109,-407.4034 6395.9864,-412.5234 6397.1548,-405.6216\"/>\n</g>\n<!-- 49 -->\n<g id=\"node50\" class=\"node\">\n<title>49</title>\n<path fill=\"#e85065\" stroke=\"#000000\" d=\"M7495,-425C7495,-425 7220,-425 7220,-425 7214,-425 7208,-419 7208,-413 7208,-413 7208,-354 7208,-354 7208,-348 7214,-342 7220,-342 7220,-342 7495,-342 7495,-342 7501,-342 7507,-348 7507,-354 7507,-354 7507,-413 7507,-413 7507,-419 7501,-425 7495,-425\"/>\n<text text-anchor=\"middle\" x=\"7357.5\" y=\"-409.8\" font-family=\"Helvetica,sans-Serif\" font-size=\"14.00\" fill=\"#000000\">OPN2 &lt;= 1.5</text>\n<text text-anchor=\"middle\" x=\"7357.5\" y=\"-394.8\" font-family=\"Helvetica,sans-Serif\" font-size=\"14.00\" fill=\"#000000\">gini = 0.189</text>\n<text text-anchor=\"middle\" x=\"7357.5\" y=\"-379.8\" font-family=\"Helvetica,sans-Serif\" font-size=\"14.00\" fill=\"#000000\">samples = 23591</text>\n<text text-anchor=\"middle\" x=\"7357.5\" y=\"-364.8\" font-family=\"Helvetica,sans-Serif\" font-size=\"14.00\" fill=\"#000000\">value = [0, 2494, 0, 0, 0, 0, 0, 0, 0, 0, 21097]</text>\n<text text-anchor=\"middle\" x=\"7357.5\" y=\"-349.8\" font-family=\"Helvetica,sans-Serif\" font-size=\"14.00\" fill=\"#000000\">class = New Zealand</text>\n</g>\n<!-- 33&#45;&gt;49 -->\n<g id=\"edge49\" class=\"edge\">\n<title>33&#45;&gt;49</title>\n<path fill=\"none\" stroke=\"#000000\" d=\"M7091.2612,-460.9631C7127.9645,-450.2842 7167.5956,-438.7534 7204.7815,-427.934\"/>\n<polygon fill=\"#000000\" stroke=\"#000000\" points=\"7206.064,-431.206 7214.688,-425.0516 7204.1084,-424.4848 7206.064,-431.206\"/>\n</g>\n<!-- 35 -->\n<g id=\"node36\" class=\"node\">\n<title>35</title>\n<path fill=\"#e74c61\" stroke=\"#000000\" d=\"M5561.5,-306C5561.5,-306 5319.5,-306 5319.5,-306 5313.5,-306 5307.5,-300 5307.5,-294 5307.5,-294 5307.5,-235 5307.5,-235 5307.5,-229 5313.5,-223 5319.5,-223 5319.5,-223 5561.5,-223 5561.5,-223 5567.5,-223 5573.5,-229 5573.5,-235 5573.5,-235 5573.5,-294 5573.5,-294 5573.5,-300 5567.5,-306 5561.5,-306\"/>\n<text text-anchor=\"middle\" x=\"5440.5\" y=\"-290.8\" font-family=\"Helvetica,sans-Serif\" font-size=\"14.00\" fill=\"#000000\">CSN2 &lt;= 3.5</text>\n<text text-anchor=\"middle\" x=\"5440.5\" y=\"-275.8\" font-family=\"Helvetica,sans-Serif\" font-size=\"14.00\" fill=\"#000000\">gini = 0.16</text>\n<text text-anchor=\"middle\" x=\"5440.5\" y=\"-260.8\" font-family=\"Helvetica,sans-Serif\" font-size=\"14.00\" fill=\"#000000\">samples = 1086</text>\n<text text-anchor=\"middle\" x=\"5440.5\" y=\"-245.8\" font-family=\"Helvetica,sans-Serif\" font-size=\"14.00\" fill=\"#000000\">value = [0, 95, 0, 0, 0, 0, 0, 0, 0, 0, 991]</text>\n<text text-anchor=\"middle\" x=\"5440.5\" y=\"-230.8\" font-family=\"Helvetica,sans-Serif\" font-size=\"14.00\" fill=\"#000000\">class = New Zealand</text>\n</g>\n<!-- 34&#45;&gt;35 -->\n<g id=\"edge35\" class=\"edge\">\n<title>34&#45;&gt;35</title>\n<path fill=\"none\" stroke=\"#000000\" d=\"M6104.3585,-362.6356C5958.1261,-341.0186 5730.8062,-307.4148 5583.7867,-285.6815\"/>\n<polygon fill=\"#000000\" stroke=\"#000000\" points=\"5584.186,-282.2026 5573.7817,-284.2025 5583.1623,-289.1273 5584.186,-282.2026\"/>\n</g>\n<!-- 42 -->\n<g id=\"node43\" class=\"node\">\n<title>42</title>\n<path fill=\"#e64359\" stroke=\"#000000\" d=\"M6366.5,-306C6366.5,-306 6124.5,-306 6124.5,-306 6118.5,-306 6112.5,-300 6112.5,-294 6112.5,-294 6112.5,-235 6112.5,-235 6112.5,-229 6118.5,-223 6124.5,-223 6124.5,-223 6366.5,-223 6366.5,-223 6372.5,-223 6378.5,-229 6378.5,-235 6378.5,-235 6378.5,-294 6378.5,-294 6378.5,-300 6372.5,-306 6366.5,-306\"/>\n<text text-anchor=\"middle\" x=\"6245.5\" y=\"-290.8\" font-family=\"Helvetica,sans-Serif\" font-size=\"14.00\" fill=\"#000000\">EST2 &lt;= 0.5</text>\n<text text-anchor=\"middle\" x=\"6245.5\" y=\"-275.8\" font-family=\"Helvetica,sans-Serif\" font-size=\"14.00\" fill=\"#000000\">gini = 0.091</text>\n<text text-anchor=\"middle\" x=\"6245.5\" y=\"-260.8\" font-family=\"Helvetica,sans-Serif\" font-size=\"14.00\" fill=\"#000000\">samples = 293</text>\n<text text-anchor=\"middle\" x=\"6245.5\" y=\"-245.8\" font-family=\"Helvetica,sans-Serif\" font-size=\"14.00\" fill=\"#000000\">value = [0, 14, 0, 0, 0, 0, 0, 0, 0, 0, 279]</text>\n<text text-anchor=\"middle\" x=\"6245.5\" y=\"-230.8\" font-family=\"Helvetica,sans-Serif\" font-size=\"14.00\" fill=\"#000000\">class = New Zealand</text>\n</g>\n<!-- 34&#45;&gt;42 -->\n<g id=\"edge42\" class=\"edge\">\n<title>34&#45;&gt;42</title>\n<path fill=\"none\" stroke=\"#000000\" d=\"M6245.5,-341.8796C6245.5,-333.6838 6245.5,-324.9891 6245.5,-316.5013\"/>\n<polygon fill=\"#000000\" stroke=\"#000000\" points=\"6249.0001,-316.298 6245.5,-306.2981 6242.0001,-316.2981 6249.0001,-316.298\"/>\n</g>\n<!-- 36 -->\n<g id=\"node37\" class=\"node\">\n<title>36</title>\n<path fill=\"#e7495e\" stroke=\"#000000\" d=\"M5135.5,-187C5135.5,-187 4893.5,-187 4893.5,-187 4887.5,-187 4881.5,-181 4881.5,-175 4881.5,-175 4881.5,-116 4881.5,-116 4881.5,-110 4887.5,-104 4893.5,-104 4893.5,-104 5135.5,-104 5135.5,-104 5141.5,-104 5147.5,-110 5147.5,-116 5147.5,-116 5147.5,-175 5147.5,-175 5147.5,-181 5141.5,-187 5135.5,-187\"/>\n<text text-anchor=\"middle\" x=\"5014.5\" y=\"-171.8\" font-family=\"Helvetica,sans-Serif\" font-size=\"14.00\" fill=\"#000000\">AGR1 &lt;= 2.5</text>\n<text text-anchor=\"middle\" x=\"5014.5\" y=\"-156.8\" font-family=\"Helvetica,sans-Serif\" font-size=\"14.00\" fill=\"#000000\">gini = 0.139</text>\n<text text-anchor=\"middle\" x=\"5014.5\" y=\"-141.8\" font-family=\"Helvetica,sans-Serif\" font-size=\"14.00\" fill=\"#000000\">samples = 824</text>\n<text text-anchor=\"middle\" x=\"5014.5\" y=\"-126.8\" font-family=\"Helvetica,sans-Serif\" font-size=\"14.00\" fill=\"#000000\">value = [0, 62, 0, 0, 0, 0, 0, 0, 0, 0, 762]</text>\n<text text-anchor=\"middle\" x=\"5014.5\" y=\"-111.8\" font-family=\"Helvetica,sans-Serif\" font-size=\"14.00\" fill=\"#000000\">class = New Zealand</text>\n</g>\n<!-- 35&#45;&gt;36 -->\n<g id=\"edge36\" class=\"edge\">\n<title>35&#45;&gt;36</title>\n<path fill=\"none\" stroke=\"#000000\" d=\"M5307.4632,-227.3371C5259.8434,-214.0349 5205.9856,-198.9901 5157.5548,-185.4613\"/>\n<polygon fill=\"#000000\" stroke=\"#000000\" points=\"5158.1991,-182.0074 5147.6262,-182.6878 5156.3158,-188.7493 5158.1991,-182.0074\"/>\n</g>\n<!-- 39 -->\n<g id=\"node40\" class=\"node\">\n<title>39</title>\n<path fill=\"#e95669\" stroke=\"#000000\" d=\"M5561.5,-187C5561.5,-187 5319.5,-187 5319.5,-187 5313.5,-187 5307.5,-181 5307.5,-175 5307.5,-175 5307.5,-116 5307.5,-116 5307.5,-110 5313.5,-104 5319.5,-104 5319.5,-104 5561.5,-104 5561.5,-104 5567.5,-104 5573.5,-110 5573.5,-116 5573.5,-116 5573.5,-175 5573.5,-175 5573.5,-181 5567.5,-187 5561.5,-187\"/>\n<text text-anchor=\"middle\" x=\"5440.5\" y=\"-171.8\" font-family=\"Helvetica,sans-Serif\" font-size=\"14.00\" fill=\"#000000\">EST1 &lt;= 3.5</text>\n<text text-anchor=\"middle\" x=\"5440.5\" y=\"-156.8\" font-family=\"Helvetica,sans-Serif\" font-size=\"14.00\" fill=\"#000000\">gini = 0.22</text>\n<text text-anchor=\"middle\" x=\"5440.5\" y=\"-141.8\" font-family=\"Helvetica,sans-Serif\" font-size=\"14.00\" fill=\"#000000\">samples = 262</text>\n<text text-anchor=\"middle\" x=\"5440.5\" y=\"-126.8\" font-family=\"Helvetica,sans-Serif\" font-size=\"14.00\" fill=\"#000000\">value = [0, 33, 0, 0, 0, 0, 0, 0, 0, 0, 229]</text>\n<text text-anchor=\"middle\" x=\"5440.5\" y=\"-111.8\" font-family=\"Helvetica,sans-Serif\" font-size=\"14.00\" fill=\"#000000\">class = New Zealand</text>\n</g>\n<!-- 35&#45;&gt;39 -->\n<g id=\"edge39\" class=\"edge\">\n<title>35&#45;&gt;39</title>\n<path fill=\"none\" stroke=\"#000000\" d=\"M5440.5,-222.8796C5440.5,-214.6838 5440.5,-205.9891 5440.5,-197.5013\"/>\n<polygon fill=\"#000000\" stroke=\"#000000\" points=\"5444.0001,-197.298 5440.5,-187.2981 5437.0001,-197.2981 5444.0001,-197.298\"/>\n</g>\n<!-- 37 -->\n<g id=\"node38\" class=\"node\">\n<title>37</title>\n<path fill=\"#e85064\" stroke=\"#000000\" d=\"M4851.5,-68C4851.5,-68 4609.5,-68 4609.5,-68 4603.5,-68 4597.5,-62 4597.5,-56 4597.5,-56 4597.5,-12 4597.5,-12 4597.5,-6 4603.5,0 4609.5,0 4609.5,0 4851.5,0 4851.5,0 4857.5,0 4863.5,-6 4863.5,-12 4863.5,-12 4863.5,-56 4863.5,-56 4863.5,-62 4857.5,-68 4851.5,-68\"/>\n<text text-anchor=\"middle\" x=\"4730.5\" y=\"-52.8\" font-family=\"Helvetica,sans-Serif\" font-size=\"14.00\" fill=\"#000000\">gini = 0.185</text>\n<text text-anchor=\"middle\" x=\"4730.5\" y=\"-37.8\" font-family=\"Helvetica,sans-Serif\" font-size=\"14.00\" fill=\"#000000\">samples = 243</text>\n<text text-anchor=\"middle\" x=\"4730.5\" y=\"-22.8\" font-family=\"Helvetica,sans-Serif\" font-size=\"14.00\" fill=\"#000000\">value = [0, 25, 0, 0, 0, 0, 0, 0, 0, 0, 218]</text>\n<text text-anchor=\"middle\" x=\"4730.5\" y=\"-7.8\" font-family=\"Helvetica,sans-Serif\" font-size=\"14.00\" fill=\"#000000\">class = New Zealand</text>\n</g>\n<!-- 36&#45;&gt;37 -->\n<g id=\"edge37\" class=\"edge\">\n<title>36&#45;&gt;37</title>\n<path fill=\"none\" stroke=\"#000000\" d=\"M4908.7489,-103.9815C4881.9217,-93.449 4853.2446,-82.1902 4826.9082,-71.8504\"/>\n<polygon fill=\"#000000\" stroke=\"#000000\" points=\"4827.9064,-68.4823 4817.319,-68.0856 4825.3482,-74.9981 4827.9064,-68.4823\"/>\n</g>\n<!-- 38 -->\n<g id=\"node39\" class=\"node\">\n<title>38</title>\n<path fill=\"#e7465c\" stroke=\"#000000\" d=\"M5135.5,-68C5135.5,-68 4893.5,-68 4893.5,-68 4887.5,-68 4881.5,-62 4881.5,-56 4881.5,-56 4881.5,-12 4881.5,-12 4881.5,-6 4887.5,0 4893.5,0 4893.5,0 5135.5,0 5135.5,0 5141.5,0 5147.5,-6 5147.5,-12 5147.5,-12 5147.5,-56 5147.5,-56 5147.5,-62 5141.5,-68 5135.5,-68\"/>\n<text text-anchor=\"middle\" x=\"5014.5\" y=\"-52.8\" font-family=\"Helvetica,sans-Serif\" font-size=\"14.00\" fill=\"#000000\">gini = 0.119</text>\n<text text-anchor=\"middle\" x=\"5014.5\" y=\"-37.8\" font-family=\"Helvetica,sans-Serif\" font-size=\"14.00\" fill=\"#000000\">samples = 581</text>\n<text text-anchor=\"middle\" x=\"5014.5\" y=\"-22.8\" font-family=\"Helvetica,sans-Serif\" font-size=\"14.00\" fill=\"#000000\">value = [0, 37, 0, 0, 0, 0, 0, 0, 0, 0, 544]</text>\n<text text-anchor=\"middle\" x=\"5014.5\" y=\"-7.8\" font-family=\"Helvetica,sans-Serif\" font-size=\"14.00\" fill=\"#000000\">class = New Zealand</text>\n</g>\n<!-- 36&#45;&gt;38 -->\n<g id=\"edge38\" class=\"edge\">\n<title>36&#45;&gt;38</title>\n<path fill=\"none\" stroke=\"#000000\" d=\"M5014.5,-103.9815C5014.5,-95.618 5014.5,-86.7965 5014.5,-78.3409\"/>\n<polygon fill=\"#000000\" stroke=\"#000000\" points=\"5018.0001,-78.2636 5014.5,-68.2637 5011.0001,-78.2637 5018.0001,-78.2636\"/>\n</g>\n<!-- 40 -->\n<g id=\"node41\" class=\"node\">\n<title>40</title>\n<path fill=\"#eb6476\" stroke=\"#000000\" d=\"M5419.5,-68C5419.5,-68 5177.5,-68 5177.5,-68 5171.5,-68 5165.5,-62 5165.5,-56 5165.5,-56 5165.5,-12 5165.5,-12 5165.5,-6 5171.5,0 5177.5,0 5177.5,0 5419.5,0 5419.5,0 5425.5,0 5431.5,-6 5431.5,-12 5431.5,-12 5431.5,-56 5431.5,-56 5431.5,-62 5425.5,-68 5419.5,-68\"/>\n<text text-anchor=\"middle\" x=\"5298.5\" y=\"-52.8\" font-family=\"Helvetica,sans-Serif\" font-size=\"14.00\" fill=\"#000000\">gini = 0.294</text>\n<text text-anchor=\"middle\" x=\"5298.5\" y=\"-37.8\" font-family=\"Helvetica,sans-Serif\" font-size=\"14.00\" fill=\"#000000\">samples = 123</text>\n<text text-anchor=\"middle\" x=\"5298.5\" y=\"-22.8\" font-family=\"Helvetica,sans-Serif\" font-size=\"14.00\" fill=\"#000000\">value = [0, 22, 0, 0, 0, 0, 0, 0, 0, 0, 101]</text>\n<text text-anchor=\"middle\" x=\"5298.5\" y=\"-7.8\" font-family=\"Helvetica,sans-Serif\" font-size=\"14.00\" fill=\"#000000\">class = New Zealand</text>\n</g>\n<!-- 39&#45;&gt;40 -->\n<g id=\"edge40\" class=\"edge\">\n<title>39&#45;&gt;40</title>\n<path fill=\"none\" stroke=\"#000000\" d=\"M5387.6244,-103.9815C5375.3345,-94.3313 5362.2681,-84.0714 5350.0368,-74.4673\"/>\n<polygon fill=\"#000000\" stroke=\"#000000\" points=\"5352.1629,-71.6867 5342.1362,-68.2637 5347.8398,-77.1923 5352.1629,-71.6867\"/>\n</g>\n<!-- 41 -->\n<g id=\"node42\" class=\"node\">\n<title>41</title>\n<path fill=\"#e74a5f\" stroke=\"#000000\" d=\"M5703.5,-68C5703.5,-68 5461.5,-68 5461.5,-68 5455.5,-68 5449.5,-62 5449.5,-56 5449.5,-56 5449.5,-12 5449.5,-12 5449.5,-6 5455.5,0 5461.5,0 5461.5,0 5703.5,0 5703.5,0 5709.5,0 5715.5,-6 5715.5,-12 5715.5,-12 5715.5,-56 5715.5,-56 5715.5,-62 5709.5,-68 5703.5,-68\"/>\n<text text-anchor=\"middle\" x=\"5582.5\" y=\"-52.8\" font-family=\"Helvetica,sans-Serif\" font-size=\"14.00\" fill=\"#000000\">gini = 0.146</text>\n<text text-anchor=\"middle\" x=\"5582.5\" y=\"-37.8\" font-family=\"Helvetica,sans-Serif\" font-size=\"14.00\" fill=\"#000000\">samples = 139</text>\n<text text-anchor=\"middle\" x=\"5582.5\" y=\"-22.8\" font-family=\"Helvetica,sans-Serif\" font-size=\"14.00\" fill=\"#000000\">value = [0, 11, 0, 0, 0, 0, 0, 0, 0, 0, 128]</text>\n<text text-anchor=\"middle\" x=\"5582.5\" y=\"-7.8\" font-family=\"Helvetica,sans-Serif\" font-size=\"14.00\" fill=\"#000000\">class = New Zealand</text>\n</g>\n<!-- 39&#45;&gt;41 -->\n<g id=\"edge41\" class=\"edge\">\n<title>39&#45;&gt;41</title>\n<path fill=\"none\" stroke=\"#000000\" d=\"M5493.3756,-103.9815C5505.6655,-94.3313 5518.7319,-84.0714 5530.9632,-74.4673\"/>\n<polygon fill=\"#000000\" stroke=\"#000000\" points=\"5533.1602,-77.1923 5538.8638,-68.2637 5528.8371,-71.6867 5533.1602,-77.1923\"/>\n</g>\n<!-- 43 -->\n<g id=\"node44\" class=\"node\">\n<title>43</title>\n<path fill=\"#ffffff\" stroke=\"#000000\" d=\"M6218,-187C6218,-187 6001,-187 6001,-187 5995,-187 5989,-181 5989,-175 5989,-175 5989,-116 5989,-116 5989,-110 5995,-104 6001,-104 6001,-104 6218,-104 6218,-104 6224,-104 6230,-110 6230,-116 6230,-116 6230,-175 6230,-175 6230,-181 6224,-187 6218,-187\"/>\n<text text-anchor=\"middle\" x=\"6109.5\" y=\"-171.8\" font-family=\"Helvetica,sans-Serif\" font-size=\"14.00\" fill=\"#000000\">CSN1 &lt;= 4.0</text>\n<text text-anchor=\"middle\" x=\"6109.5\" y=\"-156.8\" font-family=\"Helvetica,sans-Serif\" font-size=\"14.00\" fill=\"#000000\">gini = 0.5</text>\n<text text-anchor=\"middle\" x=\"6109.5\" y=\"-141.8\" font-family=\"Helvetica,sans-Serif\" font-size=\"14.00\" fill=\"#000000\">samples = 2</text>\n<text text-anchor=\"middle\" x=\"6109.5\" y=\"-126.8\" font-family=\"Helvetica,sans-Serif\" font-size=\"14.00\" fill=\"#000000\">value = [0, 1, 0, 0, 0, 0, 0, 0, 0, 0, 1]</text>\n<text text-anchor=\"middle\" x=\"6109.5\" y=\"-111.8\" font-family=\"Helvetica,sans-Serif\" font-size=\"14.00\" fill=\"#000000\">class = Malaysia</text>\n</g>\n<!-- 42&#45;&gt;43 -->\n<g id=\"edge43\" class=\"edge\">\n<title>42&#45;&gt;43</title>\n<path fill=\"none\" stroke=\"#000000\" d=\"M6197.9338,-222.8796C6187.3321,-213.6031 6175.9998,-203.6874 6165.1067,-194.1559\"/>\n<polygon fill=\"#000000\" stroke=\"#000000\" points=\"6167.0998,-191.2491 6157.2692,-187.2981 6162.4902,-196.5172 6167.0998,-191.2491\"/>\n</g>\n<!-- 46 -->\n<g id=\"node47\" class=\"node\">\n<title>46</title>\n<path fill=\"#e64258\" stroke=\"#000000\" d=\"M6502.5,-187C6502.5,-187 6260.5,-187 6260.5,-187 6254.5,-187 6248.5,-181 6248.5,-175 6248.5,-175 6248.5,-116 6248.5,-116 6248.5,-110 6254.5,-104 6260.5,-104 6260.5,-104 6502.5,-104 6502.5,-104 6508.5,-104 6514.5,-110 6514.5,-116 6514.5,-116 6514.5,-175 6514.5,-175 6514.5,-181 6508.5,-187 6502.5,-187\"/>\n<text text-anchor=\"middle\" x=\"6381.5\" y=\"-171.8\" font-family=\"Helvetica,sans-Serif\" font-size=\"14.00\" fill=\"#000000\">AGR2 &lt;= 2.5</text>\n<text text-anchor=\"middle\" x=\"6381.5\" y=\"-156.8\" font-family=\"Helvetica,sans-Serif\" font-size=\"14.00\" fill=\"#000000\">gini = 0.085</text>\n<text text-anchor=\"middle\" x=\"6381.5\" y=\"-141.8\" font-family=\"Helvetica,sans-Serif\" font-size=\"14.00\" fill=\"#000000\">samples = 291</text>\n<text text-anchor=\"middle\" x=\"6381.5\" y=\"-126.8\" font-family=\"Helvetica,sans-Serif\" font-size=\"14.00\" fill=\"#000000\">value = [0, 13, 0, 0, 0, 0, 0, 0, 0, 0, 278]</text>\n<text text-anchor=\"middle\" x=\"6381.5\" y=\"-111.8\" font-family=\"Helvetica,sans-Serif\" font-size=\"14.00\" fill=\"#000000\">class = New Zealand</text>\n</g>\n<!-- 42&#45;&gt;46 -->\n<g id=\"edge46\" class=\"edge\">\n<title>42&#45;&gt;46</title>\n<path fill=\"none\" stroke=\"#000000\" d=\"M6293.0662,-222.8796C6303.6679,-213.6031 6315.0002,-203.6874 6325.8933,-194.1559\"/>\n<polygon fill=\"#000000\" stroke=\"#000000\" points=\"6328.5098,-196.5172 6333.7308,-187.2981 6323.9002,-191.2491 6328.5098,-196.5172\"/>\n</g>\n<!-- 44 -->\n<g id=\"node45\" class=\"node\">\n<title>44</title>\n<path fill=\"#e5dc39\" stroke=\"#000000\" d=\"M5963,-68C5963,-68 5746,-68 5746,-68 5740,-68 5734,-62 5734,-56 5734,-56 5734,-12 5734,-12 5734,-6 5740,0 5746,0 5746,0 5963,0 5963,0 5969,0 5975,-6 5975,-12 5975,-12 5975,-56 5975,-56 5975,-62 5969,-68 5963,-68\"/>\n<text text-anchor=\"middle\" x=\"5854.5\" y=\"-52.8\" font-family=\"Helvetica,sans-Serif\" font-size=\"14.00\" fill=\"#000000\">gini = 0.0</text>\n<text text-anchor=\"middle\" x=\"5854.5\" y=\"-37.8\" font-family=\"Helvetica,sans-Serif\" font-size=\"14.00\" fill=\"#000000\">samples = 1</text>\n<text text-anchor=\"middle\" x=\"5854.5\" y=\"-22.8\" font-family=\"Helvetica,sans-Serif\" font-size=\"14.00\" fill=\"#000000\">value = [0, 1, 0, 0, 0, 0, 0, 0, 0, 0, 0]</text>\n<text text-anchor=\"middle\" x=\"5854.5\" y=\"-7.8\" font-family=\"Helvetica,sans-Serif\" font-size=\"14.00\" fill=\"#000000\">class = Malaysia</text>\n</g>\n<!-- 43&#45;&gt;44 -->\n<g id=\"edge44\" class=\"edge\">\n<title>43&#45;&gt;44</title>\n<path fill=\"none\" stroke=\"#000000\" d=\"M6014.5474,-103.9815C5990.6709,-93.5414 5965.1624,-82.3877 5941.6865,-72.1227\"/>\n<polygon fill=\"#000000\" stroke=\"#000000\" points=\"5943.0183,-68.8851 5932.4537,-68.0856 5940.2139,-75.2988 5943.0183,-68.8851\"/>\n</g>\n<!-- 45 -->\n<g id=\"node46\" class=\"node\">\n<title>45</title>\n<path fill=\"#e53950\" stroke=\"#000000\" d=\"M6222,-68C6222,-68 6005,-68 6005,-68 5999,-68 5993,-62 5993,-56 5993,-56 5993,-12 5993,-12 5993,-6 5999,0 6005,0 6005,0 6222,0 6222,0 6228,0 6234,-6 6234,-12 6234,-12 6234,-56 6234,-56 6234,-62 6228,-68 6222,-68\"/>\n<text text-anchor=\"middle\" x=\"6113.5\" y=\"-52.8\" font-family=\"Helvetica,sans-Serif\" font-size=\"14.00\" fill=\"#000000\">gini = 0.0</text>\n<text text-anchor=\"middle\" x=\"6113.5\" y=\"-37.8\" font-family=\"Helvetica,sans-Serif\" font-size=\"14.00\" fill=\"#000000\">samples = 1</text>\n<text text-anchor=\"middle\" x=\"6113.5\" y=\"-22.8\" font-family=\"Helvetica,sans-Serif\" font-size=\"14.00\" fill=\"#000000\">value = [0, 0, 0, 0, 0, 0, 0, 0, 0, 0, 1]</text>\n<text text-anchor=\"middle\" x=\"6113.5\" y=\"-7.8\" font-family=\"Helvetica,sans-Serif\" font-size=\"14.00\" fill=\"#000000\">class = New Zealand</text>\n</g>\n<!-- 43&#45;&gt;45 -->\n<g id=\"edge45\" class=\"edge\">\n<title>43&#45;&gt;45</title>\n<path fill=\"none\" stroke=\"#000000\" d=\"M6110.9895,-103.9815C6111.2895,-95.618 6111.606,-86.7965 6111.9093,-78.3409\"/>\n<polygon fill=\"#000000\" stroke=\"#000000\" points=\"6115.41,-78.3828 6112.2708,-68.2637 6108.4145,-78.1317 6115.41,-78.3828\"/>\n</g>\n<!-- 47 -->\n<g id=\"node48\" class=\"node\">\n<title>47</title>\n<path fill=\"#e74b60\" stroke=\"#000000\" d=\"M6489,-68C6489,-68 6264,-68 6264,-68 6258,-68 6252,-62 6252,-56 6252,-56 6252,-12 6252,-12 6252,-6 6258,0 6264,0 6264,0 6489,0 6489,0 6495,0 6501,-6 6501,-12 6501,-12 6501,-56 6501,-56 6501,-62 6495,-68 6489,-68\"/>\n<text text-anchor=\"middle\" x=\"6376.5\" y=\"-52.8\" font-family=\"Helvetica,sans-Serif\" font-size=\"14.00\" fill=\"#000000\">gini = 0.153</text>\n<text text-anchor=\"middle\" x=\"6376.5\" y=\"-37.8\" font-family=\"Helvetica,sans-Serif\" font-size=\"14.00\" fill=\"#000000\">samples = 72</text>\n<text text-anchor=\"middle\" x=\"6376.5\" y=\"-22.8\" font-family=\"Helvetica,sans-Serif\" font-size=\"14.00\" fill=\"#000000\">value = [0, 6, 0, 0, 0, 0, 0, 0, 0, 0, 66]</text>\n<text text-anchor=\"middle\" x=\"6376.5\" y=\"-7.8\" font-family=\"Helvetica,sans-Serif\" font-size=\"14.00\" fill=\"#000000\">class = New Zealand</text>\n</g>\n<!-- 46&#45;&gt;47 -->\n<g id=\"edge47\" class=\"edge\">\n<title>46&#45;&gt;47</title>\n<path fill=\"none\" stroke=\"#000000\" d=\"M6379.6382,-103.9815C6379.2631,-95.618 6378.8676,-86.7965 6378.4884,-78.3409\"/>\n<polygon fill=\"#000000\" stroke=\"#000000\" points=\"6381.981,-78.0968 6378.0365,-68.2637 6374.9881,-78.4105 6381.981,-78.0968\"/>\n</g>\n<!-- 48 -->\n<g id=\"node49\" class=\"node\">\n<title>48</title>\n<path fill=\"#e64056\" stroke=\"#000000\" d=\"M6764,-68C6764,-68 6531,-68 6531,-68 6525,-68 6519,-62 6519,-56 6519,-56 6519,-12 6519,-12 6519,-6 6525,0 6531,0 6531,0 6764,0 6764,0 6770,0 6776,-6 6776,-12 6776,-12 6776,-56 6776,-56 6776,-62 6770,-68 6764,-68\"/>\n<text text-anchor=\"middle\" x=\"6647.5\" y=\"-52.8\" font-family=\"Helvetica,sans-Serif\" font-size=\"14.00\" fill=\"#000000\">gini = 0.062</text>\n<text text-anchor=\"middle\" x=\"6647.5\" y=\"-37.8\" font-family=\"Helvetica,sans-Serif\" font-size=\"14.00\" fill=\"#000000\">samples = 219</text>\n<text text-anchor=\"middle\" x=\"6647.5\" y=\"-22.8\" font-family=\"Helvetica,sans-Serif\" font-size=\"14.00\" fill=\"#000000\">value = [0, 7, 0, 0, 0, 0, 0, 0, 0, 0, 212]</text>\n<text text-anchor=\"middle\" x=\"6647.5\" y=\"-7.8\" font-family=\"Helvetica,sans-Serif\" font-size=\"14.00\" fill=\"#000000\">class = New Zealand</text>\n</g>\n<!-- 46&#45;&gt;48 -->\n<g id=\"edge48\" class=\"edge\">\n<title>46&#45;&gt;48</title>\n<path fill=\"none\" stroke=\"#000000\" d=\"M6480.5486,-103.9815C6505.5652,-93.4952 6532.2994,-82.289 6556.8775,-71.9865\"/>\n<polygon fill=\"#000000\" stroke=\"#000000\" points=\"6558.3141,-75.1794 6566.1836,-68.0856 6555.608,-68.7236 6558.3141,-75.1794\"/>\n</g>\n<!-- 50 -->\n<g id=\"node51\" class=\"node\">\n<title>50</title>\n<path fill=\"#e84e63\" stroke=\"#000000\" d=\"M7486.5,-306C7486.5,-306 7228.5,-306 7228.5,-306 7222.5,-306 7216.5,-300 7216.5,-294 7216.5,-294 7216.5,-235 7216.5,-235 7216.5,-229 7222.5,-223 7228.5,-223 7228.5,-223 7486.5,-223 7486.5,-223 7492.5,-223 7498.5,-229 7498.5,-235 7498.5,-235 7498.5,-294 7498.5,-294 7498.5,-300 7492.5,-306 7486.5,-306\"/>\n<text text-anchor=\"middle\" x=\"7357.5\" y=\"-290.8\" font-family=\"Helvetica,sans-Serif\" font-size=\"14.00\" fill=\"#000000\">EST1 &lt;= 1.5</text>\n<text text-anchor=\"middle\" x=\"7357.5\" y=\"-275.8\" font-family=\"Helvetica,sans-Serif\" font-size=\"14.00\" fill=\"#000000\">gini = 0.173</text>\n<text text-anchor=\"middle\" x=\"7357.5\" y=\"-260.8\" font-family=\"Helvetica,sans-Serif\" font-size=\"14.00\" fill=\"#000000\">samples = 7527</text>\n<text text-anchor=\"middle\" x=\"7357.5\" y=\"-245.8\" font-family=\"Helvetica,sans-Serif\" font-size=\"14.00\" fill=\"#000000\">value = [0, 720, 0, 0, 0, 0, 0, 0, 0, 0, 6807]</text>\n<text text-anchor=\"middle\" x=\"7357.5\" y=\"-230.8\" font-family=\"Helvetica,sans-Serif\" font-size=\"14.00\" fill=\"#000000\">class = New Zealand</text>\n</g>\n<!-- 49&#45;&gt;50 -->\n<g id=\"edge50\" class=\"edge\">\n<title>49&#45;&gt;50</title>\n<path fill=\"none\" stroke=\"#000000\" d=\"M7357.5,-341.8796C7357.5,-333.6838 7357.5,-324.9891 7357.5,-316.5013\"/>\n<polygon fill=\"#000000\" stroke=\"#000000\" points=\"7361.0001,-316.298 7357.5,-306.2981 7354.0001,-316.2981 7361.0001,-316.298\"/>\n</g>\n<!-- 57 -->\n<g id=\"node58\" class=\"node\">\n<title>57</title>\n<path fill=\"#e85266\" stroke=\"#000000\" d=\"M8359,-306C8359,-306 8084,-306 8084,-306 8078,-306 8072,-300 8072,-294 8072,-294 8072,-235 8072,-235 8072,-229 8078,-223 8084,-223 8084,-223 8359,-223 8359,-223 8365,-223 8371,-229 8371,-235 8371,-235 8371,-294 8371,-294 8371,-300 8365,-306 8359,-306\"/>\n<text text-anchor=\"middle\" x=\"8221.5\" y=\"-290.8\" font-family=\"Helvetica,sans-Serif\" font-size=\"14.00\" fill=\"#000000\">CSN1 &lt;= 2.5</text>\n<text text-anchor=\"middle\" x=\"8221.5\" y=\"-275.8\" font-family=\"Helvetica,sans-Serif\" font-size=\"14.00\" fill=\"#000000\">gini = 0.196</text>\n<text text-anchor=\"middle\" x=\"8221.5\" y=\"-260.8\" font-family=\"Helvetica,sans-Serif\" font-size=\"14.00\" fill=\"#000000\">samples = 16064</text>\n<text text-anchor=\"middle\" x=\"8221.5\" y=\"-245.8\" font-family=\"Helvetica,sans-Serif\" font-size=\"14.00\" fill=\"#000000\">value = [0, 1774, 0, 0, 0, 0, 0, 0, 0, 0, 14290]</text>\n<text text-anchor=\"middle\" x=\"8221.5\" y=\"-230.8\" font-family=\"Helvetica,sans-Serif\" font-size=\"14.00\" fill=\"#000000\">class = New Zealand</text>\n</g>\n<!-- 49&#45;&gt;57 -->\n<g id=\"edge57\" class=\"edge\">\n<title>49&#45;&gt;57</title>\n<path fill=\"none\" stroke=\"#000000\" d=\"M7507.0109,-362.9076C7661.79,-341.5897 7902.7218,-308.4058 8061.3233,-286.5614\"/>\n<polygon fill=\"#000000\" stroke=\"#000000\" points=\"8062.2204,-289.9709 8071.6493,-285.1392 8061.2652,-283.0364 8062.2204,-289.9709\"/>\n</g>\n<!-- 51 -->\n<g id=\"node52\" class=\"node\">\n<title>51</title>\n<path fill=\"#e85166\" stroke=\"#000000\" d=\"M7336.5,-187C7336.5,-187 7078.5,-187 7078.5,-187 7072.5,-187 7066.5,-181 7066.5,-175 7066.5,-175 7066.5,-116 7066.5,-116 7066.5,-110 7072.5,-104 7078.5,-104 7078.5,-104 7336.5,-104 7336.5,-104 7342.5,-104 7348.5,-110 7348.5,-116 7348.5,-116 7348.5,-175 7348.5,-175 7348.5,-181 7342.5,-187 7336.5,-187\"/>\n<text text-anchor=\"middle\" x=\"7207.5\" y=\"-171.8\" font-family=\"Helvetica,sans-Serif\" font-size=\"14.00\" fill=\"#000000\">EXT2 &lt;= 2.5</text>\n<text text-anchor=\"middle\" x=\"7207.5\" y=\"-156.8\" font-family=\"Helvetica,sans-Serif\" font-size=\"14.00\" fill=\"#000000\">gini = 0.196</text>\n<text text-anchor=\"middle\" x=\"7207.5\" y=\"-141.8\" font-family=\"Helvetica,sans-Serif\" font-size=\"14.00\" fill=\"#000000\">samples = 1419</text>\n<text text-anchor=\"middle\" x=\"7207.5\" y=\"-126.8\" font-family=\"Helvetica,sans-Serif\" font-size=\"14.00\" fill=\"#000000\">value = [0, 156, 0, 0, 0, 0, 0, 0, 0, 0, 1263]</text>\n<text text-anchor=\"middle\" x=\"7207.5\" y=\"-111.8\" font-family=\"Helvetica,sans-Serif\" font-size=\"14.00\" fill=\"#000000\">class = New Zealand</text>\n</g>\n<!-- 50&#45;&gt;51 -->\n<g id=\"edge51\" class=\"edge\">\n<title>50&#45;&gt;51</title>\n<path fill=\"none\" stroke=\"#000000\" d=\"M7305.0373,-222.8796C7293.0479,-213.368 7280.2113,-203.1843 7267.9184,-193.432\"/>\n<polygon fill=\"#000000\" stroke=\"#000000\" points=\"7269.9425,-190.5701 7259.9331,-187.0969 7265.5919,-196.054 7269.9425,-190.5701\"/>\n</g>\n<!-- 54 -->\n<g id=\"node55\" class=\"node\">\n<title>54</title>\n<path fill=\"#e84d62\" stroke=\"#000000\" d=\"M7636.5,-187C7636.5,-187 7378.5,-187 7378.5,-187 7372.5,-187 7366.5,-181 7366.5,-175 7366.5,-175 7366.5,-116 7366.5,-116 7366.5,-110 7372.5,-104 7378.5,-104 7378.5,-104 7636.5,-104 7636.5,-104 7642.5,-104 7648.5,-110 7648.5,-116 7648.5,-116 7648.5,-175 7648.5,-175 7648.5,-181 7642.5,-187 7636.5,-187\"/>\n<text text-anchor=\"middle\" x=\"7507.5\" y=\"-171.8\" font-family=\"Helvetica,sans-Serif\" font-size=\"14.00\" fill=\"#000000\">EST2 &lt;= 4.5</text>\n<text text-anchor=\"middle\" x=\"7507.5\" y=\"-156.8\" font-family=\"Helvetica,sans-Serif\" font-size=\"14.00\" fill=\"#000000\">gini = 0.168</text>\n<text text-anchor=\"middle\" x=\"7507.5\" y=\"-141.8\" font-family=\"Helvetica,sans-Serif\" font-size=\"14.00\" fill=\"#000000\">samples = 6108</text>\n<text text-anchor=\"middle\" x=\"7507.5\" y=\"-126.8\" font-family=\"Helvetica,sans-Serif\" font-size=\"14.00\" fill=\"#000000\">value = [0, 564, 0, 0, 0, 0, 0, 0, 0, 0, 5544]</text>\n<text text-anchor=\"middle\" x=\"7507.5\" y=\"-111.8\" font-family=\"Helvetica,sans-Serif\" font-size=\"14.00\" fill=\"#000000\">class = New Zealand</text>\n</g>\n<!-- 50&#45;&gt;54 -->\n<g id=\"edge54\" class=\"edge\">\n<title>50&#45;&gt;54</title>\n<path fill=\"none\" stroke=\"#000000\" d=\"M7409.9627,-222.8796C7421.9521,-213.368 7434.7887,-203.1843 7447.0816,-193.432\"/>\n<polygon fill=\"#000000\" stroke=\"#000000\" points=\"7449.4081,-196.054 7455.0669,-187.0969 7445.0575,-190.5701 7449.4081,-196.054\"/>\n</g>\n<!-- 52 -->\n<g id=\"node53\" class=\"node\">\n<title>52</title>\n<path fill=\"#e9586c\" stroke=\"#000000\" d=\"M7048.5,-68C7048.5,-68 6806.5,-68 6806.5,-68 6800.5,-68 6794.5,-62 6794.5,-56 6794.5,-56 6794.5,-12 6794.5,-12 6794.5,-6 6800.5,0 6806.5,0 6806.5,0 7048.5,0 7048.5,0 7054.5,0 7060.5,-6 7060.5,-12 7060.5,-12 7060.5,-56 7060.5,-56 7060.5,-62 7054.5,-68 7048.5,-68\"/>\n<text text-anchor=\"middle\" x=\"6927.5\" y=\"-52.8\" font-family=\"Helvetica,sans-Serif\" font-size=\"14.00\" fill=\"#000000\">gini = 0.236</text>\n<text text-anchor=\"middle\" x=\"6927.5\" y=\"-37.8\" font-family=\"Helvetica,sans-Serif\" font-size=\"14.00\" fill=\"#000000\">samples = 608</text>\n<text text-anchor=\"middle\" x=\"6927.5\" y=\"-22.8\" font-family=\"Helvetica,sans-Serif\" font-size=\"14.00\" fill=\"#000000\">value = [0, 83, 0, 0, 0, 0, 0, 0, 0, 0, 525]</text>\n<text text-anchor=\"middle\" x=\"6927.5\" y=\"-7.8\" font-family=\"Helvetica,sans-Serif\" font-size=\"14.00\" fill=\"#000000\">class = New Zealand</text>\n</g>\n<!-- 51&#45;&gt;52 -->\n<g id=\"edge52\" class=\"edge\">\n<title>51&#45;&gt;52</title>\n<path fill=\"none\" stroke=\"#000000\" d=\"M7103.2383,-103.9815C7076.789,-93.449 7048.5158,-82.1902 7022.5503,-71.8504\"/>\n<polygon fill=\"#000000\" stroke=\"#000000\" points=\"7023.6816,-68.5336 7013.0962,-68.0856 7021.0918,-75.037 7023.6816,-68.5336\"/>\n</g>\n<!-- 53 -->\n<g id=\"node54\" class=\"node\">\n<title>53</title>\n<path fill=\"#e84d61\" stroke=\"#000000\" d=\"M7332.5,-68C7332.5,-68 7090.5,-68 7090.5,-68 7084.5,-68 7078.5,-62 7078.5,-56 7078.5,-56 7078.5,-12 7078.5,-12 7078.5,-6 7084.5,0 7090.5,0 7090.5,0 7332.5,0 7332.5,0 7338.5,0 7344.5,-6 7344.5,-12 7344.5,-12 7344.5,-56 7344.5,-56 7344.5,-62 7338.5,-68 7332.5,-68\"/>\n<text text-anchor=\"middle\" x=\"7211.5\" y=\"-52.8\" font-family=\"Helvetica,sans-Serif\" font-size=\"14.00\" fill=\"#000000\">gini = 0.164</text>\n<text text-anchor=\"middle\" x=\"7211.5\" y=\"-37.8\" font-family=\"Helvetica,sans-Serif\" font-size=\"14.00\" fill=\"#000000\">samples = 811</text>\n<text text-anchor=\"middle\" x=\"7211.5\" y=\"-22.8\" font-family=\"Helvetica,sans-Serif\" font-size=\"14.00\" fill=\"#000000\">value = [0, 73, 0, 0, 0, 0, 0, 0, 0, 0, 738]</text>\n<text text-anchor=\"middle\" x=\"7211.5\" y=\"-7.8\" font-family=\"Helvetica,sans-Serif\" font-size=\"14.00\" fill=\"#000000\">class = New Zealand</text>\n</g>\n<!-- 51&#45;&gt;53 -->\n<g id=\"edge53\" class=\"edge\">\n<title>51&#45;&gt;53</title>\n<path fill=\"none\" stroke=\"#000000\" d=\"M7208.9895,-103.9815C7209.2895,-95.618 7209.606,-86.7965 7209.9093,-78.3409\"/>\n<polygon fill=\"#000000\" stroke=\"#000000\" points=\"7213.41,-78.3828 7210.2708,-68.2637 7206.4145,-78.1317 7213.41,-78.3828\"/>\n</g>\n<!-- 55 -->\n<g id=\"node56\" class=\"node\">\n<title>55</title>\n<path fill=\"#e84e63\" stroke=\"#000000\" d=\"M7632.5,-68C7632.5,-68 7374.5,-68 7374.5,-68 7368.5,-68 7362.5,-62 7362.5,-56 7362.5,-56 7362.5,-12 7362.5,-12 7362.5,-6 7368.5,0 7374.5,0 7374.5,0 7632.5,0 7632.5,0 7638.5,0 7644.5,-6 7644.5,-12 7644.5,-12 7644.5,-56 7644.5,-56 7644.5,-62 7638.5,-68 7632.5,-68\"/>\n<text text-anchor=\"middle\" x=\"7503.5\" y=\"-52.8\" font-family=\"Helvetica,sans-Serif\" font-size=\"14.00\" fill=\"#000000\">gini = 0.175</text>\n<text text-anchor=\"middle\" x=\"7503.5\" y=\"-37.8\" font-family=\"Helvetica,sans-Serif\" font-size=\"14.00\" fill=\"#000000\">samples = 5216</text>\n<text text-anchor=\"middle\" x=\"7503.5\" y=\"-22.8\" font-family=\"Helvetica,sans-Serif\" font-size=\"14.00\" fill=\"#000000\">value = [0, 504, 0, 0, 0, 0, 0, 0, 0, 0, 4712]</text>\n<text text-anchor=\"middle\" x=\"7503.5\" y=\"-7.8\" font-family=\"Helvetica,sans-Serif\" font-size=\"14.00\" fill=\"#000000\">class = New Zealand</text>\n</g>\n<!-- 54&#45;&gt;55 -->\n<g id=\"edge55\" class=\"edge\">\n<title>54&#45;&gt;55</title>\n<path fill=\"none\" stroke=\"#000000\" d=\"M7506.0105,-103.9815C7505.7105,-95.618 7505.394,-86.7965 7505.0907,-78.3409\"/>\n<polygon fill=\"#000000\" stroke=\"#000000\" points=\"7508.5855,-78.1317 7504.7292,-68.2637 7501.59,-78.3828 7508.5855,-78.1317\"/>\n</g>\n<!-- 56 -->\n<g id=\"node57\" class=\"node\">\n<title>56</title>\n<path fill=\"#e7475d\" stroke=\"#000000\" d=\"M7916.5,-68C7916.5,-68 7674.5,-68 7674.5,-68 7668.5,-68 7662.5,-62 7662.5,-56 7662.5,-56 7662.5,-12 7662.5,-12 7662.5,-6 7668.5,0 7674.5,0 7674.5,0 7916.5,0 7916.5,0 7922.5,0 7928.5,-6 7928.5,-12 7928.5,-12 7928.5,-56 7928.5,-56 7928.5,-62 7922.5,-68 7916.5,-68\"/>\n<text text-anchor=\"middle\" x=\"7795.5\" y=\"-52.8\" font-family=\"Helvetica,sans-Serif\" font-size=\"14.00\" fill=\"#000000\">gini = 0.125</text>\n<text text-anchor=\"middle\" x=\"7795.5\" y=\"-37.8\" font-family=\"Helvetica,sans-Serif\" font-size=\"14.00\" fill=\"#000000\">samples = 892</text>\n<text text-anchor=\"middle\" x=\"7795.5\" y=\"-22.8\" font-family=\"Helvetica,sans-Serif\" font-size=\"14.00\" fill=\"#000000\">value = [0, 60, 0, 0, 0, 0, 0, 0, 0, 0, 832]</text>\n<text text-anchor=\"middle\" x=\"7795.5\" y=\"-7.8\" font-family=\"Helvetica,sans-Serif\" font-size=\"14.00\" fill=\"#000000\">class = New Zealand</text>\n</g>\n<!-- 54&#45;&gt;56 -->\n<g id=\"edge56\" class=\"edge\">\n<title>54&#45;&gt;56</title>\n<path fill=\"none\" stroke=\"#000000\" d=\"M7614.7406,-103.9815C7642.0649,-93.4028 7671.2817,-82.0914 7698.0852,-71.7144\"/>\n<polygon fill=\"#000000\" stroke=\"#000000\" points=\"7699.3964,-74.96 7707.4582,-68.0856 7696.869,-68.4322 7699.3964,-74.96\"/>\n</g>\n<!-- 58 -->\n<g id=\"node59\" class=\"node\">\n<title>58</title>\n<path fill=\"#e95468\" stroke=\"#000000\" d=\"M8350.5,-187C8350.5,-187 8092.5,-187 8092.5,-187 8086.5,-187 8080.5,-181 8080.5,-175 8080.5,-175 8080.5,-116 8080.5,-116 8080.5,-110 8086.5,-104 8092.5,-104 8092.5,-104 8350.5,-104 8350.5,-104 8356.5,-104 8362.5,-110 8362.5,-116 8362.5,-116 8362.5,-175 8362.5,-175 8362.5,-181 8356.5,-187 8350.5,-187\"/>\n<text text-anchor=\"middle\" x=\"8221.5\" y=\"-171.8\" font-family=\"Helvetica,sans-Serif\" font-size=\"14.00\" fill=\"#000000\">AGR2 &lt;= 1.5</text>\n<text text-anchor=\"middle\" x=\"8221.5\" y=\"-156.8\" font-family=\"Helvetica,sans-Serif\" font-size=\"14.00\" fill=\"#000000\">gini = 0.213</text>\n<text text-anchor=\"middle\" x=\"8221.5\" y=\"-141.8\" font-family=\"Helvetica,sans-Serif\" font-size=\"14.00\" fill=\"#000000\">samples = 4216</text>\n<text text-anchor=\"middle\" x=\"8221.5\" y=\"-126.8\" font-family=\"Helvetica,sans-Serif\" font-size=\"14.00\" fill=\"#000000\">value = [0, 512, 0, 0, 0, 0, 0, 0, 0, 0, 3704]</text>\n<text text-anchor=\"middle\" x=\"8221.5\" y=\"-111.8\" font-family=\"Helvetica,sans-Serif\" font-size=\"14.00\" fill=\"#000000\">class = New Zealand</text>\n</g>\n<!-- 57&#45;&gt;58 -->\n<g id=\"edge58\" class=\"edge\">\n<title>57&#45;&gt;58</title>\n<path fill=\"none\" stroke=\"#000000\" d=\"M8221.5,-222.8796C8221.5,-214.6838 8221.5,-205.9891 8221.5,-197.5013\"/>\n<polygon fill=\"#000000\" stroke=\"#000000\" points=\"8225.0001,-197.298 8221.5,-187.2981 8218.0001,-197.2981 8225.0001,-197.298\"/>\n</g>\n<!-- 61 -->\n<g id=\"node62\" class=\"node\">\n<title>61</title>\n<path fill=\"#e85165\" stroke=\"#000000\" d=\"M8809,-187C8809,-187 8534,-187 8534,-187 8528,-187 8522,-181 8522,-175 8522,-175 8522,-116 8522,-116 8522,-110 8528,-104 8534,-104 8534,-104 8809,-104 8809,-104 8815,-104 8821,-110 8821,-116 8821,-116 8821,-175 8821,-175 8821,-181 8815,-187 8809,-187\"/>\n<text text-anchor=\"middle\" x=\"8671.5\" y=\"-171.8\" font-family=\"Helvetica,sans-Serif\" font-size=\"14.00\" fill=\"#000000\">CSN2 &lt;= 1.5</text>\n<text text-anchor=\"middle\" x=\"8671.5\" y=\"-156.8\" font-family=\"Helvetica,sans-Serif\" font-size=\"14.00\" fill=\"#000000\">gini = 0.19</text>\n<text text-anchor=\"middle\" x=\"8671.5\" y=\"-141.8\" font-family=\"Helvetica,sans-Serif\" font-size=\"14.00\" fill=\"#000000\">samples = 11848</text>\n<text text-anchor=\"middle\" x=\"8671.5\" y=\"-126.8\" font-family=\"Helvetica,sans-Serif\" font-size=\"14.00\" fill=\"#000000\">value = [0, 1262, 0, 0, 0, 0, 0, 0, 0, 0, 10586]</text>\n<text text-anchor=\"middle\" x=\"8671.5\" y=\"-111.8\" font-family=\"Helvetica,sans-Serif\" font-size=\"14.00\" fill=\"#000000\">class = New Zealand</text>\n</g>\n<!-- 57&#45;&gt;61 -->\n<g id=\"edge61\" class=\"edge\">\n<title>57&#45;&gt;61</title>\n<path fill=\"none\" stroke=\"#000000\" d=\"M8371.0309,-224.9574C8416.2786,-212.9919 8466.1318,-199.8085 8512.0053,-187.6775\"/>\n<polygon fill=\"#000000\" stroke=\"#000000\" points=\"8512.9579,-191.046 8521.7307,-185.1057 8511.1682,-184.2786 8512.9579,-191.046\"/>\n</g>\n<!-- 59 -->\n<g id=\"node60\" class=\"node\">\n<title>59</title>\n<path fill=\"#e7475c\" stroke=\"#000000\" d=\"M8200.5,-68C8200.5,-68 7958.5,-68 7958.5,-68 7952.5,-68 7946.5,-62 7946.5,-56 7946.5,-56 7946.5,-12 7946.5,-12 7946.5,-6 7952.5,0 7958.5,0 7958.5,0 8200.5,0 8200.5,0 8206.5,0 8212.5,-6 8212.5,-12 8212.5,-12 8212.5,-56 8212.5,-56 8212.5,-62 8206.5,-68 8200.5,-68\"/>\n<text text-anchor=\"middle\" x=\"8079.5\" y=\"-52.8\" font-family=\"Helvetica,sans-Serif\" font-size=\"14.00\" fill=\"#000000\">gini = 0.122</text>\n<text text-anchor=\"middle\" x=\"8079.5\" y=\"-37.8\" font-family=\"Helvetica,sans-Serif\" font-size=\"14.00\" fill=\"#000000\">samples = 200</text>\n<text text-anchor=\"middle\" x=\"8079.5\" y=\"-22.8\" font-family=\"Helvetica,sans-Serif\" font-size=\"14.00\" fill=\"#000000\">value = [0, 13, 0, 0, 0, 0, 0, 0, 0, 0, 187]</text>\n<text text-anchor=\"middle\" x=\"8079.5\" y=\"-7.8\" font-family=\"Helvetica,sans-Serif\" font-size=\"14.00\" fill=\"#000000\">class = New Zealand</text>\n</g>\n<!-- 58&#45;&gt;59 -->\n<g id=\"edge59\" class=\"edge\">\n<title>58&#45;&gt;59</title>\n<path fill=\"none\" stroke=\"#000000\" d=\"M8168.6244,-103.9815C8156.3345,-94.3313 8143.2681,-84.0714 8131.0368,-74.4673\"/>\n<polygon fill=\"#000000\" stroke=\"#000000\" points=\"8133.1629,-71.6867 8123.1362,-68.2637 8128.8398,-77.1923 8133.1629,-71.6867\"/>\n</g>\n<!-- 60 -->\n<g id=\"node61\" class=\"node\">\n<title>60</title>\n<path fill=\"#e95569\" stroke=\"#000000\" d=\"M8500.5,-68C8500.5,-68 8242.5,-68 8242.5,-68 8236.5,-68 8230.5,-62 8230.5,-56 8230.5,-56 8230.5,-12 8230.5,-12 8230.5,-6 8236.5,0 8242.5,0 8242.5,0 8500.5,0 8500.5,0 8506.5,0 8512.5,-6 8512.5,-12 8512.5,-12 8512.5,-56 8512.5,-56 8512.5,-62 8506.5,-68 8500.5,-68\"/>\n<text text-anchor=\"middle\" x=\"8371.5\" y=\"-52.8\" font-family=\"Helvetica,sans-Serif\" font-size=\"14.00\" fill=\"#000000\">gini = 0.218</text>\n<text text-anchor=\"middle\" x=\"8371.5\" y=\"-37.8\" font-family=\"Helvetica,sans-Serif\" font-size=\"14.00\" fill=\"#000000\">samples = 4016</text>\n<text text-anchor=\"middle\" x=\"8371.5\" y=\"-22.8\" font-family=\"Helvetica,sans-Serif\" font-size=\"14.00\" fill=\"#000000\">value = [0, 499, 0, 0, 0, 0, 0, 0, 0, 0, 3517]</text>\n<text text-anchor=\"middle\" x=\"8371.5\" y=\"-7.8\" font-family=\"Helvetica,sans-Serif\" font-size=\"14.00\" fill=\"#000000\">class = New Zealand</text>\n</g>\n<!-- 58&#45;&gt;60 -->\n<g id=\"edge60\" class=\"edge\">\n<title>58&#45;&gt;60</title>\n<path fill=\"none\" stroke=\"#000000\" d=\"M8277.3545,-103.9815C8290.3368,-94.3313 8304.1394,-84.0714 8317.0597,-74.4673\"/>\n<polygon fill=\"#000000\" stroke=\"#000000\" points=\"8319.4678,-77.0384 8325.4054,-68.2637 8315.2917,-71.4204 8319.4678,-77.0384\"/>\n</g>\n<!-- 62 -->\n<g id=\"node63\" class=\"node\">\n<title>62</title>\n<path fill=\"#e84d62\" stroke=\"#000000\" d=\"M8800.5,-68C8800.5,-68 8542.5,-68 8542.5,-68 8536.5,-68 8530.5,-62 8530.5,-56 8530.5,-56 8530.5,-12 8530.5,-12 8530.5,-6 8536.5,0 8542.5,0 8542.5,0 8800.5,0 8800.5,0 8806.5,0 8812.5,-6 8812.5,-12 8812.5,-12 8812.5,-56 8812.5,-56 8812.5,-62 8806.5,-68 8800.5,-68\"/>\n<text text-anchor=\"middle\" x=\"8671.5\" y=\"-52.8\" font-family=\"Helvetica,sans-Serif\" font-size=\"14.00\" fill=\"#000000\">gini = 0.169</text>\n<text text-anchor=\"middle\" x=\"8671.5\" y=\"-37.8\" font-family=\"Helvetica,sans-Serif\" font-size=\"14.00\" fill=\"#000000\">samples = 2200</text>\n<text text-anchor=\"middle\" x=\"8671.5\" y=\"-22.8\" font-family=\"Helvetica,sans-Serif\" font-size=\"14.00\" fill=\"#000000\">value = [0, 205, 0, 0, 0, 0, 0, 0, 0, 0, 1995]</text>\n<text text-anchor=\"middle\" x=\"8671.5\" y=\"-7.8\" font-family=\"Helvetica,sans-Serif\" font-size=\"14.00\" fill=\"#000000\">class = New Zealand</text>\n</g>\n<!-- 61&#45;&gt;62 -->\n<g id=\"edge62\" class=\"edge\">\n<title>61&#45;&gt;62</title>\n<path fill=\"none\" stroke=\"#000000\" d=\"M8671.5,-103.9815C8671.5,-95.618 8671.5,-86.7965 8671.5,-78.3409\"/>\n<polygon fill=\"#000000\" stroke=\"#000000\" points=\"8675.0001,-78.2636 8671.5,-68.2637 8668.0001,-78.2637 8675.0001,-78.2636\"/>\n</g>\n<!-- 63 -->\n<g id=\"node64\" class=\"node\">\n<title>63</title>\n<path fill=\"#e85166\" stroke=\"#000000\" d=\"M9108.5,-68C9108.5,-68 8842.5,-68 8842.5,-68 8836.5,-68 8830.5,-62 8830.5,-56 8830.5,-56 8830.5,-12 8830.5,-12 8830.5,-6 8836.5,0 8842.5,0 8842.5,0 9108.5,0 9108.5,0 9114.5,0 9120.5,-6 9120.5,-12 9120.5,-12 9120.5,-56 9120.5,-56 9120.5,-62 9114.5,-68 9108.5,-68\"/>\n<text text-anchor=\"middle\" x=\"8975.5\" y=\"-52.8\" font-family=\"Helvetica,sans-Serif\" font-size=\"14.00\" fill=\"#000000\">gini = 0.195</text>\n<text text-anchor=\"middle\" x=\"8975.5\" y=\"-37.8\" font-family=\"Helvetica,sans-Serif\" font-size=\"14.00\" fill=\"#000000\">samples = 9648</text>\n<text text-anchor=\"middle\" x=\"8975.5\" y=\"-22.8\" font-family=\"Helvetica,sans-Serif\" font-size=\"14.00\" fill=\"#000000\">value = [0, 1057, 0, 0, 0, 0, 0, 0, 0, 0, 8591]</text>\n<text text-anchor=\"middle\" x=\"8975.5\" y=\"-7.8\" font-family=\"Helvetica,sans-Serif\" font-size=\"14.00\" fill=\"#000000\">class = New Zealand</text>\n</g>\n<!-- 61&#45;&gt;63 -->\n<g id=\"edge63\" class=\"edge\">\n<title>61&#45;&gt;63</title>\n<path fill=\"none\" stroke=\"#000000\" d=\"M8784.6984,-103.9815C8813.6667,-93.3566 8844.6501,-81.9926 8873.0438,-71.5785\"/>\n<polygon fill=\"#000000\" stroke=\"#000000\" points=\"8874.3838,-74.8151 8882.567,-68.0856 8871.9733,-68.2432 8874.3838,-74.8151\"/>\n</g>\n<!-- 65 -->\n<g id=\"node66\" class=\"node\">\n<title>65</title>\n<path fill=\"#f6d4bb\" stroke=\"#000000\" d=\"M10454.5,-544C10454.5,-544 10146.5,-544 10146.5,-544 10140.5,-544 10134.5,-538 10134.5,-532 10134.5,-532 10134.5,-473 10134.5,-473 10134.5,-467 10140.5,-461 10146.5,-461 10146.5,-461 10454.5,-461 10454.5,-461 10460.5,-461 10466.5,-467 10466.5,-473 10466.5,-473 10466.5,-532 10466.5,-532 10466.5,-538 10460.5,-544 10454.5,-544\"/>\n<text text-anchor=\"middle\" x=\"10300.5\" y=\"-528.8\" font-family=\"Helvetica,sans-Serif\" font-size=\"14.00\" fill=\"#000000\">continent &lt;= 3.5</text>\n<text text-anchor=\"middle\" x=\"10300.5\" y=\"-513.8\" font-family=\"Helvetica,sans-Serif\" font-size=\"14.00\" fill=\"#000000\">gini = 0.664</text>\n<text text-anchor=\"middle\" x=\"10300.5\" y=\"-498.8\" font-family=\"Helvetica,sans-Serif\" font-size=\"14.00\" fill=\"#000000\">samples = 8259</text>\n<text text-anchor=\"middle\" x=\"10300.5\" y=\"-483.8\" font-family=\"Helvetica,sans-Serif\" font-size=\"14.00\" fill=\"#000000\">value = [4072, 0, 0, 1889, 872, 0, 0, 1426, 0, 0, 0]</text>\n<text text-anchor=\"middle\" x=\"10300.5\" y=\"-468.8\" font-family=\"Helvetica,sans-Serif\" font-size=\"14.00\" fill=\"#000000\">class = United Kingdom</text>\n</g>\n<!-- 64&#45;&gt;65 -->\n<g id=\"edge65\" class=\"edge\">\n<title>64&#45;&gt;65</title>\n<path fill=\"none\" stroke=\"#000000\" d=\"M10300.5,-579.7296C10300.5,-571.3452 10300.5,-562.6158 10300.5,-554.1714\"/>\n<polygon fill=\"#000000\" stroke=\"#000000\" points=\"10304.0001,-554.0549 10300.5,-544.055 10297.0001,-554.055 10304.0001,-554.0549\"/>\n</g>\n<!-- 82 -->\n<g id=\"node83\" class=\"node\">\n<title>82</title>\n<path fill=\"#f299d5\" stroke=\"#000000\" d=\"M12787.5,-544C12787.5,-544 12463.5,-544 12463.5,-544 12457.5,-544 12451.5,-538 12451.5,-532 12451.5,-532 12451.5,-473 12451.5,-473 12451.5,-467 12457.5,-461 12463.5,-461 12463.5,-461 12787.5,-461 12787.5,-461 12793.5,-461 12799.5,-467 12799.5,-473 12799.5,-473 12799.5,-532 12799.5,-532 12799.5,-538 12793.5,-544 12787.5,-544\"/>\n<text text-anchor=\"middle\" x=\"12625.5\" y=\"-528.8\" font-family=\"Helvetica,sans-Serif\" font-size=\"14.00\" fill=\"#000000\">Cluster &lt;= 2.5</text>\n<text text-anchor=\"middle\" x=\"12625.5\" y=\"-513.8\" font-family=\"Helvetica,sans-Serif\" font-size=\"14.00\" fill=\"#000000\">gini = 0.627</text>\n<text text-anchor=\"middle\" x=\"12625.5\" y=\"-498.8\" font-family=\"Helvetica,sans-Serif\" font-size=\"14.00\" fill=\"#000000\">samples = 9391</text>\n<text text-anchor=\"middle\" x=\"12625.5\" y=\"-483.8\" font-family=\"Helvetica,sans-Serif\" font-size=\"14.00\" fill=\"#000000\">value = [0, 0, 1014, 0, 0, 991, 1072, 0, 940, 5374, 0]</text>\n<text text-anchor=\"middle\" x=\"12625.5\" y=\"-468.8\" font-family=\"Helvetica,sans-Serif\" font-size=\"14.00\" fill=\"#000000\">class = Germany</text>\n</g>\n<!-- 64&#45;&gt;82 -->\n<g id=\"edge82\" class=\"edge\">\n<title>64&#45;&gt;82</title>\n<path fill=\"none\" stroke=\"#000000\" d=\"M10510.1575,-617.5928C10960.5407,-593.0881 12014.1207,-535.7643 12440.9971,-512.5385\"/>\n<polygon fill=\"#000000\" stroke=\"#000000\" points=\"12441.4788,-516.0176 12451.2738,-511.9794 12441.0984,-509.0279 12441.4788,-516.0176\"/>\n</g>\n<!-- 66 -->\n<g id=\"node67\" class=\"node\">\n<title>66</title>\n<path fill=\"#defbdf\" stroke=\"#000000\" d=\"M10289,-425C10289,-425 10006,-425 10006,-425 10000,-425 9994,-419 9994,-413 9994,-413 9994,-354 9994,-354 9994,-348 10000,-342 10006,-342 10006,-342 10289,-342 10289,-342 10295,-342 10301,-348 10301,-354 10301,-354 10301,-413 10301,-413 10301,-419 10295,-425 10289,-425\"/>\n<text text-anchor=\"middle\" x=\"10147.5\" y=\"-409.8\" font-family=\"Helvetica,sans-Serif\" font-size=\"14.00\" fill=\"#000000\">OPN2 &lt;= 1.5</text>\n<text text-anchor=\"middle\" x=\"10147.5\" y=\"-394.8\" font-family=\"Helvetica,sans-Serif\" font-size=\"14.00\" fill=\"#000000\">gini = 0.637</text>\n<text text-anchor=\"middle\" x=\"10147.5\" y=\"-379.8\" font-family=\"Helvetica,sans-Serif\" font-size=\"14.00\" fill=\"#000000\">samples = 4187</text>\n<text text-anchor=\"middle\" x=\"10147.5\" y=\"-364.8\" font-family=\"Helvetica,sans-Serif\" font-size=\"14.00\" fill=\"#000000\">value = [0, 0, 0, 1889, 872, 0, 0, 1426, 0, 0, 0]</text>\n<text text-anchor=\"middle\" x=\"10147.5\" y=\"-349.8\" font-family=\"Helvetica,sans-Serif\" font-size=\"14.00\" fill=\"#000000\">class = United States</text>\n</g>\n<!-- 65&#45;&gt;66 -->\n<g id=\"edge66\" class=\"edge\">\n<title>65&#45;&gt;66</title>\n<path fill=\"none\" stroke=\"#000000\" d=\"M10246.988,-460.8796C10234.7588,-451.368 10221.6656,-441.1843 10209.1268,-431.432\"/>\n<polygon fill=\"#000000\" stroke=\"#000000\" points=\"10211.0241,-428.4736 10200.9818,-425.0969 10206.7265,-433.9991 10211.0241,-428.4736\"/>\n</g>\n<!-- 81 -->\n<g id=\"node82\" class=\"node\">\n<title>81</title>\n<path fill=\"#e58139\" stroke=\"#000000\" d=\"M10573.5,-417.5C10573.5,-417.5 10331.5,-417.5 10331.5,-417.5 10325.5,-417.5 10319.5,-411.5 10319.5,-405.5 10319.5,-405.5 10319.5,-361.5 10319.5,-361.5 10319.5,-355.5 10325.5,-349.5 10331.5,-349.5 10331.5,-349.5 10573.5,-349.5 10573.5,-349.5 10579.5,-349.5 10585.5,-355.5 10585.5,-361.5 10585.5,-361.5 10585.5,-405.5 10585.5,-405.5 10585.5,-411.5 10579.5,-417.5 10573.5,-417.5\"/>\n<text text-anchor=\"middle\" x=\"10452.5\" y=\"-402.3\" font-family=\"Helvetica,sans-Serif\" font-size=\"14.00\" fill=\"#000000\">gini = 0.0</text>\n<text text-anchor=\"middle\" x=\"10452.5\" y=\"-387.3\" font-family=\"Helvetica,sans-Serif\" font-size=\"14.00\" fill=\"#000000\">samples = 4072</text>\n<text text-anchor=\"middle\" x=\"10452.5\" y=\"-372.3\" font-family=\"Helvetica,sans-Serif\" font-size=\"14.00\" fill=\"#000000\">value = [4072, 0, 0, 0, 0, 0, 0, 0, 0, 0, 0]</text>\n<text text-anchor=\"middle\" x=\"10452.5\" y=\"-357.3\" font-family=\"Helvetica,sans-Serif\" font-size=\"14.00\" fill=\"#000000\">class = United Kingdom</text>\n</g>\n<!-- 65&#45;&gt;81 -->\n<g id=\"edge81\" class=\"edge\">\n<title>65&#45;&gt;81</title>\n<path fill=\"none\" stroke=\"#000000\" d=\"M10353.6622,-460.8796C10368.8313,-449.0038 10385.3384,-436.0804 10400.4409,-424.2568\"/>\n<polygon fill=\"#000000\" stroke=\"#000000\" points=\"10402.9528,-426.7353 10408.6692,-417.8149 10398.6376,-421.2236 10402.9528,-426.7353\"/>\n</g>\n<!-- 67 -->\n<g id=\"node68\" class=\"node\">\n<title>67</title>\n<path fill=\"#a7f3ab\" stroke=\"#000000\" d=\"M10130.5,-306C10130.5,-306 9864.5,-306 9864.5,-306 9858.5,-306 9852.5,-300 9852.5,-294 9852.5,-294 9852.5,-235 9852.5,-235 9852.5,-229 9858.5,-223 9864.5,-223 9864.5,-223 10130.5,-223 10130.5,-223 10136.5,-223 10142.5,-229 10142.5,-235 10142.5,-235 10142.5,-294 10142.5,-294 10142.5,-300 10136.5,-306 10130.5,-306\"/>\n<text text-anchor=\"middle\" x=\"9997.5\" y=\"-290.8\" font-family=\"Helvetica,sans-Serif\" font-size=\"14.00\" fill=\"#000000\">Cluster &lt;= 0.5</text>\n<text text-anchor=\"middle\" x=\"9997.5\" y=\"-275.8\" font-family=\"Helvetica,sans-Serif\" font-size=\"14.00\" fill=\"#000000\">gini = 0.561</text>\n<text text-anchor=\"middle\" x=\"9997.5\" y=\"-260.8\" font-family=\"Helvetica,sans-Serif\" font-size=\"14.00\" fill=\"#000000\">samples = 1136</text>\n<text text-anchor=\"middle\" x=\"9997.5\" y=\"-245.8\" font-family=\"Helvetica,sans-Serif\" font-size=\"14.00\" fill=\"#000000\">value = [0, 0, 0, 670, 167, 0, 0, 299, 0, 0, 0]</text>\n<text text-anchor=\"middle\" x=\"9997.5\" y=\"-230.8\" font-family=\"Helvetica,sans-Serif\" font-size=\"14.00\" fill=\"#000000\">class = United States</text>\n</g>\n<!-- 66&#45;&gt;67 -->\n<g id=\"edge67\" class=\"edge\">\n<title>66&#45;&gt;67</title>\n<path fill=\"none\" stroke=\"#000000\" d=\"M10095.0373,-341.8796C10083.0479,-332.368 10070.2113,-322.1843 10057.9184,-312.432\"/>\n<polygon fill=\"#000000\" stroke=\"#000000\" points=\"10059.9425,-309.5701 10049.9331,-306.0969 10055.5919,-315.054 10059.9425,-309.5701\"/>\n</g>\n<!-- 74 -->\n<g id=\"node75\" class=\"node\">\n<title>74</title>\n<path fill=\"#f6fef6\" stroke=\"#000000\" d=\"M10733,-306C10733,-306 10450,-306 10450,-306 10444,-306 10438,-300 10438,-294 10438,-294 10438,-235 10438,-235 10438,-229 10444,-223 10450,-223 10450,-223 10733,-223 10733,-223 10739,-223 10745,-229 10745,-235 10745,-235 10745,-294 10745,-294 10745,-300 10739,-306 10733,-306\"/>\n<text text-anchor=\"middle\" x=\"10591.5\" y=\"-290.8\" font-family=\"Helvetica,sans-Serif\" font-size=\"14.00\" fill=\"#000000\">EXT1 &lt;= 3.5</text>\n<text text-anchor=\"middle\" x=\"10591.5\" y=\"-275.8\" font-family=\"Helvetica,sans-Serif\" font-size=\"14.00\" fill=\"#000000\">gini = 0.651</text>\n<text text-anchor=\"middle\" x=\"10591.5\" y=\"-260.8\" font-family=\"Helvetica,sans-Serif\" font-size=\"14.00\" fill=\"#000000\">samples = 3051</text>\n<text text-anchor=\"middle\" x=\"10591.5\" y=\"-245.8\" font-family=\"Helvetica,sans-Serif\" font-size=\"14.00\" fill=\"#000000\">value = [0, 0, 0, 1219, 705, 0, 0, 1127, 0, 0, 0]</text>\n<text text-anchor=\"middle\" x=\"10591.5\" y=\"-230.8\" font-family=\"Helvetica,sans-Serif\" font-size=\"14.00\" fill=\"#000000\">class = United States</text>\n</g>\n<!-- 66&#45;&gt;74 -->\n<g id=\"edge74\" class=\"edge\">\n<title>66&#45;&gt;74</title>\n<path fill=\"none\" stroke=\"#000000\" d=\"M10301.2324,-342.2969C10342.1741,-331.3238 10386.5476,-319.4309 10427.9924,-308.323\"/>\n<polygon fill=\"#000000\" stroke=\"#000000\" points=\"10429.1474,-311.637 10437.9004,-305.6675 10427.3352,-304.8757 10429.1474,-311.637\"/>\n</g>\n<!-- 68 -->\n<g id=\"node69\" class=\"node\">\n<title>68</title>\n<path fill=\"#dcfadd\" stroke=\"#000000\" d=\"M9676.5,-187C9676.5,-187 9426.5,-187 9426.5,-187 9420.5,-187 9414.5,-181 9414.5,-175 9414.5,-175 9414.5,-116 9414.5,-116 9414.5,-110 9420.5,-104 9426.5,-104 9426.5,-104 9676.5,-104 9676.5,-104 9682.5,-104 9688.5,-110 9688.5,-116 9688.5,-116 9688.5,-175 9688.5,-175 9688.5,-181 9682.5,-187 9676.5,-187\"/>\n<text text-anchor=\"middle\" x=\"9551.5\" y=\"-171.8\" font-family=\"Helvetica,sans-Serif\" font-size=\"14.00\" fill=\"#000000\">OPN1 &lt;= 4.5</text>\n<text text-anchor=\"middle\" x=\"9551.5\" y=\"-156.8\" font-family=\"Helvetica,sans-Serif\" font-size=\"14.00\" fill=\"#000000\">gini = 0.606</text>\n<text text-anchor=\"middle\" x=\"9551.5\" y=\"-141.8\" font-family=\"Helvetica,sans-Serif\" font-size=\"14.00\" fill=\"#000000\">samples = 223</text>\n<text text-anchor=\"middle\" x=\"9551.5\" y=\"-126.8\" font-family=\"Helvetica,sans-Serif\" font-size=\"14.00\" fill=\"#000000\">value = [0, 0, 0, 108, 32, 0, 0, 83, 0, 0, 0]</text>\n<text text-anchor=\"middle\" x=\"9551.5\" y=\"-111.8\" font-family=\"Helvetica,sans-Serif\" font-size=\"14.00\" fill=\"#000000\">class = United States</text>\n</g>\n<!-- 67&#45;&gt;68 -->\n<g id=\"edge68\" class=\"edge\">\n<title>67&#45;&gt;68</title>\n<path fill=\"none\" stroke=\"#000000\" d=\"M9852.3884,-225.7819C9803.0425,-212.6156 9747.8772,-197.8966 9698.3931,-184.6935\"/>\n<polygon fill=\"#000000\" stroke=\"#000000\" points=\"9699.1398,-181.2703 9688.5755,-182.074 9697.3352,-188.0337 9699.1398,-181.2703\"/>\n</g>\n<!-- 71 -->\n<g id=\"node72\" class=\"node\">\n<title>71</title>\n<path fill=\"#9df2a1\" stroke=\"#000000\" d=\"M10130.5,-187C10130.5,-187 9864.5,-187 9864.5,-187 9858.5,-187 9852.5,-181 9852.5,-175 9852.5,-175 9852.5,-116 9852.5,-116 9852.5,-110 9858.5,-104 9864.5,-104 9864.5,-104 10130.5,-104 10130.5,-104 10136.5,-104 10142.5,-110 10142.5,-116 10142.5,-116 10142.5,-175 10142.5,-175 10142.5,-181 10136.5,-187 10130.5,-187\"/>\n<text text-anchor=\"middle\" x=\"9997.5\" y=\"-171.8\" font-family=\"Helvetica,sans-Serif\" font-size=\"14.00\" fill=\"#000000\">EXT2 &lt;= 3.5</text>\n<text text-anchor=\"middle\" x=\"9997.5\" y=\"-156.8\" font-family=\"Helvetica,sans-Serif\" font-size=\"14.00\" fill=\"#000000\">gini = 0.543</text>\n<text text-anchor=\"middle\" x=\"9997.5\" y=\"-141.8\" font-family=\"Helvetica,sans-Serif\" font-size=\"14.00\" fill=\"#000000\">samples = 913</text>\n<text text-anchor=\"middle\" x=\"9997.5\" y=\"-126.8\" font-family=\"Helvetica,sans-Serif\" font-size=\"14.00\" fill=\"#000000\">value = [0, 0, 0, 562, 135, 0, 0, 216, 0, 0, 0]</text>\n<text text-anchor=\"middle\" x=\"9997.5\" y=\"-111.8\" font-family=\"Helvetica,sans-Serif\" font-size=\"14.00\" fill=\"#000000\">class = United States</text>\n</g>\n<!-- 67&#45;&gt;71 -->\n<g id=\"edge71\" class=\"edge\">\n<title>67&#45;&gt;71</title>\n<path fill=\"none\" stroke=\"#000000\" d=\"M9997.5,-222.8796C9997.5,-214.6838 9997.5,-205.9891 9997.5,-197.5013\"/>\n<polygon fill=\"#000000\" stroke=\"#000000\" points=\"10001.0001,-197.298 9997.5,-187.2981 9994.0001,-197.2981 10001.0001,-197.298\"/>\n</g>\n<!-- 69 -->\n<g id=\"node70\" class=\"node\">\n<title>69</title>\n<path fill=\"#ccf8ce\" stroke=\"#000000\" d=\"M9392.5,-68C9392.5,-68 9150.5,-68 9150.5,-68 9144.5,-68 9138.5,-62 9138.5,-56 9138.5,-56 9138.5,-12 9138.5,-12 9138.5,-6 9144.5,0 9150.5,0 9150.5,0 9392.5,0 9392.5,0 9398.5,0 9404.5,-6 9404.5,-12 9404.5,-12 9404.5,-56 9404.5,-56 9404.5,-62 9398.5,-68 9392.5,-68\"/>\n<text text-anchor=\"middle\" x=\"9271.5\" y=\"-52.8\" font-family=\"Helvetica,sans-Serif\" font-size=\"14.00\" fill=\"#000000\">gini = 0.613</text>\n<text text-anchor=\"middle\" x=\"9271.5\" y=\"-37.8\" font-family=\"Helvetica,sans-Serif\" font-size=\"14.00\" fill=\"#000000\">samples = 174</text>\n<text text-anchor=\"middle\" x=\"9271.5\" y=\"-22.8\" font-family=\"Helvetica,sans-Serif\" font-size=\"14.00\" fill=\"#000000\">value = [0, 0, 0, 87, 30, 0, 0, 57, 0, 0, 0]</text>\n<text text-anchor=\"middle\" x=\"9271.5\" y=\"-7.8\" font-family=\"Helvetica,sans-Serif\" font-size=\"14.00\" fill=\"#000000\">class = United States</text>\n</g>\n<!-- 68&#45;&gt;69 -->\n<g id=\"edge69\" class=\"edge\">\n<title>68&#45;&gt;69</title>\n<path fill=\"none\" stroke=\"#000000\" d=\"M9447.2383,-103.9815C9420.789,-93.449 9392.5158,-82.1902 9366.5503,-71.8504\"/>\n<polygon fill=\"#000000\" stroke=\"#000000\" points=\"9367.6816,-68.5336 9357.0962,-68.0856 9365.0918,-75.037 9367.6816,-68.5336\"/>\n</g>\n<!-- 70 -->\n<g id=\"node71\" class=\"node\">\n<title>70</title>\n<path fill=\"#e3dcfa\" stroke=\"#000000\" d=\"M9668,-68C9668,-68 9435,-68 9435,-68 9429,-68 9423,-62 9423,-56 9423,-56 9423,-12 9423,-12 9423,-6 9429,0 9435,0 9435,0 9668,0 9668,0 9674,0 9680,-6 9680,-12 9680,-12 9680,-56 9680,-56 9680,-62 9674,-68 9668,-68\"/>\n<text text-anchor=\"middle\" x=\"9551.5\" y=\"-52.8\" font-family=\"Helvetica,sans-Serif\" font-size=\"14.00\" fill=\"#000000\">gini = 0.533</text>\n<text text-anchor=\"middle\" x=\"9551.5\" y=\"-37.8\" font-family=\"Helvetica,sans-Serif\" font-size=\"14.00\" fill=\"#000000\">samples = 49</text>\n<text text-anchor=\"middle\" x=\"9551.5\" y=\"-22.8\" font-family=\"Helvetica,sans-Serif\" font-size=\"14.00\" fill=\"#000000\">value = [0, 0, 0, 21, 2, 0, 0, 26, 0, 0, 0]</text>\n<text text-anchor=\"middle\" x=\"9551.5\" y=\"-7.8\" font-family=\"Helvetica,sans-Serif\" font-size=\"14.00\" fill=\"#000000\">class = Canada</text>\n</g>\n<!-- 68&#45;&gt;70 -->\n<g id=\"edge70\" class=\"edge\">\n<title>68&#45;&gt;70</title>\n<path fill=\"none\" stroke=\"#000000\" d=\"M9551.5,-103.9815C9551.5,-95.618 9551.5,-86.7965 9551.5,-78.3409\"/>\n<polygon fill=\"#000000\" stroke=\"#000000\" points=\"9555.0001,-78.2636 9551.5,-68.2637 9548.0001,-78.2637 9555.0001,-78.2636\"/>\n</g>\n<!-- 72 -->\n<g id=\"node73\" class=\"node\">\n<title>72</title>\n<path fill=\"#a4f3a8\" stroke=\"#000000\" d=\"M9976.5,-68C9976.5,-68 9710.5,-68 9710.5,-68 9704.5,-68 9698.5,-62 9698.5,-56 9698.5,-56 9698.5,-12 9698.5,-12 9698.5,-6 9704.5,0 9710.5,0 9710.5,0 9976.5,0 9976.5,0 9982.5,0 9988.5,-6 9988.5,-12 9988.5,-12 9988.5,-56 9988.5,-56 9988.5,-62 9982.5,-68 9976.5,-68\"/>\n<text text-anchor=\"middle\" x=\"9843.5\" y=\"-52.8\" font-family=\"Helvetica,sans-Serif\" font-size=\"14.00\" fill=\"#000000\">gini = 0.566</text>\n<text text-anchor=\"middle\" x=\"9843.5\" y=\"-37.8\" font-family=\"Helvetica,sans-Serif\" font-size=\"14.00\" fill=\"#000000\">samples = 633</text>\n<text text-anchor=\"middle\" x=\"9843.5\" y=\"-22.8\" font-family=\"Helvetica,sans-Serif\" font-size=\"14.00\" fill=\"#000000\">value = [0, 0, 0, 373, 106, 0, 0, 154, 0, 0, 0]</text>\n<text text-anchor=\"middle\" x=\"9843.5\" y=\"-7.8\" font-family=\"Helvetica,sans-Serif\" font-size=\"14.00\" fill=\"#000000\">class = United States</text>\n</g>\n<!-- 71&#45;&gt;72 -->\n<g id=\"edge72\" class=\"edge\">\n<title>71&#45;&gt;72</title>\n<path fill=\"none\" stroke=\"#000000\" d=\"M9940.1561,-103.9815C9926.7006,-94.2394 9912.3869,-83.8759 9899.0133,-74.193\"/>\n<polygon fill=\"#000000\" stroke=\"#000000\" points=\"9900.9763,-71.2933 9890.8238,-68.2637 9896.8711,-76.9632 9900.9763,-71.2933\"/>\n</g>\n<!-- 73 -->\n<g id=\"node74\" class=\"node\">\n<title>73</title>\n<path fill=\"#8cf090\" stroke=\"#000000\" d=\"M10268.5,-68C10268.5,-68 10018.5,-68 10018.5,-68 10012.5,-68 10006.5,-62 10006.5,-56 10006.5,-56 10006.5,-12 10006.5,-12 10006.5,-6 10012.5,0 10018.5,0 10018.5,0 10268.5,0 10268.5,0 10274.5,0 10280.5,-6 10280.5,-12 10280.5,-12 10280.5,-56 10280.5,-56 10280.5,-62 10274.5,-68 10268.5,-68\"/>\n<text text-anchor=\"middle\" x=\"10143.5\" y=\"-52.8\" font-family=\"Helvetica,sans-Serif\" font-size=\"14.00\" fill=\"#000000\">gini = 0.485</text>\n<text text-anchor=\"middle\" x=\"10143.5\" y=\"-37.8\" font-family=\"Helvetica,sans-Serif\" font-size=\"14.00\" fill=\"#000000\">samples = 280</text>\n<text text-anchor=\"middle\" x=\"10143.5\" y=\"-22.8\" font-family=\"Helvetica,sans-Serif\" font-size=\"14.00\" fill=\"#000000\">value = [0, 0, 0, 189, 29, 0, 0, 62, 0, 0, 0]</text>\n<text text-anchor=\"middle\" x=\"10143.5\" y=\"-7.8\" font-family=\"Helvetica,sans-Serif\" font-size=\"14.00\" fill=\"#000000\">class = United States</text>\n</g>\n<!-- 71&#45;&gt;73 -->\n<g id=\"edge73\" class=\"edge\">\n<title>71&#45;&gt;73</title>\n<path fill=\"none\" stroke=\"#000000\" d=\"M10051.865,-103.9815C10064.5011,-94.3313 10077.9356,-84.0714 10090.5115,-74.4673\"/>\n<polygon fill=\"#000000\" stroke=\"#000000\" points=\"10092.8114,-77.1148 10098.6346,-68.2637 10088.5628,-71.5515 10092.8114,-77.1148\"/>\n</g>\n<!-- 75 -->\n<g id=\"node76\" class=\"node\">\n<title>75</title>\n<path fill=\"#fdfcff\" stroke=\"#000000\" d=\"M10724.5,-187C10724.5,-187 10458.5,-187 10458.5,-187 10452.5,-187 10446.5,-181 10446.5,-175 10446.5,-175 10446.5,-116 10446.5,-116 10446.5,-110 10452.5,-104 10458.5,-104 10458.5,-104 10724.5,-104 10724.5,-104 10730.5,-104 10736.5,-110 10736.5,-116 10736.5,-116 10736.5,-175 10736.5,-175 10736.5,-181 10730.5,-187 10724.5,-187\"/>\n<text text-anchor=\"middle\" x=\"10591.5\" y=\"-171.8\" font-family=\"Helvetica,sans-Serif\" font-size=\"14.00\" fill=\"#000000\">EXT2 &lt;= 3.5</text>\n<text text-anchor=\"middle\" x=\"10591.5\" y=\"-156.8\" font-family=\"Helvetica,sans-Serif\" font-size=\"14.00\" fill=\"#000000\">gini = 0.653</text>\n<text text-anchor=\"middle\" x=\"10591.5\" y=\"-141.8\" font-family=\"Helvetica,sans-Serif\" font-size=\"14.00\" fill=\"#000000\">samples = 2378</text>\n<text text-anchor=\"middle\" x=\"10591.5\" y=\"-126.8\" font-family=\"Helvetica,sans-Serif\" font-size=\"14.00\" fill=\"#000000\">value = [0, 0, 0, 893, 570, 0, 0, 915, 0, 0, 0]</text>\n<text text-anchor=\"middle\" x=\"10591.5\" y=\"-111.8\" font-family=\"Helvetica,sans-Serif\" font-size=\"14.00\" fill=\"#000000\">class = Canada</text>\n</g>\n<!-- 74&#45;&gt;75 -->\n<g id=\"edge75\" class=\"edge\">\n<title>74&#45;&gt;75</title>\n<path fill=\"none\" stroke=\"#000000\" d=\"M10591.5,-222.8796C10591.5,-214.6838 10591.5,-205.9891 10591.5,-197.5013\"/>\n<polygon fill=\"#000000\" stroke=\"#000000\" points=\"10595.0001,-197.298 10591.5,-187.2981 10588.0001,-197.2981 10595.0001,-197.298\"/>\n</g>\n<!-- 78 -->\n<g id=\"node79\" class=\"node\">\n<title>78</title>\n<path fill=\"#cef9d0\" stroke=\"#000000\" d=\"M11180.5,-187C11180.5,-187 10914.5,-187 10914.5,-187 10908.5,-187 10902.5,-181 10902.5,-175 10902.5,-175 10902.5,-116 10902.5,-116 10902.5,-110 10908.5,-104 10914.5,-104 10914.5,-104 11180.5,-104 11180.5,-104 11186.5,-104 11192.5,-110 11192.5,-116 11192.5,-116 11192.5,-175 11192.5,-175 11192.5,-181 11186.5,-187 11180.5,-187\"/>\n<text text-anchor=\"middle\" x=\"11047.5\" y=\"-171.8\" font-family=\"Helvetica,sans-Serif\" font-size=\"14.00\" fill=\"#000000\">OPN1 &lt;= 2.5</text>\n<text text-anchor=\"middle\" x=\"11047.5\" y=\"-156.8\" font-family=\"Helvetica,sans-Serif\" font-size=\"14.00\" fill=\"#000000\">gini = 0.626</text>\n<text text-anchor=\"middle\" x=\"11047.5\" y=\"-141.8\" font-family=\"Helvetica,sans-Serif\" font-size=\"14.00\" fill=\"#000000\">samples = 673</text>\n<text text-anchor=\"middle\" x=\"11047.5\" y=\"-126.8\" font-family=\"Helvetica,sans-Serif\" font-size=\"14.00\" fill=\"#000000\">value = [0, 0, 0, 326, 135, 0, 0, 212, 0, 0, 0]</text>\n<text text-anchor=\"middle\" x=\"11047.5\" y=\"-111.8\" font-family=\"Helvetica,sans-Serif\" font-size=\"14.00\" fill=\"#000000\">class = United States</text>\n</g>\n<!-- 74&#45;&gt;78 -->\n<g id=\"edge78\" class=\"edge\">\n<title>74&#45;&gt;78</title>\n<path fill=\"none\" stroke=\"#000000\" d=\"M10745.2451,-224.3779C10792.6561,-212.0053 10844.876,-198.3778 10892.3791,-185.9811\"/>\n<polygon fill=\"#000000\" stroke=\"#000000\" points=\"10893.3346,-189.3491 10902.1268,-183.4373 10891.567,-182.5759 10893.3346,-189.3491\"/>\n</g>\n<!-- 76 -->\n<g id=\"node77\" class=\"node\">\n<title>76</title>\n<path fill=\"#f2effd\" stroke=\"#000000\" d=\"M10576.5,-68C10576.5,-68 10310.5,-68 10310.5,-68 10304.5,-68 10298.5,-62 10298.5,-56 10298.5,-56 10298.5,-12 10298.5,-12 10298.5,-6 10304.5,0 10310.5,0 10310.5,0 10576.5,0 10576.5,0 10582.5,0 10588.5,-6 10588.5,-12 10588.5,-12 10588.5,-56 10588.5,-56 10588.5,-62 10582.5,-68 10576.5,-68\"/>\n<text text-anchor=\"middle\" x=\"10443.5\" y=\"-52.8\" font-family=\"Helvetica,sans-Serif\" font-size=\"14.00\" fill=\"#000000\">gini = 0.659</text>\n<text text-anchor=\"middle\" x=\"10443.5\" y=\"-37.8\" font-family=\"Helvetica,sans-Serif\" font-size=\"14.00\" fill=\"#000000\">samples = 1417</text>\n<text text-anchor=\"middle\" x=\"10443.5\" y=\"-22.8\" font-family=\"Helvetica,sans-Serif\" font-size=\"14.00\" fill=\"#000000\">value = [0, 0, 0, 480, 379, 0, 0, 558, 0, 0, 0]</text>\n<text text-anchor=\"middle\" x=\"10443.5\" y=\"-7.8\" font-family=\"Helvetica,sans-Serif\" font-size=\"14.00\" fill=\"#000000\">class = Canada</text>\n</g>\n<!-- 75&#45;&gt;76 -->\n<g id=\"edge76\" class=\"edge\">\n<title>75&#45;&gt;76</title>\n<path fill=\"none\" stroke=\"#000000\" d=\"M10536.3903,-103.9815C10523.581,-94.3313 10509.9625,-84.0714 10497.2144,-74.4673\"/>\n<polygon fill=\"#000000\" stroke=\"#000000\" points=\"10499.0731,-71.4855 10488.98,-68.2637 10494.861,-77.0764 10499.0731,-71.4855\"/>\n</g>\n<!-- 77 -->\n<g id=\"node78\" class=\"node\">\n<title>77</title>\n<path fill=\"#edfded\" stroke=\"#000000\" d=\"M10884.5,-68C10884.5,-68 10618.5,-68 10618.5,-68 10612.5,-68 10606.5,-62 10606.5,-56 10606.5,-56 10606.5,-12 10606.5,-12 10606.5,-6 10612.5,0 10618.5,0 10618.5,0 10884.5,0 10884.5,0 10890.5,0 10896.5,-6 10896.5,-12 10896.5,-12 10896.5,-56 10896.5,-56 10896.5,-62 10890.5,-68 10884.5,-68\"/>\n<text text-anchor=\"middle\" x=\"10751.5\" y=\"-52.8\" font-family=\"Helvetica,sans-Serif\" font-size=\"14.00\" fill=\"#000000\">gini = 0.638</text>\n<text text-anchor=\"middle\" x=\"10751.5\" y=\"-37.8\" font-family=\"Helvetica,sans-Serif\" font-size=\"14.00\" fill=\"#000000\">samples = 961</text>\n<text text-anchor=\"middle\" x=\"10751.5\" y=\"-22.8\" font-family=\"Helvetica,sans-Serif\" font-size=\"14.00\" fill=\"#000000\">value = [0, 0, 0, 413, 191, 0, 0, 357, 0, 0, 0]</text>\n<text text-anchor=\"middle\" x=\"10751.5\" y=\"-7.8\" font-family=\"Helvetica,sans-Serif\" font-size=\"14.00\" fill=\"#000000\">class = United States</text>\n</g>\n<!-- 75&#45;&gt;77 -->\n<g id=\"edge77\" class=\"edge\">\n<title>75&#45;&gt;77</title>\n<path fill=\"none\" stroke=\"#000000\" d=\"M10651.0781,-103.9815C10665.1314,-94.1881 10680.0857,-83.7668 10694.0432,-74.0402\"/>\n<polygon fill=\"#000000\" stroke=\"#000000\" points=\"10696.3846,-76.6746 10702.5879,-68.0856 10692.3824,-70.9315 10696.3846,-76.6746\"/>\n</g>\n<!-- 79 -->\n<g id=\"node80\" class=\"node\">\n<title>79</title>\n<path fill=\"#d0f9d2\" stroke=\"#000000\" d=\"M11168.5,-68C11168.5,-68 10926.5,-68 10926.5,-68 10920.5,-68 10914.5,-62 10914.5,-56 10914.5,-56 10914.5,-12 10914.5,-12 10914.5,-6 10920.5,0 10926.5,0 10926.5,0 11168.5,0 11168.5,0 11174.5,0 11180.5,-6 11180.5,-12 11180.5,-12 11180.5,-56 11180.5,-56 11180.5,-62 11174.5,-68 11168.5,-68\"/>\n<text text-anchor=\"middle\" x=\"11047.5\" y=\"-52.8\" font-family=\"Helvetica,sans-Serif\" font-size=\"14.00\" fill=\"#000000\">gini = 0.611</text>\n<text text-anchor=\"middle\" x=\"11047.5\" y=\"-37.8\" font-family=\"Helvetica,sans-Serif\" font-size=\"14.00\" fill=\"#000000\">samples = 135</text>\n<text text-anchor=\"middle\" x=\"11047.5\" y=\"-22.8\" font-family=\"Helvetica,sans-Serif\" font-size=\"14.00\" fill=\"#000000\">value = [0, 0, 0, 67, 46, 0, 0, 22, 0, 0, 0]</text>\n<text text-anchor=\"middle\" x=\"11047.5\" y=\"-7.8\" font-family=\"Helvetica,sans-Serif\" font-size=\"14.00\" fill=\"#000000\">class = United States</text>\n</g>\n<!-- 78&#45;&gt;79 -->\n<g id=\"edge79\" class=\"edge\">\n<title>78&#45;&gt;79</title>\n<path fill=\"none\" stroke=\"#000000\" d=\"M11047.5,-103.9815C11047.5,-95.618 11047.5,-86.7965 11047.5,-78.3409\"/>\n<polygon fill=\"#000000\" stroke=\"#000000\" points=\"11051.0001,-78.2636 11047.5,-68.2637 11044.0001,-78.2637 11051.0001,-78.2636\"/>\n</g>\n<!-- 80 -->\n<g id=\"node81\" class=\"node\">\n<title>80</title>\n<path fill=\"#d8fad9\" stroke=\"#000000\" d=\"M11468.5,-68C11468.5,-68 11210.5,-68 11210.5,-68 11204.5,-68 11198.5,-62 11198.5,-56 11198.5,-56 11198.5,-12 11198.5,-12 11198.5,-6 11204.5,0 11210.5,0 11210.5,0 11468.5,0 11468.5,0 11474.5,0 11480.5,-6 11480.5,-12 11480.5,-12 11480.5,-56 11480.5,-56 11480.5,-62 11474.5,-68 11468.5,-68\"/>\n<text text-anchor=\"middle\" x=\"11339.5\" y=\"-52.8\" font-family=\"Helvetica,sans-Serif\" font-size=\"14.00\" fill=\"#000000\">gini = 0.616</text>\n<text text-anchor=\"middle\" x=\"11339.5\" y=\"-37.8\" font-family=\"Helvetica,sans-Serif\" font-size=\"14.00\" fill=\"#000000\">samples = 538</text>\n<text text-anchor=\"middle\" x=\"11339.5\" y=\"-22.8\" font-family=\"Helvetica,sans-Serif\" font-size=\"14.00\" fill=\"#000000\">value = [0, 0, 0, 259, 89, 0, 0, 190, 0, 0, 0]</text>\n<text text-anchor=\"middle\" x=\"11339.5\" y=\"-7.8\" font-family=\"Helvetica,sans-Serif\" font-size=\"14.00\" fill=\"#000000\">class = United States</text>\n</g>\n<!-- 78&#45;&gt;80 -->\n<g id=\"edge80\" class=\"edge\">\n<title>78&#45;&gt;80</title>\n<path fill=\"none\" stroke=\"#000000\" d=\"M11156.23,-103.9815C11183.9339,-93.4028 11213.5565,-82.0914 11240.7322,-71.7144\"/>\n<polygon fill=\"#000000\" stroke=\"#000000\" points=\"11242.1419,-74.9227 11250.2354,-68.0856 11239.6447,-68.3832 11242.1419,-74.9227\"/>\n</g>\n<!-- 83 -->\n<g id=\"node84\" class=\"node\">\n<title>83</title>\n<path fill=\"#f090d2\" stroke=\"#000000\" d=\"M12779.5,-425C12779.5,-425 12471.5,-425 12471.5,-425 12465.5,-425 12459.5,-419 12459.5,-413 12459.5,-413 12459.5,-354 12459.5,-354 12459.5,-348 12465.5,-342 12471.5,-342 12471.5,-342 12779.5,-342 12779.5,-342 12785.5,-342 12791.5,-348 12791.5,-354 12791.5,-354 12791.5,-413 12791.5,-413 12791.5,-419 12785.5,-425 12779.5,-425\"/>\n<text text-anchor=\"middle\" x=\"12625.5\" y=\"-409.8\" font-family=\"Helvetica,sans-Serif\" font-size=\"14.00\" fill=\"#000000\">EST1 &lt;= 4.5</text>\n<text text-anchor=\"middle\" x=\"12625.5\" y=\"-394.8\" font-family=\"Helvetica,sans-Serif\" font-size=\"14.00\" fill=\"#000000\">gini = 0.588</text>\n<text text-anchor=\"middle\" x=\"12625.5\" y=\"-379.8\" font-family=\"Helvetica,sans-Serif\" font-size=\"14.00\" fill=\"#000000\">samples = 5438</text>\n<text text-anchor=\"middle\" x=\"12625.5\" y=\"-364.8\" font-family=\"Helvetica,sans-Serif\" font-size=\"14.00\" fill=\"#000000\">value = [0, 0, 575, 0, 0, 421, 618, 0, 500, 3324, 0]</text>\n<text text-anchor=\"middle\" x=\"12625.5\" y=\"-349.8\" font-family=\"Helvetica,sans-Serif\" font-size=\"14.00\" fill=\"#000000\">class = Germany</text>\n</g>\n<!-- 82&#45;&gt;83 -->\n<g id=\"edge83\" class=\"edge\">\n<title>82&#45;&gt;83</title>\n<path fill=\"none\" stroke=\"#000000\" d=\"M12625.5,-460.8796C12625.5,-452.6838 12625.5,-443.9891 12625.5,-435.5013\"/>\n<polygon fill=\"#000000\" stroke=\"#000000\" points=\"12629.0001,-435.298 12625.5,-425.2981 12622.0001,-435.2981 12629.0001,-435.298\"/>\n</g>\n<!-- 98 -->\n<g id=\"node99\" class=\"node\">\n<title>98</title>\n<path fill=\"#f4a8dc\" stroke=\"#000000\" d=\"M14657.5,-425C14657.5,-425 14349.5,-425 14349.5,-425 14343.5,-425 14337.5,-419 14337.5,-413 14337.5,-413 14337.5,-354 14337.5,-354 14337.5,-348 14343.5,-342 14349.5,-342 14349.5,-342 14657.5,-342 14657.5,-342 14663.5,-342 14669.5,-348 14669.5,-354 14669.5,-354 14669.5,-413 14669.5,-413 14669.5,-419 14663.5,-425 14657.5,-425\"/>\n<text text-anchor=\"middle\" x=\"14503.5\" y=\"-409.8\" font-family=\"Helvetica,sans-Serif\" font-size=\"14.00\" fill=\"#000000\">CSN1 &lt;= 1.5</text>\n<text text-anchor=\"middle\" x=\"14503.5\" y=\"-394.8\" font-family=\"Helvetica,sans-Serif\" font-size=\"14.00\" fill=\"#000000\">gini = 0.672</text>\n<text text-anchor=\"middle\" x=\"14503.5\" y=\"-379.8\" font-family=\"Helvetica,sans-Serif\" font-size=\"14.00\" fill=\"#000000\">samples = 3953</text>\n<text text-anchor=\"middle\" x=\"14503.5\" y=\"-364.8\" font-family=\"Helvetica,sans-Serif\" font-size=\"14.00\" fill=\"#000000\">value = [0, 0, 439, 0, 0, 570, 454, 0, 440, 2050, 0]</text>\n<text text-anchor=\"middle\" x=\"14503.5\" y=\"-349.8\" font-family=\"Helvetica,sans-Serif\" font-size=\"14.00\" fill=\"#000000\">class = Germany</text>\n</g>\n<!-- 82&#45;&gt;98 -->\n<g id=\"edge98\" class=\"edge\">\n<title>82&#45;&gt;98</title>\n<path fill=\"none\" stroke=\"#000000\" d=\"M12799.6506,-491.4649C13156.6457,-468.8438 13967.9838,-417.4331 14326.9796,-394.6853\"/>\n<polygon fill=\"#000000\" stroke=\"#000000\" points=\"14327.4479,-398.1627 14337.2065,-394.0372 14327.0051,-391.1767 14327.4479,-398.1627\"/>\n</g>\n<!-- 84 -->\n<g id=\"node85\" class=\"node\">\n<title>84</title>\n<path fill=\"#f197d5\" stroke=\"#000000\" d=\"M12628.5,-306C12628.5,-306 12320.5,-306 12320.5,-306 12314.5,-306 12308.5,-300 12308.5,-294 12308.5,-294 12308.5,-235 12308.5,-235 12308.5,-229 12314.5,-223 12320.5,-223 12320.5,-223 12628.5,-223 12628.5,-223 12634.5,-223 12640.5,-229 12640.5,-235 12640.5,-235 12640.5,-294 12640.5,-294 12640.5,-300 12634.5,-306 12628.5,-306\"/>\n<text text-anchor=\"middle\" x=\"12474.5\" y=\"-290.8\" font-family=\"Helvetica,sans-Serif\" font-size=\"14.00\" fill=\"#000000\">OPN2 &lt;= 2.5</text>\n<text text-anchor=\"middle\" x=\"12474.5\" y=\"-275.8\" font-family=\"Helvetica,sans-Serif\" font-size=\"14.00\" fill=\"#000000\">gini = 0.618</text>\n<text text-anchor=\"middle\" x=\"12474.5\" y=\"-260.8\" font-family=\"Helvetica,sans-Serif\" font-size=\"14.00\" fill=\"#000000\">samples = 3812</text>\n<text text-anchor=\"middle\" x=\"12474.5\" y=\"-245.8\" font-family=\"Helvetica,sans-Serif\" font-size=\"14.00\" fill=\"#000000\">value = [0, 0, 464, 0, 0, 321, 434, 0, 378, 2215, 0]</text>\n<text text-anchor=\"middle\" x=\"12474.5\" y=\"-230.8\" font-family=\"Helvetica,sans-Serif\" font-size=\"14.00\" fill=\"#000000\">class = Germany</text>\n</g>\n<!-- 83&#45;&gt;84 -->\n<g id=\"edge84\" class=\"edge\">\n<title>83&#45;&gt;84</title>\n<path fill=\"none\" stroke=\"#000000\" d=\"M12572.6875,-341.8796C12560.6182,-332.368 12547.6961,-322.1843 12535.3212,-312.432\"/>\n<polygon fill=\"#000000\" stroke=\"#000000\" points=\"12537.3032,-309.5377 12527.2827,-306.0969 12532.9704,-315.0356 12537.3032,-309.5377\"/>\n</g>\n<!-- 91 -->\n<g id=\"node92\" class=\"node\">\n<title>91</title>\n<path fill=\"#ee80cb\" stroke=\"#000000\" d=\"M13209.5,-306C13209.5,-306 12901.5,-306 12901.5,-306 12895.5,-306 12889.5,-300 12889.5,-294 12889.5,-294 12889.5,-235 12889.5,-235 12889.5,-229 12895.5,-223 12901.5,-223 12901.5,-223 13209.5,-223 13209.5,-223 13215.5,-223 13221.5,-229 13221.5,-235 13221.5,-235 13221.5,-294 13221.5,-294 13221.5,-300 13215.5,-306 13209.5,-306\"/>\n<text text-anchor=\"middle\" x=\"13055.5\" y=\"-290.8\" font-family=\"Helvetica,sans-Serif\" font-size=\"14.00\" fill=\"#000000\">OPN1 &lt;= 2.5</text>\n<text text-anchor=\"middle\" x=\"13055.5\" y=\"-275.8\" font-family=\"Helvetica,sans-Serif\" font-size=\"14.00\" fill=\"#000000\">gini = 0.508</text>\n<text text-anchor=\"middle\" x=\"13055.5\" y=\"-260.8\" font-family=\"Helvetica,sans-Serif\" font-size=\"14.00\" fill=\"#000000\">samples = 1626</text>\n<text text-anchor=\"middle\" x=\"13055.5\" y=\"-245.8\" font-family=\"Helvetica,sans-Serif\" font-size=\"14.00\" fill=\"#000000\">value = [0, 0, 111, 0, 0, 100, 184, 0, 122, 1109, 0]</text>\n<text text-anchor=\"middle\" x=\"13055.5\" y=\"-230.8\" font-family=\"Helvetica,sans-Serif\" font-size=\"14.00\" fill=\"#000000\">class = Germany</text>\n</g>\n<!-- 83&#45;&gt;91 -->\n<g id=\"edge91\" class=\"edge\">\n<title>83&#45;&gt;91</title>\n<path fill=\"none\" stroke=\"#000000\" d=\"M12775.5912,-341.9631C12814.3432,-331.2387 12856.1997,-319.6552 12895.4391,-308.7959\"/>\n<polygon fill=\"#000000\" stroke=\"#000000\" points=\"12896.6512,-312.0921 12905.3554,-306.0516 12894.7841,-305.3457 12896.6512,-312.0921\"/>\n</g>\n<!-- 85 -->\n<g id=\"node86\" class=\"node\">\n<title>85</title>\n<path fill=\"#f29bd6\" stroke=\"#000000\" d=\"M12136.5,-187C12136.5,-187 11828.5,-187 11828.5,-187 11822.5,-187 11816.5,-181 11816.5,-175 11816.5,-175 11816.5,-116 11816.5,-116 11816.5,-110 11822.5,-104 11828.5,-104 11828.5,-104 12136.5,-104 12136.5,-104 12142.5,-104 12148.5,-110 12148.5,-116 12148.5,-116 12148.5,-175 12148.5,-175 12148.5,-181 12142.5,-187 12136.5,-187\"/>\n<text text-anchor=\"middle\" x=\"11982.5\" y=\"-171.8\" font-family=\"Helvetica,sans-Serif\" font-size=\"14.00\" fill=\"#000000\">EXT1 &lt;= 1.5</text>\n<text text-anchor=\"middle\" x=\"11982.5\" y=\"-156.8\" font-family=\"Helvetica,sans-Serif\" font-size=\"14.00\" fill=\"#000000\">gini = 0.621</text>\n<text text-anchor=\"middle\" x=\"11982.5\" y=\"-141.8\" font-family=\"Helvetica,sans-Serif\" font-size=\"14.00\" fill=\"#000000\">samples = 2675</text>\n<text text-anchor=\"middle\" x=\"11982.5\" y=\"-126.8\" font-family=\"Helvetica,sans-Serif\" font-size=\"14.00\" fill=\"#000000\">value = [0, 0, 383, 0, 0, 200, 274, 0, 277, 1541, 0]</text>\n<text text-anchor=\"middle\" x=\"11982.5\" y=\"-111.8\" font-family=\"Helvetica,sans-Serif\" font-size=\"14.00\" fill=\"#000000\">class = Germany</text>\n</g>\n<!-- 84&#45;&gt;85 -->\n<g id=\"edge85\" class=\"edge\">\n<title>84&#45;&gt;85</title>\n<path fill=\"none\" stroke=\"#000000\" d=\"M12308.2743,-224.295C12260.1384,-212.6524 12207.4327,-199.9045 12158.7093,-188.1197\"/>\n<polygon fill=\"#000000\" stroke=\"#000000\" points=\"12159.2412,-184.6475 12148.6986,-185.6984 12157.5955,-191.4513 12159.2412,-184.6475\"/>\n</g>\n<!-- 88 -->\n<g id=\"node89\" class=\"node\">\n<title>88</title>\n<path fill=\"#f197d4\" stroke=\"#000000\" d=\"M12620,-187C12620,-187 12329,-187 12329,-187 12323,-187 12317,-181 12317,-175 12317,-175 12317,-116 12317,-116 12317,-110 12323,-104 12329,-104 12329,-104 12620,-104 12620,-104 12626,-104 12632,-110 12632,-116 12632,-116 12632,-175 12632,-175 12632,-181 12626,-187 12620,-187\"/>\n<text text-anchor=\"middle\" x=\"12474.5\" y=\"-171.8\" font-family=\"Helvetica,sans-Serif\" font-size=\"14.00\" fill=\"#000000\">CSN1 &lt;= 2.5</text>\n<text text-anchor=\"middle\" x=\"12474.5\" y=\"-156.8\" font-family=\"Helvetica,sans-Serif\" font-size=\"14.00\" fill=\"#000000\">gini = 0.605</text>\n<text text-anchor=\"middle\" x=\"12474.5\" y=\"-141.8\" font-family=\"Helvetica,sans-Serif\" font-size=\"14.00\" fill=\"#000000\">samples = 1137</text>\n<text text-anchor=\"middle\" x=\"12474.5\" y=\"-126.8\" font-family=\"Helvetica,sans-Serif\" font-size=\"14.00\" fill=\"#000000\">value = [0, 0, 81, 0, 0, 121, 160, 0, 101, 674, 0]</text>\n<text text-anchor=\"middle\" x=\"12474.5\" y=\"-111.8\" font-family=\"Helvetica,sans-Serif\" font-size=\"14.00\" fill=\"#000000\">class = Germany</text>\n</g>\n<!-- 84&#45;&gt;88 -->\n<g id=\"edge88\" class=\"edge\">\n<title>84&#45;&gt;88</title>\n<path fill=\"none\" stroke=\"#000000\" d=\"M12474.5,-222.8796C12474.5,-214.6838 12474.5,-205.9891 12474.5,-197.5013\"/>\n<polygon fill=\"#000000\" stroke=\"#000000\" points=\"12478.0001,-197.298 12474.5,-187.2981 12471.0001,-197.2981 12478.0001,-197.298\"/>\n</g>\n<!-- 86 -->\n<g id=\"node87\" class=\"node\">\n<title>86</title>\n<path fill=\"#f4aede\" stroke=\"#000000\" d=\"M11786,-68C11786,-68 11511,-68 11511,-68 11505,-68 11499,-62 11499,-56 11499,-56 11499,-12 11499,-12 11499,-6 11505,0 11511,0 11511,0 11786,0 11786,0 11792,0 11798,-6 11798,-12 11798,-12 11798,-56 11798,-56 11798,-62 11792,-68 11786,-68\"/>\n<text text-anchor=\"middle\" x=\"11648.5\" y=\"-52.8\" font-family=\"Helvetica,sans-Serif\" font-size=\"14.00\" fill=\"#000000\">gini = 0.666</text>\n<text text-anchor=\"middle\" x=\"11648.5\" y=\"-37.8\" font-family=\"Helvetica,sans-Serif\" font-size=\"14.00\" fill=\"#000000\">samples = 853</text>\n<text text-anchor=\"middle\" x=\"11648.5\" y=\"-22.8\" font-family=\"Helvetica,sans-Serif\" font-size=\"14.00\" fill=\"#000000\">value = [0, 0, 158, 0, 0, 67, 88, 0, 97, 443, 0]</text>\n<text text-anchor=\"middle\" x=\"11648.5\" y=\"-7.8\" font-family=\"Helvetica,sans-Serif\" font-size=\"14.00\" fill=\"#000000\">class = Germany</text>\n</g>\n<!-- 85&#45;&gt;86 -->\n<g id=\"edge86\" class=\"edge\">\n<title>85&#45;&gt;86</title>\n<path fill=\"none\" stroke=\"#000000\" d=\"M11858.1307,-103.9815C11826.0269,-93.2642 11791.6705,-81.795 11760.2539,-71.3071\"/>\n<polygon fill=\"#000000\" stroke=\"#000000\" points=\"11761.1978,-67.9323 11750.604,-68.0856 11758.9811,-74.5721 11761.1978,-67.9323\"/>\n</g>\n<!-- 87 -->\n<g id=\"node88\" class=\"node\">\n<title>87</title>\n<path fill=\"#f193d3\" stroke=\"#000000\" d=\"M12136.5,-68C12136.5,-68 11828.5,-68 11828.5,-68 11822.5,-68 11816.5,-62 11816.5,-56 11816.5,-56 11816.5,-12 11816.5,-12 11816.5,-6 11822.5,0 11828.5,0 11828.5,0 12136.5,0 12136.5,0 12142.5,0 12148.5,-6 12148.5,-12 12148.5,-12 12148.5,-56 12148.5,-56 12148.5,-62 12142.5,-68 12136.5,-68\"/>\n<text text-anchor=\"middle\" x=\"11982.5\" y=\"-52.8\" font-family=\"Helvetica,sans-Serif\" font-size=\"14.00\" fill=\"#000000\">gini = 0.596</text>\n<text text-anchor=\"middle\" x=\"11982.5\" y=\"-37.8\" font-family=\"Helvetica,sans-Serif\" font-size=\"14.00\" fill=\"#000000\">samples = 1822</text>\n<text text-anchor=\"middle\" x=\"11982.5\" y=\"-22.8\" font-family=\"Helvetica,sans-Serif\" font-size=\"14.00\" fill=\"#000000\">value = [0, 0, 225, 0, 0, 133, 186, 0, 180, 1098, 0]</text>\n<text text-anchor=\"middle\" x=\"11982.5\" y=\"-7.8\" font-family=\"Helvetica,sans-Serif\" font-size=\"14.00\" fill=\"#000000\">class = Germany</text>\n</g>\n<!-- 85&#45;&gt;87 -->\n<g id=\"edge87\" class=\"edge\">\n<title>85&#45;&gt;87</title>\n<path fill=\"none\" stroke=\"#000000\" d=\"M11982.5,-103.9815C11982.5,-95.618 11982.5,-86.7965 11982.5,-78.3409\"/>\n<polygon fill=\"#000000\" stroke=\"#000000\" points=\"11986.0001,-78.2636 11982.5,-68.2637 11979.0001,-78.2637 11986.0001,-78.2636\"/>\n</g>\n<!-- 89 -->\n<g id=\"node90\" class=\"node\">\n<title>89</title>\n<path fill=\"#f08cd0\" stroke=\"#000000\" d=\"M12444.5,-68C12444.5,-68 12178.5,-68 12178.5,-68 12172.5,-68 12166.5,-62 12166.5,-56 12166.5,-56 12166.5,-12 12166.5,-12 12166.5,-6 12172.5,0 12178.5,0 12178.5,0 12444.5,0 12444.5,0 12450.5,0 12456.5,-6 12456.5,-12 12456.5,-12 12456.5,-56 12456.5,-56 12456.5,-62 12450.5,-68 12444.5,-68\"/>\n<text text-anchor=\"middle\" x=\"12311.5\" y=\"-52.8\" font-family=\"Helvetica,sans-Serif\" font-size=\"14.00\" fill=\"#000000\">gini = 0.574</text>\n<text text-anchor=\"middle\" x=\"12311.5\" y=\"-37.8\" font-family=\"Helvetica,sans-Serif\" font-size=\"14.00\" fill=\"#000000\">samples = 399</text>\n<text text-anchor=\"middle\" x=\"12311.5\" y=\"-22.8\" font-family=\"Helvetica,sans-Serif\" font-size=\"14.00\" fill=\"#000000\">value = [0, 0, 38, 0, 0, 26, 43, 0, 43, 249, 0]</text>\n<text text-anchor=\"middle\" x=\"12311.5\" y=\"-7.8\" font-family=\"Helvetica,sans-Serif\" font-size=\"14.00\" fill=\"#000000\">class = Germany</text>\n</g>\n<!-- 88&#45;&gt;89 -->\n<g id=\"edge89\" class=\"edge\">\n<title>88&#45;&gt;89</title>\n<path fill=\"none\" stroke=\"#000000\" d=\"M12413.8048,-103.9815C12399.353,-94.0957 12383.9658,-83.5701 12369.632,-73.7651\"/>\n<polygon fill=\"#000000\" stroke=\"#000000\" points=\"12371.559,-70.8428 12361.3292,-68.0856 12367.6068,-76.6204 12371.559,-70.8428\"/>\n</g>\n<!-- 90 -->\n<g id=\"node91\" class=\"node\">\n<title>90</title>\n<path fill=\"#f29dd7\" stroke=\"#000000\" d=\"M12762,-68C12762,-68 12487,-68 12487,-68 12481,-68 12475,-62 12475,-56 12475,-56 12475,-12 12475,-12 12475,-6 12481,0 12487,0 12487,0 12762,0 12762,0 12768,0 12774,-6 12774,-12 12774,-12 12774,-56 12774,-56 12774,-62 12768,-68 12762,-68\"/>\n<text text-anchor=\"middle\" x=\"12624.5\" y=\"-52.8\" font-family=\"Helvetica,sans-Serif\" font-size=\"14.00\" fill=\"#000000\">gini = 0.617</text>\n<text text-anchor=\"middle\" x=\"12624.5\" y=\"-37.8\" font-family=\"Helvetica,sans-Serif\" font-size=\"14.00\" fill=\"#000000\">samples = 738</text>\n<text text-anchor=\"middle\" x=\"12624.5\" y=\"-22.8\" font-family=\"Helvetica,sans-Serif\" font-size=\"14.00\" fill=\"#000000\">value = [0, 0, 43, 0, 0, 95, 117, 0, 58, 425, 0]</text>\n<text text-anchor=\"middle\" x=\"12624.5\" y=\"-7.8\" font-family=\"Helvetica,sans-Serif\" font-size=\"14.00\" fill=\"#000000\">class = Germany</text>\n</g>\n<!-- 88&#45;&gt;90 -->\n<g id=\"edge90\" class=\"edge\">\n<title>88&#45;&gt;90</title>\n<path fill=\"none\" stroke=\"#000000\" d=\"M12530.3545,-103.9815C12543.3368,-94.3313 12557.1394,-84.0714 12570.0597,-74.4673\"/>\n<polygon fill=\"#000000\" stroke=\"#000000\" points=\"12572.4678,-77.0384 12578.4054,-68.2637 12568.2917,-71.4204 12572.4678,-77.0384\"/>\n</g>\n<!-- 92 -->\n<g id=\"node93\" class=\"node\">\n<title>92</title>\n<path fill=\"#f08ed1\" stroke=\"#000000\" d=\"M13184.5,-187C13184.5,-187 12926.5,-187 12926.5,-187 12920.5,-187 12914.5,-181 12914.5,-175 12914.5,-175 12914.5,-116 12914.5,-116 12914.5,-110 12920.5,-104 12926.5,-104 12926.5,-104 13184.5,-104 13184.5,-104 13190.5,-104 13196.5,-110 13196.5,-116 13196.5,-116 13196.5,-175 13196.5,-175 13196.5,-181 13190.5,-187 13184.5,-187\"/>\n<text text-anchor=\"middle\" x=\"13055.5\" y=\"-171.8\" font-family=\"Helvetica,sans-Serif\" font-size=\"14.00\" fill=\"#000000\">CSN2 &lt;= 3.5</text>\n<text text-anchor=\"middle\" x=\"13055.5\" y=\"-156.8\" font-family=\"Helvetica,sans-Serif\" font-size=\"14.00\" fill=\"#000000\">gini = 0.52</text>\n<text text-anchor=\"middle\" x=\"13055.5\" y=\"-141.8\" font-family=\"Helvetica,sans-Serif\" font-size=\"14.00\" fill=\"#000000\">samples = 201</text>\n<text text-anchor=\"middle\" x=\"13055.5\" y=\"-126.8\" font-family=\"Helvetica,sans-Serif\" font-size=\"14.00\" fill=\"#000000\">value = [0, 0, 12, 0, 0, 3, 40, 0, 14, 132, 0]</text>\n<text text-anchor=\"middle\" x=\"13055.5\" y=\"-111.8\" font-family=\"Helvetica,sans-Serif\" font-size=\"14.00\" fill=\"#000000\">class = Germany</text>\n</g>\n<!-- 91&#45;&gt;92 -->\n<g id=\"edge92\" class=\"edge\">\n<title>91&#45;&gt;92</title>\n<path fill=\"none\" stroke=\"#000000\" d=\"M13055.5,-222.8796C13055.5,-214.6838 13055.5,-205.9891 13055.5,-197.5013\"/>\n<polygon fill=\"#000000\" stroke=\"#000000\" points=\"13059.0001,-197.298 13055.5,-187.2981 13052.0001,-197.2981 13059.0001,-197.298\"/>\n</g>\n<!-- 95 -->\n<g id=\"node96\" class=\"node\">\n<title>95</title>\n<path fill=\"#ee7eca\" stroke=\"#000000\" d=\"M13639,-187C13639,-187 13356,-187 13356,-187 13350,-187 13344,-181 13344,-175 13344,-175 13344,-116 13344,-116 13344,-110 13350,-104 13356,-104 13356,-104 13639,-104 13639,-104 13645,-104 13651,-110 13651,-116 13651,-116 13651,-175 13651,-175 13651,-181 13645,-187 13639,-187\"/>\n<text text-anchor=\"middle\" x=\"13497.5\" y=\"-171.8\" font-family=\"Helvetica,sans-Serif\" font-size=\"14.00\" fill=\"#000000\">CSN1 &lt;= 3.5</text>\n<text text-anchor=\"middle\" x=\"13497.5\" y=\"-156.8\" font-family=\"Helvetica,sans-Serif\" font-size=\"14.00\" fill=\"#000000\">gini = 0.505</text>\n<text text-anchor=\"middle\" x=\"13497.5\" y=\"-141.8\" font-family=\"Helvetica,sans-Serif\" font-size=\"14.00\" fill=\"#000000\">samples = 1425</text>\n<text text-anchor=\"middle\" x=\"13497.5\" y=\"-126.8\" font-family=\"Helvetica,sans-Serif\" font-size=\"14.00\" fill=\"#000000\">value = [0, 0, 99, 0, 0, 97, 144, 0, 108, 977, 0]</text>\n<text text-anchor=\"middle\" x=\"13497.5\" y=\"-111.8\" font-family=\"Helvetica,sans-Serif\" font-size=\"14.00\" fill=\"#000000\">class = Germany</text>\n</g>\n<!-- 91&#45;&gt;95 -->\n<g id=\"edge95\" class=\"edge\">\n<title>91&#45;&gt;95</title>\n<path fill=\"none\" stroke=\"#000000\" d=\"M13209.7798,-222.9631C13250.0126,-212.1312 13293.5008,-200.4229 13334.1846,-189.4695\"/>\n<polygon fill=\"#000000\" stroke=\"#000000\" points=\"13335.1659,-192.83 13343.9121,-186.8506 13333.346,-186.0707 13335.1659,-192.83\"/>\n</g>\n<!-- 93 -->\n<g id=\"node94\" class=\"node\">\n<title>93</title>\n<path fill=\"#f4a9dc\" stroke=\"#000000\" d=\"M13046.5,-68C13046.5,-68 12804.5,-68 12804.5,-68 12798.5,-68 12792.5,-62 12792.5,-56 12792.5,-56 12792.5,-12 12792.5,-12 12792.5,-6 12798.5,0 12804.5,0 12804.5,0 13046.5,0 13046.5,0 13052.5,0 13058.5,-6 13058.5,-12 13058.5,-12 13058.5,-56 13058.5,-56 13058.5,-62 13052.5,-68 13046.5,-68\"/>\n<text text-anchor=\"middle\" x=\"12925.5\" y=\"-52.8\" font-family=\"Helvetica,sans-Serif\" font-size=\"14.00\" fill=\"#000000\">gini = 0.595</text>\n<text text-anchor=\"middle\" x=\"12925.5\" y=\"-37.8\" font-family=\"Helvetica,sans-Serif\" font-size=\"14.00\" fill=\"#000000\">samples = 115</text>\n<text text-anchor=\"middle\" x=\"12925.5\" y=\"-22.8\" font-family=\"Helvetica,sans-Serif\" font-size=\"14.00\" fill=\"#000000\">value = [0, 0, 7, 0, 0, 1, 28, 0, 13, 66, 0]</text>\n<text text-anchor=\"middle\" x=\"12925.5\" y=\"-7.8\" font-family=\"Helvetica,sans-Serif\" font-size=\"14.00\" fill=\"#000000\">class = Germany</text>\n</g>\n<!-- 92&#45;&gt;93 -->\n<g id=\"edge93\" class=\"edge\">\n<title>92&#45;&gt;93</title>\n<path fill=\"none\" stroke=\"#000000\" d=\"M13007.0928,-103.9815C12996.0558,-94.5151 12984.3347,-84.462 12973.3223,-75.0168\"/>\n<polygon fill=\"#000000\" stroke=\"#000000\" points=\"12975.3178,-72.1173 12965.4487,-68.2637 12970.7606,-77.4307 12975.3178,-72.1173\"/>\n</g>\n<!-- 94 -->\n<g id=\"node95\" class=\"node\">\n<title>94</title>\n<path fill=\"#ec6fc4\" stroke=\"#000000\" d=\"M13322,-68C13322,-68 13089,-68 13089,-68 13083,-68 13077,-62 13077,-56 13077,-56 13077,-12 13077,-12 13077,-6 13083,0 13089,0 13089,0 13322,0 13322,0 13328,0 13334,-6 13334,-12 13334,-12 13334,-56 13334,-56 13334,-62 13328,-68 13322,-68\"/>\n<text text-anchor=\"middle\" x=\"13205.5\" y=\"-52.8\" font-family=\"Helvetica,sans-Serif\" font-size=\"14.00\" fill=\"#000000\">gini = 0.388</text>\n<text text-anchor=\"middle\" x=\"13205.5\" y=\"-37.8\" font-family=\"Helvetica,sans-Serif\" font-size=\"14.00\" fill=\"#000000\">samples = 86</text>\n<text text-anchor=\"middle\" x=\"13205.5\" y=\"-22.8\" font-family=\"Helvetica,sans-Serif\" font-size=\"14.00\" fill=\"#000000\">value = [0, 0, 5, 0, 0, 2, 12, 0, 1, 66, 0]</text>\n<text text-anchor=\"middle\" x=\"13205.5\" y=\"-7.8\" font-family=\"Helvetica,sans-Serif\" font-size=\"14.00\" fill=\"#000000\">class = Germany</text>\n</g>\n<!-- 92&#45;&gt;94 -->\n<g id=\"edge94\" class=\"edge\">\n<title>92&#45;&gt;94</title>\n<path fill=\"none\" stroke=\"#000000\" d=\"M13111.3545,-103.9815C13124.3368,-94.3313 13138.1394,-84.0714 13151.0597,-74.4673\"/>\n<polygon fill=\"#000000\" stroke=\"#000000\" points=\"13153.4678,-77.0384 13159.4054,-68.2637 13149.2917,-71.4204 13153.4678,-77.0384\"/>\n</g>\n<!-- 96 -->\n<g id=\"node97\" class=\"node\">\n<title>96</title>\n<path fill=\"#ed77c7\" stroke=\"#000000\" d=\"M13630.5,-68C13630.5,-68 13364.5,-68 13364.5,-68 13358.5,-68 13352.5,-62 13352.5,-56 13352.5,-56 13352.5,-12 13352.5,-12 13352.5,-6 13358.5,0 13364.5,0 13364.5,0 13630.5,0 13630.5,0 13636.5,0 13642.5,-6 13642.5,-12 13642.5,-12 13642.5,-56 13642.5,-56 13642.5,-62 13636.5,-68 13630.5,-68\"/>\n<text text-anchor=\"middle\" x=\"13497.5\" y=\"-52.8\" font-family=\"Helvetica,sans-Serif\" font-size=\"14.00\" fill=\"#000000\">gini = 0.465</text>\n<text text-anchor=\"middle\" x=\"13497.5\" y=\"-37.8\" font-family=\"Helvetica,sans-Serif\" font-size=\"14.00\" fill=\"#000000\">samples = 852</text>\n<text text-anchor=\"middle\" x=\"13497.5\" y=\"-22.8\" font-family=\"Helvetica,sans-Serif\" font-size=\"14.00\" fill=\"#000000\">value = [0, 0, 55, 0, 0, 57, 78, 0, 51, 611, 0]</text>\n<text text-anchor=\"middle\" x=\"13497.5\" y=\"-7.8\" font-family=\"Helvetica,sans-Serif\" font-size=\"14.00\" fill=\"#000000\">class = Germany</text>\n</g>\n<!-- 95&#45;&gt;96 -->\n<g id=\"edge96\" class=\"edge\">\n<title>95&#45;&gt;96</title>\n<path fill=\"none\" stroke=\"#000000\" d=\"M13497.5,-103.9815C13497.5,-95.618 13497.5,-86.7965 13497.5,-78.3409\"/>\n<polygon fill=\"#000000\" stroke=\"#000000\" points=\"13501.0001,-78.2636 13497.5,-68.2637 13494.0001,-78.2637 13501.0001,-78.2636\"/>\n</g>\n<!-- 97 -->\n<g id=\"node98\" class=\"node\">\n<title>97</title>\n<path fill=\"#f08acf\" stroke=\"#000000\" d=\"M13938.5,-68C13938.5,-68 13672.5,-68 13672.5,-68 13666.5,-68 13660.5,-62 13660.5,-56 13660.5,-56 13660.5,-12 13660.5,-12 13660.5,-6 13666.5,0 13672.5,0 13672.5,0 13938.5,0 13938.5,0 13944.5,0 13950.5,-6 13950.5,-12 13950.5,-12 13950.5,-56 13950.5,-56 13950.5,-62 13944.5,-68 13938.5,-68\"/>\n<text text-anchor=\"middle\" x=\"13805.5\" y=\"-52.8\" font-family=\"Helvetica,sans-Serif\" font-size=\"14.00\" fill=\"#000000\">gini = 0.558</text>\n<text text-anchor=\"middle\" x=\"13805.5\" y=\"-37.8\" font-family=\"Helvetica,sans-Serif\" font-size=\"14.00\" fill=\"#000000\">samples = 573</text>\n<text text-anchor=\"middle\" x=\"13805.5\" y=\"-22.8\" font-family=\"Helvetica,sans-Serif\" font-size=\"14.00\" fill=\"#000000\">value = [0, 0, 44, 0, 0, 40, 66, 0, 57, 366, 0]</text>\n<text text-anchor=\"middle\" x=\"13805.5\" y=\"-7.8\" font-family=\"Helvetica,sans-Serif\" font-size=\"14.00\" fill=\"#000000\">class = Germany</text>\n</g>\n<!-- 95&#45;&gt;97 -->\n<g id=\"edge97\" class=\"edge\">\n<title>95&#45;&gt;97</title>\n<path fill=\"none\" stroke=\"#000000\" d=\"M13612.1878,-103.9815C13641.5373,-93.3566 13672.9284,-81.9926 13701.6957,-71.5785\"/>\n<polygon fill=\"#000000\" stroke=\"#000000\" points=\"13703.1328,-74.7806 13711.3442,-68.0856 13700.75,-68.1986 13703.1328,-74.7806\"/>\n</g>\n<!-- 99 -->\n<g id=\"node100\" class=\"node\">\n<title>99</title>\n<path fill=\"#ef86ce\" stroke=\"#000000\" d=\"M14636.5,-306C14636.5,-306 14370.5,-306 14370.5,-306 14364.5,-306 14358.5,-300 14358.5,-294 14358.5,-294 14358.5,-235 14358.5,-235 14358.5,-229 14364.5,-223 14370.5,-223 14370.5,-223 14636.5,-223 14636.5,-223 14642.5,-223 14648.5,-229 14648.5,-235 14648.5,-235 14648.5,-294 14648.5,-294 14648.5,-300 14642.5,-306 14636.5,-306\"/>\n<text text-anchor=\"middle\" x=\"14503.5\" y=\"-290.8\" font-family=\"Helvetica,sans-Serif\" font-size=\"14.00\" fill=\"#000000\">CSN2 &lt;= 3.5</text>\n<text text-anchor=\"middle\" x=\"14503.5\" y=\"-275.8\" font-family=\"Helvetica,sans-Serif\" font-size=\"14.00\" fill=\"#000000\">gini = 0.54</text>\n<text text-anchor=\"middle\" x=\"14503.5\" y=\"-260.8\" font-family=\"Helvetica,sans-Serif\" font-size=\"14.00\" fill=\"#000000\">samples = 307</text>\n<text text-anchor=\"middle\" x=\"14503.5\" y=\"-245.8\" font-family=\"Helvetica,sans-Serif\" font-size=\"14.00\" fill=\"#000000\">value = [0, 0, 25, 0, 0, 23, 23, 0, 35, 201, 0]</text>\n<text text-anchor=\"middle\" x=\"14503.5\" y=\"-230.8\" font-family=\"Helvetica,sans-Serif\" font-size=\"14.00\" fill=\"#000000\">class = Germany</text>\n</g>\n<!-- 98&#45;&gt;99 -->\n<g id=\"edge99\" class=\"edge\">\n<title>98&#45;&gt;99</title>\n<path fill=\"none\" stroke=\"#000000\" d=\"M14503.5,-341.8796C14503.5,-333.6838 14503.5,-324.9891 14503.5,-316.5013\"/>\n<polygon fill=\"#000000\" stroke=\"#000000\" points=\"14507.0001,-316.298 14503.5,-306.2981 14500.0001,-316.2981 14507.0001,-316.298\"/>\n</g>\n<!-- 106 -->\n<g id=\"node107\" class=\"node\">\n<title>106</title>\n<path fill=\"#f4acdd\" stroke=\"#000000\" d=\"M15522.5,-306C15522.5,-306 15214.5,-306 15214.5,-306 15208.5,-306 15202.5,-300 15202.5,-294 15202.5,-294 15202.5,-235 15202.5,-235 15202.5,-229 15208.5,-223 15214.5,-223 15214.5,-223 15522.5,-223 15522.5,-223 15528.5,-223 15534.5,-229 15534.5,-235 15534.5,-235 15534.5,-294 15534.5,-294 15534.5,-300 15528.5,-306 15522.5,-306\"/>\n<text text-anchor=\"middle\" x=\"15368.5\" y=\"-290.8\" font-family=\"Helvetica,sans-Serif\" font-size=\"14.00\" fill=\"#000000\">OPN1 &lt;= 3.5</text>\n<text text-anchor=\"middle\" x=\"15368.5\" y=\"-275.8\" font-family=\"Helvetica,sans-Serif\" font-size=\"14.00\" fill=\"#000000\">gini = 0.681</text>\n<text text-anchor=\"middle\" x=\"15368.5\" y=\"-260.8\" font-family=\"Helvetica,sans-Serif\" font-size=\"14.00\" fill=\"#000000\">samples = 3646</text>\n<text text-anchor=\"middle\" x=\"15368.5\" y=\"-245.8\" font-family=\"Helvetica,sans-Serif\" font-size=\"14.00\" fill=\"#000000\">value = [0, 0, 414, 0, 0, 547, 431, 0, 405, 1849, 0]</text>\n<text text-anchor=\"middle\" x=\"15368.5\" y=\"-230.8\" font-family=\"Helvetica,sans-Serif\" font-size=\"14.00\" fill=\"#000000\">class = Germany</text>\n</g>\n<!-- 98&#45;&gt;106 -->\n<g id=\"edge106\" class=\"edge\">\n<title>98&#45;&gt;106</title>\n<path fill=\"none\" stroke=\"#000000\" d=\"M14669.5129,-360.6612C14819.4285,-340.037 15039.3423,-309.783 15192.3214,-288.7373\"/>\n<polygon fill=\"#000000\" stroke=\"#000000\" points=\"15192.87,-292.1949 15202.2996,-287.3646 15191.9159,-285.2602 15192.87,-292.1949\"/>\n</g>\n<!-- 100 -->\n<g id=\"node101\" class=\"node\">\n<title>100</title>\n<path fill=\"#f3a1d9\" stroke=\"#000000\" d=\"M14480.5,-187C14480.5,-187 14222.5,-187 14222.5,-187 14216.5,-187 14210.5,-181 14210.5,-175 14210.5,-175 14210.5,-116 14210.5,-116 14210.5,-110 14216.5,-104 14222.5,-104 14222.5,-104 14480.5,-104 14480.5,-104 14486.5,-104 14492.5,-110 14492.5,-116 14492.5,-116 14492.5,-175 14492.5,-175 14492.5,-181 14486.5,-187 14480.5,-187\"/>\n<text text-anchor=\"middle\" x=\"14351.5\" y=\"-171.8\" font-family=\"Helvetica,sans-Serif\" font-size=\"14.00\" fill=\"#000000\">CSN1 &lt;= 0.5</text>\n<text text-anchor=\"middle\" x=\"14351.5\" y=\"-156.8\" font-family=\"Helvetica,sans-Serif\" font-size=\"14.00\" fill=\"#000000\">gini = 0.64</text>\n<text text-anchor=\"middle\" x=\"14351.5\" y=\"-141.8\" font-family=\"Helvetica,sans-Serif\" font-size=\"14.00\" fill=\"#000000\">samples = 130</text>\n<text text-anchor=\"middle\" x=\"14351.5\" y=\"-126.8\" font-family=\"Helvetica,sans-Serif\" font-size=\"14.00\" fill=\"#000000\">value = [0, 0, 15, 0, 0, 13, 10, 0, 20, 72, 0]</text>\n<text text-anchor=\"middle\" x=\"14351.5\" y=\"-111.8\" font-family=\"Helvetica,sans-Serif\" font-size=\"14.00\" fill=\"#000000\">class = Germany</text>\n</g>\n<!-- 99&#45;&gt;100 -->\n<g id=\"edge100\" class=\"edge\">\n<title>99&#45;&gt;100</title>\n<path fill=\"none\" stroke=\"#000000\" d=\"M14450.3378,-222.8796C14438.1885,-213.368 14425.1808,-203.1843 14412.724,-193.432\"/>\n<polygon fill=\"#000000\" stroke=\"#000000\" points=\"14414.6638,-190.5055 14404.6322,-187.0969 14410.3486,-196.0173 14414.6638,-190.5055\"/>\n</g>\n<!-- 103 -->\n<g id=\"node104\" class=\"node\">\n<title>103</title>\n<path fill=\"#ed74c6\" stroke=\"#000000\" d=\"M14788.5,-187C14788.5,-187 14522.5,-187 14522.5,-187 14516.5,-187 14510.5,-181 14510.5,-175 14510.5,-175 14510.5,-116 14510.5,-116 14510.5,-110 14516.5,-104 14522.5,-104 14522.5,-104 14788.5,-104 14788.5,-104 14794.5,-104 14800.5,-110 14800.5,-116 14800.5,-116 14800.5,-175 14800.5,-175 14800.5,-181 14794.5,-187 14788.5,-187\"/>\n<text text-anchor=\"middle\" x=\"14655.5\" y=\"-171.8\" font-family=\"Helvetica,sans-Serif\" font-size=\"14.00\" fill=\"#000000\">OPN1 &lt;= 1.5</text>\n<text text-anchor=\"middle\" x=\"14655.5\" y=\"-156.8\" font-family=\"Helvetica,sans-Serif\" font-size=\"14.00\" fill=\"#000000\">gini = 0.45</text>\n<text text-anchor=\"middle\" x=\"14655.5\" y=\"-141.8\" font-family=\"Helvetica,sans-Serif\" font-size=\"14.00\" fill=\"#000000\">samples = 177</text>\n<text text-anchor=\"middle\" x=\"14655.5\" y=\"-126.8\" font-family=\"Helvetica,sans-Serif\" font-size=\"14.00\" fill=\"#000000\">value = [0, 0, 10, 0, 0, 10, 13, 0, 15, 129, 0]</text>\n<text text-anchor=\"middle\" x=\"14655.5\" y=\"-111.8\" font-family=\"Helvetica,sans-Serif\" font-size=\"14.00\" fill=\"#000000\">class = Germany</text>\n</g>\n<!-- 99&#45;&gt;103 -->\n<g id=\"edge103\" class=\"edge\">\n<title>99&#45;&gt;103</title>\n<path fill=\"none\" stroke=\"#000000\" d=\"M14556.6622,-222.8796C14568.8115,-213.368 14581.8192,-203.1843 14594.276,-193.432\"/>\n<polygon fill=\"#000000\" stroke=\"#000000\" points=\"14596.6514,-196.0173 14602.3678,-187.0969 14592.3362,-190.5055 14596.6514,-196.0173\"/>\n</g>\n<!-- 101 -->\n<g id=\"node102\" class=\"node\">\n<title>101</title>\n<path fill=\"#f2d7fa\" stroke=\"#000000\" d=\"M14198,-68C14198,-68 13981,-68 13981,-68 13975,-68 13969,-62 13969,-56 13969,-56 13969,-12 13969,-12 13969,-6 13975,0 13981,0 13981,0 14198,0 14198,0 14204,0 14210,-6 14210,-12 14210,-12 14210,-56 14210,-56 14210,-62 14204,-68 14198,-68\"/>\n<text text-anchor=\"middle\" x=\"14089.5\" y=\"-52.8\" font-family=\"Helvetica,sans-Serif\" font-size=\"14.00\" fill=\"#000000\">gini = 0.73</text>\n<text text-anchor=\"middle\" x=\"14089.5\" y=\"-37.8\" font-family=\"Helvetica,sans-Serif\" font-size=\"14.00\" fill=\"#000000\">samples = 20</text>\n<text text-anchor=\"middle\" x=\"14089.5\" y=\"-22.8\" font-family=\"Helvetica,sans-Serif\" font-size=\"14.00\" fill=\"#000000\">value = [0, 0, 1, 0, 0, 3, 3, 0, 8, 5, 0]</text>\n<text text-anchor=\"middle\" x=\"14089.5\" y=\"-7.8\" font-family=\"Helvetica,sans-Serif\" font-size=\"14.00\" fill=\"#000000\">class = Netherlands</text>\n</g>\n<!-- 100&#45;&gt;101 -->\n<g id=\"edge101\" class=\"edge\">\n<title>100&#45;&gt;101</title>\n<path fill=\"none\" stroke=\"#000000\" d=\"M14253.9409,-103.9815C14229.4089,-93.5414 14203.2002,-82.3877 14179.0798,-72.1227\"/>\n<polygon fill=\"#000000\" stroke=\"#000000\" points=\"14180.1656,-68.7811 14169.5936,-68.0856 14177.4244,-75.222 14180.1656,-68.7811\"/>\n</g>\n<!-- 102 -->\n<g id=\"node103\" class=\"node\">\n<title>102</title>\n<path fill=\"#f192d2\" stroke=\"#000000\" d=\"M14490.5,-68C14490.5,-68 14240.5,-68 14240.5,-68 14234.5,-68 14228.5,-62 14228.5,-56 14228.5,-56 14228.5,-12 14228.5,-12 14228.5,-6 14234.5,0 14240.5,0 14240.5,0 14490.5,0 14490.5,0 14496.5,0 14502.5,-6 14502.5,-12 14502.5,-12 14502.5,-56 14502.5,-56 14502.5,-62 14496.5,-68 14490.5,-68\"/>\n<text text-anchor=\"middle\" x=\"14365.5\" y=\"-52.8\" font-family=\"Helvetica,sans-Serif\" font-size=\"14.00\" fill=\"#000000\">gini = 0.589</text>\n<text text-anchor=\"middle\" x=\"14365.5\" y=\"-37.8\" font-family=\"Helvetica,sans-Serif\" font-size=\"14.00\" fill=\"#000000\">samples = 110</text>\n<text text-anchor=\"middle\" x=\"14365.5\" y=\"-22.8\" font-family=\"Helvetica,sans-Serif\" font-size=\"14.00\" fill=\"#000000\">value = [0, 0, 14, 0, 0, 10, 7, 0, 12, 67, 0]</text>\n<text text-anchor=\"middle\" x=\"14365.5\" y=\"-7.8\" font-family=\"Helvetica,sans-Serif\" font-size=\"14.00\" fill=\"#000000\">class = Germany</text>\n</g>\n<!-- 100&#45;&gt;102 -->\n<g id=\"edge102\" class=\"edge\">\n<title>100&#45;&gt;102</title>\n<path fill=\"none\" stroke=\"#000000\" d=\"M14356.7131,-103.9815C14357.7632,-95.618 14358.8708,-86.7965 14359.9325,-78.3409\"/>\n<polygon fill=\"#000000\" stroke=\"#000000\" points=\"14363.4247,-78.6218 14361.1978,-68.2637 14356.4792,-77.7497 14363.4247,-78.6218\"/>\n</g>\n<!-- 104 -->\n<g id=\"node105\" class=\"node\">\n<title>104</title>\n<path fill=\"#fbe3f3\" stroke=\"#000000\" d=\"M14750,-68C14750,-68 14533,-68 14533,-68 14527,-68 14521,-62 14521,-56 14521,-56 14521,-12 14521,-12 14521,-6 14527,0 14533,0 14533,0 14750,0 14750,0 14756,0 14762,-6 14762,-12 14762,-12 14762,-56 14762,-56 14762,-62 14756,-68 14750,-68\"/>\n<text text-anchor=\"middle\" x=\"14641.5\" y=\"-52.8\" font-family=\"Helvetica,sans-Serif\" font-size=\"14.00\" fill=\"#000000\">gini = 0.645</text>\n<text text-anchor=\"middle\" x=\"14641.5\" y=\"-37.8\" font-family=\"Helvetica,sans-Serif\" font-size=\"14.00\" fill=\"#000000\">samples = 11</text>\n<text text-anchor=\"middle\" x=\"14641.5\" y=\"-22.8\" font-family=\"Helvetica,sans-Serif\" font-size=\"14.00\" fill=\"#000000\">value = [0, 0, 1, 0, 0, 0, 4, 0, 1, 5, 0]</text>\n<text text-anchor=\"middle\" x=\"14641.5\" y=\"-7.8\" font-family=\"Helvetica,sans-Serif\" font-size=\"14.00\" fill=\"#000000\">class = Germany</text>\n</g>\n<!-- 103&#45;&gt;104 -->\n<g id=\"edge104\" class=\"edge\">\n<title>103&#45;&gt;104</title>\n<path fill=\"none\" stroke=\"#000000\" d=\"M14650.2869,-103.9815C14649.2368,-95.618 14648.1292,-86.7965 14647.0675,-78.3409\"/>\n<polygon fill=\"#000000\" stroke=\"#000000\" points=\"14650.5208,-77.7497 14645.8022,-68.2637 14643.5753,-78.6218 14650.5208,-77.7497\"/>\n</g>\n<!-- 105 -->\n<g id=\"node106\" class=\"node\">\n<title>105</title>\n<path fill=\"#ec70c4\" stroke=\"#000000\" d=\"M15042.5,-68C15042.5,-68 14792.5,-68 14792.5,-68 14786.5,-68 14780.5,-62 14780.5,-56 14780.5,-56 14780.5,-12 14780.5,-12 14780.5,-6 14786.5,0 14792.5,0 14792.5,0 15042.5,0 15042.5,0 15048.5,0 15054.5,-6 15054.5,-12 15054.5,-12 15054.5,-56 15054.5,-56 15054.5,-62 15048.5,-68 15042.5,-68\"/>\n<text text-anchor=\"middle\" x=\"14917.5\" y=\"-52.8\" font-family=\"Helvetica,sans-Serif\" font-size=\"14.00\" fill=\"#000000\">gini = 0.425</text>\n<text text-anchor=\"middle\" x=\"14917.5\" y=\"-37.8\" font-family=\"Helvetica,sans-Serif\" font-size=\"14.00\" fill=\"#000000\">samples = 166</text>\n<text text-anchor=\"middle\" x=\"14917.5\" y=\"-22.8\" font-family=\"Helvetica,sans-Serif\" font-size=\"14.00\" fill=\"#000000\">value = [0, 0, 9, 0, 0, 10, 9, 0, 14, 124, 0]</text>\n<text text-anchor=\"middle\" x=\"14917.5\" y=\"-7.8\" font-family=\"Helvetica,sans-Serif\" font-size=\"14.00\" fill=\"#000000\">class = Germany</text>\n</g>\n<!-- 103&#45;&gt;105 -->\n<g id=\"edge105\" class=\"edge\">\n<title>103&#45;&gt;105</title>\n<path fill=\"none\" stroke=\"#000000\" d=\"M14753.0591,-103.9815C14777.5911,-93.5414 14803.7998,-82.3877 14827.9202,-72.1227\"/>\n<polygon fill=\"#000000\" stroke=\"#000000\" points=\"14829.5756,-75.222 14837.4064,-68.0856 14826.8344,-68.7811 14829.5756,-75.222\"/>\n</g>\n<!-- 107 -->\n<g id=\"node108\" class=\"node\">\n<title>107</title>\n<path fill=\"#f6b8e2\" stroke=\"#000000\" d=\"M15518,-187C15518,-187 15219,-187 15219,-187 15213,-187 15207,-181 15207,-175 15207,-175 15207,-116 15207,-116 15207,-110 15213,-104 15219,-104 15219,-104 15518,-104 15518,-104 15524,-104 15530,-110 15530,-116 15530,-116 15530,-175 15530,-175 15530,-181 15524,-187 15518,-187\"/>\n<text text-anchor=\"middle\" x=\"15368.5\" y=\"-171.8\" font-family=\"Helvetica,sans-Serif\" font-size=\"14.00\" fill=\"#000000\">EXT1 &lt;= 4.5</text>\n<text text-anchor=\"middle\" x=\"15368.5\" y=\"-156.8\" font-family=\"Helvetica,sans-Serif\" font-size=\"14.00\" fill=\"#000000\">gini = 0.706</text>\n<text text-anchor=\"middle\" x=\"15368.5\" y=\"-141.8\" font-family=\"Helvetica,sans-Serif\" font-size=\"14.00\" fill=\"#000000\">samples = 1082</text>\n<text text-anchor=\"middle\" x=\"15368.5\" y=\"-126.8\" font-family=\"Helvetica,sans-Serif\" font-size=\"14.00\" fill=\"#000000\">value = [0, 0, 109, 0, 0, 184, 179, 0, 105, 505, 0]</text>\n<text text-anchor=\"middle\" x=\"15368.5\" y=\"-111.8\" font-family=\"Helvetica,sans-Serif\" font-size=\"14.00\" fill=\"#000000\">class = Germany</text>\n</g>\n<!-- 106&#45;&gt;107 -->\n<g id=\"edge107\" class=\"edge\">\n<title>106&#45;&gt;107</title>\n<path fill=\"none\" stroke=\"#000000\" d=\"M15368.5,-222.8796C15368.5,-214.6838 15368.5,-205.9891 15368.5,-197.5013\"/>\n<polygon fill=\"#000000\" stroke=\"#000000\" points=\"15372.0001,-197.298 15368.5,-187.2981 15365.0001,-197.2981 15372.0001,-197.298\"/>\n</g>\n<!-- 110 -->\n<g id=\"node111\" class=\"node\">\n<title>110</title>\n<path fill=\"#f3a7db\" stroke=\"#000000\" d=\"M16006.5,-187C16006.5,-187 15698.5,-187 15698.5,-187 15692.5,-187 15686.5,-181 15686.5,-175 15686.5,-175 15686.5,-116 15686.5,-116 15686.5,-110 15692.5,-104 15698.5,-104 15698.5,-104 16006.5,-104 16006.5,-104 16012.5,-104 16018.5,-110 16018.5,-116 16018.5,-116 16018.5,-175 16018.5,-175 16018.5,-181 16012.5,-187 16006.5,-187\"/>\n<text text-anchor=\"middle\" x=\"15852.5\" y=\"-171.8\" font-family=\"Helvetica,sans-Serif\" font-size=\"14.00\" fill=\"#000000\">EXT1 &lt;= 3.5</text>\n<text text-anchor=\"middle\" x=\"15852.5\" y=\"-156.8\" font-family=\"Helvetica,sans-Serif\" font-size=\"14.00\" fill=\"#000000\">gini = 0.668</text>\n<text text-anchor=\"middle\" x=\"15852.5\" y=\"-141.8\" font-family=\"Helvetica,sans-Serif\" font-size=\"14.00\" fill=\"#000000\">samples = 2564</text>\n<text text-anchor=\"middle\" x=\"15852.5\" y=\"-126.8\" font-family=\"Helvetica,sans-Serif\" font-size=\"14.00\" fill=\"#000000\">value = [0, 0, 305, 0, 0, 363, 252, 0, 300, 1344, 0]</text>\n<text text-anchor=\"middle\" x=\"15852.5\" y=\"-111.8\" font-family=\"Helvetica,sans-Serif\" font-size=\"14.00\" fill=\"#000000\">class = Germany</text>\n</g>\n<!-- 106&#45;&gt;110 -->\n<g id=\"edge110\" class=\"edge\">\n<title>106&#45;&gt;110</title>\n<path fill=\"none\" stroke=\"#000000\" d=\"M15534.7267,-223.6302C15580.4401,-212.3908 15630.1656,-200.1649 15676.4142,-188.7938\"/>\n<polygon fill=\"#000000\" stroke=\"#000000\" points=\"15677.3526,-192.1674 15686.2277,-186.381 15675.6812,-185.3699 15677.3526,-192.1674\"/>\n</g>\n<!-- 108 -->\n<g id=\"node109\" class=\"node\">\n<title>108</title>\n<path fill=\"#f5b4e0\" stroke=\"#000000\" d=\"M15376,-68C15376,-68 15085,-68 15085,-68 15079,-68 15073,-62 15073,-56 15073,-56 15073,-12 15073,-12 15073,-6 15079,0 15085,0 15085,0 15376,0 15376,0 15382,0 15388,-6 15388,-12 15388,-12 15388,-56 15388,-56 15388,-62 15382,-68 15376,-68\"/>\n<text text-anchor=\"middle\" x=\"15230.5\" y=\"-52.8\" font-family=\"Helvetica,sans-Serif\" font-size=\"14.00\" fill=\"#000000\">gini = 0.697</text>\n<text text-anchor=\"middle\" x=\"15230.5\" y=\"-37.8\" font-family=\"Helvetica,sans-Serif\" font-size=\"14.00\" fill=\"#000000\">samples = 977</text>\n<text text-anchor=\"middle\" x=\"15230.5\" y=\"-22.8\" font-family=\"Helvetica,sans-Serif\" font-size=\"14.00\" fill=\"#000000\">value = [0, 0, 100, 0, 0, 162, 147, 0, 97, 471, 0]</text>\n<text text-anchor=\"middle\" x=\"15230.5\" y=\"-7.8\" font-family=\"Helvetica,sans-Serif\" font-size=\"14.00\" fill=\"#000000\">class = Germany</text>\n</g>\n<!-- 107&#45;&gt;108 -->\n<g id=\"edge108\" class=\"edge\">\n<title>107&#45;&gt;108</title>\n<path fill=\"none\" stroke=\"#000000\" d=\"M15317.1139,-103.9815C15305.2839,-94.4232 15292.7136,-84.2668 15280.9249,-74.7419\"/>\n<polygon fill=\"#000000\" stroke=\"#000000\" points=\"15282.8851,-71.826 15272.9071,-68.2637 15278.4858,-77.2708 15282.8851,-71.826\"/>\n</g>\n<!-- 109 -->\n<g id=\"node110\" class=\"node\">\n<title>109</title>\n<path fill=\"#fefafd\" stroke=\"#000000\" d=\"M15660.5,-68C15660.5,-68 15418.5,-68 15418.5,-68 15412.5,-68 15406.5,-62 15406.5,-56 15406.5,-56 15406.5,-12 15406.5,-12 15406.5,-6 15412.5,0 15418.5,0 15418.5,0 15660.5,0 15660.5,0 15666.5,0 15672.5,-6 15672.5,-12 15672.5,-12 15672.5,-56 15672.5,-56 15672.5,-62 15666.5,-68 15660.5,-68\"/>\n<text text-anchor=\"middle\" x=\"15539.5\" y=\"-52.8\" font-family=\"Helvetica,sans-Serif\" font-size=\"14.00\" fill=\"#000000\">gini = 0.745</text>\n<text text-anchor=\"middle\" x=\"15539.5\" y=\"-37.8\" font-family=\"Helvetica,sans-Serif\" font-size=\"14.00\" fill=\"#000000\">samples = 105</text>\n<text text-anchor=\"middle\" x=\"15539.5\" y=\"-22.8\" font-family=\"Helvetica,sans-Serif\" font-size=\"14.00\" fill=\"#000000\">value = [0, 0, 9, 0, 0, 22, 32, 0, 8, 34, 0]</text>\n<text text-anchor=\"middle\" x=\"15539.5\" y=\"-7.8\" font-family=\"Helvetica,sans-Serif\" font-size=\"14.00\" fill=\"#000000\">class = Germany</text>\n</g>\n<!-- 107&#45;&gt;109 -->\n<g id=\"edge109\" class=\"edge\">\n<title>107&#45;&gt;109</title>\n<path fill=\"none\" stroke=\"#000000\" d=\"M15432.1741,-103.9815C15447.3352,-94.0957 15463.4776,-83.5701 15478.5149,-73.7651\"/>\n<polygon fill=\"#000000\" stroke=\"#000000\" points=\"15480.7603,-76.4794 15487.2252,-68.0856 15476.9369,-70.6158 15480.7603,-76.4794\"/>\n</g>\n<!-- 111 -->\n<g id=\"node112\" class=\"node\">\n<title>111</title>\n<path fill=\"#f3a5da\" stroke=\"#000000\" d=\"M16002,-68C16002,-68 15703,-68 15703,-68 15697,-68 15691,-62 15691,-56 15691,-56 15691,-12 15691,-12 15691,-6 15697,0 15703,0 15703,0 16002,0 16002,0 16008,0 16014,-6 16014,-12 16014,-12 16014,-56 16014,-56 16014,-62 16008,-68 16002,-68\"/>\n<text text-anchor=\"middle\" x=\"15852.5\" y=\"-52.8\" font-family=\"Helvetica,sans-Serif\" font-size=\"14.00\" fill=\"#000000\">gini = 0.665</text>\n<text text-anchor=\"middle\" x=\"15852.5\" y=\"-37.8\" font-family=\"Helvetica,sans-Serif\" font-size=\"14.00\" fill=\"#000000\">samples = 1686</text>\n<text text-anchor=\"middle\" x=\"15852.5\" y=\"-22.8\" font-family=\"Helvetica,sans-Serif\" font-size=\"14.00\" fill=\"#000000\">value = [0, 0, 223, 0, 0, 213, 148, 0, 213, 889, 0]</text>\n<text text-anchor=\"middle\" x=\"15852.5\" y=\"-7.8\" font-family=\"Helvetica,sans-Serif\" font-size=\"14.00\" fill=\"#000000\">class = Germany</text>\n</g>\n<!-- 110&#45;&gt;111 -->\n<g id=\"edge111\" class=\"edge\">\n<title>110&#45;&gt;111</title>\n<path fill=\"none\" stroke=\"#000000\" d=\"M15852.5,-103.9815C15852.5,-95.618 15852.5,-86.7965 15852.5,-78.3409\"/>\n<polygon fill=\"#000000\" stroke=\"#000000\" points=\"15856.0001,-78.2636 15852.5,-68.2637 15849.0001,-78.2637 15856.0001,-78.2636\"/>\n</g>\n<!-- 112 -->\n<g id=\"node113\" class=\"node\">\n<title>112</title>\n<path fill=\"#f4acdd\" stroke=\"#000000\" d=\"M16327,-68C16327,-68 16044,-68 16044,-68 16038,-68 16032,-62 16032,-56 16032,-56 16032,-12 16032,-12 16032,-6 16038,0 16044,0 16044,0 16327,0 16327,0 16333,0 16339,-6 16339,-12 16339,-12 16339,-56 16339,-56 16339,-62 16333,-68 16327,-68\"/>\n<text text-anchor=\"middle\" x=\"16185.5\" y=\"-52.8\" font-family=\"Helvetica,sans-Serif\" font-size=\"14.00\" fill=\"#000000\">gini = 0.67</text>\n<text text-anchor=\"middle\" x=\"16185.5\" y=\"-37.8\" font-family=\"Helvetica,sans-Serif\" font-size=\"14.00\" fill=\"#000000\">samples = 878</text>\n<text text-anchor=\"middle\" x=\"16185.5\" y=\"-22.8\" font-family=\"Helvetica,sans-Serif\" font-size=\"14.00\" fill=\"#000000\">value = [0, 0, 82, 0, 0, 150, 104, 0, 87, 455, 0]</text>\n<text text-anchor=\"middle\" x=\"16185.5\" y=\"-7.8\" font-family=\"Helvetica,sans-Serif\" font-size=\"14.00\" fill=\"#000000\">class = Germany</text>\n</g>\n<!-- 110&#45;&gt;112 -->\n<g id=\"edge112\" class=\"edge\">\n<title>110&#45;&gt;112</title>\n<path fill=\"none\" stroke=\"#000000\" d=\"M15976.4969,-103.9815C16008.5046,-93.2642 16042.7581,-81.795 16074.0807,-71.3071\"/>\n<polygon fill=\"#000000\" stroke=\"#000000\" points=\"16075.3304,-74.5797 16083.7017,-68.0856 16073.1078,-67.9419 16075.3304,-74.5797\"/>\n</g>\n</g>\n</svg>\n"
          },
          "metadata": {
            "tags": []
          },
          "execution_count": 137
        }
      ]
    },
    {
      "cell_type": "code",
      "metadata": {
        "id": "SkBBHrzKGT6J",
        "colab_type": "code",
        "colab": {
          "base_uri": "https://localhost:8080/",
          "height": 34
        },
        "outputId": "dad4496f-0b29-41fa-c90e-2c1e42b6d18f"
      },
      "source": [
        "pred = modelo.predict([[5,5,5,5,1,1,1,1,1,5,5, 1]])\n",
        "print(\"Previsão: \"+ pred[0])"
      ],
      "execution_count": 138,
      "outputs": [
        {
          "output_type": "stream",
          "text": [
            "Previsão: United Kingdom\n"
          ],
          "name": "stdout"
        }
      ]
    },
    {
      "cell_type": "code",
      "metadata": {
        "id": "MH9__RCvulCl",
        "colab_type": "code",
        "colab": {
          "base_uri": "https://localhost:8080/",
          "height": 34
        },
        "outputId": "075aba97-f39a-470a-9724-929117a7ebb8"
      },
      "source": [
        "centr = kmeans.predict([[1,1,1,1,1,1,1,1,1,1]])\n",
        "print(\"Centroide: \"+ str(centr[0]))"
      ],
      "execution_count": 140,
      "outputs": [
        {
          "output_type": "stream",
          "text": [
            "Centroide: 0\n"
          ],
          "name": "stdout"
        }
      ]
    },
    {
      "cell_type": "code",
      "metadata": {
        "id": "F6VnBXlmnuFl",
        "colab_type": "code",
        "colab": {}
      },
      "source": [
        ""
      ],
      "execution_count": null,
      "outputs": []
    }
  ]
}