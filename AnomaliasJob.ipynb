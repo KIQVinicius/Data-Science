{
  "nbformat": 4,
  "nbformat_minor": 0,
  "metadata": {
    "colab": {
      "name": "AnomaliasJob.ipynb",
      "provenance": [],
      "collapsed_sections": [],
      "toc_visible": true,
      "mount_file_id": "1LUS3Vq6jHCmnYDuf8bQZh1wOr51NqCfH",
      "authorship_tag": "ABX9TyPstvZ+KYEspKGuGESaFtJQ",
      "include_colab_link": true
    },
    "kernelspec": {
      "name": "python3",
      "display_name": "Python 3"
    }
  },
  "cells": [
    {
      "cell_type": "markdown",
      "metadata": {
        "id": "view-in-github",
        "colab_type": "text"
      },
      "source": [
        "<a href=\"https://colab.research.google.com/github/KIQVinicius/Data-Science/blob/master/AnomaliasJob.ipynb\" target=\"_parent\"><img src=\"https://colab.research.google.com/assets/colab-badge.svg\" alt=\"Open In Colab\"/></a>"
      ]
    },
    {
      "cell_type": "code",
      "metadata": {
        "id": "1SxfNtRMEOM0",
        "colab_type": "code",
        "colab": {}
      },
      "source": [
        "import pandas as pd\n",
        "from datetime import timedelta"
      ],
      "execution_count": 311,
      "outputs": []
    },
    {
      "cell_type": "code",
      "metadata": {
        "id": "0unr9jUiIpRs",
        "colab_type": "code",
        "colab": {}
      },
      "source": [
        "\n",
        "from datetime import date"
      ],
      "execution_count": 312,
      "outputs": []
    },
    {
      "cell_type": "code",
      "metadata": {
        "id": "4nSKBLF2Iso1",
        "colab_type": "code",
        "colab": {
          "base_uri": "https://localhost:8080/",
          "height": 197
        },
        "outputId": "98bcccf8-0580-430a-8b7f-c33ae62f5d28"
      },
      "source": [
        "dataset = pd.read_csv(\"MIPS1.csv\")\n",
        "dataset.head()"
      ],
      "execution_count": 313,
      "outputs": [
        {
          "output_type": "execute_result",
          "data": {
            "text/html": [
              "<div>\n",
              "<style scoped>\n",
              "    .dataframe tbody tr th:only-of-type {\n",
              "        vertical-align: middle;\n",
              "    }\n",
              "\n",
              "    .dataframe tbody tr th {\n",
              "        vertical-align: top;\n",
              "    }\n",
              "\n",
              "    .dataframe thead th {\n",
              "        text-align: right;\n",
              "    }\n",
              "</style>\n",
              "<table border=\"1\" class=\"dataframe\">\n",
              "  <thead>\n",
              "    <tr style=\"text-align: right;\">\n",
              "      <th></th>\n",
              "      <th>Unnamed: 0</th>\n",
              "      <th>JOBNAME</th>\n",
              "      <th>DATE</th>\n",
              "      <th>Valor_MIPS</th>\n",
              "      <th>Porcentagem</th>\n",
              "      <th>Chave</th>\n",
              "    </tr>\n",
              "  </thead>\n",
              "  <tbody>\n",
              "    <tr>\n",
              "      <th>0</th>\n",
              "      <td>0</td>\n",
              "      <td>FG921RID</td>\n",
              "      <td>08/06/2020</td>\n",
              "      <td>0.01</td>\n",
              "      <td>0.3</td>\n",
              "      <td>FG921RID08/06/2020</td>\n",
              "    </tr>\n",
              "    <tr>\n",
              "      <th>1</th>\n",
              "      <td>1</td>\n",
              "      <td>FG921RII</td>\n",
              "      <td>08/06/2020</td>\n",
              "      <td>0.01</td>\n",
              "      <td>0.3</td>\n",
              "      <td>FG921RII08/06/2020</td>\n",
              "    </tr>\n",
              "    <tr>\n",
              "      <th>2</th>\n",
              "      <td>2</td>\n",
              "      <td>FG921RIS</td>\n",
              "      <td>08/06/2020</td>\n",
              "      <td>0.01</td>\n",
              "      <td>0.3</td>\n",
              "      <td>FG921RIS08/06/2020</td>\n",
              "    </tr>\n",
              "    <tr>\n",
              "      <th>3</th>\n",
              "      <td>3</td>\n",
              "      <td>FG9227</td>\n",
              "      <td>08/06/2020</td>\n",
              "      <td>0.11</td>\n",
              "      <td>0.3</td>\n",
              "      <td>FG922708/06/2020</td>\n",
              "    </tr>\n",
              "    <tr>\n",
              "      <th>4</th>\n",
              "      <td>4</td>\n",
              "      <td>FG9227A</td>\n",
              "      <td>08/06/2020</td>\n",
              "      <td>1.67</td>\n",
              "      <td>0.3</td>\n",
              "      <td>FG9227A08/06/2020</td>\n",
              "    </tr>\n",
              "  </tbody>\n",
              "</table>\n",
              "</div>"
            ],
            "text/plain": [
              "   Unnamed: 0   JOBNAME  ... Porcentagem               Chave\n",
              "0           0  FG921RID  ...         0.3  FG921RID08/06/2020\n",
              "1           1  FG921RII  ...         0.3  FG921RII08/06/2020\n",
              "2           2  FG921RIS  ...         0.3  FG921RIS08/06/2020\n",
              "3           3    FG9227  ...         0.3    FG922708/06/2020\n",
              "4           4   FG9227A  ...         0.3   FG9227A08/06/2020\n",
              "\n",
              "[5 rows x 6 columns]"
            ]
          },
          "metadata": {
            "tags": []
          },
          "execution_count": 313
        }
      ]
    },
    {
      "cell_type": "code",
      "metadata": {
        "id": "3PEyeQ-ch9GR",
        "colab_type": "code",
        "colab": {}
      },
      "source": [
        "porcentagem = float(dataset['Porcentagem'][0])/100 + 1\n",
        "dataset.columns = ['Index', 'JOBNAME', 'DATE', 'Valor_MIPS', 'Porcentagem', 'Chave']"
      ],
      "execution_count": 314,
      "outputs": []
    },
    {
      "cell_type": "code",
      "metadata": {
        "id": "qWK708rXSjjW",
        "colab_type": "code",
        "colab": {}
      },
      "source": [
        "dataset = dataset.drop(columns=[\"Porcentagem\", \"Chave\"], axis=1)"
      ],
      "execution_count": 315,
      "outputs": []
    },
    {
      "cell_type": "code",
      "metadata": {
        "id": "7-4PI1CmTa1t",
        "colab_type": "code",
        "colab": {}
      },
      "source": [
        "dataset['DATE'] = pd.to_datetime(dataset['DATE'])\n",
        "dataset = dataset.sort_values(['DATE'])"
      ],
      "execution_count": 316,
      "outputs": []
    },
    {
      "cell_type": "code",
      "metadata": {
        "id": "O0TZ_9bOUE77",
        "colab_type": "code",
        "colab": {}
      },
      "source": [
        "first_day = dataset['DATE'].min()\n",
        "last_day = dataset['DATE'].max()"
      ],
      "execution_count": 317,
      "outputs": []
    },
    {
      "cell_type": "code",
      "metadata": {
        "id": "InnMUzotUkqn",
        "colab_type": "code",
        "colab": {
          "base_uri": "https://localhost:8080/",
          "height": 33
        },
        "outputId": "b53d0c67-74ae-4c25-9133-a2dc29f7719c"
      },
      "source": [
        "first_day"
      ],
      "execution_count": 318,
      "outputs": [
        {
          "output_type": "execute_result",
          "data": {
            "text/plain": [
              "Timestamp('2019-01-11 00:00:00')"
            ]
          },
          "metadata": {
            "tags": []
          },
          "execution_count": 318
        }
      ]
    },
    {
      "cell_type": "code",
      "metadata": {
        "id": "Z4WhaCLVUmaY",
        "colab_type": "code",
        "colab": {
          "base_uri": "https://localhost:8080/",
          "height": 33
        },
        "outputId": "df9156e3-b6a6-4ba4-f68c-18d0559112ee"
      },
      "source": [
        "last_day"
      ],
      "execution_count": 319,
      "outputs": [
        {
          "output_type": "execute_result",
          "data": {
            "text/plain": [
              "Timestamp('2020-12-06 00:00:00')"
            ]
          },
          "metadata": {
            "tags": []
          },
          "execution_count": 319
        }
      ]
    },
    {
      "cell_type": "code",
      "metadata": {
        "id": "PqiB_t7QVcGb",
        "colab_type": "code",
        "colab": {
          "base_uri": "https://localhost:8080/",
          "height": 33
        },
        "outputId": "23c50ce2-eae6-469a-a347-0c8768a46ce1"
      },
      "source": [
        "dt = last_day.date() - first_day.date()\n",
        "dt.days"
      ],
      "execution_count": 320,
      "outputs": [
        {
          "output_type": "execute_result",
          "data": {
            "text/plain": [
              "695"
            ]
          },
          "metadata": {
            "tags": []
          },
          "execution_count": 320
        }
      ]
    },
    {
      "cell_type": "code",
      "metadata": {
        "id": "EnOAtY-ObZO-",
        "colab_type": "code",
        "colab": {
          "base_uri": "https://localhost:8080/",
          "height": 33
        },
        "outputId": "a561bb54-80ba-4362-d91f-340119605889"
      },
      "source": [
        "weeks = int(dt.days/7)\n",
        "weeks"
      ],
      "execution_count": 321,
      "outputs": [
        {
          "output_type": "execute_result",
          "data": {
            "text/plain": [
              "99"
            ]
          },
          "metadata": {
            "tags": []
          },
          "execution_count": 321
        }
      ]
    },
    {
      "cell_type": "code",
      "metadata": {
        "id": "1AMSkZ-cjPPf",
        "colab_type": "code",
        "colab": {
          "base_uri": "https://localhost:8080/",
          "height": 33
        },
        "outputId": "47194b8e-3e4e-479b-e569-51db5948afeb"
      },
      "source": [
        "months = int(dt.days/30)\n",
        "months"
      ],
      "execution_count": 322,
      "outputs": [
        {
          "output_type": "execute_result",
          "data": {
            "text/plain": [
              "23"
            ]
          },
          "metadata": {
            "tags": []
          },
          "execution_count": 322
        }
      ]
    },
    {
      "cell_type": "code",
      "metadata": {
        "id": "WvRh89_Botr2",
        "colab_type": "code",
        "colab": {
          "base_uri": "https://localhost:8080/",
          "height": 216
        },
        "outputId": "d02497d7-9832-40d7-d7e0-9e306cbe1d7b"
      },
      "source": [
        "data = first_day\n",
        "dataset['JOBNAME'].value_counts()"
      ],
      "execution_count": 323,
      "outputs": [
        {
          "output_type": "execute_result",
          "data": {
            "text/plain": [
              "FG95BM09    262\n",
              "TWSJSDEL    262\n",
              "FZ90DPH1    262\n",
              "DB2SDIST    262\n",
              "FZ92DCV0    262\n",
              "           ... \n",
              "FF016R4V      1\n",
              "F6JP5DC4      1\n",
              "FZ626EQ1      1\n",
              "FG00PSI1      1\n",
              "MSTRASFP      1\n",
              "Name: JOBNAME, Length: 15631, dtype: int64"
            ]
          },
          "metadata": {
            "tags": []
          },
          "execution_count": 323
        }
      ]
    },
    {
      "cell_type": "code",
      "metadata": {
        "id": "7wVv_yLAxevG",
        "colab_type": "code",
        "colab": {
          "base_uri": "https://localhost:8080/",
          "height": 406
        },
        "outputId": "42c437a6-21aa-4ff4-af7a-703ae5ce88e3"
      },
      "source": [
        "frequencia = pd.DataFrame(dataset['JOBNAME'].value_counts())\n",
        "frequencia.reset_index(inplace=True)\n",
        "frequencia.columns = ['JOBNAME', 'Frequencia']\n",
        "frequencia"
      ],
      "execution_count": 324,
      "outputs": [
        {
          "output_type": "execute_result",
          "data": {
            "text/html": [
              "<div>\n",
              "<style scoped>\n",
              "    .dataframe tbody tr th:only-of-type {\n",
              "        vertical-align: middle;\n",
              "    }\n",
              "\n",
              "    .dataframe tbody tr th {\n",
              "        vertical-align: top;\n",
              "    }\n",
              "\n",
              "    .dataframe thead th {\n",
              "        text-align: right;\n",
              "    }\n",
              "</style>\n",
              "<table border=\"1\" class=\"dataframe\">\n",
              "  <thead>\n",
              "    <tr style=\"text-align: right;\">\n",
              "      <th></th>\n",
              "      <th>JOBNAME</th>\n",
              "      <th>Frequencia</th>\n",
              "    </tr>\n",
              "  </thead>\n",
              "  <tbody>\n",
              "    <tr>\n",
              "      <th>0</th>\n",
              "      <td>FG95BM09</td>\n",
              "      <td>262</td>\n",
              "    </tr>\n",
              "    <tr>\n",
              "      <th>1</th>\n",
              "      <td>TWSJSDEL</td>\n",
              "      <td>262</td>\n",
              "    </tr>\n",
              "    <tr>\n",
              "      <th>2</th>\n",
              "      <td>FZ90DPH1</td>\n",
              "      <td>262</td>\n",
              "    </tr>\n",
              "    <tr>\n",
              "      <th>3</th>\n",
              "      <td>DB2SDIST</td>\n",
              "      <td>262</td>\n",
              "    </tr>\n",
              "    <tr>\n",
              "      <th>4</th>\n",
              "      <td>FZ92DCV0</td>\n",
              "      <td>262</td>\n",
              "    </tr>\n",
              "    <tr>\n",
              "      <th>...</th>\n",
              "      <td>...</td>\n",
              "      <td>...</td>\n",
              "    </tr>\n",
              "    <tr>\n",
              "      <th>15626</th>\n",
              "      <td>FF016R4V</td>\n",
              "      <td>1</td>\n",
              "    </tr>\n",
              "    <tr>\n",
              "      <th>15627</th>\n",
              "      <td>F6JP5DC4</td>\n",
              "      <td>1</td>\n",
              "    </tr>\n",
              "    <tr>\n",
              "      <th>15628</th>\n",
              "      <td>FZ626EQ1</td>\n",
              "      <td>1</td>\n",
              "    </tr>\n",
              "    <tr>\n",
              "      <th>15629</th>\n",
              "      <td>FG00PSI1</td>\n",
              "      <td>1</td>\n",
              "    </tr>\n",
              "    <tr>\n",
              "      <th>15630</th>\n",
              "      <td>MSTRASFP</td>\n",
              "      <td>1</td>\n",
              "    </tr>\n",
              "  </tbody>\n",
              "</table>\n",
              "<p>15631 rows × 2 columns</p>\n",
              "</div>"
            ],
            "text/plain": [
              "        JOBNAME  Frequencia\n",
              "0      FG95BM09         262\n",
              "1      TWSJSDEL         262\n",
              "2      FZ90DPH1         262\n",
              "3      DB2SDIST         262\n",
              "4      FZ92DCV0         262\n",
              "...         ...         ...\n",
              "15626  FF016R4V           1\n",
              "15627  F6JP5DC4           1\n",
              "15628  FZ626EQ1           1\n",
              "15629  FG00PSI1           1\n",
              "15630  MSTRASFP           1\n",
              "\n",
              "[15631 rows x 2 columns]"
            ]
          },
          "metadata": {
            "tags": []
          },
          "execution_count": 324
        }
      ]
    },
    {
      "cell_type": "code",
      "metadata": {
        "id": "7MRGgKb05JEr",
        "colab_type": "code",
        "colab": {}
      },
      "source": [
        "frequencia = frequencia.query(\"Frequencia > 1\")"
      ],
      "execution_count": 325,
      "outputs": []
    },
    {
      "cell_type": "code",
      "metadata": {
        "id": "MWhto6sh1-kU",
        "colab_type": "code",
        "colab": {
          "base_uri": "https://localhost:8080/",
          "height": 197
        },
        "outputId": "bca43e8f-4fbb-4fdb-f139-98f51d62c063"
      },
      "source": [
        "dataset = dataset[dataset['JOBNAME'].isin(frequencia['JOBNAME'])]\n",
        "dataset.head()"
      ],
      "execution_count": 326,
      "outputs": [
        {
          "output_type": "execute_result",
          "data": {
            "text/html": [
              "<div>\n",
              "<style scoped>\n",
              "    .dataframe tbody tr th:only-of-type {\n",
              "        vertical-align: middle;\n",
              "    }\n",
              "\n",
              "    .dataframe tbody tr th {\n",
              "        vertical-align: top;\n",
              "    }\n",
              "\n",
              "    .dataframe thead th {\n",
              "        text-align: right;\n",
              "    }\n",
              "</style>\n",
              "<table border=\"1\" class=\"dataframe\">\n",
              "  <thead>\n",
              "    <tr style=\"text-align: right;\">\n",
              "      <th></th>\n",
              "      <th>Index</th>\n",
              "      <th>JOBNAME</th>\n",
              "      <th>DATE</th>\n",
              "      <th>Valor_MIPS</th>\n",
              "    </tr>\n",
              "  </thead>\n",
              "  <tbody>\n",
              "    <tr>\n",
              "      <th>192478</th>\n",
              "      <td>192478</td>\n",
              "      <td>BD26B8L</td>\n",
              "      <td>2019-01-11</td>\n",
              "      <td>1.14</td>\n",
              "    </tr>\n",
              "    <tr>\n",
              "      <th>196089</th>\n",
              "      <td>196089</td>\n",
              "      <td>FS0245SI</td>\n",
              "      <td>2019-01-11</td>\n",
              "      <td>2.88</td>\n",
              "    </tr>\n",
              "    <tr>\n",
              "      <th>196088</th>\n",
              "      <td>196088</td>\n",
              "      <td>FS0245SF</td>\n",
              "      <td>2019-01-11</td>\n",
              "      <td>0.01</td>\n",
              "    </tr>\n",
              "    <tr>\n",
              "      <th>196087</th>\n",
              "      <td>196087</td>\n",
              "      <td>FS0245NL</td>\n",
              "      <td>2019-01-11</td>\n",
              "      <td>3.64</td>\n",
              "    </tr>\n",
              "    <tr>\n",
              "      <th>196086</th>\n",
              "      <td>196086</td>\n",
              "      <td>FS0245NG</td>\n",
              "      <td>2019-01-11</td>\n",
              "      <td>0.18</td>\n",
              "    </tr>\n",
              "  </tbody>\n",
              "</table>\n",
              "</div>"
            ],
            "text/plain": [
              "         Index   JOBNAME       DATE  Valor_MIPS\n",
              "192478  192478   BD26B8L 2019-01-11        1.14\n",
              "196089  196089  FS0245SI 2019-01-11        2.88\n",
              "196088  196088  FS0245SF 2019-01-11        0.01\n",
              "196087  196087  FS0245NL 2019-01-11        3.64\n",
              "196086  196086  FS0245NG 2019-01-11        0.18"
            ]
          },
          "metadata": {
            "tags": []
          },
          "execution_count": 326
        }
      ]
    },
    {
      "cell_type": "code",
      "metadata": {
        "id": "k9piJ-Tc41sB",
        "colab_type": "code",
        "colab": {
          "base_uri": "https://localhost:8080/",
          "height": 216
        },
        "outputId": "f6c6da82-8152-4cb5-882e-97b9195b3fd4"
      },
      "source": [
        "dataset = dataset.drop(columns=[\"Index\"], axis=1)\n",
        "dataset['JOBNAME'].value_counts()\n"
      ],
      "execution_count": 327,
      "outputs": [
        {
          "output_type": "execute_result",
          "data": {
            "text/plain": [
              "PSNIMSTR    262\n",
              "FG76BLR0    262\n",
              "FX2242      262\n",
              "FG92MPO1    262\n",
              "FZ8130      262\n",
              "           ... \n",
              "FG941G        2\n",
              "FH08A0J       2\n",
              "FG95AU        2\n",
              "S1030540      2\n",
              "PDJFN005      2\n",
              "Name: JOBNAME, Length: 12923, dtype: int64"
            ]
          },
          "metadata": {
            "tags": []
          },
          "execution_count": 327
        }
      ]
    },
    {
      "cell_type": "markdown",
      "metadata": {
        "id": "gwITPZO4lvk8",
        "colab_type": "text"
      },
      "source": [
        "# Anomalia\n"
      ]
    },
    {
      "cell_type": "code",
      "metadata": {
        "id": "TpHxhEiEEYp0",
        "colab_type": "code",
        "colab": {}
      },
      "source": [
        "def DetectarAnomalia(dataset, intervalo):\n",
        "  if intervalo == \"Mensal\":\n",
        "    periodo = months\n",
        "    intervalo_de_dias = 30\n",
        "  elif intervalo == \"Semanal\":\n",
        "    periodo = weeks\n",
        "    intervalo_de_dias = 7\n",
        "  elif intervalo == \"Quinzenal\":\n",
        "    periodo = int(dt.days/15)\n",
        "    intervalo_de_dias = 15\n",
        "  elif intervalo == \"Trimestral\":\n",
        "    periodo = int(dt.days/90)\n",
        "    intervalo_de_dias = 90\n",
        "  elif intervalo == \"Semestral\":\n",
        "    periodo = int(dt.days/180)\n",
        "    intervalo_de_dias = 180\n",
        "  elif intervalo == \"Diario\":\n",
        "    periodo = int(dt.days)\n",
        "    intervalo_de_dias = 1\n",
        "  data = first_day\n",
        "  tabela_anomalia = dataset.iloc[0:0]\n",
        "  tabela_anomalia['Valor_MIPS_y'] = \"\"\n",
        "  tabela_anomalia['Status'] = \"\"\n",
        "  tabela_anomalia.columns = ['JOBNAME', 'DATE', 'Valor_MIPS_Atual', 'Valor_MIPS_Anterior', 'Status']\n",
        "  dataset_semana_anterior = dataset.query(\"DATE >= \" + \" '\"+ str(data)+ \"' \" + \" and DATE < \" + \" '\"+str(data+ timedelta(days = intervalo_de_dias)) + \"' \")\n",
        "  data = data+ timedelta(days = intervalo_de_dias)\n",
        "  dataset_semana_anterior = dataset_semana_anterior[dataset_semana_anterior['Valor_MIPS']>0].groupby('JOBNAME')\n",
        "  dataset_semana_anterior = pd.DataFrame(dataset_semana_anterior['Valor_MIPS'].mean())\n",
        "  dataset_semana_anterior.reset_index(inplace =True)\n",
        "  for i in range(0, periodo, 1):\n",
        "    dataset_semana = dataset.query(\"DATE >= \" + \" '\"+ str(data)+ \"' \" + \" and DATE < \" + \" '\"+str(data+ timedelta(days = intervalo_de_dias)) + \"' \")\n",
        "    #dataset = dataset.query(\"DATE >= \" + \" '\"+ str(data+ timedelta(days = 30))+ \"' \")\n",
        "    print(\"-------------------------------------------------\")\n",
        "    #dataset_semana = dataset_semana[dataset_semana['Valor_MIPS']>0].groupby('JOBNAME')\n",
        "    #dataset_semana = pd.DataFrame(dataset_semana['Valor_MIPS'].mean())\n",
        "    dataset_semana_anterior = dataset_semana_anterior[dataset_semana_anterior['JOBNAME'].isin(dataset_semana['JOBNAME'])]\n",
        "\n",
        "    df = pd.merge(dataset_semana, dataset_semana_anterior, on = \"JOBNAME\", how ='inner', suffixes=['_Atual', '_Anterior'])\n",
        "    df = df[df['Valor_MIPS_Atual'] > df['Valor_MIPS_Anterior'] *porcentagem]\n",
        "    df['Status'] = \"Aumentou\"\n",
        "    tabela_anomalia = tabela_anomalia.append(df)\n",
        "    df = df[df['Valor_MIPS_Atual'] < df['Valor_MIPS_Anterior'] *porcentagem]\n",
        "    df['Status'] = \"Diminuiu\"\n",
        "    tabela_anomalia = tabela_anomalia.append(df)\n",
        "\n",
        "    print(\"Anomalias até \" + str(data + timedelta(days = intervalo_de_dias) )[0:10]+\": \"  + str(tabela_anomalia.shape[0]))\n",
        "    dataset_semana_anterior = dataset_semana[dataset_semana['Valor_MIPS']>0].groupby('JOBNAME')\n",
        "    dataset_semana_anterior = pd.DataFrame(dataset_semana_anterior['Valor_MIPS'].mean())\n",
        "    dataset_semana_anterior.reset_index(inplace=True)\n",
        "    data = data+ timedelta(days = intervalo_de_dias)\n",
        "  tabela_anomalia['Anomalia'] = intervalo\n",
        "  return tabela_anomalia\n"
      ],
      "execution_count": 328,
      "outputs": []
    },
    {
      "cell_type": "code",
      "metadata": {
        "id": "5SqJSoc2180c",
        "colab_type": "code",
        "colab": {
          "base_uri": "https://localhost:8080/",
          "height": 783
        },
        "outputId": "7751c151-ead6-4f4c-98fc-d89747faf125"
      },
      "source": [
        "tabela_mensal = DetectarAnomalia(dataset, \"Mensal\")"
      ],
      "execution_count": 329,
      "outputs": [
        {
          "output_type": "stream",
          "text": [
            "-------------------------------------------------\n",
            "Anomalias até 2019-03-12: 3667\n",
            "-------------------------------------------------\n",
            "Anomalias até 2019-04-11: 8414\n",
            "-------------------------------------------------\n",
            "Anomalias até 2019-05-11: 12076\n",
            "-------------------------------------------------\n",
            "Anomalias até 2019-06-10: 17194\n",
            "-------------------------------------------------\n",
            "Anomalias até 2019-07-10: 20450\n",
            "-------------------------------------------------\n",
            "Anomalias até 2019-08-09: 24408\n",
            "-------------------------------------------------\n",
            "Anomalias até 2019-09-08: 28826\n",
            "-------------------------------------------------\n",
            "Anomalias até 2019-10-08: 33547\n",
            "-------------------------------------------------\n",
            "Anomalias até 2019-11-07: 66556\n",
            "-------------------------------------------------\n",
            "Anomalias até 2019-12-07: 115274\n",
            "-------------------------------------------------\n",
            "Anomalias até 2020-01-06: 144073\n",
            "-------------------------------------------------\n",
            "Anomalias até 2020-02-05: 190559\n",
            "-------------------------------------------------\n",
            "Anomalias até 2020-03-06: 238529\n",
            "-------------------------------------------------\n",
            "Anomalias até 2020-04-05: 272572\n",
            "-------------------------------------------------\n",
            "Anomalias até 2020-05-05: 297663\n",
            "-------------------------------------------------\n",
            "Anomalias até 2020-06-04: 343390\n",
            "-------------------------------------------------\n",
            "Anomalias até 2020-07-04: 368448\n",
            "-------------------------------------------------\n",
            "Anomalias até 2020-08-03: 375593\n",
            "-------------------------------------------------\n",
            "Anomalias até 2020-09-02: 383302\n",
            "-------------------------------------------------\n",
            "Anomalias até 2020-10-02: 393124\n",
            "-------------------------------------------------\n",
            "Anomalias até 2020-11-01: 400706\n",
            "-------------------------------------------------\n",
            "Anomalias até 2020-12-01: 410156\n",
            "-------------------------------------------------\n",
            "Anomalias até 2020-12-31: 419505\n"
          ],
          "name": "stdout"
        }
      ]
    },
    {
      "cell_type": "code",
      "metadata": {
        "id": "8Hm47TRbnQI4",
        "colab_type": "code",
        "colab": {
          "base_uri": "https://localhost:8080/",
          "height": 1000
        },
        "outputId": "65258c65-6728-4203-d556-9716d8d30189"
      },
      "source": [
        "tabela_semanal = DetectarAnomalia(dataset, \"Semanal\")"
      ],
      "execution_count": 330,
      "outputs": [
        {
          "output_type": "stream",
          "text": [
            "-------------------------------------------------\n",
            "Anomalias até 2019-01-25: 0\n",
            "-------------------------------------------------\n",
            "Anomalias até 2019-02-01: 0\n",
            "-------------------------------------------------\n",
            "Anomalias até 2019-02-08: 0\n",
            "-------------------------------------------------\n",
            "Anomalias até 2019-02-15: 0\n",
            "-------------------------------------------------\n",
            "Anomalias até 2019-02-22: 0\n",
            "-------------------------------------------------\n",
            "Anomalias até 2019-03-01: 0\n",
            "-------------------------------------------------\n",
            "Anomalias até 2019-03-08: 0\n",
            "-------------------------------------------------\n",
            "Anomalias até 2019-03-15: 0\n",
            "-------------------------------------------------\n",
            "Anomalias até 2019-03-22: 0\n",
            "-------------------------------------------------\n",
            "Anomalias até 2019-03-29: 0\n",
            "-------------------------------------------------\n",
            "Anomalias até 2019-04-05: 0\n",
            "-------------------------------------------------\n",
            "Anomalias até 2019-04-12: 0\n",
            "-------------------------------------------------\n",
            "Anomalias até 2019-04-19: 2369\n",
            "-------------------------------------------------\n",
            "Anomalias até 2019-04-26: 2369\n",
            "-------------------------------------------------\n",
            "Anomalias até 2019-05-03: 2369\n",
            "-------------------------------------------------\n",
            "Anomalias até 2019-05-10: 2369\n",
            "-------------------------------------------------\n",
            "Anomalias até 2019-05-17: 2369\n",
            "-------------------------------------------------\n",
            "Anomalias até 2019-05-24: 2369\n",
            "-------------------------------------------------\n",
            "Anomalias até 2019-05-31: 2369\n",
            "-------------------------------------------------\n",
            "Anomalias até 2019-06-07: 2369\n",
            "-------------------------------------------------\n",
            "Anomalias até 2019-06-14: 2369\n",
            "-------------------------------------------------\n",
            "Anomalias até 2019-06-21: 2369\n",
            "-------------------------------------------------\n",
            "Anomalias até 2019-06-28: 2369\n",
            "-------------------------------------------------\n",
            "Anomalias até 2019-07-05: 2369\n",
            "-------------------------------------------------\n",
            "Anomalias até 2019-07-12: 2369\n",
            "-------------------------------------------------\n",
            "Anomalias até 2019-07-19: 3462\n",
            "-------------------------------------------------\n",
            "Anomalias até 2019-07-26: 3462\n",
            "-------------------------------------------------\n",
            "Anomalias até 2019-08-02: 3462\n",
            "-------------------------------------------------\n",
            "Anomalias até 2019-08-09: 3462\n",
            "-------------------------------------------------\n",
            "Anomalias até 2019-08-16: 3462\n",
            "-------------------------------------------------\n",
            "Anomalias até 2019-08-23: 3462\n",
            "-------------------------------------------------\n",
            "Anomalias até 2019-08-30: 3462\n",
            "-------------------------------------------------\n",
            "Anomalias até 2019-09-06: 3462\n",
            "-------------------------------------------------\n",
            "Anomalias até 2019-09-13: 3462\n",
            "-------------------------------------------------\n",
            "Anomalias até 2019-09-20: 3462\n",
            "-------------------------------------------------\n",
            "Anomalias até 2019-09-27: 3462\n",
            "-------------------------------------------------\n",
            "Anomalias até 2019-10-04: 3462\n",
            "-------------------------------------------------\n",
            "Anomalias até 2019-10-11: 3462\n",
            "-------------------------------------------------\n",
            "Anomalias até 2019-10-18: 9053\n",
            "-------------------------------------------------\n",
            "Anomalias até 2019-10-25: 20701\n",
            "-------------------------------------------------\n",
            "Anomalias até 2019-11-01: 33951\n",
            "-------------------------------------------------\n",
            "Anomalias até 2019-11-08: 33951\n",
            "-------------------------------------------------\n",
            "Anomalias até 2019-11-15: 33951\n",
            "-------------------------------------------------\n",
            "Anomalias até 2019-11-22: 43413\n",
            "-------------------------------------------------\n",
            "Anomalias até 2019-11-29: 59386\n",
            "-------------------------------------------------\n",
            "Anomalias até 2019-12-06: 63094\n",
            "-------------------------------------------------\n",
            "Anomalias até 2019-12-13: 67209\n",
            "-------------------------------------------------\n",
            "Anomalias até 2019-12-20: 76212\n",
            "-------------------------------------------------\n",
            "Anomalias até 2019-12-27: 82105\n",
            "-------------------------------------------------\n",
            "Anomalias até 2020-01-03: 89692\n",
            "-------------------------------------------------\n",
            "Anomalias até 2020-01-10: 94908\n",
            "-------------------------------------------------\n",
            "Anomalias até 2020-01-17: 100641\n",
            "-------------------------------------------------\n",
            "Anomalias até 2020-01-24: 115044\n",
            "-------------------------------------------------\n",
            "Anomalias até 2020-01-31: 129717\n",
            "-------------------------------------------------\n",
            "Anomalias até 2020-02-07: 138572\n",
            "-------------------------------------------------\n",
            "Anomalias até 2020-02-14: 141486\n",
            "-------------------------------------------------\n",
            "Anomalias até 2020-02-21: 149830\n",
            "-------------------------------------------------\n",
            "Anomalias até 2020-02-28: 161466\n",
            "-------------------------------------------------\n",
            "Anomalias até 2020-03-06: 173018\n",
            "-------------------------------------------------\n",
            "Anomalias até 2020-03-13: 174322\n",
            "-------------------------------------------------\n",
            "Anomalias até 2020-03-20: 186369\n",
            "-------------------------------------------------\n",
            "Anomalias até 2020-03-27: 194956\n",
            "-------------------------------------------------\n",
            "Anomalias até 2020-04-03: 204520\n",
            "-------------------------------------------------\n",
            "Anomalias até 2020-04-10: 211916\n",
            "-------------------------------------------------\n",
            "Anomalias até 2020-04-17: 215794\n",
            "-------------------------------------------------\n",
            "Anomalias até 2020-04-24: 222264\n",
            "-------------------------------------------------\n",
            "Anomalias até 2020-05-01: 234007\n",
            "-------------------------------------------------\n",
            "Anomalias até 2020-05-08: 246082\n",
            "-------------------------------------------------\n",
            "Anomalias até 2020-05-15: 249345\n",
            "-------------------------------------------------\n",
            "Anomalias até 2020-05-22: 256569\n",
            "-------------------------------------------------\n",
            "Anomalias até 2020-05-29: 268128\n",
            "-------------------------------------------------\n",
            "Anomalias até 2020-06-05: 281425\n",
            "-------------------------------------------------\n",
            "Anomalias até 2020-06-12: 283649\n",
            "-------------------------------------------------\n",
            "Anomalias até 2020-06-19: 293355\n",
            "-------------------------------------------------\n",
            "Anomalias até 2020-06-26: 296989\n",
            "-------------------------------------------------\n",
            "Anomalias até 2020-07-03: 301974\n",
            "-------------------------------------------------\n",
            "Anomalias até 2020-07-10: 305037\n",
            "-------------------------------------------------\n",
            "Anomalias até 2020-07-17: 305037\n",
            "-------------------------------------------------\n",
            "Anomalias até 2020-07-24: 305037\n",
            "-------------------------------------------------\n",
            "Anomalias até 2020-07-31: 305037\n",
            "-------------------------------------------------\n",
            "Anomalias até 2020-08-07: 305037\n",
            "-------------------------------------------------\n",
            "Anomalias até 2020-08-14: 305037\n",
            "-------------------------------------------------\n",
            "Anomalias até 2020-08-21: 305037\n",
            "-------------------------------------------------\n",
            "Anomalias até 2020-08-28: 305037\n",
            "-------------------------------------------------\n",
            "Anomalias até 2020-09-04: 305037\n",
            "-------------------------------------------------\n",
            "Anomalias até 2020-09-11: 308873\n",
            "-------------------------------------------------\n",
            "Anomalias até 2020-09-18: 308873\n",
            "-------------------------------------------------\n",
            "Anomalias até 2020-09-25: 308873\n",
            "-------------------------------------------------\n",
            "Anomalias até 2020-10-02: 308873\n",
            "-------------------------------------------------\n",
            "Anomalias até 2020-10-09: 314822\n",
            "-------------------------------------------------\n",
            "Anomalias até 2020-10-16: 314822\n",
            "-------------------------------------------------\n",
            "Anomalias até 2020-10-23: 314822\n",
            "-------------------------------------------------\n",
            "Anomalias até 2020-10-30: 314822\n",
            "-------------------------------------------------\n",
            "Anomalias até 2020-11-06: 314822\n",
            "-------------------------------------------------\n",
            "Anomalias até 2020-11-13: 316274\n",
            "-------------------------------------------------\n",
            "Anomalias até 2020-11-20: 316274\n",
            "-------------------------------------------------\n",
            "Anomalias até 2020-11-27: 316274\n",
            "-------------------------------------------------\n",
            "Anomalias até 2020-12-04: 316274\n",
            "-------------------------------------------------\n",
            "Anomalias até 2020-12-11: 318463\n"
          ],
          "name": "stdout"
        }
      ]
    },
    {
      "cell_type": "code",
      "metadata": {
        "id": "P7a8rcfJTchW",
        "colab_type": "code",
        "colab": {
          "base_uri": "https://localhost:8080/",
          "height": 1000
        },
        "outputId": "15b45bf2-fb97-4df0-d965-8e17b7c08136"
      },
      "source": [
        "tabela_quinzenal = DetectarAnomalia(dataset, \"Quinzenal\")"
      ],
      "execution_count": 331,
      "outputs": [
        {
          "output_type": "stream",
          "text": [
            "-------------------------------------------------\n",
            "Anomalias até 2019-02-10: 0\n",
            "-------------------------------------------------\n",
            "Anomalias até 2019-02-25: 0\n",
            "-------------------------------------------------\n",
            "Anomalias até 2019-03-12: 1959\n",
            "-------------------------------------------------\n",
            "Anomalias até 2019-03-27: 4605\n",
            "-------------------------------------------------\n",
            "Anomalias até 2019-04-11: 5626\n",
            "-------------------------------------------------\n",
            "Anomalias até 2019-04-26: 8876\n",
            "-------------------------------------------------\n",
            "Anomalias até 2019-05-11: 9766\n",
            "-------------------------------------------------\n",
            "Anomalias até 2019-05-26: 13138\n",
            "-------------------------------------------------\n",
            "Anomalias até 2019-06-10: 13138\n",
            "-------------------------------------------------\n",
            "Anomalias até 2019-06-25: 13138\n",
            "-------------------------------------------------\n",
            "Anomalias até 2019-07-10: 13138\n",
            "-------------------------------------------------\n",
            "Anomalias até 2019-07-25: 13138\n",
            "-------------------------------------------------\n",
            "Anomalias até 2019-08-09: 13138\n",
            "-------------------------------------------------\n",
            "Anomalias até 2019-08-24: 13138\n",
            "-------------------------------------------------\n",
            "Anomalias até 2019-09-08: 13138\n",
            "-------------------------------------------------\n",
            "Anomalias até 2019-09-23: 13138\n",
            "-------------------------------------------------\n",
            "Anomalias até 2019-10-08: 13138\n",
            "-------------------------------------------------\n",
            "Anomalias até 2019-10-23: 13138\n",
            "-------------------------------------------------\n",
            "Anomalias até 2019-11-07: 31427\n",
            "-------------------------------------------------\n",
            "Anomalias até 2019-11-22: 54382\n",
            "-------------------------------------------------\n",
            "Anomalias até 2019-12-07: 75339\n",
            "-------------------------------------------------\n",
            "Anomalias até 2019-12-22: 89689\n",
            "-------------------------------------------------\n",
            "Anomalias até 2020-01-06: 102420\n",
            "-------------------------------------------------\n",
            "Anomalias até 2020-01-21: 116797\n",
            "-------------------------------------------------\n",
            "Anomalias até 2020-02-05: 150606\n",
            "-------------------------------------------------\n",
            "Anomalias até 2020-02-20: 167286\n",
            "-------------------------------------------------\n",
            "Anomalias até 2020-03-06: 195559\n",
            "-------------------------------------------------\n",
            "Anomalias até 2020-03-21: 209602\n",
            "-------------------------------------------------\n",
            "Anomalias até 2020-04-05: 229850\n",
            "-------------------------------------------------\n",
            "Anomalias até 2020-04-20: 239292\n",
            "-------------------------------------------------\n",
            "Anomalias até 2020-05-05: 260222\n",
            "-------------------------------------------------\n",
            "Anomalias até 2020-05-20: 275749\n",
            "-------------------------------------------------\n",
            "Anomalias até 2020-06-04: 303780\n",
            "-------------------------------------------------\n",
            "Anomalias até 2020-06-19: 316724\n",
            "-------------------------------------------------\n",
            "Anomalias até 2020-07-04: 328047\n",
            "-------------------------------------------------\n",
            "Anomalias até 2020-07-19: 330673\n",
            "-------------------------------------------------\n",
            "Anomalias até 2020-08-03: 334570\n",
            "-------------------------------------------------\n",
            "Anomalias até 2020-08-18: 338614\n",
            "-------------------------------------------------\n",
            "Anomalias até 2020-09-02: 340933\n",
            "-------------------------------------------------\n",
            "Anomalias até 2020-09-17: 346159\n",
            "-------------------------------------------------\n",
            "Anomalias até 2020-10-02: 347993\n",
            "-------------------------------------------------\n",
            "Anomalias até 2020-10-17: 353942\n",
            "-------------------------------------------------\n",
            "Anomalias até 2020-11-01: 353942\n",
            "-------------------------------------------------\n",
            "Anomalias até 2020-11-16: 353942\n",
            "-------------------------------------------------\n",
            "Anomalias até 2020-12-01: 353942\n",
            "-------------------------------------------------\n",
            "Anomalias até 2020-12-16: 353942\n"
          ],
          "name": "stdout"
        }
      ]
    },
    {
      "cell_type": "code",
      "metadata": {
        "id": "RLR5UV8JTiiy",
        "colab_type": "code",
        "colab": {
          "base_uri": "https://localhost:8080/",
          "height": 250
        },
        "outputId": "846acf1b-5a71-436d-a847-79b4d00f1dc3"
      },
      "source": [
        "tabela_trimestral = DetectarAnomalia(dataset, \"Trimestral\")"
      ],
      "execution_count": 332,
      "outputs": [
        {
          "output_type": "stream",
          "text": [
            "-------------------------------------------------\n",
            "Anomalias até 2019-07-10: 15227\n",
            "-------------------------------------------------\n",
            "Anomalias até 2019-10-08: 29268\n",
            "-------------------------------------------------\n",
            "Anomalias até 2020-01-06: 152793\n",
            "-------------------------------------------------\n",
            "Anomalias até 2020-04-05: 288810\n",
            "-------------------------------------------------\n",
            "Anomalias até 2020-07-04: 362392\n",
            "-------------------------------------------------\n",
            "Anomalias até 2020-10-02: 388648\n",
            "-------------------------------------------------\n",
            "Anomalias até 2020-12-31: 418623\n"
          ],
          "name": "stdout"
        }
      ]
    },
    {
      "cell_type": "code",
      "metadata": {
        "id": "XS3xOST1Tre5",
        "colab_type": "code",
        "colab": {
          "base_uri": "https://localhost:8080/",
          "height": 116
        },
        "outputId": "cc04eca5-a2fc-472a-ba5b-efc612b4ea55"
      },
      "source": [
        "tabela_semestral = DetectarAnomalia(dataset, \"Semestral\")"
      ],
      "execution_count": 333,
      "outputs": [
        {
          "output_type": "stream",
          "text": [
            "-------------------------------------------------\n",
            "Anomalias até 2020-01-06: 135035\n",
            "-------------------------------------------------\n",
            "Anomalias até 2020-07-04: 360098\n",
            "-------------------------------------------------\n",
            "Anomalias até 2020-12-31: 409026\n"
          ],
          "name": "stdout"
        }
      ]
    },
    {
      "cell_type": "code",
      "metadata": {
        "id": "256Abk-yTwVG",
        "colab_type": "code",
        "colab": {}
      },
      "source": [
        "#tabela_diaria = DetectarAnomalia(dataset, \"Diario\")\n"
      ],
      "execution_count": 334,
      "outputs": []
    },
    {
      "cell_type": "code",
      "metadata": {
        "id": "5bYBstbluF71",
        "colab_type": "code",
        "colab": {
          "base_uri": "https://localhost:8080/",
          "height": 50
        },
        "outputId": "dc5696c3-adf2-47d5-e741-b982a22256f0"
      },
      "source": [
        "tabela_final = tabela_semanal.iloc[0:0]\n",
        "tabela_final = tabela_final.append(tabela_mensal)\n",
        "print(tabela_final.shape)\n",
        "tabela_final = tabela_final.append(tabela_semanal)\n",
        "print(tabela_final.shape)\n",
        "tabela_final = tabela_final.append(tabela_quinzenal)\n",
        "tabela_final = tabela_final.append(tabela_semestral)\n",
        "#tabela_final = tabela_final.append(tabela_diaria)"
      ],
      "execution_count": 335,
      "outputs": [
        {
          "output_type": "stream",
          "text": [
            "(419505, 6)\n",
            "(737968, 6)\n"
          ],
          "name": "stdout"
        }
      ]
    },
    {
      "cell_type": "code",
      "metadata": {
        "id": "P0yUfcnAD8Oo",
        "colab_type": "code",
        "colab": {
          "base_uri": "https://localhost:8080/",
          "height": 406
        },
        "outputId": "49fe0667-9684-4aa1-a405-206773e14b39"
      },
      "source": [
        "tabela_diaria"
      ],
      "execution_count": 336,
      "outputs": [
        {
          "output_type": "execute_result",
          "data": {
            "text/html": [
              "<div>\n",
              "<style scoped>\n",
              "    .dataframe tbody tr th:only-of-type {\n",
              "        vertical-align: middle;\n",
              "    }\n",
              "\n",
              "    .dataframe tbody tr th {\n",
              "        vertical-align: top;\n",
              "    }\n",
              "\n",
              "    .dataframe thead th {\n",
              "        text-align: right;\n",
              "    }\n",
              "</style>\n",
              "<table border=\"1\" class=\"dataframe\">\n",
              "  <thead>\n",
              "    <tr style=\"text-align: right;\">\n",
              "      <th></th>\n",
              "      <th>JOBNAME</th>\n",
              "      <th>DATE</th>\n",
              "      <th>Valor_MIPS_Atual</th>\n",
              "      <th>Valor_MIPS_Anterior</th>\n",
              "      <th>Status</th>\n",
              "      <th>DATA ANTERIOR</th>\n",
              "      <th>Anomalia</th>\n",
              "    </tr>\n",
              "  </thead>\n",
              "  <tbody>\n",
              "    <tr>\n",
              "      <th>12</th>\n",
              "      <td>FTOMSTAT</td>\n",
              "      <td>2019-01-12</td>\n",
              "      <td>53.53</td>\n",
              "      <td>52.72</td>\n",
              "      <td>Aumentou</td>\n",
              "      <td>NaN</td>\n",
              "      <td>Diario</td>\n",
              "    </tr>\n",
              "    <tr>\n",
              "      <th>14</th>\n",
              "      <td>FS0205G0</td>\n",
              "      <td>2019-01-12</td>\n",
              "      <td>17.31</td>\n",
              "      <td>15.36</td>\n",
              "      <td>Aumentou</td>\n",
              "      <td>NaN</td>\n",
              "      <td>Diario</td>\n",
              "    </tr>\n",
              "    <tr>\n",
              "      <th>15</th>\n",
              "      <td>FS0205NL</td>\n",
              "      <td>2019-01-12</td>\n",
              "      <td>0.21</td>\n",
              "      <td>0.17</td>\n",
              "      <td>Aumentou</td>\n",
              "      <td>NaN</td>\n",
              "      <td>Diario</td>\n",
              "    </tr>\n",
              "    <tr>\n",
              "      <th>20</th>\n",
              "      <td>FR3451</td>\n",
              "      <td>2019-01-12</td>\n",
              "      <td>22.54</td>\n",
              "      <td>12.06</td>\n",
              "      <td>Aumentou</td>\n",
              "      <td>NaN</td>\n",
              "      <td>Diario</td>\n",
              "    </tr>\n",
              "    <tr>\n",
              "      <th>24</th>\n",
              "      <td>FS0205GA</td>\n",
              "      <td>2019-01-12</td>\n",
              "      <td>15.29</td>\n",
              "      <td>8.26</td>\n",
              "      <td>Aumentou</td>\n",
              "      <td>NaN</td>\n",
              "      <td>Diario</td>\n",
              "    </tr>\n",
              "    <tr>\n",
              "      <th>...</th>\n",
              "      <td>...</td>\n",
              "      <td>...</td>\n",
              "      <td>...</td>\n",
              "      <td>...</td>\n",
              "      <td>...</td>\n",
              "      <td>...</td>\n",
              "      <td>...</td>\n",
              "    </tr>\n",
              "    <tr>\n",
              "      <th>4614</th>\n",
              "      <td>FG95BM17</td>\n",
              "      <td>2020-12-06</td>\n",
              "      <td>0.18</td>\n",
              "      <td>0.07</td>\n",
              "      <td>Aumentou</td>\n",
              "      <td>NaN</td>\n",
              "      <td>Diario</td>\n",
              "    </tr>\n",
              "    <tr>\n",
              "      <th>4616</th>\n",
              "      <td>FG95BM15</td>\n",
              "      <td>2020-12-06</td>\n",
              "      <td>1.42</td>\n",
              "      <td>0.47</td>\n",
              "      <td>Aumentou</td>\n",
              "      <td>NaN</td>\n",
              "      <td>Diario</td>\n",
              "    </tr>\n",
              "    <tr>\n",
              "      <th>4617</th>\n",
              "      <td>FG95BR09</td>\n",
              "      <td>2020-12-06</td>\n",
              "      <td>0.02</td>\n",
              "      <td>0.01</td>\n",
              "      <td>Aumentou</td>\n",
              "      <td>NaN</td>\n",
              "      <td>Diario</td>\n",
              "    </tr>\n",
              "    <tr>\n",
              "      <th>4638</th>\n",
              "      <td>FG95BM13</td>\n",
              "      <td>2020-12-06</td>\n",
              "      <td>0.69</td>\n",
              "      <td>0.54</td>\n",
              "      <td>Aumentou</td>\n",
              "      <td>NaN</td>\n",
              "      <td>Diario</td>\n",
              "    </tr>\n",
              "    <tr>\n",
              "      <th>4639</th>\n",
              "      <td>BG9433A</td>\n",
              "      <td>2020-12-06</td>\n",
              "      <td>58.35</td>\n",
              "      <td>45.65</td>\n",
              "      <td>Aumentou</td>\n",
              "      <td>NaN</td>\n",
              "      <td>Diario</td>\n",
              "    </tr>\n",
              "  </tbody>\n",
              "</table>\n",
              "<p>271429 rows × 7 columns</p>\n",
              "</div>"
            ],
            "text/plain": [
              "       JOBNAME       DATE  Valor_MIPS_Atual  ...    Status DATA ANTERIOR Anomalia\n",
              "12    FTOMSTAT 2019-01-12             53.53  ...  Aumentou           NaN   Diario\n",
              "14    FS0205G0 2019-01-12             17.31  ...  Aumentou           NaN   Diario\n",
              "15    FS0205NL 2019-01-12              0.21  ...  Aumentou           NaN   Diario\n",
              "20      FR3451 2019-01-12             22.54  ...  Aumentou           NaN   Diario\n",
              "24    FS0205GA 2019-01-12             15.29  ...  Aumentou           NaN   Diario\n",
              "...        ...        ...               ...  ...       ...           ...      ...\n",
              "4614  FG95BM17 2020-12-06              0.18  ...  Aumentou           NaN   Diario\n",
              "4616  FG95BM15 2020-12-06              1.42  ...  Aumentou           NaN   Diario\n",
              "4617  FG95BR09 2020-12-06              0.02  ...  Aumentou           NaN   Diario\n",
              "4638  FG95BM13 2020-12-06              0.69  ...  Aumentou           NaN   Diario\n",
              "4639   BG9433A 2020-12-06             58.35  ...  Aumentou           NaN   Diario\n",
              "\n",
              "[271429 rows x 7 columns]"
            ]
          },
          "metadata": {
            "tags": []
          },
          "execution_count": 336
        }
      ]
    },
    {
      "cell_type": "code",
      "metadata": {
        "id": "o-O8vJLrJJA4",
        "colab_type": "code",
        "colab": {
          "base_uri": "https://localhost:8080/",
          "height": 163
        },
        "outputId": "60f12aa0-21f5-46b2-8910-fe42cdcaed7c"
      },
      "source": [
        ""
      ],
      "execution_count": 337,
      "outputs": [
        {
          "output_type": "error",
          "ename": "NameError",
          "evalue": "ignored",
          "traceback": [
            "\u001b[0;31m---------------------------------------------------------------------------\u001b[0m",
            "\u001b[0;31mNameError\u001b[0m                                 Traceback (most recent call last)",
            "\u001b[0;32m<ipython-input-337-adfa46750630>\u001b[0m in \u001b[0;36m<module>\u001b[0;34m()\u001b[0m\n\u001b[0;32m----> 1\u001b[0;31m \u001b[0mta\u001b[0m\u001b[0;34m\u001b[0m\u001b[0;34m\u001b[0m\u001b[0m\n\u001b[0m",
            "\u001b[0;31mNameError\u001b[0m: name 'ta' is not defined"
          ]
        }
      ]
    }
  ]
}