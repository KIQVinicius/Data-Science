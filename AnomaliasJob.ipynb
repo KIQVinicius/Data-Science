{
  "nbformat": 4,
  "nbformat_minor": 0,
  "metadata": {
    "colab": {
      "name": "AnomaliasJob.ipynb",
      "provenance": [],
      "collapsed_sections": [],
      "toc_visible": true,
      "mount_file_id": "1LUS3Vq6jHCmnYDuf8bQZh1wOr51NqCfH",
      "authorship_tag": "ABX9TyNXcOtoVw5fb+GpzzfPqyfo",
      "include_colab_link": true
    },
    "kernelspec": {
      "name": "python3",
      "display_name": "Python 3"
    }
  },
  "cells": [
    {
      "cell_type": "markdown",
      "metadata": {
        "id": "view-in-github",
        "colab_type": "text"
      },
      "source": [
        "<a href=\"https://colab.research.google.com/github/KIQVinicius/Data-Science/blob/master/AnomaliasJob.ipynb\" target=\"_parent\"><img src=\"https://colab.research.google.com/assets/colab-badge.svg\" alt=\"Open In Colab\"/></a>"
      ]
    },
    {
      "cell_type": "code",
      "metadata": {
        "id": "1SxfNtRMEOM0",
        "colab_type": "code",
        "colab": {}
      },
      "source": [
        "import pandas as pd\n",
        "from datetime import timedelta"
      ],
      "execution_count": 72,
      "outputs": []
    },
    {
      "cell_type": "code",
      "metadata": {
        "id": "0unr9jUiIpRs",
        "colab_type": "code",
        "colab": {}
      },
      "source": [
        "import numpy as np\n",
        "from datetime import date"
      ],
      "execution_count": 73,
      "outputs": []
    },
    {
      "cell_type": "code",
      "metadata": {
        "id": "4nSKBLF2Iso1",
        "colab_type": "code",
        "colab": {}
      },
      "source": [
        "dataset = pd.read_csv(\"MIPS1.csv\")\n",
        "dataset = dataset.head(50000)"
      ],
      "execution_count": 91,
      "outputs": []
    },
    {
      "cell_type": "code",
      "metadata": {
        "id": "3PEyeQ-ch9GR",
        "colab_type": "code",
        "colab": {}
      },
      "source": [
        "porcentagem = float(dataset['Porcentagem'][1])/100 + 1\n",
        "dataset.columns = ['Index', 'JOBNAME', 'DATE', 'Valor_MIPS', 'Porcentagem', 'Chave']"
      ],
      "execution_count": 92,
      "outputs": []
    },
    {
      "cell_type": "code",
      "metadata": {
        "id": "qWK708rXSjjW",
        "colab_type": "code",
        "colab": {}
      },
      "source": [
        "dataset = dataset.drop(columns=[\"Porcentagem\", \"Chave\"], axis=1)"
      ],
      "execution_count": 93,
      "outputs": []
    },
    {
      "cell_type": "code",
      "metadata": {
        "id": "7-4PI1CmTa1t",
        "colab_type": "code",
        "colab": {}
      },
      "source": [
        "dataset['DATE'] = pd.to_datetime(dataset['DATE'])"
      ],
      "execution_count": 94,
      "outputs": []
    },
    {
      "cell_type": "code",
      "metadata": {
        "id": "O0TZ_9bOUE77",
        "colab_type": "code",
        "colab": {}
      },
      "source": [
        "first_day = dataset['DATE'].min()\n",
        "last_day = dataset['DATE'].max()"
      ],
      "execution_count": 95,
      "outputs": []
    },
    {
      "cell_type": "code",
      "metadata": {
        "id": "InnMUzotUkqn",
        "colab_type": "code",
        "colab": {
          "base_uri": "https://localhost:8080/",
          "height": 34
        },
        "outputId": "fc4f9a6e-7653-4ccf-edc4-debf89699c9f"
      },
      "source": [
        "first_day"
      ],
      "execution_count": 96,
      "outputs": [
        {
          "output_type": "execute_result",
          "data": {
            "text/plain": [
              "Timestamp('2020-01-04 00:00:00')"
            ]
          },
          "metadata": {
            "tags": []
          },
          "execution_count": 96
        }
      ]
    },
    {
      "cell_type": "code",
      "metadata": {
        "id": "Z4WhaCLVUmaY",
        "colab_type": "code",
        "colab": {
          "base_uri": "https://localhost:8080/",
          "height": 34
        },
        "outputId": "75ffb214-26df-4b7c-b052-e2cbe7b3b575"
      },
      "source": [
        "last_day"
      ],
      "execution_count": 97,
      "outputs": [
        {
          "output_type": "execute_result",
          "data": {
            "text/plain": [
              "Timestamp('2020-05-04 00:00:00')"
            ]
          },
          "metadata": {
            "tags": []
          },
          "execution_count": 97
        }
      ]
    },
    {
      "cell_type": "code",
      "metadata": {
        "id": "PqiB_t7QVcGb",
        "colab_type": "code",
        "colab": {
          "base_uri": "https://localhost:8080/",
          "height": 34
        },
        "outputId": "af8db936-e34c-4979-cc2b-c53da760bc62"
      },
      "source": [
        "dt = last_day.date() - first_day.date()\n",
        "dt.days"
      ],
      "execution_count": 98,
      "outputs": [
        {
          "output_type": "execute_result",
          "data": {
            "text/plain": [
              "121"
            ]
          },
          "metadata": {
            "tags": []
          },
          "execution_count": 98
        }
      ]
    },
    {
      "cell_type": "code",
      "metadata": {
        "id": "EnOAtY-ObZO-",
        "colab_type": "code",
        "colab": {
          "base_uri": "https://localhost:8080/",
          "height": 34
        },
        "outputId": "73b88aeb-3fce-4187-89af-607d14ab1067"
      },
      "source": [
        "weeks = int(dt.days/7)\n",
        "weeks"
      ],
      "execution_count": 99,
      "outputs": [
        {
          "output_type": "execute_result",
          "data": {
            "text/plain": [
              "17"
            ]
          },
          "metadata": {
            "tags": []
          },
          "execution_count": 99
        }
      ]
    },
    {
      "cell_type": "code",
      "metadata": {
        "id": "1AMSkZ-cjPPf",
        "colab_type": "code",
        "colab": {
          "base_uri": "https://localhost:8080/",
          "height": 34
        },
        "outputId": "80d5dcda-1cc9-4d32-a26f-96cf10a65bda"
      },
      "source": [
        "months = int(dt.days/30)\n",
        "months"
      ],
      "execution_count": 100,
      "outputs": [
        {
          "output_type": "execute_result",
          "data": {
            "text/plain": [
              "4"
            ]
          },
          "metadata": {
            "tags": []
          },
          "execution_count": 100
        }
      ]
    },
    {
      "cell_type": "code",
      "metadata": {
        "id": "WvRh89_Botr2",
        "colab_type": "code",
        "colab": {}
      },
      "source": [
        "data = first_day"
      ],
      "execution_count": 101,
      "outputs": []
    },
    {
      "cell_type": "code",
      "metadata": {
        "id": "7wVv_yLAxevG",
        "colab_type": "code",
        "colab": {}
      },
      "source": [
        "frequencia = pd.DataFrame(dataset['JOBNAME'].value_counts())\n",
        "frequencia.reset_index(inplace=True)\n",
        "frequencia.columns = ['JOBNAME', 'Frequencia']"
      ],
      "execution_count": 102,
      "outputs": []
    },
    {
      "cell_type": "code",
      "metadata": {
        "id": "7MRGgKb05JEr",
        "colab_type": "code",
        "colab": {}
      },
      "source": [
        "frequencia = frequencia.query(\"Frequencia > 1\")"
      ],
      "execution_count": 103,
      "outputs": []
    },
    {
      "cell_type": "code",
      "metadata": {
        "id": "MWhto6sh1-kU",
        "colab_type": "code",
        "colab": {
          "base_uri": "https://localhost:8080/",
          "height": 204
        },
        "outputId": "9a4f0a6e-2cb1-41a5-d869-7f971d05e655"
      },
      "source": [
        "dataset = dataset[dataset['JOBNAME'].isin(frequencia['JOBNAME'])]\n",
        "dataset.head()"
      ],
      "execution_count": 104,
      "outputs": [
        {
          "output_type": "execute_result",
          "data": {
            "text/html": [
              "<div>\n",
              "<style scoped>\n",
              "    .dataframe tbody tr th:only-of-type {\n",
              "        vertical-align: middle;\n",
              "    }\n",
              "\n",
              "    .dataframe tbody tr th {\n",
              "        vertical-align: top;\n",
              "    }\n",
              "\n",
              "    .dataframe thead th {\n",
              "        text-align: right;\n",
              "    }\n",
              "</style>\n",
              "<table border=\"1\" class=\"dataframe\">\n",
              "  <thead>\n",
              "    <tr style=\"text-align: right;\">\n",
              "      <th></th>\n",
              "      <th>Index</th>\n",
              "      <th>JOBNAME</th>\n",
              "      <th>DATE</th>\n",
              "      <th>Valor_MIPS</th>\n",
              "    </tr>\n",
              "  </thead>\n",
              "  <tbody>\n",
              "    <tr>\n",
              "      <th>0</th>\n",
              "      <td>0</td>\n",
              "      <td>FK20OK</td>\n",
              "      <td>2020-03-25</td>\n",
              "      <td>0.03</td>\n",
              "    </tr>\n",
              "    <tr>\n",
              "      <th>1</th>\n",
              "      <td>1</td>\n",
              "      <td>FK20PA1</td>\n",
              "      <td>2020-03-25</td>\n",
              "      <td>0.06</td>\n",
              "    </tr>\n",
              "    <tr>\n",
              "      <th>2</th>\n",
              "      <td>2</td>\n",
              "      <td>FK20PA2</td>\n",
              "      <td>2020-03-25</td>\n",
              "      <td>0.26</td>\n",
              "    </tr>\n",
              "    <tr>\n",
              "      <th>3</th>\n",
              "      <td>3</td>\n",
              "      <td>FK20PA3</td>\n",
              "      <td>2020-03-25</td>\n",
              "      <td>0.15</td>\n",
              "    </tr>\n",
              "    <tr>\n",
              "      <th>4</th>\n",
              "      <td>4</td>\n",
              "      <td>FK20PA4</td>\n",
              "      <td>2020-03-25</td>\n",
              "      <td>0.04</td>\n",
              "    </tr>\n",
              "  </tbody>\n",
              "</table>\n",
              "</div>"
            ],
            "text/plain": [
              "   Index  JOBNAME       DATE  Valor_MIPS\n",
              "0      0   FK20OK 2020-03-25        0.03\n",
              "1      1  FK20PA1 2020-03-25        0.06\n",
              "2      2  FK20PA2 2020-03-25        0.26\n",
              "3      3  FK20PA3 2020-03-25        0.15\n",
              "4      4  FK20PA4 2020-03-25        0.04"
            ]
          },
          "metadata": {
            "tags": []
          },
          "execution_count": 104
        }
      ]
    },
    {
      "cell_type": "code",
      "metadata": {
        "id": "k9piJ-Tc41sB",
        "colab_type": "code",
        "colab": {}
      },
      "source": [
        "pd.DataFrame(dataset['JOBNAME'].value_counts())\n",
        "dataset = dataset.drop(columns=[\"Index\"], axis=1)"
      ],
      "execution_count": 105,
      "outputs": []
    },
    {
      "cell_type": "markdown",
      "metadata": {
        "id": "gwITPZO4lvk8",
        "colab_type": "text"
      },
      "source": [
        "# Anomalia\n"
      ]
    },
    {
      "cell_type": "code",
      "metadata": {
        "id": "TpHxhEiEEYp0",
        "colab_type": "code",
        "colab": {}
      },
      "source": [
        "def DetectarAnomalia(dataset, intervalo):\n",
        "  if intervalo == \"Mensal\":\n",
        "    periodo = months\n",
        "    intervalo_de_dias = 30\n",
        "  else:\n",
        "    periodo = weeks\n",
        "    intervalo_de_dias = 7\n",
        "  data = first_day\n",
        "  tabela_anomalia = dataset.iloc[0:0]\n",
        "  dataset_semana_anterior = dataset.query(\"DATE >= \" + \" '\"+ str(data)+ \"' \" + \" and DATE < \" + \" '\"+str(data+ timedelta(days = intervalo_de_dias)) + \"' \")\n",
        "  data = data+ timedelta(days = intervalo_de_dias)\n",
        "  dataset_semana_anterior = dataset_semana_anterior[dataset_semana_anterior['Valor_MIPS']>0].groupby('JOBNAME')\n",
        "  dataset_semana_anterior = pd.DataFrame(dataset_semana_anterior['Valor_MIPS'].mean())\n",
        "  dataset_semana_anterior.reset_index(inplace =True)\n",
        "  data = data+ timedelta(days = intervalo_de_dias)\n",
        "  for i in range(0, periodo, 1):\n",
        "    dataset_semana = dataset.query(\"DATE >= \" + \" '\"+ str(data)+ \"' \" + \" and DATE < \" + \" '\"+str(data+ timedelta(days = intervalo_de_dias)) + \"' \")\n",
        "    #dataset = dataset.query(\"DATE >= \" + \" '\"+ str(data+ timedelta(days = 30))+ \"' \")\n",
        "    print(\"Anomalias de \" + str(data)[0:10] + \" a \"+ str(data + timedelta(days = intervalo_de_dias) )[0:10]+\": \"  + str(tabela_anomalia.shape[0]))\n",
        "    print(\"----------------------\")\n",
        "    #dataset_semana = dataset_semana[dataset_semana['Valor_MIPS']>0].groupby('JOBNAME')\n",
        "    #dataset_semana = pd.DataFrame(dataset_semana['Valor_MIPS'].mean())\n",
        "    for index, row in dataset_semana_anterior.iterrows():\n",
        "      tabela_anomalia = tabela_anomalia.append(dataset_semana.query(\"JOBNAME == \"+\"'\"+row['JOBNAME']+\"'\" + \" and Valor_MIPS > \"+ str(float(row['Valor_MIPS']) * porcentagem)))\n",
        "    dataset_semana_anterior = dataset_semana[dataset_semana['Valor_MIPS']>0].groupby('JOBNAME')\n",
        "    dataset_semana_anterior = pd.DataFrame(dataset_semana_anterior['Valor_MIPS'].mean())\n",
        "    dataset_semana_anterior.reset_index(inplace=True)\n",
        "    data = data+ timedelta(days = intervalo_de_dias)\n",
        "  tabela_anomalia['Anomalia'] = intervalo\n",
        "  return tabela_anomalia\n"
      ],
      "execution_count": 106,
      "outputs": []
    },
    {
      "cell_type": "code",
      "metadata": {
        "id": "5SqJSoc2180c",
        "colab_type": "code",
        "colab": {
          "base_uri": "https://localhost:8080/",
          "height": 153
        },
        "outputId": "4bc6adfc-b167-45b5-9838-eae2a3bf2e88"
      },
      "source": [
        "tabela_mensal = DetectarAnomalia(dataset, \"Mensal\")"
      ],
      "execution_count": 109,
      "outputs": [
        {
          "output_type": "stream",
          "text": [
            "Anomalias de 2020-03-04 a 2020-04-03: 0\n",
            "----------------------\n",
            "Anomalias de 2020-04-03 a 2020-05-03: 7768\n",
            "----------------------\n",
            "Anomalias de 2020-05-03 a 2020-06-02: 9192\n",
            "----------------------\n",
            "Anomalias de 2020-06-02 a 2020-07-02: 9631\n",
            "----------------------\n"
          ],
          "name": "stdout"
        }
      ]
    },
    {
      "cell_type": "code",
      "metadata": {
        "id": "8Hm47TRbnQI4",
        "colab_type": "code",
        "colab": {
          "base_uri": "https://localhost:8080/",
          "height": 595
        },
        "outputId": "8cf7181d-45bb-4277-c055-7e628d15f7f7"
      },
      "source": [
        "tabela_semanal = DetectarAnomalia(dataset, \"Semanal\")"
      ],
      "execution_count": 110,
      "outputs": [
        {
          "output_type": "stream",
          "text": [
            "Anomalias de 2020-01-18 a 2020-01-25: 0\n",
            "----------------------\n",
            "Anomalias de 2020-01-25 a 2020-02-01: 0\n",
            "----------------------\n",
            "Anomalias de 2020-02-01 a 2020-02-08: 0\n",
            "----------------------\n",
            "Anomalias de 2020-02-08 a 2020-02-15: 0\n",
            "----------------------\n",
            "Anomalias de 2020-02-15 a 2020-02-22: 0\n",
            "----------------------\n",
            "Anomalias de 2020-02-22 a 2020-02-29: 0\n",
            "----------------------\n",
            "Anomalias de 2020-02-29 a 2020-03-07: 0\n",
            "----------------------\n",
            "Anomalias de 2020-03-07 a 2020-03-14: 0\n",
            "----------------------\n",
            "Anomalias de 2020-03-14 a 2020-03-21: 0\n",
            "----------------------\n",
            "Anomalias de 2020-03-21 a 2020-03-28: 0\n",
            "----------------------\n",
            "Anomalias de 2020-03-28 a 2020-04-04: 0\n",
            "----------------------\n",
            "Anomalias de 2020-04-04 a 2020-04-11: 3744\n",
            "----------------------\n",
            "Anomalias de 2020-04-11 a 2020-04-18: 5136\n",
            "----------------------\n",
            "Anomalias de 2020-04-18 a 2020-04-25: 5136\n",
            "----------------------\n",
            "Anomalias de 2020-04-25 a 2020-05-02: 5136\n",
            "----------------------\n",
            "Anomalias de 2020-05-02 a 2020-05-09: 5136\n",
            "----------------------\n",
            "Anomalias de 2020-05-09 a 2020-05-16: 5136\n",
            "----------------------\n"
          ],
          "name": "stdout"
        }
      ]
    },
    {
      "cell_type": "code",
      "metadata": {
        "id": "5bYBstbluF71",
        "colab_type": "code",
        "colab": {
          "base_uri": "https://localhost:8080/",
          "height": 51
        },
        "outputId": "855be32a-c42d-48e0-ec4a-cc27039875bd"
      },
      "source": [
        "tabela_final = tabela_semanal.iloc[0:0]\n",
        "tabela_final = tabela_final.append(tabela_mensal)\n",
        "print(tabela_final.shape)\n",
        "tabela_final = tabela_final.append(tabela_semanal)\n",
        "print(tabela_final.shape)"
      ],
      "execution_count": 123,
      "outputs": [
        {
          "output_type": "stream",
          "text": [
            "(9631, 4)\n",
            "(14767, 4)\n"
          ],
          "name": "stdout"
        }
      ]
    },
    {
      "cell_type": "code",
      "metadata": {
        "id": "8Ri9bfL0u7K_",
        "colab_type": "code",
        "colab": {
          "base_uri": "https://localhost:8080/",
          "height": 419
        },
        "outputId": "aa066c1f-beba-4a34-d6bd-207edb074441"
      },
      "source": [
        "tabela_final"
      ],
      "execution_count": 124,
      "outputs": [
        {
          "output_type": "execute_result",
          "data": {
            "text/html": [
              "<div>\n",
              "<style scoped>\n",
              "    .dataframe tbody tr th:only-of-type {\n",
              "        vertical-align: middle;\n",
              "    }\n",
              "\n",
              "    .dataframe tbody tr th {\n",
              "        vertical-align: top;\n",
              "    }\n",
              "\n",
              "    .dataframe thead th {\n",
              "        text-align: right;\n",
              "    }\n",
              "</style>\n",
              "<table border=\"1\" class=\"dataframe\">\n",
              "  <thead>\n",
              "    <tr style=\"text-align: right;\">\n",
              "      <th></th>\n",
              "      <th>JOBNAME</th>\n",
              "      <th>DATE</th>\n",
              "      <th>Valor_MIPS</th>\n",
              "      <th>Anomalia</th>\n",
              "    </tr>\n",
              "  </thead>\n",
              "  <tbody>\n",
              "    <tr>\n",
              "      <th>23468</th>\n",
              "      <td>ANTMAIN</td>\n",
              "      <td>2020-03-31</td>\n",
              "      <td>0.14</td>\n",
              "      <td>Mensal</td>\n",
              "    </tr>\n",
              "    <tr>\n",
              "      <th>2449</th>\n",
              "      <td>AOPD</td>\n",
              "      <td>2020-03-26</td>\n",
              "      <td>1.12</td>\n",
              "      <td>Mensal</td>\n",
              "    </tr>\n",
              "    <tr>\n",
              "      <th>7777</th>\n",
              "      <td>AOPD</td>\n",
              "      <td>2020-03-27</td>\n",
              "      <td>1.24</td>\n",
              "      <td>Mensal</td>\n",
              "    </tr>\n",
              "    <tr>\n",
              "      <th>2450</th>\n",
              "      <td>APPC</td>\n",
              "      <td>2020-03-26</td>\n",
              "      <td>0.96</td>\n",
              "      <td>Mensal</td>\n",
              "    </tr>\n",
              "    <tr>\n",
              "      <th>2451</th>\n",
              "      <td>ARCABKUP</td>\n",
              "      <td>2020-03-26</td>\n",
              "      <td>57.77</td>\n",
              "      <td>Mensal</td>\n",
              "    </tr>\n",
              "    <tr>\n",
              "      <th>...</th>\n",
              "      <td>...</td>\n",
              "      <td>...</td>\n",
              "      <td>...</td>\n",
              "      <td>...</td>\n",
              "    </tr>\n",
              "    <tr>\n",
              "      <th>47274</th>\n",
              "      <td>TWSRPTJB</td>\n",
              "      <td>2020-04-04</td>\n",
              "      <td>0.02</td>\n",
              "      <td>Semanal</td>\n",
              "    </tr>\n",
              "    <tr>\n",
              "      <th>47276</th>\n",
              "      <td>VLF</td>\n",
              "      <td>2020-04-04</td>\n",
              "      <td>0.98</td>\n",
              "      <td>Semanal</td>\n",
              "    </tr>\n",
              "    <tr>\n",
              "      <th>47278</th>\n",
              "      <td>VTFM</td>\n",
              "      <td>2020-04-04</td>\n",
              "      <td>1198.82</td>\n",
              "      <td>Semanal</td>\n",
              "    </tr>\n",
              "    <tr>\n",
              "      <th>47285</th>\n",
              "      <td>WEKAMSTR</td>\n",
              "      <td>2020-04-04</td>\n",
              "      <td>2.06</td>\n",
              "      <td>Semanal</td>\n",
              "    </tr>\n",
              "    <tr>\n",
              "      <th>47288</th>\n",
              "      <td>XCFAS</td>\n",
              "      <td>2020-04-04</td>\n",
              "      <td>13.39</td>\n",
              "      <td>Semanal</td>\n",
              "    </tr>\n",
              "  </tbody>\n",
              "</table>\n",
              "<p>14767 rows × 4 columns</p>\n",
              "</div>"
            ],
            "text/plain": [
              "        JOBNAME       DATE  Valor_MIPS Anomalia\n",
              "23468   ANTMAIN 2020-03-31        0.14   Mensal\n",
              "2449       AOPD 2020-03-26        1.12   Mensal\n",
              "7777       AOPD 2020-03-27        1.24   Mensal\n",
              "2450       APPC 2020-03-26        0.96   Mensal\n",
              "2451   ARCABKUP 2020-03-26       57.77   Mensal\n",
              "...         ...        ...         ...      ...\n",
              "47274  TWSRPTJB 2020-04-04        0.02  Semanal\n",
              "47276       VLF 2020-04-04        0.98  Semanal\n",
              "47278      VTFM 2020-04-04     1198.82  Semanal\n",
              "47285  WEKAMSTR 2020-04-04        2.06  Semanal\n",
              "47288     XCFAS 2020-04-04       13.39  Semanal\n",
              "\n",
              "[14767 rows x 4 columns]"
            ]
          },
          "metadata": {
            "tags": []
          },
          "execution_count": 124
        }
      ]
    },
    {
      "cell_type": "code",
      "metadata": {
        "id": "kSdYB00H2XiK",
        "colab_type": "code",
        "colab": {}
      },
      "source": [
        ""
      ],
      "execution_count": null,
      "outputs": []
    }
  ]
}