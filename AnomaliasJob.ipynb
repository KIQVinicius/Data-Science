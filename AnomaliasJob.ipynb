{
  "nbformat": 4,
  "nbformat_minor": 0,
  "metadata": {
    "colab": {
      "name": "AnomaliasJob.ipynb",
      "provenance": [],
      "collapsed_sections": [],
      "toc_visible": true,
      "mount_file_id": "1LUS3Vq6jHCmnYDuf8bQZh1wOr51NqCfH",
      "authorship_tag": "ABX9TyPCdeL5c1e517i0AANwkoHG",
      "include_colab_link": true
    },
    "kernelspec": {
      "name": "python3",
      "display_name": "Python 3"
    }
  },
  "cells": [
    {
      "cell_type": "markdown",
      "metadata": {
        "id": "view-in-github",
        "colab_type": "text"
      },
      "source": [
        "<a href=\"https://colab.research.google.com/github/KIQVinicius/Data-Science/blob/master/AnomaliasJob.ipynb\" target=\"_parent\"><img src=\"https://colab.research.google.com/assets/colab-badge.svg\" alt=\"Open In Colab\"/></a>"
      ]
    },
    {
      "cell_type": "code",
      "metadata": {
        "id": "1SxfNtRMEOM0",
        "colab_type": "code",
        "colab": {}
      },
      "source": [
        "import pandas as pd"
      ],
      "execution_count": 109,
      "outputs": []
    },
    {
      "cell_type": "code",
      "metadata": {
        "id": "0unr9jUiIpRs",
        "colab_type": "code",
        "colab": {}
      },
      "source": [
        "\n",
        "from datetime import date, datetime,timedelta"
      ],
      "execution_count": 110,
      "outputs": []
    },
    {
      "cell_type": "code",
      "metadata": {
        "id": "4nSKBLF2Iso1",
        "colab_type": "code",
        "colab": {
          "base_uri": "https://localhost:8080/",
          "height": 197
        },
        "outputId": "0ccf1bc5-08fe-4813-d247-6b8f99696566"
      },
      "source": [
        "dataset = pd.read_csv(\"MIPS1.csv\")\n",
        "dataset.head()"
      ],
      "execution_count": 111,
      "outputs": [
        {
          "output_type": "execute_result",
          "data": {
            "text/html": [
              "<div>\n",
              "<style scoped>\n",
              "    .dataframe tbody tr th:only-of-type {\n",
              "        vertical-align: middle;\n",
              "    }\n",
              "\n",
              "    .dataframe tbody tr th {\n",
              "        vertical-align: top;\n",
              "    }\n",
              "\n",
              "    .dataframe thead th {\n",
              "        text-align: right;\n",
              "    }\n",
              "</style>\n",
              "<table border=\"1\" class=\"dataframe\">\n",
              "  <thead>\n",
              "    <tr style=\"text-align: right;\">\n",
              "      <th></th>\n",
              "      <th>Unnamed: 0</th>\n",
              "      <th>JOBNAME</th>\n",
              "      <th>DATE</th>\n",
              "      <th>Valor_MIPS</th>\n",
              "      <th>Porcentagem</th>\n",
              "      <th>Chave</th>\n",
              "    </tr>\n",
              "  </thead>\n",
              "  <tbody>\n",
              "    <tr>\n",
              "      <th>0</th>\n",
              "      <td>0</td>\n",
              "      <td>FG921RID</td>\n",
              "      <td>08/06/2020</td>\n",
              "      <td>0.01</td>\n",
              "      <td>0.3</td>\n",
              "      <td>FG921RID08/06/2020</td>\n",
              "    </tr>\n",
              "    <tr>\n",
              "      <th>1</th>\n",
              "      <td>1</td>\n",
              "      <td>FG921RII</td>\n",
              "      <td>08/06/2020</td>\n",
              "      <td>0.01</td>\n",
              "      <td>0.3</td>\n",
              "      <td>FG921RII08/06/2020</td>\n",
              "    </tr>\n",
              "    <tr>\n",
              "      <th>2</th>\n",
              "      <td>2</td>\n",
              "      <td>FG921RIS</td>\n",
              "      <td>08/06/2020</td>\n",
              "      <td>0.01</td>\n",
              "      <td>0.3</td>\n",
              "      <td>FG921RIS08/06/2020</td>\n",
              "    </tr>\n",
              "    <tr>\n",
              "      <th>3</th>\n",
              "      <td>3</td>\n",
              "      <td>FG9227</td>\n",
              "      <td>08/06/2020</td>\n",
              "      <td>0.11</td>\n",
              "      <td>0.3</td>\n",
              "      <td>FG922708/06/2020</td>\n",
              "    </tr>\n",
              "    <tr>\n",
              "      <th>4</th>\n",
              "      <td>4</td>\n",
              "      <td>FG9227A</td>\n",
              "      <td>08/06/2020</td>\n",
              "      <td>1.67</td>\n",
              "      <td>0.3</td>\n",
              "      <td>FG9227A08/06/2020</td>\n",
              "    </tr>\n",
              "  </tbody>\n",
              "</table>\n",
              "</div>"
            ],
            "text/plain": [
              "   Unnamed: 0   JOBNAME  ... Porcentagem               Chave\n",
              "0           0  FG921RID  ...         0.3  FG921RID08/06/2020\n",
              "1           1  FG921RII  ...         0.3  FG921RII08/06/2020\n",
              "2           2  FG921RIS  ...         0.3  FG921RIS08/06/2020\n",
              "3           3    FG9227  ...         0.3    FG922708/06/2020\n",
              "4           4   FG9227A  ...         0.3   FG9227A08/06/2020\n",
              "\n",
              "[5 rows x 6 columns]"
            ]
          },
          "metadata": {
            "tags": []
          },
          "execution_count": 111
        }
      ]
    },
    {
      "cell_type": "code",
      "metadata": {
        "id": "3PEyeQ-ch9GR",
        "colab_type": "code",
        "colab": {}
      },
      "source": [
        "porcentagem = float(0.001)/100 + 1\n",
        "dataset.columns = ['Index', 'JOBNAME', 'DATE', 'Valor_MIPS', 'Porcentagem', 'Chave']"
      ],
      "execution_count": 112,
      "outputs": []
    },
    {
      "cell_type": "code",
      "metadata": {
        "id": "qWK708rXSjjW",
        "colab_type": "code",
        "colab": {}
      },
      "source": [
        "dataset = dataset.drop(columns=[\"Porcentagem\", \"Chave\"], axis=1)"
      ],
      "execution_count": 113,
      "outputs": []
    },
    {
      "cell_type": "code",
      "metadata": {
        "id": "7-4PI1CmTa1t",
        "colab_type": "code",
        "colab": {}
      },
      "source": [
        "dataset['DATE'] = pd.to_datetime(dataset['DATE'])\n",
        "dataset = dataset.sort_values(['DATE'])\n",
        "first_day = dataset['DATE'].min()\n",
        "last_day = dataset['DATE'].max()"
      ],
      "execution_count": 114,
      "outputs": []
    },
    {
      "cell_type": "code",
      "metadata": {
        "id": "O0TZ_9bOUE77",
        "colab_type": "code",
        "colab": {}
      },
      "source": [
        "first_day = datetime.strptime(str(first_day.month) + \"/\"+str(first_day.day) +\"/\"+str(first_day.year), '%d/%m/%Y')\n",
        "last_day = datetime.strptime(str(last_day.month) + \"/\"+str(last_day.day) +\"/\"+str(last_day.year), '%d/%m/%Y')"
      ],
      "execution_count": 115,
      "outputs": []
    },
    {
      "cell_type": "code",
      "metadata": {
        "id": "InnMUzotUkqn",
        "colab_type": "code",
        "colab": {
          "base_uri": "https://localhost:8080/",
          "height": 33
        },
        "outputId": "eddb4e88-c381-4ed9-bda9-d7e86866963f"
      },
      "source": [
        "first_day"
      ],
      "execution_count": 116,
      "outputs": [
        {
          "output_type": "execute_result",
          "data": {
            "text/plain": [
              "datetime.datetime(2019, 11, 1, 0, 0)"
            ]
          },
          "metadata": {
            "tags": []
          },
          "execution_count": 116
        }
      ]
    },
    {
      "cell_type": "code",
      "metadata": {
        "id": "Z4WhaCLVUmaY",
        "colab_type": "code",
        "colab": {
          "base_uri": "https://localhost:8080/",
          "height": 33
        },
        "outputId": "74184acc-474f-41f6-d945-a2dff1c5c70d"
      },
      "source": [
        "last_day"
      ],
      "execution_count": 117,
      "outputs": [
        {
          "output_type": "execute_result",
          "data": {
            "text/plain": [
              "datetime.datetime(2020, 6, 12, 0, 0)"
            ]
          },
          "metadata": {
            "tags": []
          },
          "execution_count": 117
        }
      ]
    },
    {
      "cell_type": "code",
      "metadata": {
        "id": "PqiB_t7QVcGb",
        "colab_type": "code",
        "colab": {
          "base_uri": "https://localhost:8080/",
          "height": 33
        },
        "outputId": "31b2aae3-8ed2-4be3-ee49-3db72934bcd9"
      },
      "source": [
        "dt = last_day.date() - first_day.date()\n",
        "dt.days"
      ],
      "execution_count": 118,
      "outputs": [
        {
          "output_type": "execute_result",
          "data": {
            "text/plain": [
              "224"
            ]
          },
          "metadata": {
            "tags": []
          },
          "execution_count": 118
        }
      ]
    },
    {
      "cell_type": "code",
      "metadata": {
        "id": "EnOAtY-ObZO-",
        "colab_type": "code",
        "colab": {
          "base_uri": "https://localhost:8080/",
          "height": 33
        },
        "outputId": "c57981b7-05e0-4231-bee1-bc25a024e04e"
      },
      "source": [
        "weeks = int(dt.days/7)\n",
        "weeks"
      ],
      "execution_count": 119,
      "outputs": [
        {
          "output_type": "execute_result",
          "data": {
            "text/plain": [
              "32"
            ]
          },
          "metadata": {
            "tags": []
          },
          "execution_count": 119
        }
      ]
    },
    {
      "cell_type": "code",
      "metadata": {
        "id": "1AMSkZ-cjPPf",
        "colab_type": "code",
        "colab": {
          "base_uri": "https://localhost:8080/",
          "height": 33
        },
        "outputId": "caffc87e-551d-4209-84a1-b164aa84eb76"
      },
      "source": [
        "months = int(dt.days/30)\n",
        "months"
      ],
      "execution_count": 120,
      "outputs": [
        {
          "output_type": "execute_result",
          "data": {
            "text/plain": [
              "7"
            ]
          },
          "metadata": {
            "tags": []
          },
          "execution_count": 120
        }
      ]
    },
    {
      "cell_type": "code",
      "metadata": {
        "id": "WvRh89_Botr2",
        "colab_type": "code",
        "colab": {
          "base_uri": "https://localhost:8080/",
          "height": 216
        },
        "outputId": "eecb866b-0ed6-4444-b5e4-f264d62a90f9"
      },
      "source": [
        "data = first_day\n",
        "dataset['JOBNAME'].value_counts()"
      ],
      "execution_count": 121,
      "outputs": [
        {
          "output_type": "execute_result",
          "data": {
            "text/plain": [
              "CDSYSA      262\n",
              "FS024597    262\n",
              "FX2036A     262\n",
              "FG94MRAW    262\n",
              "PSIICHIN    262\n",
              "           ... \n",
              "FG3006M1      1\n",
              "FP524EX3      1\n",
              "FG94B14       1\n",
              "F6JP51EC      1\n",
              "BS252142      1\n",
              "Name: JOBNAME, Length: 15631, dtype: int64"
            ]
          },
          "metadata": {
            "tags": []
          },
          "execution_count": 121
        }
      ]
    },
    {
      "cell_type": "code",
      "metadata": {
        "id": "7wVv_yLAxevG",
        "colab_type": "code",
        "colab": {
          "base_uri": "https://localhost:8080/",
          "height": 406
        },
        "outputId": "32b40f6c-ec9a-4e8a-cbd6-0aa6489a9ba8"
      },
      "source": [
        "frequencia = pd.DataFrame(dataset['JOBNAME'].value_counts())\n",
        "frequencia.reset_index(inplace=True)\n",
        "frequencia.columns = ['JOBNAME', 'Frequencia']\n",
        "frequencia"
      ],
      "execution_count": 122,
      "outputs": [
        {
          "output_type": "execute_result",
          "data": {
            "text/html": [
              "<div>\n",
              "<style scoped>\n",
              "    .dataframe tbody tr th:only-of-type {\n",
              "        vertical-align: middle;\n",
              "    }\n",
              "\n",
              "    .dataframe tbody tr th {\n",
              "        vertical-align: top;\n",
              "    }\n",
              "\n",
              "    .dataframe thead th {\n",
              "        text-align: right;\n",
              "    }\n",
              "</style>\n",
              "<table border=\"1\" class=\"dataframe\">\n",
              "  <thead>\n",
              "    <tr style=\"text-align: right;\">\n",
              "      <th></th>\n",
              "      <th>JOBNAME</th>\n",
              "      <th>Frequencia</th>\n",
              "    </tr>\n",
              "  </thead>\n",
              "  <tbody>\n",
              "    <tr>\n",
              "      <th>0</th>\n",
              "      <td>CDSYSA</td>\n",
              "      <td>262</td>\n",
              "    </tr>\n",
              "    <tr>\n",
              "      <th>1</th>\n",
              "      <td>FS024597</td>\n",
              "      <td>262</td>\n",
              "    </tr>\n",
              "    <tr>\n",
              "      <th>2</th>\n",
              "      <td>FX2036A</td>\n",
              "      <td>262</td>\n",
              "    </tr>\n",
              "    <tr>\n",
              "      <th>3</th>\n",
              "      <td>FG94MRAW</td>\n",
              "      <td>262</td>\n",
              "    </tr>\n",
              "    <tr>\n",
              "      <th>4</th>\n",
              "      <td>PSIICHIN</td>\n",
              "      <td>262</td>\n",
              "    </tr>\n",
              "    <tr>\n",
              "      <th>...</th>\n",
              "      <td>...</td>\n",
              "      <td>...</td>\n",
              "    </tr>\n",
              "    <tr>\n",
              "      <th>15626</th>\n",
              "      <td>FG3006M1</td>\n",
              "      <td>1</td>\n",
              "    </tr>\n",
              "    <tr>\n",
              "      <th>15627</th>\n",
              "      <td>FP524EX3</td>\n",
              "      <td>1</td>\n",
              "    </tr>\n",
              "    <tr>\n",
              "      <th>15628</th>\n",
              "      <td>FG94B14</td>\n",
              "      <td>1</td>\n",
              "    </tr>\n",
              "    <tr>\n",
              "      <th>15629</th>\n",
              "      <td>F6JP51EC</td>\n",
              "      <td>1</td>\n",
              "    </tr>\n",
              "    <tr>\n",
              "      <th>15630</th>\n",
              "      <td>BS252142</td>\n",
              "      <td>1</td>\n",
              "    </tr>\n",
              "  </tbody>\n",
              "</table>\n",
              "<p>15631 rows × 2 columns</p>\n",
              "</div>"
            ],
            "text/plain": [
              "        JOBNAME  Frequencia\n",
              "0        CDSYSA         262\n",
              "1      FS024597         262\n",
              "2       FX2036A         262\n",
              "3      FG94MRAW         262\n",
              "4      PSIICHIN         262\n",
              "...         ...         ...\n",
              "15626  FG3006M1           1\n",
              "15627  FP524EX3           1\n",
              "15628   FG94B14           1\n",
              "15629  F6JP51EC           1\n",
              "15630  BS252142           1\n",
              "\n",
              "[15631 rows x 2 columns]"
            ]
          },
          "metadata": {
            "tags": []
          },
          "execution_count": 122
        }
      ]
    },
    {
      "cell_type": "code",
      "metadata": {
        "id": "7MRGgKb05JEr",
        "colab_type": "code",
        "colab": {}
      },
      "source": [
        "frequencia = frequencia.query(\"Frequencia > 1\")"
      ],
      "execution_count": 123,
      "outputs": []
    },
    {
      "cell_type": "code",
      "metadata": {
        "id": "MWhto6sh1-kU",
        "colab_type": "code",
        "colab": {
          "base_uri": "https://localhost:8080/",
          "height": 197
        },
        "outputId": "418396c4-dcc5-4669-a5aa-fe18e85be714"
      },
      "source": [
        "dataset = dataset[dataset['JOBNAME'].isin(frequencia['JOBNAME'])]\n",
        "dataset.head()"
      ],
      "execution_count": 124,
      "outputs": [
        {
          "output_type": "execute_result",
          "data": {
            "text/html": [
              "<div>\n",
              "<style scoped>\n",
              "    .dataframe tbody tr th:only-of-type {\n",
              "        vertical-align: middle;\n",
              "    }\n",
              "\n",
              "    .dataframe tbody tr th {\n",
              "        vertical-align: top;\n",
              "    }\n",
              "\n",
              "    .dataframe thead th {\n",
              "        text-align: right;\n",
              "    }\n",
              "</style>\n",
              "<table border=\"1\" class=\"dataframe\">\n",
              "  <thead>\n",
              "    <tr style=\"text-align: right;\">\n",
              "      <th></th>\n",
              "      <th>Index</th>\n",
              "      <th>JOBNAME</th>\n",
              "      <th>DATE</th>\n",
              "      <th>Valor_MIPS</th>\n",
              "    </tr>\n",
              "  </thead>\n",
              "  <tbody>\n",
              "    <tr>\n",
              "      <th>192478</th>\n",
              "      <td>192478</td>\n",
              "      <td>BD26B8L</td>\n",
              "      <td>2019-01-11</td>\n",
              "      <td>1.14</td>\n",
              "    </tr>\n",
              "    <tr>\n",
              "      <th>196089</th>\n",
              "      <td>196089</td>\n",
              "      <td>FS0245SI</td>\n",
              "      <td>2019-01-11</td>\n",
              "      <td>2.88</td>\n",
              "    </tr>\n",
              "    <tr>\n",
              "      <th>196088</th>\n",
              "      <td>196088</td>\n",
              "      <td>FS0245SF</td>\n",
              "      <td>2019-01-11</td>\n",
              "      <td>0.01</td>\n",
              "    </tr>\n",
              "    <tr>\n",
              "      <th>196087</th>\n",
              "      <td>196087</td>\n",
              "      <td>FS0245NL</td>\n",
              "      <td>2019-01-11</td>\n",
              "      <td>3.64</td>\n",
              "    </tr>\n",
              "    <tr>\n",
              "      <th>196086</th>\n",
              "      <td>196086</td>\n",
              "      <td>FS0245NG</td>\n",
              "      <td>2019-01-11</td>\n",
              "      <td>0.18</td>\n",
              "    </tr>\n",
              "  </tbody>\n",
              "</table>\n",
              "</div>"
            ],
            "text/plain": [
              "         Index   JOBNAME       DATE  Valor_MIPS\n",
              "192478  192478   BD26B8L 2019-01-11        1.14\n",
              "196089  196089  FS0245SI 2019-01-11        2.88\n",
              "196088  196088  FS0245SF 2019-01-11        0.01\n",
              "196087  196087  FS0245NL 2019-01-11        3.64\n",
              "196086  196086  FS0245NG 2019-01-11        0.18"
            ]
          },
          "metadata": {
            "tags": []
          },
          "execution_count": 124
        }
      ]
    },
    {
      "cell_type": "code",
      "metadata": {
        "id": "k9piJ-Tc41sB",
        "colab_type": "code",
        "colab": {
          "base_uri": "https://localhost:8080/",
          "height": 216
        },
        "outputId": "1c65f05d-91f2-486c-e5b0-ae94db6aec29"
      },
      "source": [
        "dataset = dataset.drop(columns=[\"Index\"], axis=1)\n",
        "dataset['JOBNAME'].value_counts()\n"
      ],
      "execution_count": 125,
      "outputs": [
        {
          "output_type": "execute_result",
          "data": {
            "text/plain": [
              "FG94MRBM    262\n",
              "FR32OK      262\n",
              "FG95BR16    262\n",
              "CFT         262\n",
              "FG76MQRH    262\n",
              "           ... \n",
              "FG930PIA      2\n",
              "FZ686RTD      2\n",
              "FG911ASA      2\n",
              "FG93MOR1      2\n",
              "FG9415SA      2\n",
              "Name: JOBNAME, Length: 12923, dtype: int64"
            ]
          },
          "metadata": {
            "tags": []
          },
          "execution_count": 125
        }
      ]
    },
    {
      "cell_type": "markdown",
      "metadata": {
        "id": "gwITPZO4lvk8",
        "colab_type": "text"
      },
      "source": [
        "# Anomalia\n"
      ]
    },
    {
      "cell_type": "code",
      "metadata": {
        "id": "TpHxhEiEEYp0",
        "colab_type": "code",
        "colab": {}
      },
      "source": [
        "def DetectarAnomalia(dataset, intervalo):\n",
        "  if intervalo == \"Mensal\":\n",
        "    periodo = months\n",
        "    intervalo_de_dias = 30\n",
        "  elif intervalo == \"Semanal\":\n",
        "    periodo = weeks\n",
        "    intervalo_de_dias = 7\n",
        "  elif intervalo == \"Quinzenal\":\n",
        "    periodo = int(dt.days/15)\n",
        "    intervalo_de_dias = 15\n",
        "  elif intervalo == \"Trimestral\":\n",
        "    periodo = int(dt.days/90)\n",
        "    intervalo_de_dias = 90\n",
        "  elif intervalo == \"Semestral\":\n",
        "    periodo = int(dt.days/180)\n",
        "    intervalo_de_dias = 180\n",
        "  elif intervalo == \"Diario\":\n",
        "    periodo = int(dt.days)\n",
        "    intervalo_de_dias = 1\n",
        "  data = first_day\n",
        "  tabela_anomalia = dataset.iloc[0:0]\n",
        "  tabela_anomalia['Valor_MIPS_y'] = \"\"\n",
        "  tabela_anomalia['Status'] = \"\"\n",
        "  tabela_anomalia.columns = ['JOBNAME', 'DATE', 'Valor_MIPS_Atual', 'Valor_MIPS_Anterior', 'Status']\n",
        "  dataset_semana_anterior = dataset.query(\"DATE >= \" + \" '\"+ str(data)+ \"' \" + \" and DATE < \" + \" '\"+str(data+ timedelta(days = intervalo_de_dias)) + \"' \")\n",
        "  data = data+ timedelta(days = intervalo_de_dias)\n",
        "  dataset_semana_anterior = dataset_semana_anterior[dataset_semana_anterior['Valor_MIPS']>0].groupby('JOBNAME')\n",
        "  dataset_semana_anterior = pd.DataFrame(dataset_semana_anterior['Valor_MIPS'].mean())\n",
        "  dataset_semana_anterior.reset_index(inplace =True)\n",
        "  for i in range(0, periodo, 1):\n",
        "    dataset_semana = dataset.query(\"DATE >= \" + \" '\"+ str(data)+ \"' \" + \" and DATE < \" + \" '\"+str(data+ timedelta(days = intervalo_de_dias)) + \"' \")\n",
        "    #dataset = dataset.query(\"DATE >= \" + \" '\"+ str(data+ timedelta(days = 30))+ \"' \")\n",
        "    #print(\"-------------------------------------------------\")\n",
        "    #dataset_semana = dataset_semana[dataset_semana['Valor_MIPS']>0].groupby('JOBNAME')\n",
        "    #dataset_semana = pd.DataFrame(dataset_semana['Valor_MIPS'].mean())\n",
        "    dataset_semana_anterior = dataset_semana_anterior[dataset_semana_anterior['JOBNAME'].isin(dataset_semana['JOBNAME'])]\n",
        "\n",
        "    df = pd.merge(dataset_semana, dataset_semana_anterior, on = \"JOBNAME\", how ='inner', suffixes=['_Atual', '_Anterior'])\n",
        "    df_aumentou = df[df['Valor_MIPS_Atual'] > df['Valor_MIPS_Anterior'] *porcentagem]\n",
        "    df_aumentou['Status'] = \"Aumentou\"\n",
        "    tabela_anomalia = tabela_anomalia.append(df_aumentou)\n",
        "    #print(\"Tabela positiva: \"+str(df_aumentou.shape[0]))\n",
        "    df_diminuiu = df[df['Valor_MIPS_Atual']* porcentagem < df['Valor_MIPS_Anterior'] ]\n",
        "    #print(\"Tabela negativa: \"+str(df_diminuiu.shape[0]))\n",
        "    df_diminuiu['Status'] = \"Diminuiu\"\n",
        "    tabela_anomalia = tabela_anomalia.append(df_diminuiu)\n",
        "\n",
        "    #print(\"Anomalias até \" + str(data + timedelta(days = intervalo_de_dias) )[0:10]+\": \"  + str(tabela_anomalia.shape[0]))\n",
        "    dataset_semana_anterior = dataset_semana[dataset_semana['Valor_MIPS']>0].groupby('JOBNAME')\n",
        "    dataset_semana_anterior = pd.DataFrame(dataset_semana_anterior['Valor_MIPS'].mean())\n",
        "    dataset_semana_anterior.reset_index(inplace=True)\n",
        "    data = data+ timedelta(days = intervalo_de_dias)\n",
        "  tabela_anomalia['Anomalia'] = intervalo\n",
        "  return tabela_anomalia\n"
      ],
      "execution_count": 128,
      "outputs": []
    },
    {
      "cell_type": "code",
      "metadata": {
        "id": "5SqJSoc2180c",
        "colab_type": "code",
        "colab": {
          "base_uri": "https://localhost:8080/",
          "height": 183
        },
        "outputId": "316cec41-19e9-45bf-92f9-014e8f988c41"
      },
      "source": [
        "tabela_diaria = DetectarAnomalia(dataset, \"Diario\")\n",
        "tabela_final = tabela_diaria.iloc[0:0]\n",
        "tabela_mensal = DetectarAnomalia(dataset, \"Mensal\")\n"
      ],
      "execution_count": 129,
      "outputs": [
        {
          "output_type": "stream",
          "text": [
            "/usr/local/lib/python3.6/dist-packages/ipykernel_launcher.py:40: SettingWithCopyWarning: \n",
            "A value is trying to be set on a copy of a slice from a DataFrame.\n",
            "Try using .loc[row_indexer,col_indexer] = value instead\n",
            "\n",
            "See the caveats in the documentation: https://pandas.pydata.org/pandas-docs/stable/user_guide/indexing.html#returning-a-view-versus-a-copy\n",
            "/usr/local/lib/python3.6/dist-packages/ipykernel_launcher.py:45: SettingWithCopyWarning: \n",
            "A value is trying to be set on a copy of a slice from a DataFrame.\n",
            "Try using .loc[row_indexer,col_indexer] = value instead\n",
            "\n",
            "See the caveats in the documentation: https://pandas.pydata.org/pandas-docs/stable/user_guide/indexing.html#returning-a-view-versus-a-copy\n"
          ],
          "name": "stderr"
        }
      ]
    },
    {
      "cell_type": "code",
      "metadata": {
        "id": "8Hm47TRbnQI4",
        "colab_type": "code",
        "colab": {
          "base_uri": "https://localhost:8080/",
          "height": 183
        },
        "outputId": "f4e90b40-a6b4-4f71-8ff7-8301c7c87bcf"
      },
      "source": [
        "tabela_semanal = DetectarAnomalia(dataset, \"Semanal\")"
      ],
      "execution_count": 130,
      "outputs": [
        {
          "output_type": "stream",
          "text": [
            "/usr/local/lib/python3.6/dist-packages/ipykernel_launcher.py:40: SettingWithCopyWarning: \n",
            "A value is trying to be set on a copy of a slice from a DataFrame.\n",
            "Try using .loc[row_indexer,col_indexer] = value instead\n",
            "\n",
            "See the caveats in the documentation: https://pandas.pydata.org/pandas-docs/stable/user_guide/indexing.html#returning-a-view-versus-a-copy\n",
            "/usr/local/lib/python3.6/dist-packages/ipykernel_launcher.py:45: SettingWithCopyWarning: \n",
            "A value is trying to be set on a copy of a slice from a DataFrame.\n",
            "Try using .loc[row_indexer,col_indexer] = value instead\n",
            "\n",
            "See the caveats in the documentation: https://pandas.pydata.org/pandas-docs/stable/user_guide/indexing.html#returning-a-view-versus-a-copy\n"
          ],
          "name": "stderr"
        }
      ]
    },
    {
      "cell_type": "code",
      "metadata": {
        "id": "P7a8rcfJTchW",
        "colab_type": "code",
        "colab": {
          "base_uri": "https://localhost:8080/",
          "height": 183
        },
        "outputId": "862d6651-efde-4136-d323-fc5734e56466"
      },
      "source": [
        "tabela_quinzenal = DetectarAnomalia(dataset, \"Quinzenal\")"
      ],
      "execution_count": 131,
      "outputs": [
        {
          "output_type": "stream",
          "text": [
            "/usr/local/lib/python3.6/dist-packages/ipykernel_launcher.py:40: SettingWithCopyWarning: \n",
            "A value is trying to be set on a copy of a slice from a DataFrame.\n",
            "Try using .loc[row_indexer,col_indexer] = value instead\n",
            "\n",
            "See the caveats in the documentation: https://pandas.pydata.org/pandas-docs/stable/user_guide/indexing.html#returning-a-view-versus-a-copy\n",
            "/usr/local/lib/python3.6/dist-packages/ipykernel_launcher.py:45: SettingWithCopyWarning: \n",
            "A value is trying to be set on a copy of a slice from a DataFrame.\n",
            "Try using .loc[row_indexer,col_indexer] = value instead\n",
            "\n",
            "See the caveats in the documentation: https://pandas.pydata.org/pandas-docs/stable/user_guide/indexing.html#returning-a-view-versus-a-copy\n"
          ],
          "name": "stderr"
        }
      ]
    },
    {
      "cell_type": "code",
      "metadata": {
        "id": "RLR5UV8JTiiy",
        "colab_type": "code",
        "colab": {
          "base_uri": "https://localhost:8080/",
          "height": 183
        },
        "outputId": "87205b4a-b436-42de-82ae-264ad4391ff2"
      },
      "source": [
        "tabela_trimestral = DetectarAnomalia(dataset, \"Trimestral\")"
      ],
      "execution_count": 132,
      "outputs": [
        {
          "output_type": "stream",
          "text": [
            "/usr/local/lib/python3.6/dist-packages/ipykernel_launcher.py:40: SettingWithCopyWarning: \n",
            "A value is trying to be set on a copy of a slice from a DataFrame.\n",
            "Try using .loc[row_indexer,col_indexer] = value instead\n",
            "\n",
            "See the caveats in the documentation: https://pandas.pydata.org/pandas-docs/stable/user_guide/indexing.html#returning-a-view-versus-a-copy\n",
            "/usr/local/lib/python3.6/dist-packages/ipykernel_launcher.py:45: SettingWithCopyWarning: \n",
            "A value is trying to be set on a copy of a slice from a DataFrame.\n",
            "Try using .loc[row_indexer,col_indexer] = value instead\n",
            "\n",
            "See the caveats in the documentation: https://pandas.pydata.org/pandas-docs/stable/user_guide/indexing.html#returning-a-view-versus-a-copy\n"
          ],
          "name": "stderr"
        }
      ]
    },
    {
      "cell_type": "code",
      "metadata": {
        "id": "XS3xOST1Tre5",
        "colab_type": "code",
        "colab": {
          "base_uri": "https://localhost:8080/",
          "height": 183
        },
        "outputId": "1179045a-3f5d-414d-8e10-d70974bc3f2e"
      },
      "source": [
        "tabela_semestral = DetectarAnomalia(dataset, \"Semestral\")"
      ],
      "execution_count": 133,
      "outputs": [
        {
          "output_type": "stream",
          "text": [
            "/usr/local/lib/python3.6/dist-packages/ipykernel_launcher.py:40: SettingWithCopyWarning: \n",
            "A value is trying to be set on a copy of a slice from a DataFrame.\n",
            "Try using .loc[row_indexer,col_indexer] = value instead\n",
            "\n",
            "See the caveats in the documentation: https://pandas.pydata.org/pandas-docs/stable/user_guide/indexing.html#returning-a-view-versus-a-copy\n",
            "/usr/local/lib/python3.6/dist-packages/ipykernel_launcher.py:45: SettingWithCopyWarning: \n",
            "A value is trying to be set on a copy of a slice from a DataFrame.\n",
            "Try using .loc[row_indexer,col_indexer] = value instead\n",
            "\n",
            "See the caveats in the documentation: https://pandas.pydata.org/pandas-docs/stable/user_guide/indexing.html#returning-a-view-versus-a-copy\n"
          ],
          "name": "stderr"
        }
      ]
    },
    {
      "cell_type": "code",
      "metadata": {
        "id": "256Abk-yTwVG",
        "colab_type": "code",
        "colab": {
          "base_uri": "https://localhost:8080/",
          "height": 183
        },
        "outputId": "9d98ef9f-f63e-47a1-9126-7434a7d6b340"
      },
      "source": [
        "tabela_diaria = DetectarAnomalia(dataset, \"Diario\")\n"
      ],
      "execution_count": 134,
      "outputs": [
        {
          "output_type": "stream",
          "text": [
            "/usr/local/lib/python3.6/dist-packages/ipykernel_launcher.py:40: SettingWithCopyWarning: \n",
            "A value is trying to be set on a copy of a slice from a DataFrame.\n",
            "Try using .loc[row_indexer,col_indexer] = value instead\n",
            "\n",
            "See the caveats in the documentation: https://pandas.pydata.org/pandas-docs/stable/user_guide/indexing.html#returning-a-view-versus-a-copy\n",
            "/usr/local/lib/python3.6/dist-packages/ipykernel_launcher.py:45: SettingWithCopyWarning: \n",
            "A value is trying to be set on a copy of a slice from a DataFrame.\n",
            "Try using .loc[row_indexer,col_indexer] = value instead\n",
            "\n",
            "See the caveats in the documentation: https://pandas.pydata.org/pandas-docs/stable/user_guide/indexing.html#returning-a-view-versus-a-copy\n"
          ],
          "name": "stderr"
        }
      ]
    },
    {
      "cell_type": "code",
      "metadata": {
        "id": "5bYBstbluF71",
        "colab_type": "code",
        "colab": {
          "base_uri": "https://localhost:8080/",
          "height": 33
        },
        "outputId": "710b030a-1976-4034-cc92-b5908c9c6152"
      },
      "source": [
        "tabela_final = tabela_final.append(tabela_mensal)\n",
        "tabela_final = tabela_final.append(tabela_semanal)\n",
        "tabela_final = tabela_final.append(tabela_quinzenal)\n",
        "tabela_final = tabela_final.append(tabela_semestral)\n",
        "tabela_final = tabela_final.append(tabela_diaria)\n",
        "print(tabela_final.shape)"
      ],
      "execution_count": 135,
      "outputs": [
        {
          "output_type": "stream",
          "text": [
            "(2425904, 6)\n"
          ],
          "name": "stdout"
        }
      ]
    },
    {
      "cell_type": "code",
      "metadata": {
        "id": "P0yUfcnAD8Oo",
        "colab_type": "code",
        "colab": {
          "base_uri": "https://localhost:8080/",
          "height": 406
        },
        "outputId": "357506e2-3a8c-4233-8bda-058d8dc0e480"
      },
      "source": [
        "tabela_final[tabela_final['Status'] == \"Diminuiu\"]"
      ],
      "execution_count": 136,
      "outputs": [
        {
          "output_type": "execute_result",
          "data": {
            "text/html": [
              "<div>\n",
              "<style scoped>\n",
              "    .dataframe tbody tr th:only-of-type {\n",
              "        vertical-align: middle;\n",
              "    }\n",
              "\n",
              "    .dataframe tbody tr th {\n",
              "        vertical-align: top;\n",
              "    }\n",
              "\n",
              "    .dataframe thead th {\n",
              "        text-align: right;\n",
              "    }\n",
              "</style>\n",
              "<table border=\"1\" class=\"dataframe\">\n",
              "  <thead>\n",
              "    <tr style=\"text-align: right;\">\n",
              "      <th></th>\n",
              "      <th>JOBNAME</th>\n",
              "      <th>DATE</th>\n",
              "      <th>Valor_MIPS_Atual</th>\n",
              "      <th>Valor_MIPS_Anterior</th>\n",
              "      <th>Status</th>\n",
              "      <th>Anomalia</th>\n",
              "    </tr>\n",
              "  </thead>\n",
              "  <tbody>\n",
              "    <tr>\n",
              "      <th>0</th>\n",
              "      <td>FG94F1II</td>\n",
              "      <td>2019-12-10</td>\n",
              "      <td>0.31</td>\n",
              "      <td>0.315</td>\n",
              "      <td>Diminuiu</td>\n",
              "      <td>Mensal</td>\n",
              "    </tr>\n",
              "    <tr>\n",
              "      <th>1</th>\n",
              "      <td>FG94F1II</td>\n",
              "      <td>2019-12-14</td>\n",
              "      <td>0.31</td>\n",
              "      <td>0.315</td>\n",
              "      <td>Diminuiu</td>\n",
              "      <td>Mensal</td>\n",
              "    </tr>\n",
              "    <tr>\n",
              "      <th>2</th>\n",
              "      <td>FG94F1II</td>\n",
              "      <td>2019-12-21</td>\n",
              "      <td>0.31</td>\n",
              "      <td>0.315</td>\n",
              "      <td>Diminuiu</td>\n",
              "      <td>Mensal</td>\n",
              "    </tr>\n",
              "    <tr>\n",
              "      <th>4</th>\n",
              "      <td>FG94F1IS</td>\n",
              "      <td>2019-12-10</td>\n",
              "      <td>0.31</td>\n",
              "      <td>0.325</td>\n",
              "      <td>Diminuiu</td>\n",
              "      <td>Mensal</td>\n",
              "    </tr>\n",
              "    <tr>\n",
              "      <th>5</th>\n",
              "      <td>FG94F1IS</td>\n",
              "      <td>2019-12-14</td>\n",
              "      <td>0.32</td>\n",
              "      <td>0.325</td>\n",
              "      <td>Diminuiu</td>\n",
              "      <td>Mensal</td>\n",
              "    </tr>\n",
              "    <tr>\n",
              "      <th>...</th>\n",
              "      <td>...</td>\n",
              "      <td>...</td>\n",
              "      <td>...</td>\n",
              "      <td>...</td>\n",
              "      <td>...</td>\n",
              "      <td>...</td>\n",
              "    </tr>\n",
              "    <tr>\n",
              "      <th>3237</th>\n",
              "      <td>FG94BM18</td>\n",
              "      <td>2020-06-06</td>\n",
              "      <td>0.01</td>\n",
              "      <td>0.130</td>\n",
              "      <td>Diminuiu</td>\n",
              "      <td>Diario</td>\n",
              "    </tr>\n",
              "    <tr>\n",
              "      <th>3239</th>\n",
              "      <td>FG94BM20</td>\n",
              "      <td>2020-06-06</td>\n",
              "      <td>0.46</td>\n",
              "      <td>0.570</td>\n",
              "      <td>Diminuiu</td>\n",
              "      <td>Diario</td>\n",
              "    </tr>\n",
              "    <tr>\n",
              "      <th>3240</th>\n",
              "      <td>FG94BM21</td>\n",
              "      <td>2020-06-06</td>\n",
              "      <td>0.03</td>\n",
              "      <td>21.700</td>\n",
              "      <td>Diminuiu</td>\n",
              "      <td>Diario</td>\n",
              "    </tr>\n",
              "    <tr>\n",
              "      <th>3245</th>\n",
              "      <td>FG94BR02</td>\n",
              "      <td>2020-06-06</td>\n",
              "      <td>0.01</td>\n",
              "      <td>0.060</td>\n",
              "      <td>Diminuiu</td>\n",
              "      <td>Diario</td>\n",
              "    </tr>\n",
              "    <tr>\n",
              "      <th>3252</th>\n",
              "      <td>FG94BR21</td>\n",
              "      <td>2020-06-06</td>\n",
              "      <td>1.61</td>\n",
              "      <td>2.240</td>\n",
              "      <td>Diminuiu</td>\n",
              "      <td>Diario</td>\n",
              "    </tr>\n",
              "  </tbody>\n",
              "</table>\n",
              "<p>1377975 rows × 6 columns</p>\n",
              "</div>"
            ],
            "text/plain": [
              "       JOBNAME       DATE  ...    Status  Anomalia\n",
              "0     FG94F1II 2019-12-10  ...  Diminuiu    Mensal\n",
              "1     FG94F1II 2019-12-14  ...  Diminuiu    Mensal\n",
              "2     FG94F1II 2019-12-21  ...  Diminuiu    Mensal\n",
              "4     FG94F1IS 2019-12-10  ...  Diminuiu    Mensal\n",
              "5     FG94F1IS 2019-12-14  ...  Diminuiu    Mensal\n",
              "...        ...        ...  ...       ...       ...\n",
              "3237  FG94BM18 2020-06-06  ...  Diminuiu    Diario\n",
              "3239  FG94BM20 2020-06-06  ...  Diminuiu    Diario\n",
              "3240  FG94BM21 2020-06-06  ...  Diminuiu    Diario\n",
              "3245  FG94BR02 2020-06-06  ...  Diminuiu    Diario\n",
              "3252  FG94BR21 2020-06-06  ...  Diminuiu    Diario\n",
              "\n",
              "[1377975 rows x 6 columns]"
            ]
          },
          "metadata": {
            "tags": []
          },
          "execution_count": 136
        }
      ]
    },
    {
      "cell_type": "code",
      "metadata": {
        "id": "o-O8vJLrJJA4",
        "colab_type": "code",
        "colab": {}
      },
      "source": [
        ""
      ],
      "execution_count": 136,
      "outputs": []
    }
  ]
}