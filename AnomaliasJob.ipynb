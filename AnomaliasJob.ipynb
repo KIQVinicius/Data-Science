{
  "nbformat": 4,
  "nbformat_minor": 0,
  "metadata": {
    "colab": {
      "name": "AnomaliasJob.ipynb",
      "provenance": [],
      "collapsed_sections": [],
      "mount_file_id": "1LUS3Vq6jHCmnYDuf8bQZh1wOr51NqCfH",
      "authorship_tag": "ABX9TyPdJn28Fjb2RrPekXeDFqJi",
      "include_colab_link": true
    },
    "kernelspec": {
      "name": "python3",
      "display_name": "Python 3"
    }
  },
  "cells": [
    {
      "cell_type": "markdown",
      "metadata": {
        "id": "view-in-github",
        "colab_type": "text"
      },
      "source": [
        "<a href=\"https://colab.research.google.com/github/KIQVinicius/Data-Science/blob/master/AnomaliasJob.ipynb\" target=\"_parent\"><img src=\"https://colab.research.google.com/assets/colab-badge.svg\" alt=\"Open In Colab\"/></a>"
      ]
    },
    {
      "cell_type": "code",
      "metadata": {
        "id": "1SxfNtRMEOM0",
        "colab_type": "code",
        "colab": {}
      },
      "source": [
        "import pandas as pd"
      ],
      "execution_count": 0,
      "outputs": []
    },
    {
      "cell_type": "code",
      "metadata": {
        "id": "0unr9jUiIpRs",
        "colab_type": "code",
        "colab": {}
      },
      "source": [
        "import numpy as np"
      ],
      "execution_count": 0,
      "outputs": []
    },
    {
      "cell_type": "code",
      "metadata": {
        "id": "4nSKBLF2Iso1",
        "colab_type": "code",
        "colab": {}
      },
      "source": [
        "dataset = pd.read_csv(\"MIPS1.csv\")"
      ],
      "execution_count": 0,
      "outputs": []
    },
    {
      "cell_type": "code",
      "metadata": {
        "id": "3PEyeQ-ch9GR",
        "colab_type": "code",
        "colab": {
          "base_uri": "https://localhost:8080/",
          "height": 34
        },
        "outputId": "46388439-6ebe-442e-c161-67f16a86e65d"
      },
      "source": [
        "porcentagem = float(dataset['Porcentagem'][1])/100 + 1\n",
        "dataset.columns"
      ],
      "execution_count": 4,
      "outputs": [
        {
          "output_type": "execute_result",
          "data": {
            "text/plain": [
              "Index(['Unnamed: 0', 'JOBNAME', 'DATE', 'Valor_MIPS', 'Porcentagem', 'Chave'], dtype='object')"
            ]
          },
          "metadata": {
            "tags": []
          },
          "execution_count": 4
        }
      ]
    },
    {
      "cell_type": "code",
      "metadata": {
        "id": "qWK708rXSjjW",
        "colab_type": "code",
        "colab": {}
      },
      "source": [
        "dataset = dataset.drop(columns=['Unnamed: 0',\"Porcentagem\"], axis=1)"
      ],
      "execution_count": 0,
      "outputs": []
    },
    {
      "cell_type": "code",
      "metadata": {
        "id": "7-4PI1CmTa1t",
        "colab_type": "code",
        "colab": {}
      },
      "source": [
        "dataset['DATE'] = pd.to_datetime(dataset['DATE'])"
      ],
      "execution_count": 0,
      "outputs": []
    },
    {
      "cell_type": "code",
      "metadata": {
        "id": "KgI49NzfUAFi",
        "colab_type": "code",
        "colab": {}
      },
      "source": [
        "dataset = dataset.head(100000)"
      ],
      "execution_count": 0,
      "outputs": []
    },
    {
      "cell_type": "code",
      "metadata": {
        "id": "O0TZ_9bOUE77",
        "colab_type": "code",
        "colab": {}
      },
      "source": [
        "first_day = dataset['DATE'].min()\n",
        "last_day = dataset['DATE'].max()"
      ],
      "execution_count": 0,
      "outputs": []
    },
    {
      "cell_type": "code",
      "metadata": {
        "id": "InnMUzotUkqn",
        "colab_type": "code",
        "colab": {
          "base_uri": "https://localhost:8080/",
          "height": 34
        },
        "outputId": "13dee2c9-7ced-4939-f3d4-bec282b4c78b"
      },
      "source": [
        "first_day"
      ],
      "execution_count": 9,
      "outputs": [
        {
          "output_type": "execute_result",
          "data": {
            "text/plain": [
              "Timestamp('2019-01-12 00:00:00')"
            ]
          },
          "metadata": {
            "tags": []
          },
          "execution_count": 9
        }
      ]
    },
    {
      "cell_type": "code",
      "metadata": {
        "id": "Z4WhaCLVUmaY",
        "colab_type": "code",
        "colab": {
          "base_uri": "https://localhost:8080/",
          "height": 34
        },
        "outputId": "6e4532ce-644e-4875-f79a-1f474487d550"
      },
      "source": [
        "last_day"
      ],
      "execution_count": 10,
      "outputs": [
        {
          "output_type": "execute_result",
          "data": {
            "text/plain": [
              "Timestamp('2020-11-06 00:00:00')"
            ]
          },
          "metadata": {
            "tags": []
          },
          "execution_count": 10
        }
      ]
    },
    {
      "cell_type": "code",
      "metadata": {
        "id": "E6ahJ3vWU4Y5",
        "colab_type": "code",
        "colab": {}
      },
      "source": [
        "dataset_first_day = dataset.query(\"DATE == \" +\"'\" + str(first_day) + \"'\")\n",
        "dataset_last_day = dataset.query(\"DATE == \" +\"'\" + str(last_day) + \"'\")"
      ],
      "execution_count": 0,
      "outputs": []
    },
    {
      "cell_type": "code",
      "metadata": {
        "id": "PqiB_t7QVcGb",
        "colab_type": "code",
        "colab": {}
      },
      "source": [
        "group_first_day = dataset_first_day[dataset_first_day['Valor_MIPS']>0].groupby('JOBNAME')\n",
        "group_last_day = dataset_last_day[dataset_last_day['Valor_MIPS']>0].groupby('JOBNAME')"
      ],
      "execution_count": 0,
      "outputs": []
    },
    {
      "cell_type": "code",
      "metadata": {
        "id": "EnOAtY-ObZO-",
        "colab_type": "code",
        "colab": {}
      },
      "source": [
        ""
      ],
      "execution_count": 0,
      "outputs": []
    }
  ]
}