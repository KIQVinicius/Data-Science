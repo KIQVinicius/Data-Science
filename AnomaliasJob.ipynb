{
  "nbformat": 4,
  "nbformat_minor": 0,
  "metadata": {
    "colab": {
      "name": "AnomaliasJob.ipynb",
      "provenance": [],
      "collapsed_sections": [],
      "mount_file_id": "1LUS3Vq6jHCmnYDuf8bQZh1wOr51NqCfH",
      "authorship_tag": "ABX9TyOYBaRFFZufZmchOGhH0lst",
      "include_colab_link": true
    },
    "kernelspec": {
      "name": "python3",
      "display_name": "Python 3"
    }
  },
  "cells": [
    {
      "cell_type": "markdown",
      "metadata": {
        "id": "view-in-github",
        "colab_type": "text"
      },
      "source": [
        "<a href=\"https://colab.research.google.com/github/KIQVinicius/Data-Science/blob/master/AnomaliasJob.ipynb\" target=\"_parent\"><img src=\"https://colab.research.google.com/assets/colab-badge.svg\" alt=\"Open In Colab\"/></a>"
      ]
    },
    {
      "cell_type": "code",
      "metadata": {
        "id": "1SxfNtRMEOM0",
        "colab_type": "code",
        "colab": {}
      },
      "source": [
        "import pandas as pd\n",
        "from datetime import timedelta  "
      ],
      "execution_count": 0,
      "outputs": []
    },
    {
      "cell_type": "code",
      "metadata": {
        "id": "0unr9jUiIpRs",
        "colab_type": "code",
        "colab": {}
      },
      "source": [
        "import numpy as np\n",
        "from datetime import date"
      ],
      "execution_count": 0,
      "outputs": []
    },
    {
      "cell_type": "code",
      "metadata": {
        "id": "4nSKBLF2Iso1",
        "colab_type": "code",
        "colab": {}
      },
      "source": [
        "dataset = pd.read_csv(\"MIPS1.csv\")"
      ],
      "execution_count": 0,
      "outputs": []
    },
    {
      "cell_type": "code",
      "metadata": {
        "id": "3PEyeQ-ch9GR",
        "colab_type": "code",
        "colab": {}
      },
      "source": [
        "porcentagem = float(dataset['Porcentagem'][1])/100 + 1\n",
        "dataset.columns = ['Index', 'JOBNAME', 'DATE', 'Valor_MIPS', 'Porcentagem', 'Chave']"
      ],
      "execution_count": 0,
      "outputs": []
    },
    {
      "cell_type": "code",
      "metadata": {
        "id": "qWK708rXSjjW",
        "colab_type": "code",
        "colab": {}
      },
      "source": [
        "dataset = dataset.drop(columns=[\"Porcentagem\"], axis=1)"
      ],
      "execution_count": 0,
      "outputs": []
    },
    {
      "cell_type": "code",
      "metadata": {
        "id": "7-4PI1CmTa1t",
        "colab_type": "code",
        "colab": {}
      },
      "source": [
        "dataset['DATE'] = pd.to_datetime(dataset['DATE'])"
      ],
      "execution_count": 0,
      "outputs": []
    },
    {
      "cell_type": "code",
      "metadata": {
        "id": "O0TZ_9bOUE77",
        "colab_type": "code",
        "colab": {}
      },
      "source": [
        "first_day = dataset['DATE'].min()\n",
        "last_day = dataset['DATE'].max()"
      ],
      "execution_count": 0,
      "outputs": []
    },
    {
      "cell_type": "code",
      "metadata": {
        "id": "InnMUzotUkqn",
        "colab_type": "code",
        "outputId": "849fb00b-5cac-4c96-894d-31e0869cc83b",
        "colab": {
          "base_uri": "https://localhost:8080/",
          "height": 34
        }
      },
      "source": [
        "first_day"
      ],
      "execution_count": 8,
      "outputs": [
        {
          "output_type": "execute_result",
          "data": {
            "text/plain": [
              "Timestamp('2019-01-11 00:00:00')"
            ]
          },
          "metadata": {
            "tags": []
          },
          "execution_count": 8
        }
      ]
    },
    {
      "cell_type": "code",
      "metadata": {
        "id": "Z4WhaCLVUmaY",
        "colab_type": "code",
        "outputId": "584034a9-1e9f-44ae-d525-3908fd4a441d",
        "colab": {
          "base_uri": "https://localhost:8080/",
          "height": 34
        }
      },
      "source": [
        "last_day"
      ],
      "execution_count": 9,
      "outputs": [
        {
          "output_type": "execute_result",
          "data": {
            "text/plain": [
              "Timestamp('2020-12-05 00:00:00')"
            ]
          },
          "metadata": {
            "tags": []
          },
          "execution_count": 9
        }
      ]
    },
    {
      "cell_type": "code",
      "metadata": {
        "id": "E6ahJ3vWU4Y5",
        "colab_type": "code",
        "colab": {}
      },
      "source": [
        "dataset_first_day = dataset.query(\"DATE == \" +\"'\" + str(first_day) + \"'\")\n",
        "dataset_last_day = dataset.query(\"DATE == \" +\"'\" + str(last_day) + \"'\")"
      ],
      "execution_count": 0,
      "outputs": []
    },
    {
      "cell_type": "code",
      "metadata": {
        "id": "PqiB_t7QVcGb",
        "colab_type": "code",
        "colab": {}
      },
      "source": [
        "dt = last_day.date() - first_day.date()"
      ],
      "execution_count": 0,
      "outputs": []
    },
    {
      "cell_type": "code",
      "metadata": {
        "id": "EnOAtY-ObZO-",
        "colab_type": "code",
        "colab": {}
      },
      "source": [
        "weeks = dt.days/7"
      ],
      "execution_count": 0,
      "outputs": []
    },
    {
      "cell_type": "code",
      "metadata": {
        "id": "arxlUTecn7sE",
        "colab_type": "code",
        "colab": {}
      },
      "source": [
        "weeks = int(weeks)"
      ],
      "execution_count": 0,
      "outputs": []
    },
    {
      "cell_type": "code",
      "metadata": {
        "id": "VeqgRinhn9tc",
        "colab_type": "code",
        "outputId": "fe4da69f-6435-4011-c57a-261a1818f3ae",
        "colab": {
          "base_uri": "https://localhost:8080/",
          "height": 34
        }
      },
      "source": [
        "weeks"
      ],
      "execution_count": 14,
      "outputs": [
        {
          "output_type": "execute_result",
          "data": {
            "text/plain": [
              "99"
            ]
          },
          "metadata": {
            "tags": []
          },
          "execution_count": 14
        }
      ]
    },
    {
      "cell_type": "code",
      "metadata": {
        "id": "WvRh89_Botr2",
        "colab_type": "code",
        "colab": {}
      },
      "source": [
        "data = first_day"
      ],
      "execution_count": 0,
      "outputs": []
    },
    {
      "cell_type": "code",
      "metadata": {
        "id": "ARqtsyaAtBNB",
        "colab_type": "code",
        "colab": {
          "base_uri": "https://localhost:8080/",
          "height": 34
        },
        "outputId": "7cecedc5-0542-4b36-b426-f65683b99a8d"
      },
      "source": [
        "data+ timedelta(days = 7)"
      ],
      "execution_count": 16,
      "outputs": [
        {
          "output_type": "execute_result",
          "data": {
            "text/plain": [
              "Timestamp('2019-01-18 00:00:00')"
            ]
          },
          "metadata": {
            "tags": []
          },
          "execution_count": 16
        }
      ]
    },
    {
      "cell_type": "code",
      "metadata": {
        "id": "TpHxhEiEEYp0",
        "colab_type": "code",
        "colab": {
          "base_uri": "https://localhost:8080/",
          "height": 1000
        },
        "outputId": "f0c83fa1-5795-4ef1-9dc7-172907393e4b"
      },
      "source": [
        "data = first_day\n",
        "tabela_final = dataset.iloc[0:0]\n",
        "soma = 0\n",
        "dataset_semana_anterior = dataset.query(\"DATE >= \" + \" '\"+ str(data)+ \"' \" + \" and DATE < \" + \" '\"+str(data+ timedelta(days = 7)) + \"' \")\n",
        "data = data+ timedelta(days = 7)\n",
        "dataset_semana_anterior = dataset_semana_anterior[dataset_semana_anterior['Valor_MIPS']>0].groupby('JOBNAME')\n",
        "dataset_semana_anterior = pd.DataFrame(dataset_semana_anterior['Valor_MIPS'].mean())\n",
        "dataset_semana_anterior.reset_index(inplace =True)\n",
        "for week in range(0, weeks, 1):\n",
        "  dataset_semana = dataset.query(\"DATE >= \" + \" '\"+ str(data)+ \"' \" + \" and DATE < \" + \" '\"+str(data+ timedelta(days = 7)) + \"' \")\n",
        "  dataset = dataset.query(\"DATE >= \" + \" '\"+ str(data+ timedelta(days = 7))+ \"' \")\n",
        "  print(\"Dataset: \" + str(dataset.shape[0]))\n",
        "  print(\"Final: \" + str(tabela_final.shape[0]))\n",
        "  soma = soma + dataset_semana.shape[0]\n",
        "  dataset_semana = dataset_semana[dataset_semana['Valor_MIPS']>0].groupby('JOBNAME')\n",
        "  dataset_semana = pd.DataFrame(dataset_semana['Valor_MIPS'].mean())\n",
        "  dataset_semana.reset_index(inplace=True)\n",
        "  for index, row in dataset_semana.iterrows():\n",
        "    tabela_final = tabela_final.append(dataset_semana_anterior.query(\"JOBNAME == \"+\"'\"+row['JOBNAME']+\"'\" + \" and Valor_MIPS > \"+ str(float(row['Valor_MIPS']) * porcentagem)))\n",
        "  dataset_semana_anterior = dataset_semana\n",
        "  data = data+ timedelta(days = 7)\n",
        "dataset_ultima_semana = dataset.query(\"Index >= \" + str(soma))"
      ],
      "execution_count": 17,
      "outputs": [
        {
          "output_type": "stream",
          "text": [
            "Dataset: 1117393\n",
            "Final: 0\n",
            "Dataset: 1117393\n",
            "Final: 0\n",
            "Dataset: 1117393\n",
            "Final: 0\n",
            "Dataset: 1108518\n",
            "Final: 0\n",
            "Dataset: 1108518\n",
            "Final: 0\n",
            "Dataset: 1108518\n",
            "Final: 0\n",
            "Dataset: 1108518\n",
            "Final: 0\n",
            "Dataset: 1096482\n",
            "Final: 0\n",
            "Dataset: 1096482\n",
            "Final: 0\n",
            "Dataset: 1096482\n",
            "Final: 0\n",
            "Dataset: 1096482\n",
            "Final: 0\n",
            "Dataset: 1086794\n",
            "Final: 0\n",
            "Dataset: 1081723\n",
            "Final: 0\n",
            "Dataset: 1081723\n",
            "Final: 1071\n",
            "Dataset: 1081723\n",
            "Final: 1071\n",
            "Dataset: 1081723\n",
            "Final: 1071\n",
            "Dataset: 1067016\n",
            "Final: 1071\n",
            "Dataset: 1067016\n",
            "Final: 1071\n",
            "Dataset: 1067016\n",
            "Final: 1071\n",
            "Dataset: 1067016\n",
            "Final: 1071\n",
            "Dataset: 1054278\n",
            "Final: 1071\n",
            "Dataset: 1054278\n",
            "Final: 1071\n",
            "Dataset: 1054278\n",
            "Final: 1071\n",
            "Dataset: 1054278\n",
            "Final: 1071\n",
            "Dataset: 1044518\n",
            "Final: 1071\n",
            "Dataset: 1040463\n",
            "Final: 1071\n",
            "Dataset: 1040463\n",
            "Final: 2437\n",
            "Dataset: 1040463\n",
            "Final: 2437\n",
            "Dataset: 1040463\n",
            "Final: 2437\n",
            "Dataset: 1027628\n",
            "Final: 2437\n",
            "Dataset: 1027628\n",
            "Final: 2437\n",
            "Dataset: 1027628\n",
            "Final: 2437\n",
            "Dataset: 1027628\n",
            "Final: 2437\n",
            "Dataset: 1013560\n",
            "Final: 2437\n",
            "Dataset: 1013560\n",
            "Final: 2437\n",
            "Dataset: 1013560\n",
            "Final: 2437\n",
            "Dataset: 1013560\n",
            "Final: 2437\n",
            "Dataset: 1008132\n",
            "Final: 2437\n",
            "Dataset: 978685\n",
            "Final: 2437\n",
            "Dataset: 945431\n",
            "Final: 4830\n",
            "Dataset: 913352\n",
            "Final: 7442\n",
            "Dataset: 913352\n",
            "Final: 9555\n",
            "Dataset: 887809\n",
            "Final: 9555\n",
            "Dataset: 858691\n",
            "Final: 9555\n",
            "Dataset: 825860\n",
            "Final: 12047\n",
            "Dataset: 815842\n",
            "Final: 13432\n",
            "Dataset: 801014\n",
            "Final: 15987\n",
            "Dataset: 769291\n",
            "Final: 18871\n",
            "Dataset: 745975\n",
            "Final: 21786\n",
            "Dataset: 719190\n",
            "Final: 24911\n",
            "Dataset: 703458\n",
            "Final: 26979\n",
            "Dataset: 686639\n",
            "Final: 29324\n",
            "Dataset: 653512\n",
            "Final: 31275\n",
            "Dataset: 621448\n",
            "Final: 32772\n",
            "Dataset: 590767\n",
            "Final: 34771\n",
            "Dataset: 585033\n",
            "Final: 38391\n",
            "Dataset: 551718\n",
            "Final: 39927\n",
            "Dataset: 521764\n",
            "Final: 42509\n",
            "Dataset: 490937\n",
            "Final: 45143\n",
            "Dataset: 485651\n",
            "Final: 47987\n",
            "Dataset: 453169\n",
            "Final: 51266\n",
            "Dataset: 421960\n",
            "Final: 52555\n",
            "Dataset: 392439\n",
            "Final: 55853\n",
            "Dataset: 372176\n",
            "Final: 58324\n",
            "Dataset: 352944\n",
            "Final: 60405\n",
            "Dataset: 324102\n",
            "Final: 63956\n",
            "Dataset: 292910\n",
            "Final: 66568\n",
            "Dataset: 267102\n",
            "Final: 68390\n",
            "Dataset: 256213\n",
            "Final: 69884\n",
            "Dataset: 225069\n",
            "Final: 72933\n",
            "Dataset: 194103\n",
            "Final: 75496\n",
            "Dataset: 162425\n",
            "Final: 77592\n",
            "Dataset: 153094\n",
            "Final: 79493\n",
            "Dataset: 153094\n",
            "Final: 82698\n",
            "Dataset: 153094\n",
            "Final: 82698\n",
            "Dataset: 142698\n",
            "Final: 82698\n",
            "Dataset: 126733\n",
            "Final: 82698\n",
            "Dataset: 126733\n",
            "Final: 85524\n",
            "Dataset: 126733\n",
            "Final: 85524\n",
            "Dataset: 126733\n",
            "Final: 85524\n",
            "Dataset: 99284\n",
            "Final: 85524\n",
            "Dataset: 99284\n",
            "Final: 85524\n",
            "Dataset: 99284\n",
            "Final: 85524\n",
            "Dataset: 99284\n",
            "Final: 85524\n",
            "Dataset: 87270\n",
            "Final: 85524\n",
            "Dataset: 72617\n",
            "Final: 85524\n",
            "Dataset: 72617\n",
            "Final: 87973\n",
            "Dataset: 72617\n",
            "Final: 87973\n",
            "Dataset: 67960\n",
            "Final: 87973\n",
            "Dataset: 47224\n",
            "Final: 87973\n",
            "Dataset: 47224\n",
            "Final: 89672\n",
            "Dataset: 47224\n",
            "Final: 89672\n",
            "Dataset: 47224\n",
            "Final: 89672\n",
            "Dataset: 24612\n",
            "Final: 89672\n",
            "Dataset: 19596\n",
            "Final: 89672\n",
            "Dataset: 19596\n",
            "Final: 92198\n",
            "Dataset: 19596\n",
            "Final: 92198\n",
            "Dataset: 6990\n",
            "Final: 92198\n",
            "Dataset: 0\n",
            "Final: 92198\n"
          ],
          "name": "stdout"
        }
      ]
    }
  ]
}