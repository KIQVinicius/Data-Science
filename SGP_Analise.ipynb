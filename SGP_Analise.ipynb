{
  "nbformat": 4,
  "nbformat_minor": 0,
  "metadata": {
    "colab": {
      "name": "SGP_Analise",
      "provenance": [],
      "authorship_tag": "ABX9TyPehMAFHr+RcpmvZkSgVgEd",
      "include_colab_link": true
    },
    "kernelspec": {
      "name": "python3",
      "display_name": "Python 3"
    }
  },
  "cells": [
    {
      "cell_type": "markdown",
      "metadata": {
        "id": "view-in-github",
        "colab_type": "text"
      },
      "source": [
        "<a href=\"https://colab.research.google.com/github/KIQVinicius/Data-Science/blob/master/SGP_Analise.ipynb\" target=\"_parent\"><img src=\"https://colab.research.google.com/assets/colab-badge.svg\" alt=\"Open In Colab\"/></a>"
      ]
    },
    {
      "cell_type": "code",
      "metadata": {
        "id": "XcqIP1fQyg6b",
        "colab_type": "code",
        "colab": {}
      },
      "source": [
        "import pandas as pd"
      ],
      "execution_count": 67,
      "outputs": []
    },
    {
      "cell_type": "code",
      "metadata": {
        "id": "b2hYJ0sazF9O",
        "colab_type": "code",
        "colab": {}
      },
      "source": [
        "falhas_estacao = pd.read_csv(\"/content/falhas_estacao_horarioinicio_nomesinal_H.csv\")"
      ],
      "execution_count": 68,
      "outputs": []
    },
    {
      "cell_type": "code",
      "metadata": {
        "id": "mg29hc3kzQjS",
        "colab_type": "code",
        "colab": {}
      },
      "source": [
        "takt_estacao = pd.read_csv(\"/content/takt_estacao_horarioentrada_numprod_H.csv\")"
      ],
      "execution_count": 69,
      "outputs": []
    },
    {
      "cell_type": "code",
      "metadata": {
        "id": "l91HfHi-5-7C",
        "colab_type": "code",
        "colab": {}
      },
      "source": [
        "falhas_estacao['horarioinicio'] = pd.to_datetime(falhas_estacao['horarioinicio'].str[0:19])\n",
        "falhas_estacao['horariofinal'] = pd.to_datetime(falhas_estacao['horariofinal'].str[0:19])"
      ],
      "execution_count": 70,
      "outputs": []
    },
    {
      "cell_type": "code",
      "metadata": {
        "id": "HF726YP76Ckx",
        "colab_type": "code",
        "colab": {
          "base_uri": "https://localhost:8080/",
          "height": 406
        },
        "outputId": "e3b7ca95-619b-4d7c-e279-3054b9e16687"
      },
      "source": [
        "falhas_estacao['Duração'] = falhas_estacao['horariofinal'] - falhas_estacao['horarioinicio']\n",
        "falhas_estacao[['horariofinal', 'horarioinicio','Duração' ]]"
      ],
      "execution_count": 71,
      "outputs": [
        {
          "output_type": "execute_result",
          "data": {
            "text/html": [
              "<div>\n",
              "<style scoped>\n",
              "    .dataframe tbody tr th:only-of-type {\n",
              "        vertical-align: middle;\n",
              "    }\n",
              "\n",
              "    .dataframe tbody tr th {\n",
              "        vertical-align: top;\n",
              "    }\n",
              "\n",
              "    .dataframe thead th {\n",
              "        text-align: right;\n",
              "    }\n",
              "</style>\n",
              "<table border=\"1\" class=\"dataframe\">\n",
              "  <thead>\n",
              "    <tr style=\"text-align: right;\">\n",
              "      <th></th>\n",
              "      <th>horariofinal</th>\n",
              "      <th>horarioinicio</th>\n",
              "      <th>Duração</th>\n",
              "    </tr>\n",
              "  </thead>\n",
              "  <tbody>\n",
              "    <tr>\n",
              "      <th>0</th>\n",
              "      <td>2020-05-26 05:54:35</td>\n",
              "      <td>2020-05-26 05:45:07</td>\n",
              "      <td>00:09:28</td>\n",
              "    </tr>\n",
              "    <tr>\n",
              "      <th>1</th>\n",
              "      <td>2020-05-26 05:54:53</td>\n",
              "      <td>2020-05-26 05:54:48</td>\n",
              "      <td>00:00:05</td>\n",
              "    </tr>\n",
              "    <tr>\n",
              "      <th>2</th>\n",
              "      <td>2020-05-26 05:56:51</td>\n",
              "      <td>2020-05-26 05:56:48</td>\n",
              "      <td>00:00:03</td>\n",
              "    </tr>\n",
              "    <tr>\n",
              "      <th>3</th>\n",
              "      <td>2020-05-26 05:57:02</td>\n",
              "      <td>2020-05-26 05:56:59</td>\n",
              "      <td>00:00:03</td>\n",
              "    </tr>\n",
              "    <tr>\n",
              "      <th>4</th>\n",
              "      <td>2020-05-26 05:59:28</td>\n",
              "      <td>2020-05-26 05:59:25</td>\n",
              "      <td>00:00:03</td>\n",
              "    </tr>\n",
              "    <tr>\n",
              "      <th>...</th>\n",
              "      <td>...</td>\n",
              "      <td>...</td>\n",
              "      <td>...</td>\n",
              "    </tr>\n",
              "    <tr>\n",
              "      <th>17746</th>\n",
              "      <td>2020-05-28 14:06:11</td>\n",
              "      <td>2020-05-28 14:06:09</td>\n",
              "      <td>00:00:02</td>\n",
              "    </tr>\n",
              "    <tr>\n",
              "      <th>17747</th>\n",
              "      <td>2020-05-28 14:24:43</td>\n",
              "      <td>2020-05-28 14:24:41</td>\n",
              "      <td>00:00:02</td>\n",
              "    </tr>\n",
              "    <tr>\n",
              "      <th>17748</th>\n",
              "      <td>2020-05-28 14:35:51</td>\n",
              "      <td>2020-05-28 14:35:48</td>\n",
              "      <td>00:00:03</td>\n",
              "    </tr>\n",
              "    <tr>\n",
              "      <th>17749</th>\n",
              "      <td>2020-05-28 14:37:50</td>\n",
              "      <td>2020-05-28 14:37:47</td>\n",
              "      <td>00:00:03</td>\n",
              "    </tr>\n",
              "    <tr>\n",
              "      <th>17750</th>\n",
              "      <td>2020-05-28 14:41:27</td>\n",
              "      <td>2020-05-28 14:41:24</td>\n",
              "      <td>00:00:03</td>\n",
              "    </tr>\n",
              "  </tbody>\n",
              "</table>\n",
              "<p>17751 rows × 3 columns</p>\n",
              "</div>"
            ],
            "text/plain": [
              "             horariofinal       horarioinicio  Duração\n",
              "0     2020-05-26 05:54:35 2020-05-26 05:45:07 00:09:28\n",
              "1     2020-05-26 05:54:53 2020-05-26 05:54:48 00:00:05\n",
              "2     2020-05-26 05:56:51 2020-05-26 05:56:48 00:00:03\n",
              "3     2020-05-26 05:57:02 2020-05-26 05:56:59 00:00:03\n",
              "4     2020-05-26 05:59:28 2020-05-26 05:59:25 00:00:03\n",
              "...                   ...                 ...      ...\n",
              "17746 2020-05-28 14:06:11 2020-05-28 14:06:09 00:00:02\n",
              "17747 2020-05-28 14:24:43 2020-05-28 14:24:41 00:00:02\n",
              "17748 2020-05-28 14:35:51 2020-05-28 14:35:48 00:00:03\n",
              "17749 2020-05-28 14:37:50 2020-05-28 14:37:47 00:00:03\n",
              "17750 2020-05-28 14:41:27 2020-05-28 14:41:24 00:00:03\n",
              "\n",
              "[17751 rows x 3 columns]"
            ]
          },
          "metadata": {
            "tags": []
          },
          "execution_count": 71
        }
      ]
    },
    {
      "cell_type": "code",
      "metadata": {
        "id": "vybi6JrtMMNX",
        "colab_type": "code",
        "colab": {
          "base_uri": "https://localhost:8080/",
          "height": 333
        },
        "outputId": "1898ab50-800a-4216-cc32-d568c02bc3e1"
      },
      "source": [
        "falhas_estacao['nomesinal'].value_counts()"
      ],
      "execution_count": 72,
      "outputs": [
        {
          "output_type": "execute_result",
          "data": {
            "text/plain": [
              "InvasaoArea           12559\n",
              "SegurancaInterlock     1353\n",
              "Falha                  1225\n",
              "PostoInterlock          997\n",
              "FalhaRFID               382\n",
              "FalhaTorque             321\n",
              "ParadaProcesso          293\n",
              "Colisao                 216\n",
              "PVirador                129\n",
              "FimCurso                112\n",
              "PEOMEixo                 58\n",
              "EmergenciaAGV            49\n",
              "PEOMMotores              33\n",
              "PEOMCabine               14\n",
              "PAArCondicionado          7\n",
              "PPElevatoria              1\n",
              "Emergencia                1\n",
              "PADHidraulica             1\n",
              "Name: nomesinal, dtype: int64"
            ]
          },
          "metadata": {
            "tags": []
          },
          "execution_count": 72
        }
      ]
    },
    {
      "cell_type": "code",
      "metadata": {
        "id": "dTXcenaZMivS",
        "colab_type": "code",
        "colab": {
          "base_uri": "https://localhost:8080/",
          "height": 406
        },
        "outputId": "88b155f8-a02d-4fdd-9295-09594f9cb7c3"
      },
      "source": [
        "falhas_estacao.query(\"nomesinal == 'ParadaProcesso'\")[['horariofinal', 'horarioinicio','Duração','nomesinal']]"
      ],
      "execution_count": 76,
      "outputs": [
        {
          "output_type": "execute_result",
          "data": {
            "text/html": [
              "<div>\n",
              "<style scoped>\n",
              "    .dataframe tbody tr th:only-of-type {\n",
              "        vertical-align: middle;\n",
              "    }\n",
              "\n",
              "    .dataframe tbody tr th {\n",
              "        vertical-align: top;\n",
              "    }\n",
              "\n",
              "    .dataframe thead th {\n",
              "        text-align: right;\n",
              "    }\n",
              "</style>\n",
              "<table border=\"1\" class=\"dataframe\">\n",
              "  <thead>\n",
              "    <tr style=\"text-align: right;\">\n",
              "      <th></th>\n",
              "      <th>horariofinal</th>\n",
              "      <th>horarioinicio</th>\n",
              "      <th>Duração</th>\n",
              "      <th>nomesinal</th>\n",
              "    </tr>\n",
              "  </thead>\n",
              "  <tbody>\n",
              "    <tr>\n",
              "      <th>174</th>\n",
              "      <td>2020-05-26 13:50:54</td>\n",
              "      <td>2020-05-26 13:50:43</td>\n",
              "      <td>00:00:11</td>\n",
              "      <td>ParadaProcesso</td>\n",
              "    </tr>\n",
              "    <tr>\n",
              "      <th>256</th>\n",
              "      <td>2020-05-27 08:50:23</td>\n",
              "      <td>2020-05-27 08:50:21</td>\n",
              "      <td>00:00:02</td>\n",
              "      <td>ParadaProcesso</td>\n",
              "    </tr>\n",
              "    <tr>\n",
              "      <th>367</th>\n",
              "      <td>2020-05-27 13:47:56</td>\n",
              "      <td>2020-05-27 13:45:01</td>\n",
              "      <td>00:02:55</td>\n",
              "      <td>ParadaProcesso</td>\n",
              "    </tr>\n",
              "    <tr>\n",
              "      <th>579</th>\n",
              "      <td>2020-05-26 08:08:31</td>\n",
              "      <td>2020-05-26 08:08:03</td>\n",
              "      <td>00:00:28</td>\n",
              "      <td>ParadaProcesso</td>\n",
              "    </tr>\n",
              "    <tr>\n",
              "      <th>598</th>\n",
              "      <td>2020-05-26 10:55:25</td>\n",
              "      <td>2020-05-26 10:51:37</td>\n",
              "      <td>00:03:48</td>\n",
              "      <td>ParadaProcesso</td>\n",
              "    </tr>\n",
              "    <tr>\n",
              "      <th>...</th>\n",
              "      <td>...</td>\n",
              "      <td>...</td>\n",
              "      <td>...</td>\n",
              "      <td>...</td>\n",
              "    </tr>\n",
              "    <tr>\n",
              "      <th>17688</th>\n",
              "      <td>2020-05-28 08:44:36</td>\n",
              "      <td>2020-05-28 08:43:40</td>\n",
              "      <td>00:00:56</td>\n",
              "      <td>ParadaProcesso</td>\n",
              "    </tr>\n",
              "    <tr>\n",
              "      <th>17694</th>\n",
              "      <td>2020-05-28 08:51:47</td>\n",
              "      <td>2020-05-28 08:50:48</td>\n",
              "      <td>00:00:59</td>\n",
              "      <td>ParadaProcesso</td>\n",
              "    </tr>\n",
              "    <tr>\n",
              "      <th>17707</th>\n",
              "      <td>2020-05-28 10:31:15</td>\n",
              "      <td>2020-05-28 10:30:49</td>\n",
              "      <td>00:00:26</td>\n",
              "      <td>ParadaProcesso</td>\n",
              "    </tr>\n",
              "    <tr>\n",
              "      <th>17722</th>\n",
              "      <td>2020-05-28 10:57:59</td>\n",
              "      <td>2020-05-28 10:55:47</td>\n",
              "      <td>00:02:12</td>\n",
              "      <td>ParadaProcesso</td>\n",
              "    </tr>\n",
              "    <tr>\n",
              "      <th>17737</th>\n",
              "      <td>2020-05-28 13:40:51</td>\n",
              "      <td>2020-05-28 13:40:05</td>\n",
              "      <td>00:00:46</td>\n",
              "      <td>ParadaProcesso</td>\n",
              "    </tr>\n",
              "  </tbody>\n",
              "</table>\n",
              "<p>293 rows × 4 columns</p>\n",
              "</div>"
            ],
            "text/plain": [
              "             horariofinal       horarioinicio  Duração       nomesinal\n",
              "174   2020-05-26 13:50:54 2020-05-26 13:50:43 00:00:11  ParadaProcesso\n",
              "256   2020-05-27 08:50:23 2020-05-27 08:50:21 00:00:02  ParadaProcesso\n",
              "367   2020-05-27 13:47:56 2020-05-27 13:45:01 00:02:55  ParadaProcesso\n",
              "579   2020-05-26 08:08:31 2020-05-26 08:08:03 00:00:28  ParadaProcesso\n",
              "598   2020-05-26 10:55:25 2020-05-26 10:51:37 00:03:48  ParadaProcesso\n",
              "...                   ...                 ...      ...             ...\n",
              "17688 2020-05-28 08:44:36 2020-05-28 08:43:40 00:00:56  ParadaProcesso\n",
              "17694 2020-05-28 08:51:47 2020-05-28 08:50:48 00:00:59  ParadaProcesso\n",
              "17707 2020-05-28 10:31:15 2020-05-28 10:30:49 00:00:26  ParadaProcesso\n",
              "17722 2020-05-28 10:57:59 2020-05-28 10:55:47 00:02:12  ParadaProcesso\n",
              "17737 2020-05-28 13:40:51 2020-05-28 13:40:05 00:00:46  ParadaProcesso\n",
              "\n",
              "[293 rows x 4 columns]"
            ]
          },
          "metadata": {
            "tags": []
          },
          "execution_count": 76
        }
      ]
    },
    {
      "cell_type": "code",
      "metadata": {
        "id": "7wijb1N-Qnvk",
        "colab_type": "code",
        "colab": {
          "base_uri": "https://localhost:8080/",
          "height": 33
        },
        "outputId": "46c8cc28-d883-4458-8cf1-754c0efeed80"
      },
      "source": [
        "falhas_estacao.groupby('nomesinal')\n",
        "dataset_semana_anterior = dataset_semana[dataset_semana['Valor_MIPS']>0].groupby('JOBNAME')"
      ],
      "execution_count": 77,
      "outputs": [
        {
          "output_type": "execute_result",
          "data": {
            "text/plain": [
              "<pandas.core.groupby.generic.DataFrameGroupBy object at 0x7f2face94d68>"
            ]
          },
          "metadata": {
            "tags": []
          },
          "execution_count": 77
        }
      ]
    },
    {
      "cell_type": "code",
      "metadata": {
        "id": "5BLP5M-ZSlD9",
        "colab_type": "code",
        "colab": {}
      },
      "source": [
        "group_falhas = falhas_estacao.groupby('nomesinal')\n",
        "falhas_estacao['duracao'] = falhas_estacao['duracao']/60"
      ],
      "execution_count": 87,
      "outputs": []
    },
    {
      "cell_type": "code",
      "metadata": {
        "id": "TOZzoUHRS6UD",
        "colab_type": "code",
        "colab": {
          "base_uri": "https://localhost:8080/",
          "height": 617
        },
        "outputId": "30082b09-63ae-4fc4-8354-c9ceb10b2724"
      },
      "source": [
        "pd.DataFrame(group_falhas['duracao'].mean())"
      ],
      "execution_count": 88,
      "outputs": [
        {
          "output_type": "execute_result",
          "data": {
            "text/html": [
              "<div>\n",
              "<style scoped>\n",
              "    .dataframe tbody tr th:only-of-type {\n",
              "        vertical-align: middle;\n",
              "    }\n",
              "\n",
              "    .dataframe tbody tr th {\n",
              "        vertical-align: top;\n",
              "    }\n",
              "\n",
              "    .dataframe thead th {\n",
              "        text-align: right;\n",
              "    }\n",
              "</style>\n",
              "<table border=\"1\" class=\"dataframe\">\n",
              "  <thead>\n",
              "    <tr style=\"text-align: right;\">\n",
              "      <th></th>\n",
              "      <th>duracao</th>\n",
              "    </tr>\n",
              "    <tr>\n",
              "      <th>nomesinal</th>\n",
              "      <th></th>\n",
              "    </tr>\n",
              "  </thead>\n",
              "  <tbody>\n",
              "    <tr>\n",
              "      <th>Colisao</th>\n",
              "      <td>0.648302</td>\n",
              "    </tr>\n",
              "    <tr>\n",
              "      <th>Emergencia</th>\n",
              "      <td>0.350000</td>\n",
              "    </tr>\n",
              "    <tr>\n",
              "      <th>EmergenciaAGV</th>\n",
              "      <td>6.520408</td>\n",
              "    </tr>\n",
              "    <tr>\n",
              "      <th>Falha</th>\n",
              "      <td>2.643687</td>\n",
              "    </tr>\n",
              "    <tr>\n",
              "      <th>FalhaRFID</th>\n",
              "      <td>0.111518</td>\n",
              "    </tr>\n",
              "    <tr>\n",
              "      <th>FalhaTorque</th>\n",
              "      <td>1.088162</td>\n",
              "    </tr>\n",
              "    <tr>\n",
              "      <th>FimCurso</th>\n",
              "      <td>0.289286</td>\n",
              "    </tr>\n",
              "    <tr>\n",
              "      <th>InvasaoArea</th>\n",
              "      <td>0.392331</td>\n",
              "    </tr>\n",
              "    <tr>\n",
              "      <th>PAArCondicionado</th>\n",
              "      <td>4.497619</td>\n",
              "    </tr>\n",
              "    <tr>\n",
              "      <th>PADHidraulica</th>\n",
              "      <td>0.166667</td>\n",
              "    </tr>\n",
              "    <tr>\n",
              "      <th>PEOMCabine</th>\n",
              "      <td>7.088095</td>\n",
              "    </tr>\n",
              "    <tr>\n",
              "      <th>PEOMEixo</th>\n",
              "      <td>2.411494</td>\n",
              "    </tr>\n",
              "    <tr>\n",
              "      <th>PEOMMotores</th>\n",
              "      <td>1.355051</td>\n",
              "    </tr>\n",
              "    <tr>\n",
              "      <th>PPElevatoria</th>\n",
              "      <td>29.900000</td>\n",
              "    </tr>\n",
              "    <tr>\n",
              "      <th>PVirador</th>\n",
              "      <td>2.637209</td>\n",
              "    </tr>\n",
              "    <tr>\n",
              "      <th>ParadaProcesso</th>\n",
              "      <td>4.646189</td>\n",
              "    </tr>\n",
              "    <tr>\n",
              "      <th>PostoInterlock</th>\n",
              "      <td>2.821832</td>\n",
              "    </tr>\n",
              "    <tr>\n",
              "      <th>SegurancaInterlock</th>\n",
              "      <td>0.657157</td>\n",
              "    </tr>\n",
              "  </tbody>\n",
              "</table>\n",
              "</div>"
            ],
            "text/plain": [
              "                      duracao\n",
              "nomesinal                    \n",
              "Colisao              0.648302\n",
              "Emergencia           0.350000\n",
              "EmergenciaAGV        6.520408\n",
              "Falha                2.643687\n",
              "FalhaRFID            0.111518\n",
              "FalhaTorque          1.088162\n",
              "FimCurso             0.289286\n",
              "InvasaoArea          0.392331\n",
              "PAArCondicionado     4.497619\n",
              "PADHidraulica        0.166667\n",
              "PEOMCabine           7.088095\n",
              "PEOMEixo             2.411494\n",
              "PEOMMotores          1.355051\n",
              "PPElevatoria        29.900000\n",
              "PVirador             2.637209\n",
              "ParadaProcesso       4.646189\n",
              "PostoInterlock       2.821832\n",
              "SegurancaInterlock   0.657157"
            ]
          },
          "metadata": {
            "tags": []
          },
          "execution_count": 88
        }
      ]
    },
    {
      "cell_type": "code",
      "metadata": {
        "id": "58dYyF5BTtLl",
        "colab_type": "code",
        "colab": {
          "base_uri": "https://localhost:8080/",
          "height": 406
        },
        "outputId": "aa92b84f-0dc4-4ad5-f74c-1704fc5ad925"
      },
      "source": [
        "takt_estacao[['taktplanejado','tempototal']]"
      ],
      "execution_count": 93,
      "outputs": [
        {
          "output_type": "execute_result",
          "data": {
            "text/html": [
              "<div>\n",
              "<style scoped>\n",
              "    .dataframe tbody tr th:only-of-type {\n",
              "        vertical-align: middle;\n",
              "    }\n",
              "\n",
              "    .dataframe tbody tr th {\n",
              "        vertical-align: top;\n",
              "    }\n",
              "\n",
              "    .dataframe thead th {\n",
              "        text-align: right;\n",
              "    }\n",
              "</style>\n",
              "<table border=\"1\" class=\"dataframe\">\n",
              "  <thead>\n",
              "    <tr style=\"text-align: right;\">\n",
              "      <th></th>\n",
              "      <th>taktplanejado</th>\n",
              "      <th>tempototal</th>\n",
              "    </tr>\n",
              "  </thead>\n",
              "  <tbody>\n",
              "    <tr>\n",
              "      <th>0</th>\n",
              "      <td>288</td>\n",
              "      <td>2514</td>\n",
              "    </tr>\n",
              "    <tr>\n",
              "      <th>1</th>\n",
              "      <td>288</td>\n",
              "      <td>2603</td>\n",
              "    </tr>\n",
              "    <tr>\n",
              "      <th>2</th>\n",
              "      <td>288</td>\n",
              "      <td>4218</td>\n",
              "    </tr>\n",
              "    <tr>\n",
              "      <th>3</th>\n",
              "      <td>288</td>\n",
              "      <td>2568</td>\n",
              "    </tr>\n",
              "    <tr>\n",
              "      <th>4</th>\n",
              "      <td>288</td>\n",
              "      <td>3108</td>\n",
              "    </tr>\n",
              "    <tr>\n",
              "      <th>...</th>\n",
              "      <td>...</td>\n",
              "      <td>...</td>\n",
              "    </tr>\n",
              "    <tr>\n",
              "      <th>6698</th>\n",
              "      <td>360</td>\n",
              "      <td>256</td>\n",
              "    </tr>\n",
              "    <tr>\n",
              "      <th>6699</th>\n",
              "      <td>360</td>\n",
              "      <td>258</td>\n",
              "    </tr>\n",
              "    <tr>\n",
              "      <th>6700</th>\n",
              "      <td>360</td>\n",
              "      <td>269</td>\n",
              "    </tr>\n",
              "    <tr>\n",
              "      <th>6701</th>\n",
              "      <td>360</td>\n",
              "      <td>532</td>\n",
              "    </tr>\n",
              "    <tr>\n",
              "      <th>6702</th>\n",
              "      <td>360</td>\n",
              "      <td>758</td>\n",
              "    </tr>\n",
              "  </tbody>\n",
              "</table>\n",
              "<p>6703 rows × 2 columns</p>\n",
              "</div>"
            ],
            "text/plain": [
              "      taktplanejado  tempototal\n",
              "0               288        2514\n",
              "1               288        2603\n",
              "2               288        4218\n",
              "3               288        2568\n",
              "4               288        3108\n",
              "...             ...         ...\n",
              "6698            360         256\n",
              "6699            360         258\n",
              "6700            360         269\n",
              "6701            360         532\n",
              "6702            360         758\n",
              "\n",
              "[6703 rows x 2 columns]"
            ]
          },
          "metadata": {
            "tags": []
          },
          "execution_count": 93
        }
      ]
    },
    {
      "cell_type": "code",
      "metadata": {
        "id": "ay_KrwsEeTwX",
        "colab_type": "code",
        "colab": {
          "base_uri": "https://localhost:8080/",
          "height": 883
        },
        "outputId": "53eaf4da-dcee-4ae4-a842-7c36375ef7fa"
      },
      "source": [
        "takt_estacao['equipmentid'].value_counts()"
      ],
      "execution_count": 96,
      "outputs": [
        {
          "output_type": "execute_result",
          "data": {
            "text/plain": [
              "40    174\n",
              "48    174\n",
              "49    174\n",
              "57    174\n",
              "42    174\n",
              "50    174\n",
              "56    174\n",
              "39    174\n",
              "41    174\n",
              "51    174\n",
              "54    173\n",
              "76    173\n",
              "53    173\n",
              "75    173\n",
              "65    173\n",
              "73    173\n",
              "72    173\n",
              "68    173\n",
              "71    173\n",
              "52    173\n",
              "67    173\n",
              "64    173\n",
              "62    173\n",
              "70    173\n",
              "74    173\n",
              "63    173\n",
              "66    173\n",
              "58    172\n",
              "60    172\n",
              "59    172\n",
              "80    164\n",
              "77    164\n",
              "78    164\n",
              "79    164\n",
              "83    163\n",
              "81    163\n",
              "82    163\n",
              "38     89\n",
              "37     87\n",
              "43     33\n",
              "46     32\n",
              "47     32\n",
              "44     32\n",
              "45     28\n",
              "86      6\n",
              "84      5\n",
              "85      5\n",
              "87      4\n",
              "88      3\n",
              "90      3\n",
              "89      2\n",
              "Name: equipmentid, dtype: int64"
            ]
          },
          "metadata": {
            "tags": []
          },
          "execution_count": 96
        }
      ]
    },
    {
      "cell_type": "code",
      "metadata": {
        "id": "mAThzwBghkGi",
        "colab_type": "code",
        "colab": {}
      },
      "source": [
        ""
      ],
      "execution_count": null,
      "outputs": []
    }
  ]
}